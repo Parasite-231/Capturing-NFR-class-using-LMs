{
  "nbformat": 4,
  "nbformat_minor": 0,
  "metadata": {
    "kernelspec": {
      "display_name": "Python 3",
      "language": "python",
      "name": "python3"
    },
    "language_info": {
      "codemirror_mode": {
        "name": "ipython",
        "version": 3
      },
      "file_extension": ".py",
      "mimetype": "text/x-python",
      "name": "python",
      "nbconvert_exporter": "python",
      "pygments_lexer": "ipython3",
      "version": "3.7.7"
    },
    "colab": {
      "provenance": [],
      "machine_shape": "hm"
    },
    "accelerator": "TPU"
  },
  "cells": [
    {
      "cell_type": "code",
      "source": [
        "!pip install utils\n",
        "# !pip install --upgrade keras\n",
        "\n"
      ],
      "metadata": {
        "colab": {
          "base_uri": "https://localhost:8080/"
        },
        "id": "Z5UCmh7daSGS",
        "outputId": "e25ab3ad-c54c-49a2-de10-50fb42283a1d"
      },
      "execution_count": 1,
      "outputs": [
        {
          "output_type": "stream",
          "name": "stdout",
          "text": [
            "Collecting utils\n",
            "  Downloading utils-1.0.2.tar.gz (13 kB)\n",
            "  Preparing metadata (setup.py) ... \u001b[?25l\u001b[?25hdone\n",
            "Building wheels for collected packages: utils\n",
            "  Building wheel for utils (setup.py) ... \u001b[?25l\u001b[?25hdone\n",
            "  Created wheel for utils: filename=utils-1.0.2-py2.py3-none-any.whl size=13906 sha256=233151a09959678b59c3d8f659776ea603135fd913b4b747d3d3dcf073346dc5\n",
            "  Stored in directory: /root/.cache/pip/wheels/b8/39/f5/9d0ca31dba85773ececf0a7f5469f18810e1c8a8ed9da28ca7\n",
            "Successfully built utils\n",
            "Installing collected packages: utils\n",
            "Successfully installed utils-1.0.2\n"
          ]
        }
      ]
    },
    {
      "cell_type": "code",
      "source": [
        "!pip install --upgrade keras tensorflow"
      ],
      "metadata": {
        "colab": {
          "base_uri": "https://localhost:8080/"
        },
        "id": "uDJ2OXlkPM3a",
        "outputId": "29c91dd3-bc6a-457a-e823-259575a584f2"
      },
      "execution_count": 1,
      "outputs": [
        {
          "output_type": "stream",
          "name": "stdout",
          "text": [
            "Requirement already satisfied: keras in /usr/local/lib/python3.10/dist-packages (2.15.0)\n",
            "Collecting keras\n",
            "  Downloading keras-3.2.0-py3-none-any.whl (1.1 MB)\n",
            "\u001b[2K     \u001b[90m━━━━━━━━━━━━━━━━━━━━━━━━━━━━━━━━━━━━━━━━\u001b[0m \u001b[32m1.1/1.1 MB\u001b[0m \u001b[31m9.1 MB/s\u001b[0m eta \u001b[36m0:00:00\u001b[0m\n",
            "\u001b[?25hRequirement already satisfied: tensorflow in /usr/local/lib/python3.10/dist-packages (2.15.0)\n",
            "Collecting tensorflow\n",
            "  Downloading tensorflow-2.16.1-cp310-cp310-manylinux_2_17_x86_64.manylinux2014_x86_64.whl (589.8 MB)\n",
            "\u001b[2K     \u001b[90m━━━━━━━━━━━━━━━━━━━━━━━━━━━━━━━━━━━━━━━━\u001b[0m \u001b[32m589.8/589.8 MB\u001b[0m \u001b[31m1.1 MB/s\u001b[0m eta \u001b[36m0:00:00\u001b[0m\n",
            "\u001b[?25hRequirement already satisfied: absl-py in /usr/local/lib/python3.10/dist-packages (from keras) (1.4.0)\n",
            "Requirement already satisfied: numpy in /usr/local/lib/python3.10/dist-packages (from keras) (1.25.2)\n",
            "Requirement already satisfied: rich in /usr/local/lib/python3.10/dist-packages (from keras) (13.7.1)\n",
            "Collecting namex (from keras)\n",
            "  Downloading namex-0.0.7-py3-none-any.whl (5.8 kB)\n",
            "Requirement already satisfied: h5py in /usr/local/lib/python3.10/dist-packages (from keras) (3.9.0)\n",
            "Collecting optree (from keras)\n",
            "  Downloading optree-0.11.0-cp310-cp310-manylinux_2_17_x86_64.manylinux2014_x86_64.whl (311 kB)\n",
            "\u001b[2K     \u001b[90m━━━━━━━━━━━━━━━━━━━━━━━━━━━━━━━━━━━━━━━━\u001b[0m \u001b[32m311.2/311.2 kB\u001b[0m \u001b[31m21.5 MB/s\u001b[0m eta \u001b[36m0:00:00\u001b[0m\n",
            "\u001b[?25hRequirement already satisfied: ml-dtypes in /usr/local/lib/python3.10/dist-packages (from keras) (0.2.0)\n",
            "Requirement already satisfied: astunparse>=1.6.0 in /usr/local/lib/python3.10/dist-packages (from tensorflow) (1.6.3)\n",
            "Requirement already satisfied: flatbuffers>=23.5.26 in /usr/local/lib/python3.10/dist-packages (from tensorflow) (24.3.25)\n",
            "Requirement already satisfied: gast!=0.5.0,!=0.5.1,!=0.5.2,>=0.2.1 in /usr/local/lib/python3.10/dist-packages (from tensorflow) (0.5.4)\n",
            "Requirement already satisfied: google-pasta>=0.1.1 in /usr/local/lib/python3.10/dist-packages (from tensorflow) (0.2.0)\n",
            "Collecting h5py (from keras)\n",
            "  Downloading h5py-3.10.0-cp310-cp310-manylinux_2_17_x86_64.manylinux2014_x86_64.whl (4.8 MB)\n",
            "\u001b[2K     \u001b[90m━━━━━━━━━━━━━━━━━━━━━━━━━━━━━━━━━━━━━━━━\u001b[0m \u001b[32m4.8/4.8 MB\u001b[0m \u001b[31m49.0 MB/s\u001b[0m eta \u001b[36m0:00:00\u001b[0m\n",
            "\u001b[?25hRequirement already satisfied: libclang>=13.0.0 in /usr/local/lib/python3.10/dist-packages (from tensorflow) (18.1.1)\n",
            "Collecting ml-dtypes (from keras)\n",
            "  Downloading ml_dtypes-0.3.2-cp310-cp310-manylinux_2_17_x86_64.manylinux2014_x86_64.whl (2.2 MB)\n",
            "\u001b[2K     \u001b[90m━━━━━━━━━━━━━━━━━━━━━━━━━━━━━━━━━━━━━━━━\u001b[0m \u001b[32m2.2/2.2 MB\u001b[0m \u001b[31m47.3 MB/s\u001b[0m eta \u001b[36m0:00:00\u001b[0m\n",
            "\u001b[?25hRequirement already satisfied: opt-einsum>=2.3.2 in /usr/local/lib/python3.10/dist-packages (from tensorflow) (3.3.0)\n",
            "Requirement already satisfied: packaging in /usr/local/lib/python3.10/dist-packages (from tensorflow) (24.0)\n",
            "Requirement already satisfied: protobuf!=4.21.0,!=4.21.1,!=4.21.2,!=4.21.3,!=4.21.4,!=4.21.5,<5.0.0dev,>=3.20.3 in /usr/local/lib/python3.10/dist-packages (from tensorflow) (3.20.3)\n",
            "Requirement already satisfied: requests<3,>=2.21.0 in /usr/local/lib/python3.10/dist-packages (from tensorflow) (2.31.0)\n",
            "Requirement already satisfied: setuptools in /usr/local/lib/python3.10/dist-packages (from tensorflow) (67.7.2)\n",
            "Requirement already satisfied: six>=1.12.0 in /usr/local/lib/python3.10/dist-packages (from tensorflow) (1.16.0)\n",
            "Requirement already satisfied: termcolor>=1.1.0 in /usr/local/lib/python3.10/dist-packages (from tensorflow) (2.4.0)\n",
            "Requirement already satisfied: typing-extensions>=3.6.6 in /usr/local/lib/python3.10/dist-packages (from tensorflow) (4.10.0)\n",
            "Requirement already satisfied: wrapt>=1.11.0 in /usr/local/lib/python3.10/dist-packages (from tensorflow) (1.14.1)\n",
            "Requirement already satisfied: grpcio<2.0,>=1.24.3 in /usr/local/lib/python3.10/dist-packages (from tensorflow) (1.62.1)\n",
            "Collecting tensorboard<2.17,>=2.16 (from tensorflow)\n",
            "  Downloading tensorboard-2.16.2-py3-none-any.whl (5.5 MB)\n",
            "\u001b[2K     \u001b[90m━━━━━━━━━━━━━━━━━━━━━━━━━━━━━━━━━━━━━━━━\u001b[0m \u001b[32m5.5/5.5 MB\u001b[0m \u001b[31m37.5 MB/s\u001b[0m eta \u001b[36m0:00:00\u001b[0m\n",
            "\u001b[?25hRequirement already satisfied: tensorflow-io-gcs-filesystem>=0.23.1 in /usr/local/lib/python3.10/dist-packages (from tensorflow) (0.36.0)\n",
            "Requirement already satisfied: wheel<1.0,>=0.23.0 in /usr/local/lib/python3.10/dist-packages (from astunparse>=1.6.0->tensorflow) (0.43.0)\n",
            "Requirement already satisfied: charset-normalizer<4,>=2 in /usr/local/lib/python3.10/dist-packages (from requests<3,>=2.21.0->tensorflow) (3.3.2)\n",
            "Requirement already satisfied: idna<4,>=2.5 in /usr/local/lib/python3.10/dist-packages (from requests<3,>=2.21.0->tensorflow) (3.6)\n",
            "Requirement already satisfied: urllib3<3,>=1.21.1 in /usr/local/lib/python3.10/dist-packages (from requests<3,>=2.21.0->tensorflow) (2.0.7)\n",
            "Requirement already satisfied: certifi>=2017.4.17 in /usr/local/lib/python3.10/dist-packages (from requests<3,>=2.21.0->tensorflow) (2024.2.2)\n",
            "Requirement already satisfied: markdown>=2.6.8 in /usr/local/lib/python3.10/dist-packages (from tensorboard<2.17,>=2.16->tensorflow) (3.6)\n",
            "Requirement already satisfied: tensorboard-data-server<0.8.0,>=0.7.0 in /usr/local/lib/python3.10/dist-packages (from tensorboard<2.17,>=2.16->tensorflow) (0.7.2)\n",
            "Requirement already satisfied: werkzeug>=1.0.1 in /usr/local/lib/python3.10/dist-packages (from tensorboard<2.17,>=2.16->tensorflow) (3.0.2)\n",
            "Requirement already satisfied: markdown-it-py>=2.2.0 in /usr/local/lib/python3.10/dist-packages (from rich->keras) (3.0.0)\n",
            "Requirement already satisfied: pygments<3.0.0,>=2.13.0 in /usr/local/lib/python3.10/dist-packages (from rich->keras) (2.16.1)\n",
            "Requirement already satisfied: mdurl~=0.1 in /usr/local/lib/python3.10/dist-packages (from markdown-it-py>=2.2.0->rich->keras) (0.1.2)\n",
            "Requirement already satisfied: MarkupSafe>=2.1.1 in /usr/local/lib/python3.10/dist-packages (from werkzeug>=1.0.1->tensorboard<2.17,>=2.16->tensorflow) (2.1.5)\n",
            "Installing collected packages: namex, optree, ml-dtypes, h5py, tensorboard, keras, tensorflow\n",
            "  Attempting uninstall: ml-dtypes\n",
            "    Found existing installation: ml-dtypes 0.2.0\n",
            "    Uninstalling ml-dtypes-0.2.0:\n",
            "      Successfully uninstalled ml-dtypes-0.2.0\n",
            "  Attempting uninstall: h5py\n",
            "    Found existing installation: h5py 3.9.0\n",
            "    Uninstalling h5py-3.9.0:\n",
            "      Successfully uninstalled h5py-3.9.0\n",
            "  Attempting uninstall: tensorboard\n",
            "    Found existing installation: tensorboard 2.15.2\n",
            "    Uninstalling tensorboard-2.15.2:\n",
            "      Successfully uninstalled tensorboard-2.15.2\n",
            "  Attempting uninstall: keras\n",
            "    Found existing installation: keras 2.15.0\n",
            "    Uninstalling keras-2.15.0:\n",
            "      Successfully uninstalled keras-2.15.0\n",
            "  Attempting uninstall: tensorflow\n",
            "    Found existing installation: tensorflow 2.15.0\n",
            "    Uninstalling tensorflow-2.15.0:\n",
            "      Successfully uninstalled tensorflow-2.15.0\n",
            "\u001b[31mERROR: pip's dependency resolver does not currently take into account all the packages that are installed. This behaviour is the source of the following dependency conflicts.\n",
            "tf-keras 2.15.1 requires tensorflow<2.16,>=2.15, but you have tensorflow 2.16.1 which is incompatible.\u001b[0m\u001b[31m\n",
            "\u001b[0mSuccessfully installed h5py-3.10.0 keras-3.2.0 ml-dtypes-0.3.2 namex-0.0.7 optree-0.11.0 tensorboard-2.16.2 tensorflow-2.16.1\n"
          ]
        }
      ]
    },
    {
      "cell_type": "code",
      "source": [
        "!pip install keras tensorflow\n"
      ],
      "metadata": {
        "colab": {
          "base_uri": "https://localhost:8080/"
        },
        "id": "qcyowCn5Puqx",
        "outputId": "c4e19ecb-af51-4964-88fd-1401f792cdcb"
      },
      "execution_count": 2,
      "outputs": [
        {
          "output_type": "stream",
          "name": "stdout",
          "text": [
            "Requirement already satisfied: keras in /usr/local/lib/python3.10/dist-packages (3.2.0)\n",
            "Requirement already satisfied: tensorflow in /usr/local/lib/python3.10/dist-packages (2.16.1)\n",
            "Requirement already satisfied: absl-py in /usr/local/lib/python3.10/dist-packages (from keras) (1.4.0)\n",
            "Requirement already satisfied: numpy in /usr/local/lib/python3.10/dist-packages (from keras) (1.25.2)\n",
            "Requirement already satisfied: rich in /usr/local/lib/python3.10/dist-packages (from keras) (13.7.1)\n",
            "Requirement already satisfied: namex in /usr/local/lib/python3.10/dist-packages (from keras) (0.0.7)\n",
            "Requirement already satisfied: h5py in /usr/local/lib/python3.10/dist-packages (from keras) (3.10.0)\n",
            "Requirement already satisfied: optree in /usr/local/lib/python3.10/dist-packages (from keras) (0.11.0)\n",
            "Requirement already satisfied: ml-dtypes in /usr/local/lib/python3.10/dist-packages (from keras) (0.3.2)\n",
            "Requirement already satisfied: astunparse>=1.6.0 in /usr/local/lib/python3.10/dist-packages (from tensorflow) (1.6.3)\n",
            "Requirement already satisfied: flatbuffers>=23.5.26 in /usr/local/lib/python3.10/dist-packages (from tensorflow) (24.3.25)\n",
            "Requirement already satisfied: gast!=0.5.0,!=0.5.1,!=0.5.2,>=0.2.1 in /usr/local/lib/python3.10/dist-packages (from tensorflow) (0.5.4)\n",
            "Requirement already satisfied: google-pasta>=0.1.1 in /usr/local/lib/python3.10/dist-packages (from tensorflow) (0.2.0)\n",
            "Requirement already satisfied: libclang>=13.0.0 in /usr/local/lib/python3.10/dist-packages (from tensorflow) (18.1.1)\n",
            "Requirement already satisfied: opt-einsum>=2.3.2 in /usr/local/lib/python3.10/dist-packages (from tensorflow) (3.3.0)\n",
            "Requirement already satisfied: packaging in /usr/local/lib/python3.10/dist-packages (from tensorflow) (24.0)\n",
            "Requirement already satisfied: protobuf!=4.21.0,!=4.21.1,!=4.21.2,!=4.21.3,!=4.21.4,!=4.21.5,<5.0.0dev,>=3.20.3 in /usr/local/lib/python3.10/dist-packages (from tensorflow) (3.20.3)\n",
            "Requirement already satisfied: requests<3,>=2.21.0 in /usr/local/lib/python3.10/dist-packages (from tensorflow) (2.31.0)\n",
            "Requirement already satisfied: setuptools in /usr/local/lib/python3.10/dist-packages (from tensorflow) (67.7.2)\n",
            "Requirement already satisfied: six>=1.12.0 in /usr/local/lib/python3.10/dist-packages (from tensorflow) (1.16.0)\n",
            "Requirement already satisfied: termcolor>=1.1.0 in /usr/local/lib/python3.10/dist-packages (from tensorflow) (2.4.0)\n",
            "Requirement already satisfied: typing-extensions>=3.6.6 in /usr/local/lib/python3.10/dist-packages (from tensorflow) (4.10.0)\n",
            "Requirement already satisfied: wrapt>=1.11.0 in /usr/local/lib/python3.10/dist-packages (from tensorflow) (1.14.1)\n",
            "Requirement already satisfied: grpcio<2.0,>=1.24.3 in /usr/local/lib/python3.10/dist-packages (from tensorflow) (1.62.1)\n",
            "Requirement already satisfied: tensorboard<2.17,>=2.16 in /usr/local/lib/python3.10/dist-packages (from tensorflow) (2.16.2)\n",
            "Requirement already satisfied: tensorflow-io-gcs-filesystem>=0.23.1 in /usr/local/lib/python3.10/dist-packages (from tensorflow) (0.36.0)\n",
            "Requirement already satisfied: wheel<1.0,>=0.23.0 in /usr/local/lib/python3.10/dist-packages (from astunparse>=1.6.0->tensorflow) (0.43.0)\n",
            "Requirement already satisfied: charset-normalizer<4,>=2 in /usr/local/lib/python3.10/dist-packages (from requests<3,>=2.21.0->tensorflow) (3.3.2)\n",
            "Requirement already satisfied: idna<4,>=2.5 in /usr/local/lib/python3.10/dist-packages (from requests<3,>=2.21.0->tensorflow) (3.6)\n",
            "Requirement already satisfied: urllib3<3,>=1.21.1 in /usr/local/lib/python3.10/dist-packages (from requests<3,>=2.21.0->tensorflow) (2.0.7)\n",
            "Requirement already satisfied: certifi>=2017.4.17 in /usr/local/lib/python3.10/dist-packages (from requests<3,>=2.21.0->tensorflow) (2024.2.2)\n",
            "Requirement already satisfied: markdown>=2.6.8 in /usr/local/lib/python3.10/dist-packages (from tensorboard<2.17,>=2.16->tensorflow) (3.6)\n",
            "Requirement already satisfied: tensorboard-data-server<0.8.0,>=0.7.0 in /usr/local/lib/python3.10/dist-packages (from tensorboard<2.17,>=2.16->tensorflow) (0.7.2)\n",
            "Requirement already satisfied: werkzeug>=1.0.1 in /usr/local/lib/python3.10/dist-packages (from tensorboard<2.17,>=2.16->tensorflow) (3.0.2)\n",
            "Requirement already satisfied: markdown-it-py>=2.2.0 in /usr/local/lib/python3.10/dist-packages (from rich->keras) (3.0.0)\n",
            "Requirement already satisfied: pygments<3.0.0,>=2.13.0 in /usr/local/lib/python3.10/dist-packages (from rich->keras) (2.16.1)\n",
            "Requirement already satisfied: mdurl~=0.1 in /usr/local/lib/python3.10/dist-packages (from markdown-it-py>=2.2.0->rich->keras) (0.1.2)\n",
            "Requirement already satisfied: MarkupSafe>=2.1.1 in /usr/local/lib/python3.10/dist-packages (from werkzeug>=1.0.1->tensorboard<2.17,>=2.16->tensorflow) (2.1.5)\n"
          ]
        }
      ]
    },
    {
      "cell_type": "code",
      "source": [
        "!pip install --upgrade tensorflow\n"
      ],
      "metadata": {
        "colab": {
          "base_uri": "https://localhost:8080/"
        },
        "id": "mS19xINDQHJf",
        "outputId": "e7604747-15e9-48e6-d7ff-08f4e922ee58"
      },
      "execution_count": 3,
      "outputs": [
        {
          "output_type": "stream",
          "name": "stdout",
          "text": [
            "Requirement already satisfied: tensorflow in /usr/local/lib/python3.10/dist-packages (2.16.1)\n",
            "Requirement already satisfied: absl-py>=1.0.0 in /usr/local/lib/python3.10/dist-packages (from tensorflow) (1.4.0)\n",
            "Requirement already satisfied: astunparse>=1.6.0 in /usr/local/lib/python3.10/dist-packages (from tensorflow) (1.6.3)\n",
            "Requirement already satisfied: flatbuffers>=23.5.26 in /usr/local/lib/python3.10/dist-packages (from tensorflow) (24.3.25)\n",
            "Requirement already satisfied: gast!=0.5.0,!=0.5.1,!=0.5.2,>=0.2.1 in /usr/local/lib/python3.10/dist-packages (from tensorflow) (0.5.4)\n",
            "Requirement already satisfied: google-pasta>=0.1.1 in /usr/local/lib/python3.10/dist-packages (from tensorflow) (0.2.0)\n",
            "Requirement already satisfied: h5py>=3.10.0 in /usr/local/lib/python3.10/dist-packages (from tensorflow) (3.10.0)\n",
            "Requirement already satisfied: libclang>=13.0.0 in /usr/local/lib/python3.10/dist-packages (from tensorflow) (18.1.1)\n",
            "Requirement already satisfied: ml-dtypes~=0.3.1 in /usr/local/lib/python3.10/dist-packages (from tensorflow) (0.3.2)\n",
            "Requirement already satisfied: opt-einsum>=2.3.2 in /usr/local/lib/python3.10/dist-packages (from tensorflow) (3.3.0)\n",
            "Requirement already satisfied: packaging in /usr/local/lib/python3.10/dist-packages (from tensorflow) (24.0)\n",
            "Requirement already satisfied: protobuf!=4.21.0,!=4.21.1,!=4.21.2,!=4.21.3,!=4.21.4,!=4.21.5,<5.0.0dev,>=3.20.3 in /usr/local/lib/python3.10/dist-packages (from tensorflow) (3.20.3)\n",
            "Requirement already satisfied: requests<3,>=2.21.0 in /usr/local/lib/python3.10/dist-packages (from tensorflow) (2.31.0)\n",
            "Requirement already satisfied: setuptools in /usr/local/lib/python3.10/dist-packages (from tensorflow) (67.7.2)\n",
            "Requirement already satisfied: six>=1.12.0 in /usr/local/lib/python3.10/dist-packages (from tensorflow) (1.16.0)\n",
            "Requirement already satisfied: termcolor>=1.1.0 in /usr/local/lib/python3.10/dist-packages (from tensorflow) (2.4.0)\n",
            "Requirement already satisfied: typing-extensions>=3.6.6 in /usr/local/lib/python3.10/dist-packages (from tensorflow) (4.10.0)\n",
            "Requirement already satisfied: wrapt>=1.11.0 in /usr/local/lib/python3.10/dist-packages (from tensorflow) (1.14.1)\n",
            "Requirement already satisfied: grpcio<2.0,>=1.24.3 in /usr/local/lib/python3.10/dist-packages (from tensorflow) (1.62.1)\n",
            "Requirement already satisfied: tensorboard<2.17,>=2.16 in /usr/local/lib/python3.10/dist-packages (from tensorflow) (2.16.2)\n",
            "Requirement already satisfied: keras>=3.0.0 in /usr/local/lib/python3.10/dist-packages (from tensorflow) (3.2.0)\n",
            "Requirement already satisfied: tensorflow-io-gcs-filesystem>=0.23.1 in /usr/local/lib/python3.10/dist-packages (from tensorflow) (0.36.0)\n",
            "Requirement already satisfied: numpy<2.0.0,>=1.23.5 in /usr/local/lib/python3.10/dist-packages (from tensorflow) (1.25.2)\n",
            "Requirement already satisfied: wheel<1.0,>=0.23.0 in /usr/local/lib/python3.10/dist-packages (from astunparse>=1.6.0->tensorflow) (0.43.0)\n",
            "Requirement already satisfied: rich in /usr/local/lib/python3.10/dist-packages (from keras>=3.0.0->tensorflow) (13.7.1)\n",
            "Requirement already satisfied: namex in /usr/local/lib/python3.10/dist-packages (from keras>=3.0.0->tensorflow) (0.0.7)\n",
            "Requirement already satisfied: optree in /usr/local/lib/python3.10/dist-packages (from keras>=3.0.0->tensorflow) (0.11.0)\n",
            "Requirement already satisfied: charset-normalizer<4,>=2 in /usr/local/lib/python3.10/dist-packages (from requests<3,>=2.21.0->tensorflow) (3.3.2)\n",
            "Requirement already satisfied: idna<4,>=2.5 in /usr/local/lib/python3.10/dist-packages (from requests<3,>=2.21.0->tensorflow) (3.6)\n",
            "Requirement already satisfied: urllib3<3,>=1.21.1 in /usr/local/lib/python3.10/dist-packages (from requests<3,>=2.21.0->tensorflow) (2.0.7)\n",
            "Requirement already satisfied: certifi>=2017.4.17 in /usr/local/lib/python3.10/dist-packages (from requests<3,>=2.21.0->tensorflow) (2024.2.2)\n",
            "Requirement already satisfied: markdown>=2.6.8 in /usr/local/lib/python3.10/dist-packages (from tensorboard<2.17,>=2.16->tensorflow) (3.6)\n",
            "Requirement already satisfied: tensorboard-data-server<0.8.0,>=0.7.0 in /usr/local/lib/python3.10/dist-packages (from tensorboard<2.17,>=2.16->tensorflow) (0.7.2)\n",
            "Requirement already satisfied: werkzeug>=1.0.1 in /usr/local/lib/python3.10/dist-packages (from tensorboard<2.17,>=2.16->tensorflow) (3.0.2)\n",
            "Requirement already satisfied: MarkupSafe>=2.1.1 in /usr/local/lib/python3.10/dist-packages (from werkzeug>=1.0.1->tensorboard<2.17,>=2.16->tensorflow) (2.1.5)\n",
            "Requirement already satisfied: markdown-it-py>=2.2.0 in /usr/local/lib/python3.10/dist-packages (from rich->keras>=3.0.0->tensorflow) (3.0.0)\n",
            "Requirement already satisfied: pygments<3.0.0,>=2.13.0 in /usr/local/lib/python3.10/dist-packages (from rich->keras>=3.0.0->tensorflow) (2.16.1)\n",
            "Requirement already satisfied: mdurl~=0.1 in /usr/local/lib/python3.10/dist-packages (from markdown-it-py>=2.2.0->rich->keras>=3.0.0->tensorflow) (0.1.2)\n"
          ]
        }
      ]
    },
    {
      "cell_type": "code",
      "metadata": {
        "id": "1ot0wrEnBcrh",
        "colab": {
          "base_uri": "https://localhost:8080/",
          "height": 438
        },
        "outputId": "91ebb83b-697d-41e3-93fa-5104cf244a66"
      },
      "source": [
        "import sys\n",
        "import gensim\n",
        "print (sys.path)\n",
        "import os\n",
        "from os.path import exists\n",
        "import re\n",
        "import logging\n",
        "import numpy as np\n",
        "import pandas as pd\n",
        "import seaborn as sns\n",
        "from collections import Counter\n",
        "import tensorflow as tf\n",
        "from sklearn.model_selection import train_test_split\n",
        "from sklearn.model_selection import StratifiedKFold\n",
        "from sklearn.model_selection import LeaveOneOut\n",
        "import datetime\n",
        "from tensorflow.keras.callbacks import EarlyStopping\n",
        "import matplotlib.pyplot as plt\n",
        "from matplotlib.patches import Patch\n",
        "from tensorflow.keras.preprocessing.text import Tokenizer\n",
        "\n",
        "from keras.preprocessing.sequence import pad_sequences\n",
        "from sklearn.preprocessing import LabelEncoder\n",
        "from keras.models import Sequential\n",
        "from keras.layers import Dense, Embedding, LSTM, SpatialDropout1D, GRU\n",
        "from sklearn.model_selection import train_test_split\n",
        "from keras.utils import to_categorical\n",
        "\n",
        "# from keras.callbacks import EarlyStopping\n",
        "# from sklearn.ensemble import KerasClassifier\n",
        "\n",
        "from keras.utils import np_utils\n",
        "from sklearn.model_selection import cross_val_score\n",
        "from keras.layers import Dropout\n",
        "# use natural language toolkit\n",
        "from scipy import sparse\n",
        "import nltk\n",
        "from nltk import punkt\n",
        "from nltk.stem.lancaster import LancasterStemmer\n",
        "nltk.download('punkt')\n",
        "nltk.download('stopwords')\n",
        "from sklearn.feature_extraction import stop_words\n",
        "import sklearn.datasets\n",
        "from sklearn.model_selection import StratifiedKFold\n",
        "from sklearn.model_selection import KFold\n",
        "from sklearn.metrics import multilabel_confusion_matrix\n",
        "from sklearn.metrics import accuracy_score, f1_score, precision_score, \\\n",
        "recall_score, classification_report, confusion_matrix, multilabel_confusion_matrix, precision_recall_fscore_support\n",
        "from nltk.corpus import stopwords\n",
        "from nltk import word_tokenize\n",
        "STOPWORDS = set(stopwords.words('english'))\n",
        "import plotly.graph_objs as go\n",
        "from keras import backend as K\n",
        "from numpy import where\n",
        "from tensorflow.python.client import device_lib"
      ],
      "execution_count": 5,
      "outputs": [
        {
          "output_type": "stream",
          "name": "stdout",
          "text": [
            "['/content', '/env/python', '/usr/lib/python310.zip', '/usr/lib/python3.10', '/usr/lib/python3.10/lib-dynload', '', '/usr/local/lib/python3.10/dist-packages', '/usr/lib/python3/dist-packages', '/usr/local/lib/python3.10/dist-packages/IPython/extensions', '/root/.ipython']\n"
          ]
        },
        {
          "output_type": "error",
          "ename": "ImportError",
          "evalue": "cannot import name 'np_utils' from 'keras.utils' (/usr/local/lib/python3.10/dist-packages/keras/utils/__init__.py)",
          "traceback": [
            "\u001b[0;31m---------------------------------------------------------------------------\u001b[0m",
            "\u001b[0;31mImportError\u001b[0m                               Traceback (most recent call last)",
            "\u001b[0;32m<ipython-input-5-c7e59fad90a9>\u001b[0m in \u001b[0;36m<cell line: 32>\u001b[0;34m()\u001b[0m\n\u001b[1;32m     30\u001b[0m \u001b[0;31m# from sklearn.ensemble import KerasClassifier\u001b[0m\u001b[0;34m\u001b[0m\u001b[0;34m\u001b[0m\u001b[0m\n\u001b[1;32m     31\u001b[0m \u001b[0;34m\u001b[0m\u001b[0m\n\u001b[0;32m---> 32\u001b[0;31m \u001b[0;32mfrom\u001b[0m \u001b[0mkeras\u001b[0m\u001b[0;34m.\u001b[0m\u001b[0mutils\u001b[0m \u001b[0;32mimport\u001b[0m \u001b[0mnp_utils\u001b[0m\u001b[0;34m\u001b[0m\u001b[0;34m\u001b[0m\u001b[0m\n\u001b[0m\u001b[1;32m     33\u001b[0m \u001b[0;32mfrom\u001b[0m \u001b[0msklearn\u001b[0m\u001b[0;34m.\u001b[0m\u001b[0mmodel_selection\u001b[0m \u001b[0;32mimport\u001b[0m \u001b[0mcross_val_score\u001b[0m\u001b[0;34m\u001b[0m\u001b[0;34m\u001b[0m\u001b[0m\n\u001b[1;32m     34\u001b[0m \u001b[0;32mfrom\u001b[0m \u001b[0mkeras\u001b[0m\u001b[0;34m.\u001b[0m\u001b[0mlayers\u001b[0m \u001b[0;32mimport\u001b[0m \u001b[0mDropout\u001b[0m\u001b[0;34m\u001b[0m\u001b[0;34m\u001b[0m\u001b[0m\n",
            "\u001b[0;31mImportError\u001b[0m: cannot import name 'np_utils' from 'keras.utils' (/usr/local/lib/python3.10/dist-packages/keras/utils/__init__.py)",
            "",
            "\u001b[0;31m---------------------------------------------------------------------------\u001b[0;32m\nNOTE: If your import is failing due to a missing package, you can\nmanually install dependencies using either !pip or !apt.\n\nTo view examples of installing some common dependencies, click the\n\"Open Examples\" button below.\n\u001b[0;31m---------------------------------------------------------------------------\u001b[0m\n"
          ],
          "errorDetails": {
            "actions": [
              {
                "action": "open_url",
                "actionText": "Open Examples",
                "url": "/notebooks/snippets/importing_libraries.ipynb"
              }
            ]
          }
        }
      ]
    },
    {
      "cell_type": "code",
      "metadata": {
        "id": "0qLCXtjUvtdL"
      },
      "source": [
        "# connect to local google drive if using google colab by un-commenting the below commands\n",
        "# from google.colab import drive\n",
        "# drive.mount('/content/drive')"
      ],
      "execution_count": null,
      "outputs": []
    },
    {
      "cell_type": "code",
      "metadata": {
        "colab": {
          "base_uri": "https://localhost:8080/"
        },
        "id": "H8c-2rNM7Bpx",
        "outputId": "6d4edbd9-e151-4a1c-a2ed-5c0985236d2a"
      },
      "source": [
        "from psutil import virtual_memory\n",
        "ram_gb = virtual_memory().total / 1e9\n",
        "print('Your runtime has {:.1f} gigabytes of available RAM\\n'.format(ram_gb))\n",
        "if ram_gb < 20:\n",
        "  print('You are using a normal-RAM runtime!')\n",
        "else:\n",
        "  print('You are using a high-RAM runtime!')"
      ],
      "execution_count": 6,
      "outputs": [
        {
          "output_type": "stream",
          "name": "stdout",
          "text": [
            "Your runtime has 13.6 gigabytes of available RAM\n",
            "\n",
            "You are using a normal-RAM runtime!\n"
          ]
        }
      ]
    },
    {
      "cell_type": "code",
      "metadata": {
        "id": "G2XApSxLBcrl",
        "colab": {
          "base_uri": "https://localhost:8080/",
          "height": 165
        },
        "outputId": "b7c48c4c-4e97-4f42-e830-d876f748f944"
      },
      "source": [
        "# check if GPU is used\n",
        "print(device_lib.list_local_devices())"
      ],
      "execution_count": 7,
      "outputs": [
        {
          "output_type": "error",
          "ename": "NameError",
          "evalue": "name 'device_lib' is not defined",
          "traceback": [
            "\u001b[0;31m---------------------------------------------------------------------------\u001b[0m",
            "\u001b[0;31mNameError\u001b[0m                                 Traceback (most recent call last)",
            "\u001b[0;32m<ipython-input-7-34737421bfa0>\u001b[0m in \u001b[0;36m<cell line: 2>\u001b[0;34m()\u001b[0m\n\u001b[1;32m      1\u001b[0m \u001b[0;31m# check if GPU is used\u001b[0m\u001b[0;34m\u001b[0m\u001b[0;34m\u001b[0m\u001b[0m\n\u001b[0;32m----> 2\u001b[0;31m \u001b[0mprint\u001b[0m\u001b[0;34m(\u001b[0m\u001b[0mdevice_lib\u001b[0m\u001b[0;34m.\u001b[0m\u001b[0mlist_local_devices\u001b[0m\u001b[0;34m(\u001b[0m\u001b[0;34m)\u001b[0m\u001b[0;34m)\u001b[0m\u001b[0;34m\u001b[0m\u001b[0;34m\u001b[0m\u001b[0m\n\u001b[0m",
            "\u001b[0;31mNameError\u001b[0m: name 'device_lib' is not defined"
          ]
        }
      ]
    },
    {
      "cell_type": "code",
      "source": [
        "!pip install kaggle\n"
      ],
      "metadata": {
        "colab": {
          "base_uri": "https://localhost:8080/"
        },
        "id": "kWC-4ldR2N5r",
        "outputId": "a2c8871f-0e92-4cdc-83cb-03d50226b6a7"
      },
      "execution_count": null,
      "outputs": [
        {
          "output_type": "stream",
          "name": "stdout",
          "text": [
            "Requirement already satisfied: kaggle in /usr/local/lib/python3.10/dist-packages (1.5.16)\n",
            "Requirement already satisfied: six>=1.10 in /usr/local/lib/python3.10/dist-packages (from kaggle) (1.16.0)\n",
            "Requirement already satisfied: certifi in /usr/local/lib/python3.10/dist-packages (from kaggle) (2024.2.2)\n",
            "Requirement already satisfied: python-dateutil in /usr/local/lib/python3.10/dist-packages (from kaggle) (2.8.2)\n",
            "Requirement already satisfied: requests in /usr/local/lib/python3.10/dist-packages (from kaggle) (2.31.0)\n",
            "Requirement already satisfied: tqdm in /usr/local/lib/python3.10/dist-packages (from kaggle) (4.66.2)\n",
            "Requirement already satisfied: python-slugify in /usr/local/lib/python3.10/dist-packages (from kaggle) (8.0.4)\n",
            "Requirement already satisfied: urllib3 in /usr/local/lib/python3.10/dist-packages (from kaggle) (2.0.7)\n",
            "Requirement already satisfied: bleach in /usr/local/lib/python3.10/dist-packages (from kaggle) (6.1.0)\n",
            "Requirement already satisfied: webencodings in /usr/local/lib/python3.10/dist-packages (from bleach->kaggle) (0.5.1)\n",
            "Requirement already satisfied: text-unidecode>=1.3 in /usr/local/lib/python3.10/dist-packages (from python-slugify->kaggle) (1.3)\n",
            "Requirement already satisfied: charset-normalizer<4,>=2 in /usr/local/lib/python3.10/dist-packages (from requests->kaggle) (3.3.2)\n",
            "Requirement already satisfied: idna<4,>=2.5 in /usr/local/lib/python3.10/dist-packages (from requests->kaggle) (3.6)\n"
          ]
        }
      ]
    },
    {
      "cell_type": "code",
      "source": [
        "pip install gensim==3.8.3\n"
      ],
      "metadata": {
        "colab": {
          "base_uri": "https://localhost:8080/"
        },
        "id": "epNm1RaEMUwl",
        "outputId": "e5118ff2-7299-4f44-b362-877ae89c32f7"
      },
      "execution_count": 8,
      "outputs": [
        {
          "output_type": "stream",
          "name": "stdout",
          "text": [
            "Collecting gensim==3.8.3\n",
            "  Downloading gensim-3.8.3.tar.gz (23.4 MB)\n",
            "\u001b[2K     \u001b[90m━━━━━━━━━━━━━━━━━━━━━━━━━━━━━━━━━━━━━━━━\u001b[0m \u001b[32m23.4/23.4 MB\u001b[0m \u001b[31m43.6 MB/s\u001b[0m eta \u001b[36m0:00:00\u001b[0m\n",
            "\u001b[?25h  Preparing metadata (setup.py) ... \u001b[?25l\u001b[?25hdone\n",
            "Requirement already satisfied: numpy>=1.11.3 in /usr/local/lib/python3.10/dist-packages (from gensim==3.8.3) (1.25.2)\n",
            "Requirement already satisfied: scipy>=0.18.1 in /usr/local/lib/python3.10/dist-packages (from gensim==3.8.3) (1.11.4)\n",
            "Requirement already satisfied: six>=1.5.0 in /usr/local/lib/python3.10/dist-packages (from gensim==3.8.3) (1.16.0)\n",
            "Requirement already satisfied: smart_open>=1.8.1 in /usr/local/lib/python3.10/dist-packages (from gensim==3.8.3) (6.4.0)\n",
            "Building wheels for collected packages: gensim\n",
            "  \u001b[1;31merror\u001b[0m: \u001b[1msubprocess-exited-with-error\u001b[0m\n",
            "  \n",
            "  \u001b[31m×\u001b[0m \u001b[32mpython setup.py bdist_wheel\u001b[0m did not run successfully.\n",
            "  \u001b[31m│\u001b[0m exit code: \u001b[1;36m1\u001b[0m\n",
            "  \u001b[31m╰─>\u001b[0m See above for output.\n",
            "  \n",
            "  \u001b[1;35mnote\u001b[0m: This error originates from a subprocess, and is likely not a problem with pip.\n",
            "  Building wheel for gensim (setup.py) ... \u001b[?25lerror\n",
            "\u001b[31m  ERROR: Failed building wheel for gensim\u001b[0m\u001b[31m\n",
            "\u001b[0m\u001b[?25h  Running setup.py clean for gensim\n",
            "Failed to build gensim\n",
            "\u001b[31mERROR: Could not build wheels for gensim, which is required to install pyproject.toml-based projects\u001b[0m\u001b[31m\n",
            "\u001b[0m"
          ]
        }
      ]
    },
    {
      "cell_type": "code",
      "source": [
        "from google.colab import drive\n",
        "import gensim\n",
        "\n",
        "# Mount Google Drive\n",
        "drive.mount('/content/drive')\n",
        "\n",
        "# Load the Word2Vec model\n",
        "vec_model = gensim.models.KeyedVectors.load_word2vec_format('/content/drive/MyDrive/GoogleNewsvectorsnegative300.bin', binary=True)"
      ],
      "metadata": {
        "colab": {
          "base_uri": "https://localhost:8080/"
        },
        "id": "klW0fP8_G5dc",
        "outputId": "6390bb31-7bce-48c8-8ae4-d2cb9921deb9"
      },
      "execution_count": 11,
      "outputs": [
        {
          "output_type": "stream",
          "name": "stdout",
          "text": [
            "Drive already mounted at /content/drive; to attempt to forcibly remount, call drive.mount(\"/content/drive\", force_remount=True).\n"
          ]
        }
      ]
    },
    {
      "cell_type": "code",
      "metadata": {
        "id": "_v-X2vhHs-2e",
        "colab": {
          "base_uri": "https://localhost:8080/",
          "height": 335
        },
        "outputId": "ce20be7c-5d69-4d78-a772-2cc5c43a4c07"
      },
      "source": [
        "# import the word2vec model with pre-trained vectors trained on part of Google News dataset (about 100 billion words).\n",
        "# The model contains 300-dimensional vectors for 3 million words and phrases. Link here to the official web page for this project -- https://code.google.com/archive/p/word2vec/\n",
        "# Per the official website link above, one could download the model as a gz file from the archives here -- https://drive.google.com/file/d/0B7XkCwpI5KDYNlNUTTlSS21pQmM/edit (or)\n",
        "# Clone from github from here which is a mirrored copy according to the github author-- https://github.com/mmihaltz/word2vec-GoogleNews-vectors\n",
        "# Below is an import link from my personal google drive. This needs to be changed to point to the model file as appropriate.\n",
        "vec_model = gensim.models.KeyedVectors.load_word2vec_format('drive/MyDrive/GoogleNews-vectors-negative300.bin', binary=True)"
      ],
      "execution_count": 10,
      "outputs": [
        {
          "output_type": "error",
          "ename": "FileNotFoundError",
          "evalue": "[Errno 2] No such file or directory: 'drive/MyDrive/GoogleNews-vectors-negative300.bin'",
          "traceback": [
            "\u001b[0;31m---------------------------------------------------------------------------\u001b[0m",
            "\u001b[0;31mFileNotFoundError\u001b[0m                         Traceback (most recent call last)",
            "\u001b[0;32m<ipython-input-10-01c6cd46b90b>\u001b[0m in \u001b[0;36m<cell line: 6>\u001b[0;34m()\u001b[0m\n\u001b[1;32m      4\u001b[0m \u001b[0;31m# Clone from github from here which is a mirrored copy according to the github author-- https://github.com/mmihaltz/word2vec-GoogleNews-vectors\u001b[0m\u001b[0;34m\u001b[0m\u001b[0;34m\u001b[0m\u001b[0m\n\u001b[1;32m      5\u001b[0m \u001b[0;31m# Below is an import link from my personal google drive. This needs to be changed to point to the model file as appropriate.\u001b[0m\u001b[0;34m\u001b[0m\u001b[0;34m\u001b[0m\u001b[0m\n\u001b[0;32m----> 6\u001b[0;31m \u001b[0mvec_model\u001b[0m \u001b[0;34m=\u001b[0m \u001b[0mgensim\u001b[0m\u001b[0;34m.\u001b[0m\u001b[0mmodels\u001b[0m\u001b[0;34m.\u001b[0m\u001b[0mKeyedVectors\u001b[0m\u001b[0;34m.\u001b[0m\u001b[0mload_word2vec_format\u001b[0m\u001b[0;34m(\u001b[0m\u001b[0;34m'drive/MyDrive/GoogleNews-vectors-negative300.bin'\u001b[0m\u001b[0;34m,\u001b[0m \u001b[0mbinary\u001b[0m\u001b[0;34m=\u001b[0m\u001b[0;32mTrue\u001b[0m\u001b[0;34m)\u001b[0m\u001b[0;34m\u001b[0m\u001b[0;34m\u001b[0m\u001b[0m\n\u001b[0m",
            "\u001b[0;32m/usr/local/lib/python3.10/dist-packages/gensim/models/keyedvectors.py\u001b[0m in \u001b[0;36mload_word2vec_format\u001b[0;34m(cls, fname, fvocab, binary, encoding, unicode_errors, limit, datatype, no_header)\u001b[0m\n\u001b[1;32m   1717\u001b[0m \u001b[0;34m\u001b[0m\u001b[0m\n\u001b[1;32m   1718\u001b[0m         \"\"\"\n\u001b[0;32m-> 1719\u001b[0;31m         return _load_word2vec_format(\n\u001b[0m\u001b[1;32m   1720\u001b[0m             \u001b[0mcls\u001b[0m\u001b[0;34m,\u001b[0m \u001b[0mfname\u001b[0m\u001b[0;34m,\u001b[0m \u001b[0mfvocab\u001b[0m\u001b[0;34m=\u001b[0m\u001b[0mfvocab\u001b[0m\u001b[0;34m,\u001b[0m \u001b[0mbinary\u001b[0m\u001b[0;34m=\u001b[0m\u001b[0mbinary\u001b[0m\u001b[0;34m,\u001b[0m \u001b[0mencoding\u001b[0m\u001b[0;34m=\u001b[0m\u001b[0mencoding\u001b[0m\u001b[0;34m,\u001b[0m \u001b[0municode_errors\u001b[0m\u001b[0;34m=\u001b[0m\u001b[0municode_errors\u001b[0m\u001b[0;34m,\u001b[0m\u001b[0;34m\u001b[0m\u001b[0;34m\u001b[0m\u001b[0m\n\u001b[1;32m   1721\u001b[0m             \u001b[0mlimit\u001b[0m\u001b[0;34m=\u001b[0m\u001b[0mlimit\u001b[0m\u001b[0;34m,\u001b[0m \u001b[0mdatatype\u001b[0m\u001b[0;34m=\u001b[0m\u001b[0mdatatype\u001b[0m\u001b[0;34m,\u001b[0m \u001b[0mno_header\u001b[0m\u001b[0;34m=\u001b[0m\u001b[0mno_header\u001b[0m\u001b[0;34m,\u001b[0m\u001b[0;34m\u001b[0m\u001b[0;34m\u001b[0m\u001b[0m\n",
            "\u001b[0;32m/usr/local/lib/python3.10/dist-packages/gensim/models/keyedvectors.py\u001b[0m in \u001b[0;36m_load_word2vec_format\u001b[0;34m(cls, fname, fvocab, binary, encoding, unicode_errors, limit, datatype, no_header, binary_chunk_size)\u001b[0m\n\u001b[1;32m   2046\u001b[0m \u001b[0;34m\u001b[0m\u001b[0m\n\u001b[1;32m   2047\u001b[0m     \u001b[0mlogger\u001b[0m\u001b[0;34m.\u001b[0m\u001b[0minfo\u001b[0m\u001b[0;34m(\u001b[0m\u001b[0;34m\"loading projection weights from %s\"\u001b[0m\u001b[0;34m,\u001b[0m \u001b[0mfname\u001b[0m\u001b[0;34m)\u001b[0m\u001b[0;34m\u001b[0m\u001b[0;34m\u001b[0m\u001b[0m\n\u001b[0;32m-> 2048\u001b[0;31m     \u001b[0;32mwith\u001b[0m \u001b[0mutils\u001b[0m\u001b[0;34m.\u001b[0m\u001b[0mopen\u001b[0m\u001b[0;34m(\u001b[0m\u001b[0mfname\u001b[0m\u001b[0;34m,\u001b[0m \u001b[0;34m'rb'\u001b[0m\u001b[0;34m)\u001b[0m \u001b[0;32mas\u001b[0m \u001b[0mfin\u001b[0m\u001b[0;34m:\u001b[0m\u001b[0;34m\u001b[0m\u001b[0;34m\u001b[0m\u001b[0m\n\u001b[0m\u001b[1;32m   2049\u001b[0m         \u001b[0;32mif\u001b[0m \u001b[0mno_header\u001b[0m\u001b[0;34m:\u001b[0m\u001b[0;34m\u001b[0m\u001b[0;34m\u001b[0m\u001b[0m\n\u001b[1;32m   2050\u001b[0m             \u001b[0;31m# deduce both vocab_size & vector_size from 1st pass over file\u001b[0m\u001b[0;34m\u001b[0m\u001b[0;34m\u001b[0m\u001b[0m\n",
            "\u001b[0;32m/usr/local/lib/python3.10/dist-packages/smart_open/smart_open_lib.py\u001b[0m in \u001b[0;36mopen\u001b[0;34m(uri, mode, buffering, encoding, errors, newline, closefd, opener, compression, transport_params)\u001b[0m\n\u001b[1;32m    175\u001b[0m         \u001b[0mtransport_params\u001b[0m \u001b[0;34m=\u001b[0m \u001b[0;34m{\u001b[0m\u001b[0;34m}\u001b[0m\u001b[0;34m\u001b[0m\u001b[0;34m\u001b[0m\u001b[0m\n\u001b[1;32m    176\u001b[0m \u001b[0;34m\u001b[0m\u001b[0m\n\u001b[0;32m--> 177\u001b[0;31m     fobj = _shortcut_open(\n\u001b[0m\u001b[1;32m    178\u001b[0m         \u001b[0muri\u001b[0m\u001b[0;34m,\u001b[0m\u001b[0;34m\u001b[0m\u001b[0;34m\u001b[0m\u001b[0m\n\u001b[1;32m    179\u001b[0m         \u001b[0mmode\u001b[0m\u001b[0;34m,\u001b[0m\u001b[0;34m\u001b[0m\u001b[0;34m\u001b[0m\u001b[0m\n",
            "\u001b[0;32m/usr/local/lib/python3.10/dist-packages/smart_open/smart_open_lib.py\u001b[0m in \u001b[0;36m_shortcut_open\u001b[0;34m(uri, mode, compression, buffering, encoding, errors, newline)\u001b[0m\n\u001b[1;32m    361\u001b[0m         \u001b[0mopen_kwargs\u001b[0m\u001b[0;34m[\u001b[0m\u001b[0;34m'errors'\u001b[0m\u001b[0;34m]\u001b[0m \u001b[0;34m=\u001b[0m \u001b[0merrors\u001b[0m\u001b[0;34m\u001b[0m\u001b[0;34m\u001b[0m\u001b[0m\n\u001b[1;32m    362\u001b[0m \u001b[0;34m\u001b[0m\u001b[0m\n\u001b[0;32m--> 363\u001b[0;31m     \u001b[0;32mreturn\u001b[0m \u001b[0m_builtin_open\u001b[0m\u001b[0;34m(\u001b[0m\u001b[0mlocal_path\u001b[0m\u001b[0;34m,\u001b[0m \u001b[0mmode\u001b[0m\u001b[0;34m,\u001b[0m \u001b[0mbuffering\u001b[0m\u001b[0;34m=\u001b[0m\u001b[0mbuffering\u001b[0m\u001b[0;34m,\u001b[0m \u001b[0;34m**\u001b[0m\u001b[0mopen_kwargs\u001b[0m\u001b[0;34m)\u001b[0m\u001b[0;34m\u001b[0m\u001b[0;34m\u001b[0m\u001b[0m\n\u001b[0m\u001b[1;32m    364\u001b[0m \u001b[0;34m\u001b[0m\u001b[0m\n\u001b[1;32m    365\u001b[0m \u001b[0;34m\u001b[0m\u001b[0m\n",
            "\u001b[0;31mFileNotFoundError\u001b[0m: [Errno 2] No such file or directory: 'drive/MyDrive/GoogleNews-vectors-negative300.bin'"
          ]
        }
      ]
    },
    {
      "cell_type": "code",
      "metadata": {
        "colab": {
          "base_uri": "https://localhost:8080/"
        },
        "id": "Iqdjkk4e7UhM",
        "outputId": "d996acee-0874-43e7-91cb-8db0daa7cd22"
      },
      "source": [
        "from psutil import virtual_memory\n",
        "ram_gb = virtual_memory().total / 1e9\n",
        "print('Your runtime has {:.1f} gigabytes of available RAM\\n'.format(ram_gb))\n",
        "if ram_gb < 20:\n",
        "  print('You are using a normal-RAM runtime!')\n",
        "else:\n",
        "  print('You are using a high-RAM runtime!')"
      ],
      "execution_count": 12,
      "outputs": [
        {
          "output_type": "stream",
          "name": "stdout",
          "text": [
            "Your runtime has 13.6 gigabytes of available RAM\n",
            "\n",
            "You are using a normal-RAM runtime!\n"
          ]
        }
      ]
    },
    {
      "cell_type": "code",
      "source": [
        "pip install gensim==3.8.3\n"
      ],
      "metadata": {
        "colab": {
          "base_uri": "https://localhost:8080/"
        },
        "id": "bgTbU-zRMHHm",
        "outputId": "259f971c-3336-472f-f9f1-5e48233260a8"
      },
      "execution_count": 13,
      "outputs": [
        {
          "output_type": "stream",
          "name": "stdout",
          "text": [
            "Collecting gensim==3.8.3\n",
            "  Using cached gensim-3.8.3.tar.gz (23.4 MB)\n",
            "  Preparing metadata (setup.py) ... \u001b[?25l\u001b[?25hdone\n",
            "Requirement already satisfied: numpy>=1.11.3 in /usr/local/lib/python3.10/dist-packages (from gensim==3.8.3) (1.25.2)\n",
            "Requirement already satisfied: scipy>=0.18.1 in /usr/local/lib/python3.10/dist-packages (from gensim==3.8.3) (1.11.4)\n",
            "Requirement already satisfied: six>=1.5.0 in /usr/local/lib/python3.10/dist-packages (from gensim==3.8.3) (1.16.0)\n",
            "Requirement already satisfied: smart_open>=1.8.1 in /usr/local/lib/python3.10/dist-packages (from gensim==3.8.3) (6.4.0)\n",
            "Building wheels for collected packages: gensim\n",
            "  \u001b[1;31merror\u001b[0m: \u001b[1msubprocess-exited-with-error\u001b[0m\n",
            "  \n",
            "  \u001b[31m×\u001b[0m \u001b[32mpython setup.py bdist_wheel\u001b[0m did not run successfully.\n",
            "  \u001b[31m│\u001b[0m exit code: \u001b[1;36m1\u001b[0m\n",
            "  \u001b[31m╰─>\u001b[0m See above for output.\n",
            "  \n",
            "  \u001b[1;35mnote\u001b[0m: This error originates from a subprocess, and is likely not a problem with pip.\n",
            "  Building wheel for gensim (setup.py) ... \u001b[?25lerror\n",
            "\u001b[31m  ERROR: Failed building wheel for gensim\u001b[0m\u001b[31m\n",
            "\u001b[0m\u001b[?25h  Running setup.py clean for gensim\n",
            "Failed to build gensim\n",
            "\u001b[31mERROR: Could not build wheels for gensim, which is required to install pyproject.toml-based projects\u001b[0m\u001b[31m\n",
            "\u001b[0m"
          ]
        }
      ]
    },
    {
      "cell_type": "code",
      "metadata": {
        "colab": {
          "base_uri": "https://localhost:8080/"
        },
        "id": "TEk6F2JGzOey",
        "outputId": "70ebdd25-443d-436a-d2d6-0a9ce329b530"
      },
      "source": [
        "print(vec_model['the'])"
      ],
      "execution_count": 14,
      "outputs": [
        {
          "output_type": "stream",
          "name": "stdout",
          "text": [
            "[ 0.08007812  0.10498047  0.04980469  0.0534668  -0.06738281 -0.12060547\n",
            "  0.03515625 -0.11865234  0.04394531  0.03015137 -0.05688477 -0.07617188\n",
            "  0.01287842  0.04980469 -0.08496094 -0.06347656  0.00628662 -0.04321289\n",
            "  0.02026367  0.01330566 -0.01953125  0.09277344 -0.171875   -0.00131989\n",
            "  0.06542969  0.05834961 -0.08251953  0.0859375  -0.00318909  0.05859375\n",
            " -0.03491211 -0.0123291  -0.0480957  -0.00302124  0.05639648  0.01495361\n",
            " -0.07226562 -0.05224609  0.09667969  0.04296875 -0.03540039 -0.07324219\n",
            "  0.03271484 -0.06176758  0.00787354  0.0035553  -0.00878906  0.0390625\n",
            "  0.03833008  0.04443359  0.06982422  0.01263428 -0.00445557 -0.03320312\n",
            " -0.04272461  0.09765625 -0.02160645 -0.0378418   0.01190186 -0.01391602\n",
            " -0.11328125  0.09326172 -0.03930664 -0.11621094  0.02331543 -0.01599121\n",
            "  0.02636719  0.10742188 -0.00466919  0.09619141  0.0279541  -0.05395508\n",
            "  0.08544922 -0.03686523 -0.02026367 -0.08544922  0.125       0.14453125\n",
            "  0.0267334   0.15039062  0.05273438 -0.18652344  0.08154297 -0.01062012\n",
            " -0.03735352 -0.07324219 -0.07519531  0.03613281 -0.13183594  0.00616455\n",
            "  0.05078125  0.04516602  0.0100708  -0.15039062 -0.06005859  0.05761719\n",
            " -0.00692749  0.01586914 -0.0213623   0.10351562 -0.00029182 -0.046875\n",
            " -0.01635742 -0.07861328 -0.06933594  0.01635742 -0.03149414 -0.01373291\n",
            " -0.03662109 -0.08886719 -0.0480957  -0.01318359 -0.07177734  0.00588989\n",
            " -0.04614258  0.03979492  0.10058594 -0.04931641  0.07568359  0.03881836\n",
            " -0.16699219 -0.09619141 -0.10107422  0.02905273 -0.05786133 -0.01928711\n",
            " -0.04296875 -0.08398438 -0.01989746  0.05151367  0.00848389 -0.03613281\n",
            " -0.14941406 -0.01855469 -0.03637695 -0.07666016 -0.03955078 -0.06152344\n",
            " -0.02001953  0.04150391  0.03686523 -0.07226562  0.00592041 -0.06298828\n",
            "  0.00738525 -0.01586914  0.01611328 -0.01452637  0.00772095  0.10107422\n",
            " -0.00558472  0.01428223 -0.07617188  0.05639648 -0.01293945  0.03063965\n",
            " -0.02490234 -0.09863281  0.0324707  -0.02807617 -0.08105469  0.02062988\n",
            "  0.01611328 -0.04199219 -0.03491211 -0.03759766  0.05493164  0.01373291\n",
            "  0.02685547 -0.05859375 -0.07177734 -0.12011719 -0.02282715 -0.1640625\n",
            " -0.00361633 -0.05981445  0.07080078 -0.07714844  0.05175781 -0.04296875\n",
            " -0.04833984  0.0300293  -0.06591797 -0.03173828 -0.04882812 -0.03491211\n",
            "  0.05883789 -0.01464844  0.18066406  0.05688477  0.05249023  0.05786133\n",
            "  0.11669922  0.05200195 -0.0534668   0.01867676 -0.015625    0.00576782\n",
            " -0.07324219 -0.11621094  0.04052734  0.0625     -0.04321289  0.01055908\n",
            "  0.02172852  0.04248047  0.03271484  0.04418945  0.05761719  0.02612305\n",
            " -0.01831055 -0.02697754 -0.00674438  0.00509644 -0.11621094  0.00364685\n",
            "  0.05761719 -0.05957031 -0.08837891  0.0135498   0.04541016 -0.04638672\n",
            " -0.0177002  -0.0625      0.03442383 -0.02416992  0.03088379  0.09570312\n",
            "  0.07958984  0.03930664  0.0279541  -0.0859375   0.08105469  0.06640625\n",
            " -0.00041962 -0.06933594  0.03588867 -0.03417969  0.04492188 -0.00772095\n",
            " -0.00741577 -0.04760742  0.01397705 -0.09960938  0.0246582  -0.09960938\n",
            "  0.11474609  0.03173828  0.02209473  0.07226562  0.03686523  0.02563477\n",
            "  0.01367188 -0.02734375  0.00592041 -0.06738281  0.05053711 -0.02832031\n",
            " -0.04516602 -0.01733398  0.02111816  0.03515625 -0.04296875  0.06640625\n",
            "  0.12207031  0.12353516  0.0039978   0.04516602 -0.01855469  0.04833984\n",
            "  0.04516602  0.08691406  0.02941895  0.03759766  0.03442383 -0.07373047\n",
            " -0.0402832  -0.14648438 -0.02441406 -0.01953125  0.0065918  -0.0018158\n",
            " -0.01092529  0.09326172  0.06542969  0.01843262 -0.09326172 -0.01574707\n",
            " -0.07128906 -0.08935547 -0.07128906 -0.03015137 -0.01300049  0.01635742\n",
            " -0.01831055  0.01483154  0.00500488  0.00366211  0.04760742 -0.06884766]\n"
          ]
        }
      ]
    },
    {
      "cell_type": "code",
      "metadata": {
        "id": "cfEnkSZqzWW2",
        "colab": {
          "base_uri": "https://localhost:8080/"
        },
        "outputId": "4b83bbd4-5dd1-46fa-cdbb-7a9ef9cea976"
      },
      "source": [
        "vocab_size = len(vec_model.index_to_key)\n",
        "print(vocab_size)"
      ],
      "execution_count": 15,
      "outputs": [
        {
          "output_type": "stream",
          "name": "stdout",
          "text": [
            "3000000\n"
          ]
        }
      ]
    },
    {
      "cell_type": "code",
      "metadata": {
        "scrolled": true,
        "id": "sAxaZsDWBcro",
        "colab": {
          "base_uri": "https://localhost:8080/"
        },
        "outputId": "2e58ee3b-5be9-4ab9-ecb7-e44b2e5b68d5"
      },
      "source": [
        "# import the dataset from the Dataset folder\n",
        "import pandas as pd\n",
        "df = pd.read_csv('/content/NFR_CSV.csv')\n",
        "df.info()"
      ],
      "execution_count": 16,
      "outputs": [
        {
          "output_type": "stream",
          "name": "stdout",
          "text": [
            "<class 'pandas.core.frame.DataFrame'>\n",
            "RangeIndex: 945 entries, 0 to 944\n",
            "Data columns (total 2 columns):\n",
            " #   Column      Non-Null Count  Dtype \n",
            "---  ------      --------------  ----- \n",
            " 0   class_name  945 non-null    object\n",
            " 1   sentence    945 non-null    object\n",
            "dtypes: object(2)\n",
            "memory usage: 14.9+ KB\n"
          ]
        }
      ]
    },
    {
      "cell_type": "code",
      "metadata": {
        "id": "-Ps4chm5Bcrq",
        "colab": {
          "base_uri": "https://localhost:8080/"
        },
        "outputId": "de11aa25-28a2-4b35-cf05-d5761912027f"
      },
      "source": [
        "df.class_name.value_counts()"
      ],
      "execution_count": 17,
      "outputs": [
        {
          "output_type": "execute_result",
          "data": {
            "text/plain": [
              "class_name\n",
              "Security           354\n",
              "Usability          157\n",
              "Operability        153\n",
              "Maintainability    137\n",
              "Performance        113\n",
              "Fault Tolerance     17\n",
              "Scalability         10\n",
              "Portability          4\n",
              "Name: count, dtype: int64"
            ]
          },
          "metadata": {},
          "execution_count": 17
        }
      ]
    },
    {
      "cell_type": "code",
      "metadata": {
        "id": "v18DJoihBcrt",
        "colab": {
          "base_uri": "https://localhost:8080/"
        },
        "outputId": "a02eab88-7008-434e-f05d-d86f4c69e9b4"
      },
      "source": [
        "#function to print out a specific observation by passing the index of that in the dataset\n",
        "def print_plot(index):\n",
        "    example = df[df.index == index][['sentence', 'class_name']].values[0]\n",
        "    print(example)\n",
        "    if len(example) > 0:\n",
        "        print(example[0])\n",
        "        print('Req_Class:', example[1])\n",
        "print_plot(10)"
      ],
      "execution_count": 25,
      "outputs": [
        {
          "output_type": "stream",
          "name": "stdout",
          "text": [
            "['The maximum wait time for a user navigating from one screen to another within the Disputes application shall be no more than 5 seconds.'\n",
            " 'Performance']\n",
            "The maximum wait time for a user navigating from one screen to another within the Disputes application shall be no more than 5 seconds.\n",
            "Req_Class: Performance\n"
          ]
        }
      ]
    },
    {
      "cell_type": "code",
      "metadata": {
        "id": "0OJIjFKdBcrw",
        "colab": {
          "base_uri": "https://localhost:8080/"
        },
        "outputId": "feb326e6-0241-4f78-bb41-93b3c7ed2d4a"
      },
      "source": [
        "print_plot(100)"
      ],
      "execution_count": 26,
      "outputs": [
        {
          "output_type": "stream",
          "name": "stdout",
          "text": [
            "['The system shall have a response time where the average transaction on the server needs to occur on average less than 1 second.'\n",
            " 'Performance']\n",
            "The system shall have a response time where the average transaction on the server needs to occur on average less than 1 second.\n",
            "Req_Class: Performance\n"
          ]
        }
      ]
    },
    {
      "cell_type": "code",
      "source": [
        "from scipy import sparse\n",
        "import nltk\n",
        "from nltk import punkt\n",
        "from nltk.stem.lancaster import LancasterStemmer\n",
        "nltk.download('punkt')\n",
        "nltk.download('stopwords')\n",
        "# from sklearn.feature_extraction import stop_words\n",
        "import sklearn.datasets\n",
        "from sklearn.model_selection import StratifiedKFold\n",
        "from sklearn.model_selection import KFold\n",
        "from sklearn.metrics import multilabel_confusion_matrix\n",
        "from sklearn.metrics import accuracy_score, f1_score, precision_score, \\\n",
        "recall_score, classification_report, confusion_matrix, multilabel_confusion_matrix, precision_recall_fscore_support\n",
        "from nltk.corpus import stopwords\n",
        "from nltk import word_tokenize\n",
        "STOPWORDS = set(stopwords.words('english'))\n",
        "import plotly.graph_objs as go\n",
        "from keras import backend as K\n",
        "from numpy import where\n",
        "from tensorflow.python.client import device_lib"
      ],
      "metadata": {
        "colab": {
          "base_uri": "https://localhost:8080/"
        },
        "id": "A-ijUJmURSJT",
        "outputId": "b15792d9-7fb1-43c0-a5f0-28ea9a81d31b"
      },
      "execution_count": 27,
      "outputs": [
        {
          "output_type": "stream",
          "name": "stderr",
          "text": [
            "[nltk_data] Downloading package punkt to /root/nltk_data...\n",
            "[nltk_data]   Unzipping tokenizers/punkt.zip.\n",
            "[nltk_data] Downloading package stopwords to /root/nltk_data...\n",
            "[nltk_data]   Unzipping corpora/stopwords.zip.\n"
          ]
        }
      ]
    },
    {
      "cell_type": "code",
      "metadata": {
        "id": "X9-f3LFoBcrz"
      },
      "source": [
        "import re  # Import the 're' module for regular expressions\n",
        "\n",
        "#Regex options to find the special characters\n",
        "REPLACE_BY_SPACE = re.compile('[/(){}\\[\\]\\|@,;]')\n",
        "#Regex options to find the bad symbols\n",
        "BAD_SYMBOLS = re.compile('[^0-9a-z #+_]')\n",
        "#Import stopwords from the nltk.corpus and apply to the data\n",
        "STOPWORDS = set(stopwords.words('english'))\n",
        "# Custom words found by manually looking at the dataset observations\n",
        "ignore_words = [\n",
        "    'i', 'me', 'my', 'myself', 'we', 'our', 'ours', 'ourselves', 'you',\n",
        "    \"you're\", \"you've\", \"you'll\", \"you'd\", 'your', 'yours', 'yourself',\n",
        "    'yourselves', 'he', 'him', 'his', 'himself', 'she', \"she's\", 'her',\n",
        "    'hers', 'herself', 'it', \"it's\", 'its', 'itself', 'they', 'them',\n",
        "    'their', 'theirs', 'themselves', 'what', 'which', 'who', 'whom', 'this',\n",
        "    'that', \"that'll\", 'these', 'those', 'am', 'is', 'are', 'was', 'were',\n",
        "    'be', 'been', 'being', 'have', 'has', 'had', 'having', 'do', 'does',\n",
        "    'did', 'doing', 'a', 'an', 'the', 'and', 'but', 'if', 'or', 'because',\n",
        "    'as', 'until', 'while', 'of', 'at', 'by', 'for', 'with', 'about',\n",
        "    'against', 'between', 'into', 'through', 'during', 'before', 'after',\n",
        "    'above', 'below', 'to', 'from', 'up', 'down', 'in', 'out', 'on', 'off',\n",
        "    'over', 'under', 'again', 'further', 'then', 'once', 'here', 'there',\n",
        "    'when', 'where', 'why', 'how', 'all', 'any', 'both', 'each', 'few',\n",
        "    'more', 'most', 'other', 'some', 'such', 'no', 'nor', 'not', 'only',\n",
        "    'own', 'same', 'so', 'than', 'too', 'very', 's', 't', 'can', 'will',\n",
        "    'just', 'don', \"don't\", 'should', \"should've\", 'now', 'd', 'll', 'm',\n",
        "    'o', 're', 've', 'y', 'ain', 'aren', \"aren't\", 'couldn', \"couldn't\",\n",
        "    'didn', \"didn't\", 'doesn', \"doesn't\", 'hadn', \"hadn't\", 'hasn', \"hasn't\",\n",
        "    'haven', \"haven't\", 'isn', \"isn't\", 'ma', 'mightn', \"mightn't\", 'mustn',\n",
        "    \"mustn't\", 'needn', \"needn't\", 'shan', \"shan't\", 'shouldn', \"shouldn't\",\n",
        "    'wasn', \"wasn't\", 'weren', \"weren't\", 'won', \"won't\", 'wouldn', \"wouldn't\",\n",
        "    '?', '%', '/', '(', ')', '[', ']', '-', ':', ';', 'system', 'product',\n",
        "    'application', 'should', 'would', 'shall', 'go', 'System', 'system.',\n",
        "    'System.','â€',\"'\",]\n",
        "\n",
        "#function to perform data cleansing steps to convert to lower case, remove stop words, and to ignore custom words from the list manually gleaned as shown above\n",
        "def clean_text(text):\n",
        "    text = text.lower() # lowercase text\n",
        "    text = REPLACE_BY_SPACE.sub(' ', text) # replace REPLACE_BY_SPACE symbols by space in text. substitute the matched string in REPLACE_BY_SPACE with space.\n",
        "    text = BAD_SYMBOLS.sub('', text) # remove symbols which are in BAD_SYMBOLS from text. substitute the matched string in BAD_SYMBOLS with nothing.\n",
        "    text = text.replace('x', '')\n",
        "    text = ' '.join(word for word in text.split() if word not in STOPWORDS) # remove stopwords from text\n",
        "    text = ' '.join(word for word in text.split() if word not in ignore_words) # remove words unique to requirements dataset\n",
        "    return text\n",
        "#apply the function on the df from previous step\n",
        "df['sentence'] = df['sentence'].apply(clean_text)\n"
      ],
      "execution_count": 28,
      "outputs": []
    },
    {
      "cell_type": "code",
      "metadata": {
        "id": "3b553K1fBcr8",
        "colab": {
          "base_uri": "https://localhost:8080/"
        },
        "outputId": "4a8d5185-ca9b-43fd-fdf0-cdc0b1139b18"
      },
      "source": [
        "from gensim.models import Word2Vec\n",
        "# Setting the maximum number of words in the overall dataset.\n",
        "# word_vectors=vec_model.wv\n",
        "\n",
        "MAX_NB_WORDS = 50000\n",
        "# Setting the ceiling for the maximum number of words in each requirement.\n",
        "MAX_SEQUENCE_LENGTH = 250\n",
        "# Setting the number of dimensions to be used, since this word2vec model uses 300, this is fixed.\n",
        "EMBEDDING_DIM = 300\n",
        "# Invoke Tokenizer function by creating an instance of it\n",
        "tokenizer = Tokenizer(num_words=MAX_NB_WORDS, filters='!\"#$%&()*+,-./:;<=>?@[\\]^_`{|}~', lower=True)\n",
        "# Fitting the instance on the data\n",
        "tokenizer.fit_on_texts(df['sentence'].values)\n",
        "# Saving the output of the tokenizer into different variables\n",
        "word_index = tokenizer.word_index\n",
        "word_counts = tokenizer.word_counts\n",
        "word_docs = tokenizer.word_docs\n",
        "# Prints the unique number of tokens which are basically unique words after the cleaning process and tokenization process\n",
        "print('Found %s unique tokens.' % len(word_index))\n",
        "# This print each unique word and the number of occurrences of each word\n",
        "print(word_docs)\n",
        "print(word_index)\n",
        "# prints the unique words parsed from the nth requirement\n",
        "print_plot(1)"
      ],
      "execution_count": 29,
      "outputs": [
        {
          "output_type": "stream",
          "name": "stdout",
          "text": [
            "Found 2157 unique tokens.\n",
            "defaultdict(<class 'int'>, {'display': 15, 'refresh': 3, 'seconds': 47, 'every': 11, '60': 5, 'fast': 9, 'data': 109, 'respond': 3, 'keep': 2, 'uptodate': 2, 'time': 58, 'produce': 2, 'acceptable': 7, 'search': 17, 'results': 8, 'returned': 12, 'later': 4, 'entered': 13, 'user': 120, 'criteria': 5, '30': 9, 'generate': 7, 'cma': 6, 'report': 21, 'appointments': 5, 'synchronize': 4, 'contacts': 2, 'hour': 3, 'office': 6, 'manner': 5, 'tasks': 8, 'members': 13, 'staff': 16, 'able': 102, 'complete': 14, 'set': 13, 'timely': 2, '5': 46, 'schedule': 2, 'general': 4, 'take': 16, 'student': 4, 'longer': 13, 'generation': 2, 'management': 28, 'response': 27, 'another': 7, 'maimum': 11, 'one': 16, 'disputes': 33, 'wait': 2, 'navigating': 4, 'screen': 9, 'within': 73, 'performance': 6, 'support': 44, 'users': 119, 'concurrent': 5, '350': 2, 'without': 19, 'degradation': 2, '15': 11, 'recycled': 9, 'parts': 12, 'facility': 13, 'preferred': 7, 'repair': 8, '8': 11, 'audit': 6, '10': 17, 'saved': 5, 'save': 2, 'occur': 4, 'ratings': 3, 'thought': 2, 'interrupting': 2, 'avoid': 5, 'enough': 5, 'flow': 5, '98': 4, '90': 31, 'c360inventory': 1, 'quantity': 2, 'previous': 3, 'adjustment': 4, 'period': 16, '30min': 2, 'days': 12, 'recreation': 2, '6': 6, 'minimum': 15, 'work': 6, 'allow': 27, 'section': 26, 'administration': 7, 'activate': 2, 'via': 17, 'prepaid': 6, 'card': 8, 'administrator': 18, 'entering': 1, 'number': 19, 'status': 6, 'pin': 1, 'customer': 14, 'check': 3, 'register': 2, 'let': 10, 'pay': 2, 'customers': 16, 'website': 40, 'minutes': 30, 'subscriber': 1, 'unlimited': 1, 'movie': 7, 'password': 25, 'log': 12, 'address': 8, 'eisting': 9, 'email': 3, 'cancel': 1, 'account': 10, 'mark': 2, 'process': 26, '2': 45, 'database': 60, 'inactive': 3, 'deactivate': 1, 'minute': 1, '1': 37, 'access': 86, 'information': 94, 'stored': 10, 'remove': 5, 'available': 19, 'movies': 10, 'add': 4, 'categories': 3, 'usage': 6, 'sales': 2, 'izogn': 4, 'statistics': 2, 'manager': 1, 'unique': 3, 'file': 12, 'pins': 1, 'generated': 3, 'administrators': 16, 'ecel': 2, 'noted': 4, 'interface': 46, 'eception': 7, 'unless': 3, 'automated': 5, 'purchasing': 3, 'streaming': 12, 'credit': 5, 'processing': 9, 'connection': 7, 'latency': 2, 'buffering': 2, 'plus': 2, 'update': 9, 'must': 82, 'category': 1, 'listings': 1, '3': 18, 'cst': 2, 'cycle': 4, '8pm': 2, 'lead': 10, '99': 4, 'total': 4, 'completed': 2, 'hours': 7, '8am': 2, 'volume': 3, 'business': 13, '25': 3, 'leads': 4, '97': 2, 'processed': 2, 'evaluation': 2, 'duration': 3, 'record': 6, 'event': 7, 'assignment': 2, 'conditions': 6, 'life': 2, 'rep': 2, 'fit': 4, 'auto': 2, 'assigned': 6, 'forth': 2, 'handle': 9, 'games': 3, 'large': 2, 'simultaneously': 2, '4': 6, 'game': 6, 'maintain': 13, 'responses': 2, '95': 5, 'remaining': 2, 'server': 33, '9999': 1, 'achieve': 2, 'failure': 6, 'software': 22, 'aside': 1, 'operations': 2, '112k': 1, 'faster': 1, '56k': 3, 'inventory': 1, 'requests': 12, 'request': 9, 'transaction': 22, 'fourth': 2, 'network': 14, 'receiving': 3, 'second': 3, 'day': 12, 'per': 10, 'average': 4, '50': 3, 'records': 21, '000': 12, 'concurrency': 2, 'times': 7, 'capacity': 5, 'early': 2, 'late': 2, 'morning': 2, 'peak': 5, 'afternoon': 2, 'scheduling': 10, 'utilization': 2, 'cpu': 2, '70': 4, 'eceed': 3, 'given': 2, 'never': 1, '1000': 2, 'simultaneous': 6, 'years': 8, 'launch': 5, 'initial': 1, '1500': 2, 'transactions': 11, 'two': 6, 'remote': 4, 'multiple': 7, 'capable': 6, 'handling': 5, 'least': 4, 'installation': 6, 'epected': 10, 'operate': 20, 'message': 2, 'messages': 7, 'million': 1, 'year': 5, 'multithreading': 2, 'balancing': 2, 'load': 7, 'provide': 44, 'technology': 12, 'traffic': 2, 'overcome': 1, 'spikes': 1, 'well': 3, 'reach': 2, 'common': 8, '60minute': 1, 'solution': 5, 'online': 7, 'operation': 4, 'uptime': 1, 'demonstrate': 1, 'levels': 2, 'order': 6, 'track': 1, '3540': 1, 'net': 6, 'students': 9, '100': 28, 'classes': 6, 'nursing': 17, 'clinical': 10, 'class': 4, 'program': 13, 'manage': 6, 'curriculum': 1, 'needs': 3, 'meet': 3, 'growth': 1, 'adaptable': 1, 'epansion': 1, 'scalable': 1, 'future': 3, '9am': 1, '5pm': 1, 'cater': 1, 'less': 4, 'representative': 2, 'include': 11, 'eg': 28, 'configurations': 1, 'type': 6, 'configuration': 8, 'capacities': 1, 'processors': 1, 'documentation': 10, 'etc': 9, 'workstation': 2, 'baseline': 1, 'assumed': 1, 'perform': 6, 'default': 1, 'beyond': 1, 'schedules': 1, '5000': 1, 'capability': 17, 'need': 6, 'retain': 4, 'related': 2, 'ancillary': 1, 'programs': 10, 'adding': 3, 'including': 21, 'hardware': 14, 'additional': 3, 'functions': 2, 'systems': 23, 'supporting': 8, 'limitation': 1, 'accepted': 2, 'formats': 5, 'grow': 1, 'release': 14, 'increase': 7, '20': 2, 'viewers': 4, 'read': 4, 'activity': 4, '1010': 4, 'projection': 4, 'readable': 2, 'viewing': 7, 'projected': 4, 'distance': 4, 'realtors': 6, 'used': 34, 'training': 20, 'intuitive': 11, 'eplanatory': 2, 'self': 2, 'easy': 20, 'learn': 6, 'realtor': 5, 'understandable': 6, 'use': 69, 'symbols': 4, 'naturally': 4, 'community': 7, 'words': 4, 'recourse': 2, 'separatelyprinted': 2, 'installed': 10, 'instructions': 8, 'untrained': 4, 'printed': 2, 'install': 4, 'device': 3, 'identification': 4, 'dispute': 12, 'upon': 5, 'displayed': 5, 'performed': 3, 'list': 4, 'coded': 3, 'cases': 2, 'based': 12, 'color': 2, 'case': 10, 'representatives': 6, '2day': 3, 'services': 16, 'course': 7, 'regularly': 5, 'cardmember': 12, 'merchant': 8, 'first': 12, 'completing': 4, 'encounter': 4, 'create': 5, 'successfully': 17, 'follow': 4, 'action': 4, 'find': 6, 'collision': 9, 'estimators': 11, 'adjusters': 7, 'month': 3, 'using': 44, '80': 10, 'productivity': 3, 'agree': 2, 'feel': 2, '85': 2, 'satisfied': 3, 'onsite': 3, 'learned': 2, 'found': 3, 'locate': 2, 'help': 10, 'easily': 6, 'make': 8, 'postlaunch': 2, 'want': 4, 'weeks': 5, 'surveyed': 4, 'reserve': 4, 'conference': 8, 'room': 4, 'feedback': 4, 'confirms': 2, 'accurately': 3, 'give': 3, 'necessary': 9, 'actions': 5, 'target': 6, 'chosen': 1, 'countries': 4, 'language': 9, 'market': 8, 'select': 2, 'customization': 1, 'page': 8, 'start': 5, 'preferences': 6, 'views': 1, 'rooms': 4, 'employee': 2, 'informally': 2, 'setup': 2, 'meetings': 2, 'menu': 2, 'web': 20, 'familiar': 3, 'navigation': 4, 'standard': 37, 'searching': 2, 'disabilities': 1, 'americans': 1, 'act': 1, 'conform': 1, 'novice': 3, 'internet': 28, 'pages': 4, 'navigate': 3, 'logging': 3, 'clicks': 1, 'survey': 4, 'anonymous': 2, 'show': 4, 'comfortable': 2, 'cards': 1, 'buying': 1, 'predetermined': 2, 'purchase': 2, 'watch': 1, 'skills': 1, 'websites': 1, 'conventions': 3, 'interacting': 2, 'nine': 2, 'ten': 5, 'selfeplanatory': 4, 'english': 3, 'accessing': 2, 'understand': 2, 'spanish': 1, 'players': 2, 'french': 1, 'occuring': 2, 'determine': 3, 'activities': 5, 'current': 6, 'events': 4, 'new': 25, 'mistakes': 4, 'making': 2, 'clinicals': 4, 'decreased': 2, 'terminology': 4, 'national': 13, 'verbiage': 2, 'consistent': 6, 'problem': 4, 'site': 8, 'products': 8, 'registered': 6, 'languages': 2, 'configure': 4, 'foreign': 2, 'releases': 2, 'markets': 2, 'emerging': 2, 'translated': 2, 'correct': 5, 'locale': 2, 'calendar': 3, 'formatting': 1, 'dates': 2, 'country': 3, 'according': 2, 'date': 7, 'respondents': 2, 'solutions': 1, 'answers': 1, 'problems': 5, 'effective': 1, 'entity': 15, 'restriction': 1, 'informs': 1, 'agreement': 3, 'respect': 2, 'created': 3, 'received': 3, 'iii': 2, 'individual': 3, 'ecept': 2, 'informed': 1, 'termination': 1, 'covered': 14, 'protected': 32, 'terminating': 2, 'health': 60, 'selection': 3, 'selected': 1, 'either': 6, 'mouse': 1, 'functionality': 5, 'keyboard': 2, 'activated': 1, 'added': 4, 'startup': 1, 'team': 5, 'league': 1, 'reaching': 1, 'amount': 2, 'short': 1, 'instruction': 1, 'remember': 2, 'deployed': 1, 'wcs': 13, 'ccr': 6, 'receive': 9, 'undergo': 1, 'interfaces': 8, 'tests': 2, 'usability': 2, 'reports': 9, 'supervisors': 4, 'accomplish': 3, 'task': 2, 'callers': 4, 'little': 2, 'possible': 7, 'integration': 2, 'maps': 4, 'checking': 5, 'fields': 8, 'intelligent': 1, 'tet': 6, 'spell': 1, 'note': 4, 'field': 7, 'button': 2, 'pop': 1, 'openemr': 10, 'clicking': 1, 'throughout': 4, 'tool': 3, 'dob': 1, 'issue': 1, 'also': 2, 'uses': 4, 'notice': 2, 'dialog': 1, 'earlier': 1, 'described': 5, 'source': 5, 'saves': 1, 'copied': 1, 'insurance': 5, 'company': 35, 'claims': 3, 'window': 1, 'single': 3, 'pays': 1, 'session': 12, 'deployment': 1, 'held': 4, 'html': 7, 'industry': 4, 'interactive': 2, 'hyperlink': 1, 'click': 2, 'selecting': 1, 'eported': 1, 'rreports': 1, 'ask': 1, 'confirm': 1, 'player': 4, 'dropping': 1, 'trading': 1, 'performing': 1, 'lifecycle': 2, 'building': 2, 'integrate': 7, 'inquire': 1, 'function': 4, 'readily': 1, 'required': 13, 'job': 1, 'whether': 4, 'elements': 5, 'entry': 8, 'updated': 4, 'presented': 1, 'may': 40, 'success': 1, 'enterer': 1, 'editor': 1, 'form': 7, 'validation': 6, 'errors': 2, 'standards': 13, 'adhere': 4, 'ibm': 4, 'dbas': 2, 'resolve': 1, 'corrective': 1, 'edit': 1, 'checks': 1, 'error': 5, 'proposer': 6, 'level': 10, 'immediate': 1, 'recognition': 2, 'voice': 2, 'highlight': 1, 'abnormal': 1, 'cues': 1, 'visual': 2, 'relevant': 2, 'orders': 2, 'critical': 1, 'ability': 35, 'creating': 2, 'drugs': 2, 'alike': 1, 'sound': 1, 'alert': 1, 'lookalike': 1, 'issuing': 1, 'detect': 5, 'auditory': 1, 'warnings': 2, 'duplicate': 1, 'step': 1, 'taken': 2, 'specific': 5, 'moving': 1, 'warning': 2, 'usre': 1, 'prevent': 21, 'associated': 3, 'prompts': 2, 'rules': 5, 'point': 2, 'autofill': 1, 'option': 3, 'modules': 4, 'requiring': 1, 'epertise': 1, 'creation': 2, 'publish': 1, 'userfriendly': 1, 'enduser': 1, 'technical': 9, 'patient': 17, 'distinguishes': 1, 'annotations': 1, 'content': 5, 'materials': 1, 'contetspecific': 1, 'organizationspecific': 1, 'customizable': 1, 'organization': 7, 'sequence': 1, 'match': 1, 'dataentry': 1, 'design': 4, 'documents': 1, 'columns': 1, 'free': 4, 'drop': 1, 'restrict': 2, 'eplains': 1, 'present': 1, 'navigational': 1, 'effort': 1, 'format': 12, 'templates': 2, 'structured': 4, 'part': 12, 'inputting': 1, 'dictation': 1, 'lists': 1, 'subsequent': 1, 'forms': 1, 'document': 4, 'manually': 1, 'following': 16, 'substitution': 1, 'macro': 1, 'means': 3, 'direct': 7, 'utilizing': 1, 'encounters': 1, 'pick': 1, 'transcription': 1, 'congenital': 1, 'like': 1, 'hypertensive': 1, 'supports': 1, 'oneclick': 1, 'cerebrovascular': 1, 'grouping': 1, 'disease': 1, 'heart': 2, 'enable': 4, 'ischemic': 1, 'components': 2, 'area': 4, 'unified': 1, 'stipulated': 2, 'budgets': 2, 'completion': 1, 'defined': 4, 'grants': 2, 'corporate': 8, 'nomenclature': 2, 'appropriate': 20, 'week': 3, 'prior': 5, 'implementation': 20, 'ensure': 17, 'distinguish': 2, 'attempts': 10, 'authorized': 26, 'unauthorized': 13, 'accessed': 10, 'authenticated': 24, 'incorrect': 6, 'introduced': 4, 'details': 6, 'people': 5, 'personal': 6, 'dr': 4, 'poslusny': 4, 'donalek': 2, 'susan': 4, 'julie': 2, 'portion': 3, 'campusconnect': 4, 'karen': 2, 'final': 5, 'sysol': 2, 'criterion': 2, 'basic': 2, 'reduce': 3, 'possibility': 2, 'invalid': 5, 'integrity': 12, 'protect': 16, 'private': 4, 'policy': 5, 'accordance': 3, 'organizations': 6, 'built': 2, 'interference': 2, 'secure': 18, 'malicious': 12, 'threats': 5, 'virus': 3, 'monitor': 2, 'protection': 9, 'allowed': 7, 'initiate': 4, 'logon': 10, 'purposes': 3, 'auditing': 2, 'reviewed': 3, 'changes': 7, 'modifications': 4, 'recorded': 3, 'additions': 4, 'revoked': 4, 'reinstantiated': 2, 'reset': 8, 'files': 9, 'view': 5, 'databases': 10, 'manipulate': 2, 'updates': 13, 'initiated': 3, 'adjuster': 1, 'audits': 1, 'role': 5, 'cannot': 1, 'supervisor': 1, 'estimator': 1, 'valid': 5, 'companys': 1, 'claim': 16, 'computer': 11, 'viruses': 4, 'service': 9, 'denial': 2, 'attacks': 3, 'companyapproved': 3, 'employees': 4, 'logons': 3, 'ids': 3, 'eternal': 7, 'managers': 2, 'reservations': 2, 'queries': 5, 'reservation': 2, 'corresponds': 2, 'contain': 5, 'remain': 2, 'uncorrupted': 2, 'adjacent': 2, 'input': 8, 'emerge': 2, 'automatic': 6, 'transmitted': 9, 'permissions': 4, 'affect': 3, 'security': 43, 'passwords': 23, 'granularly': 2, 'assign': 4, 'control': 3, 'major': 2, 'subsystems': 3, 'rights': 7, 'independently': 2, 'accessible': 5, 'secured': 5, 'encrypted': 9, 'stream': 1, 'purchased': 1, 'personnel': 4, 'corrupted': 2, 'intentional': 2, 'abuse': 2, 'occurrences': 2, 'notify': 4, 'run': 12, 'scripts': 3, 'basis': 6, 'weekly': 2, 'verify': 5, 'privacy': 3, 'aware': 1, 'collection': 2, 'practices': 2, 'reveal': 2, 'compliance': 3, 'infection': 2, 'antivirus': 3, 'might': 1, 'identity': 3, 'terminated': 1, 'accounts': 11, 'disable': 1, 'inactivity': 6, 'changed': 2, 'measures': 10, 'accidentally': 1, 'overwritten': 1, 'place': 12, 'creates': 4, 'transmits': 4, 'maintains': 3, 'electronic': 21, 'receives': 5, 'availability': 4, 'confidentiality': 6, 'anticipated': 2, 'hazards': 1, 'reasonably': 4, 'provided': 8, 'safeguards': 9, 'disclosure': 5, 'disclosures': 2, 'permitted': 1, 'subpart': 5, 'e': 1, 'ffp': 1, 'claimed': 2, 'description': 5, 'reimbursement': 1, 'ehr': 8, 'medicaid': 3, 'providers': 3, 'certified': 6, 'methodology': 3, 'payment': 10, 'payments': 2, 'ependitures': 1, 'incentive': 4, '7': 6, 'verifying': 3, 'higher': 3, 'amounts': 1, 'percent': 1, 'state': 3, 'eligible': 1, 'efficiency': 1, 'quality': 1, 'outcomes': 2, 'resulting': 3, 'ensuring': 4, 'improvements': 1, 'adoption': 2, 'recipients': 1, '9': 2, 'compatible': 2, 'mmis': 1, 'administrative': 7, 'retrieval': 1, 'federal': 2, 'behalf': 5, 'appropriately': 2, 'physical': 15, 'implement': 24, 'removed': 2, 'researcher': 1, 'review': 8, 'b': 7, 'communications': 2, 'applicable': 4, '164522': 1, 'confidential': 4, 'right': 1, 'contract': 1, 'known': 5, 'authority': 3, 'person': 2, 'requesting': 1, '164510': 1, 'group': 6, 'plan': 9, 'provision': 2, 'analyses': 1, 'sponsor': 1, 'holders': 1, 'holder': 1, 'ii': 2, 'sponsors': 1, 'disclosed': 1, 'supported': 3, 'adequate': 2, 'reasonable': 3, 'separation': 1, '164504': 1, 'f': 1, 'medical': 21, 'uc2': 4, 'itrust': 18, 'assessment': 3, 'meaningful': 1, 'hipaa': 1, 'requirement': 1, 'risk': 5, 'login': 9, 'tester': 2, 'needed': 4, 'upgrade': 2, 'consider': 6, 'removing': 1, 'allows': 5, 'firewall': 3, 'https': 6, '443': 2, 'port': 3, 'sqlconfdotphp': 1, 'override': 1, 'settings': 1, 'especially': 1, 'mysql': 9, 'separate': 5, 'possibly': 12, 'portal': 5, 'directories': 2, 'administrationglobalssecurity': 2, 'enforce': 4, 'epiration': 3, 'strong': 2, 'something': 2, 'root': 2, 'clientsided': 2, 'certificates': 2, 'main': 1, 'portals': 1, 'certificate': 2, 'ampp': 1, 'etremely': 1, 'see': 3, 'unsecure': 1, 'opening': 1, 'ie': 8, 'turn': 1, 'http': 6, 'allowing': 1, 'apis': 1, 'party': 5, 'soap': 1, 'third': 6, 'ip': 4, 'intervals': 1, 'change': 10, 'local': 2, 'could': 2, 'open': 8, 'even': 1, 'method': 2, 'require': 7, 'instance': 2, 'ssh': 1, 'tunnel': 1, 'identify': 3, 'delegate': 2, 'restore': 2, 'locked': 3, 'authorization': 4, 'authentication': 18, 'finished': 1, 'done': 4, 'three': 2, 'disallow': 2, 'code': 13, 'comments': 1, 'failed': 1, 'userid': 1, 'headers': 1, 'validated': 2, 'cookies': 5, 'query': 5, 'strings': 3, 'parameters': 3, 'identified': 4, 'sessions': 2, 'financial': 4, 'sensitive': 16, 'ssl': 12, 'involving': 1, 'closes': 1, 'logs': 3, 'ends': 1, 'test': 6, 'eample': 7, 'testing': 4, 'ordered': 2, 'automatically': 3, 'screening': 1, 'positive': 1, 'refleive': 1, 'confirmatory': 1, 'openemrs': 1, 'username': 5, 'comply': 7, 'policies': 10, 'procedures': 22, 'workforce': 2, 'fail': 1, 'apply': 2, 'sanctions': 1, 'resources': 4, 'parent': 2, 'paths': 3, 'blocked': 1, 'risks': 2, 'thorough': 1, 'accurate': 1, 'vulnerabilities': 2, 'conduct': 5, 'potential': 1, '45': 2, '164308': 2, 'analysis': 3, 'cfr': 2, 'deficiencies': 2, 'requirements': 8, 'credentials': 2, 'tokens': 1, 'plain': 2, 'stores': 1, 'tampering': 2, 'containing': 1, 'encryption': 14, 'algorithm': 2, '256': 1, 'aes': 5, 'key': 2, 'size': 1, 'bit': 1, 'stronger': 1, 'cryptographic': 1, 'handheld': 1, 'securely': 2, 'devices': 3, 'mechanisms': 3, 'range': 2, 'length': 1, 'recipient': 1, 'dua': 1, 'regulation': 1, 'iihi': 1, 'inappropriate': 1, 'law': 2, 'misuse': 1, 'otherwise': 1, 'across': 3, 'connections': 4, 'secrets': 3, 'keys': 3, 'rest': 1, 'owners': 1, 'owner': 1, 'terminate': 2, 'ml': 6, 'delivered': 2, 'protocols': 4, 'transmissions': 1, 'certain': 2, 'eceeds': 1, 'certification': 1, 'eprescribing': 1, 'cchit': 1, 'twofactor': 1, 'communicated': 1, 'phi': 8, 'browser': 9, 'encrypt': 3, 'notification': 1, 'harm': 1, 'requires': 2, 'agrees': 3, 'persons': 1, 'cost': 1, 'determines': 1, 'breach': 1, 'cms': 1, 'affected': 1, 'remedies': 1, 'furthermore': 1, 'carry': 1, 'mitigate': 1, 'incidents': 2, 'harmful': 1, 'effects': 1, 'suspected': 1, 'etent': 1, 'practicable': 1, 'fips': 2, 'communication': 1, 'socket': 2, 'wire': 1, 'sql': 5, 'storage': 2, 'layer': 2, 'ipsec': 3, 'covers': 1, 'proper': 3, 'environment': 14, 'includes': 2, 'reliable': 2, 'sterilization': 1, 'electrical': 1, 'hvac': 2, 'recommended': 2, 'mechanism': 4, 'decrypt': 1, 'whenever': 4, 'deemed': 1, 'awareness': 1, 'altered': 1, 'destroyed': 1, 'corroborate': 1, 'workstations': 2, 'removal': 3, 'items': 3, 'media': 5, 'govern': 1, 'receipt': 2, 'movement': 1, 'surroundings': 1, 'attributes': 1, 'specify': 1, 'disposition': 2, 'repairs': 1, 'walls': 1, 'locks': 3, 'doors': 1, 'violations': 1, 'improper': 1, 'alteration': 1, 'destruction': 1, 'therein': 1, 'equipment': 8, 'safeguard': 1, 'theft': 1, 'made': 2, 'reuse': 2, 'storedrmation': 1, 'infoimplement': 1, 'tracking': 2, 'incident': 1, 'seeking': 1, '164306': 1, 'sufficient': 1, 'improperly': 1, 'electronically': 1, 'modified': 2, 'detection': 5, 'disposed': 1, 'guard': 1, 'immediately': 1, 'capabilities': 4, 'banner': 2, 'prelogin': 1, 'procedure': 4, 'upload': 1, 'eecutable': 1, 'considered': 1, 'mids': 1, 'casesensitive': 1, 'apache': 4, 'regarding': 1, 'outside': 4, 'world': 1, 'recommendations': 1, 'rfs': 5, 'eist': 1, 'uas': 1, 'periodic': 1, 'assets': 1, 'clinic': 1, 'manifestation': 1, 'protects': 1, 'patients': 2, 'implementations': 1, 'cryptography': 1, 'custom': 1, 'platformlevel': 1, 'logged': 4, 'changing': 2, 'safeguarding': 1, 'detecting': 1, 'reporting': 6, 'guarding': 1, 'monitoring': 3, 'discrepancies': 1, 'maintained': 11, 'sent': 5, 'vpn': 3, 'channels': 1, 'urls': 1, 'mid': 1, 'hash': 1, 'oneway': 1, 'header': 1, 'decisions': 1, 'rely': 3, '164105': 1, 'implemented': 2, 'adopted': 5, 'specifications': 4, '164316': 1, 'continue': 7, 'incorporated': 1, 'clear': 2, 'passed': 2, 'persistent': 1, 'telnet': 1, 'insecure': 1, 'ftp': 2, 'tftp': 1, 'tunneled': 1, 'identifiers': 2, 'limited': 5, 'lifetime': 1, 'prespecified': 2, 'configurable': 9, 'userdefined': 1, 'addition': 4, 'resets': 2, 'forgotten': 1, 'remotely': 1, 'reauthenticate': 1, 'location': 1, 'active': 4, 'realtime': 2, 'standalone': 1, 'authenticates': 3, 'name': 4, 'untrusted': 1, 'avoids': 1, 'internal': 2, 'clientside': 1, 'encrypts': 2, 'clients': 1, 'transport': 2, 'tls': 3, 'servers': 6, 'minimizes': 1, 'signon': 3, 'insures': 2, 'applied': 1, 'meets': 1, 'compleity': 2, 'integrated': 4, 'performs': 1, 'seamless': 1, 'provides': 19, 'timeout': 3, 'idle': 1, 'central': 5, 'managed': 1, 'alerts': 3, 'reminder': 1, 'tripledes': 3, 'advanced': 3, 'delivery': 1, 'multifactor': 1, 'directly': 2, 'restricts': 2, 'client': 4, 'returns': 1, 'generic': 1, 'leastprivileged': 1, 'warns': 1, 'reenter': 1, 'objects': 1, 'closed': 1, 'temporary': 1, 'memory': 1, 'released': 2, 'uc3': 14, 'county': 3, 'storing': 3, 'limit': 3, 'subject': 2, 'restrictions': 2, 'bi': 2, 'gives': 1, 'directory': 4, 'ensures': 2, 'correctly': 1, 'hcp': 4, 'conducting': 2, 'developing': 1, 'society': 1, 'himss': 1, 'toolkitfor': 1, 'compliant': 2, 'healthcare': 3, 'arisk': 1, 'lchp': 1, 'lhcp': 2, 'parameter': 1, 'washing': 6, 'masking': 1, 'parties': 2, 'computing': 1, '24': 1, 'temperature': 1, 'host': 1, 'suppression': 1, 'fire': 2, 'humidity': 1, 'moisture': 1, 'environmental': 1, 'thirdparty': 1, 'bugs': 1, 'notifications': 1, 'highest': 1, 'patches': 1, 'hosting': 1, 'defense': 1, 'platform': 5, 'purpose': 2, 'history': 2, 'privileges': 5, 'a130html': 1, 'iiisecurity': 1, 'fips200': 1, 'scope': 1, 'csrcnistgov': 1, '80053': 1, 'fips200finalmarchpdf': 1, 'entitled': 1, '200': 2, 'budget': 4, 'publications': 1, 'circular': 1, 'appendi': 1, 'a130': 1, 'sp80053rev2final': 1, 'special': 1, 'nistpubs': 1, '80053rev2': 1, 'publication': 1, 'circulars': 1, 'omb': 1, 'established': 7, 'wwwwhitehousegov': 1, 'controls': 4, 'mode': 6, 'malware': 3, 'independent': 3, 'conveyance': 1, 'malevolent': 1, 'assumes': 1, 'deleting': 1, 'workstationlocation': 1, 'timeofday': 1, 'userbased': 1, 'contet': 1, 'groups': 2, 'contetbased': 1, 'restricted': 2, 'rolebased': 1, 'grouped': 1, 'emergencymode': 1, 'associate': 3, 'errorhandling': 1, 'processes': 2, 'authenticate': 1, 'mobile': 1, 'connected': 2, 'force': 1, 'predefined': 4, 'frequency': 1, 'eclusive': 1, 'consecutive': 1, 'accesses': 1, 'clerical': 1, 'specified': 5, 'restrictive': 1, 'doctor': 1, 'nurse': 1, 'acting': 1, 'module': 2, 'inhouse': 1, 'applications': 4, 'entire': 1, 'suite': 1, 'onto': 1, 'last': 2, '128bit': 1, 'submodules': 1, 'tier': 1, 'discretion': 1, 'scan': 1, 'fingerprint': 1, 'biometrics': 1, 'technologies': 2, 'issues': 1, 'eclude': 1, 'full': 1, 'conflicts': 1, 'stating': 1, 'areas': 2, 'conflict': 1, 'resolution': 2, 'eradication': 1, 'intrusion': 1, 'hostbased': 1, 'scanning': 2, 'modification': 3, 'deactivation': 1, 'roles': 3, 'guidelines': 5, 'constraints': 1, 'itemizes': 1, 'justification': 1, 'servicing': 1, 'protocol': 3, 'ports': 1, 'php': 2, 'hl7': 3, 'delay': 2, 'delays': 1, 'prompt': 1, 'node': 2, 'configured': 1, 'logout': 1, 'maintaining': 1, 'lockout': 1, 'unsuccessful': 1, 'communicating': 1, 'sig': 1, 'mutual': 1, 'authenticity': 1, 'mime': 2, 'networks': 2, 'nodes': 1, 'successors': 2, '3des': 3, 'encryptions': 1, 'lock': 2, 'effect': 1, 'initiating': 1, 'reestablishes': 1, 'remains': 1, 'notebook': 1, 'cdrom': 1, 'intended': 1, 'pda': 1, 'portable': 1, 'thumbdrives': 1, 'removable': 1, 'stated': 1, 'needtoknow': 1, 'agents': 1, 'individuals': 2, 'establish': 1, 'try': 1, 'reject': 3, 'sanitize': 1, 'approach': 1, 'constrain': 1, 'logins': 1, 'us': 1, 'asserts': 1, 'character': 1, 'en': 1, 'always': 1, 'webenabled': 1, 'portions': 1, 'stateoftheart': 2, 'speed': 1, 'graphics': 1, 'reliability': 1, 'dynamic': 2, 'interaction': 1, 'routers': 2, 'properly': 3, 'defenses': 1, 'firewalls': 1, 'begin': 2, 'designated': 2, 'cameras': 1, 'disaster': 1, 'points': 1, 'precautions': 1, 'power': 1, 'recovery': 2, 'lighting': 1, 'involve': 1, 'traditional': 1, 'outage': 1, 'matters': 1, 'water': 1, 'intranet': 2, 'vendor': 1, 'commercial': 1, 'selfcertify': 1, 'sites': 1, 'partitioned': 1, 'unrestricted': 1, 'folders': 1, 'confirmed': 1, 'similar': 2, 'question': 1, 'answer': 1, 'typed': 1, 'appears': 1, 'normally': 1, 'appear': 1, 'sc': 1, 'strength': 2, '0302': 1, 'recently': 1, '180': 1, 'timeframe': 1, 'previously': 3, 'characters': 1, 'alphanumeric': 1, 'inclusion': 1, 'hashing': 1, 'store': 6, 'sha1': 1, 'standardsbased': 1, 'successful': 1, 'typical': 2, 'department': 2, 'university': 2, 'depaul': 2, 'computers': 2, 'operating': 12, 'windows': 13, 'professional': 6, 'p': 2, 'campusconnects': 2, 'faculty': 2, 'master': 2, '100amd': 1, '400am': 1, 'scheduled': 2, '300am': 1, 'saturday': 1, 'monday': 1, '247365': 1, 'sunday': 1, 'est': 1, '500am': 1, 'maintenance': 10, 'statement': 4, 'obtained': 6, 'detail': 8, 'detailed': 4, 'regard': 4, 'initiation': 2, 'letter': 2, 'print': 2, 'utility': 2, 'letters': 3, 'billing': 3, 'posting': 3, 'adjustments': 2, 'merchants': 2, 'eplorer': 3, '55': 2, 'mozilla': 2, 'firefo': 4, 'feed': 2, 'choice': 2, 'environments': 6, 'architecture': 3, 'noisy': 2, 'operated': 2, 'dirty': 2, 'choiceparts': 2, 'approimately': 2, 'fall': 2, 'center': 3, 'middleware': 2, 'frames': 2, 'upgrades': 4, 'handled': 2, 'installations': 2, 'located': 4, 'different': 4, 'colocated': 2, 'machine': 4, 'dbms': 5, 'alongside': 2, 'java': 4, 'runtime': 2, 'collaboration': 3, 'residing': 2, 'jboss': 2, 'eamples': 2, 'tomcat': 2, 'db2': 4, 'oracle': 4, 'hsql': 4, 'transmit': 3, 'browsers': 4, 'tested': 2, 'various': 4, 'communicate': 3, 'send': 1, 'distribution': 4, 'zip': 2, 'binary': 2, 'cd': 2, 'packaged': 2, 'fiveormore': 1, 'twofive': 1, 'licensing': 1, 'oneserver': 1, 'license': 1, 'ms': 2, 'programming': 3, 'libraries': 2, 'j2se': 2, 'j2ee': 2, 'developed': 2, 'owned': 2, 'utilize': 5, 'currently': 3, 'backup': 1, 'demand': 1, 'fees': 2, 'royalty': 1, 'licenses': 1, 'aspects': 2, 'netscape': 3, 'api': 1, 'cybersource': 1, 'operational': 2, 'tv2': 2, 'fully': 2, 'msn': 2, 'encoded': 4, 'streamed': 2, 'streams': 2, '256k': 2, 'working': 3, 'home': 2, 'animation': 2, 'flash': 2, 'structure': 2, 'non': 2, 'neutral': 2, 'binding': 2, 'mentioned': 1, 'loaded': 2, 'entities': 2, 'monthend': 1, 'october': 25, 'bdw': 2, 'budgeting': 1, 'cached': 1, 'primary': 1, 'secondary': 1, 'historical': 1, 'emh': 1, 'dhs': 2, 'la': 1, 'buttons': 1, 'ls': 1, 'eport': 5, 'brio': 2, '123': 2, 'php5': 1, 'phpcapable': 1, 'webserver': 1, 'strict': 1, 'disabled': 1, 'redhat': 1, 'centos': 1, 'configuring': 1, 'regulations': 2, 'departments': 1, 'irregular': 1, 'hard': 1, 'space': 2, 'disk': 1, '400mb': 1, 'integrates': 1, 'microsoft': 2, 'notifying': 1, 'end': 3, 'near': 1, 'domain': 1, 'lotus': 1, 'spreadsheet': 1, 'palm': 2, 'ce': 2, 'development': 4, 'csr': 2, 'real': 2, 'echange': 2, 'eam': 1, 'datastream': 1, 'proposed': 1, 'resource': 4, 'lac': 1, 'balancers': 1, 'switches': 1, 'infrastructure': 1, 'consoles': 1, 'instances': 1, 'accommodate': 3, 'row': 1, 'delimited': 1, 'comma': 1, 'tab': 1, 'quotation': 1, 'import': 1, 'wan': 1, 'production': 1, 'running': 2, '2000': 34, 'included': 1, 'connect': 1, 'mydotcnf': 1, 'mf': 1, '7am7pm': 1, 'velkat': 1, 'phone': 1, 'setting': 1, 'eecuting': 1, 'command': 1, 'value': 1, 'variables': 1, 'line': 1, 'promotional': 2, 'assure': 1, 'enhancements': 1, 'fies': 1, 'codes': 7, 'j': 1, 'accept': 1, 'promptly': 1, 'contains': 4, '9th': 2, 'international': 2, 'icd9cm': 2, 'distributed': 8, 'classification': 2, 'coding': 7, 'diseases': 2, 'edition': 3, 'hhs': 7, 'volumes': 8, 'official': 2, 'enters': 1, 'terms': 1, 'understanding': 1, 'objectives': 2, 'memorandum': 1, 'paragraph': 2, '837health': 9, 'addenda': 20, 'washington': 29, 'referenced': 12, '1621802': 6, '1621102': 6, '12n': 24, 'care': 30, 'publishing': 29, '2002': 24, 'dental': 5, '004010097': 3, '004010097a1': 3, 'asc': 27, '4010': 29, 'version': 39, 'september': 8, 'drug': 11, '1621302': 3, 'telecommunication': 8, '1621602': 3, '1621202': 4, '51': 5, '1999': 8, 'council': 8, 'prescription': 8, 'guide': 11, 'attempt': 1, 'adversely': 1, 'impairments': 1, 'inpatients': 1, 'reported': 1, 'hospital': 1, 'injuries': 1, 'hospitals': 1, 'retail': 1, 'ndc': 2, 'pharmacies': 1, '004010098a1': 3, '004010098': 4, 'batch': 9, '11': 4, 'january': 4, 'ncpdp': 9, 'benefits': 2, 'coordination': 2, 'manufacturers': 1, 'institutional': 2, '004010096a1': 2, '004010096': 3, 'substances': 2, 'supplies': 2, 'hcpcs': 3, 'biologics': 1, '0': 5, 'february': 5, 'equivalent': 8, '1996': 5, 'offer': 1, '162923': 1, 'provider': 3, 'association': 2, 'american': 2, '835health': 3, 'advice': 3, '004010091a1': 2, '004010091': 3, 'clearinghouse': 1, 'charge': 1, 'normal': 1, 'ecess': 1, 'incurs': 1, 'telecommunications': 4, 'costs': 1, 'operates': 1, 'benefit': 5, 'enrollment': 3, '004010095': 3, '1621502': 1, '834benefit': 3, '004010095a1': 2, 'combination': 1, 'procedural': 1, 'physician': 1, 'cpt4': 1, 'financing': 2, 'deducted': 3, 'premium': 3, 'payroll': 2, '1621702': 1, '004010061a1': 2, '820payroll': 3, '004010061': 2, '004010094': 3, '278health': 3, '004010094a1': 2, 'reviewrequest': 3, '12n276': 3, '004010093a1': 2, '1621402': 1, '004010093': 3, '277': 3, '270': 3, 'inquiry': 3, '004010092a1': 2, 'eligibility': 3, '271health': 3, '004010092': 3, '2003': 6, '16': 6, '04010061': 1, 'translate': 2, 'nonstandard': 2, 'transmission': 3, 'developers': 1, 'electing': 1, 'offered': 1, 'condition': 1, 'developer': 1, 'guides': 1, 'javadoc': 1, 'documented': 1, 'unit': 1, 'nongui': 1, 'junit': 1, 'pass': 1, 'coverage': 1, 'identifying': 2, 'designed': 2, 'describes': 1, 'uniform': 1, 'analytical': 1, 'surgical': 1, 'payers': 1, 'cpt': 1, 'accreditation': 1, 'coders': 1, 'physicians': 1, 'among': 1, 'diagnostic': 1, 'treatment': 1, 'relationship': 1, 'indirect': 1, 'reflected': 1, 'payer': 1, 'forward': 1, 'coordinates': 1, 'informatics': 1, 'c': 1, 'loinc': 3, 'logical': 1, 'observation': 1, 'laboratory': 1, 'observations': 1, 'universal': 1, 'names': 2, 'book': 1, 'orange': 1, 'jointly': 1, 'formulae': 1, 'revenue': 1, 'project': 1, 'pcg': 1, 'epense': 1, 'finance': 1, 'calculations': 1, 'allotted': 1, 'conducted': 1, 'mm': 1, 'dd': 1, 'yyyy': 1, 'appointmenttype': 1, 'listed': 1, 'features': 1, 'epidemic': 1, 'pattern': 2, 'strategy': 1, 'trends': 1, 'singleton': 2, 'causeofdeath': 1, 'eclipse': 1, '33': 1, 'telecomunication': 1, 'implementaiton': 2, 'pear': 1, 'patterns': 1, 'best': 1, 'highly': 2, 'navigator': 1, 'due': 1, 'interruption': 1, 'framework': 1, 'chicago': 1, 'city': 1, 'wssecurity': 1, 'transparent': 1, 'turnoff': 1, 'screens': 1, 'reconfigurable': 1, 'providing': 1, 'unused': 1, 'customdefined': 1, 'reposition': 1, 'labels': 1, 'rename': 1, 'organism': 1, 'linking': 1, 'snomed': 1, 'practice': 1, 'importing': 1, 'demographic': 2, 'registration': 1, 'images': 1, 'dicom': 1, 'birads': 2, '06': 1, 'imaging': 1, 'atlas': 1, 'breast': 1, 'standardized': 1, 'pharmacy': 1, 'commonly': 1, 'proven': 1, 'discrete': 7, 'capture': 7, 'iso': 1, '8601': 1, 'stamps': 1, 'utc': 1, 'validate': 1, 'script': 2, 'diagnosis': 1, 'medications': 1, 'prescriptions': 1, 'reminders': 1, 'rulebased': 1, 'reason': 1, 'variation': 1, 'rate': 2, 'height': 1, 'signs': 1, 'vital': 1, 'weight': 1, 'respiratory': 1, 'blood': 1, 'pressure': 1, 'adverse': 1, 'allergy': 1, 'reaction': 1, 'immunization': 1, 'medication': 1, 'table': 2, 'relationships': 1, 'element': 1, 'dictionary': 1, 'describe': 1, 'odbc': 1, 'connectivity': 1, 'relational': 1, 'rdbms': 1, 'naming': 1, 'tables': 1, 'tools': 1, 'tuning': 1, 'utilities': 1, 'customize': 1, 'w3c': 1, 'browserbased': 1, 'architectures': 1, 'platforms': 2, 'serverside': 1, 'industrystandard': 1, 'object': 1, '1621002': 1, 'furnished': 1, 'specification': 1, 'sets': 2, 'nonmedical': 1, '700': 1, 'approved': 1, 'states': 1, 'united': 1, 'regions': 1, 'app': 1, 'scalability': 1, 'unavailable': 2, 'offline': 2, 'downloaded': 2, 'restored': 2, 'comes': 2, 'back': 2, 'encountered': 1, 'goes': 4, 'gateway': 2, 'robustthe': 1, 'fault': 3, 'avoidance': 1, 'technique': 1, 'failures': 1, 'routing': 1, 'tolerance': 1, 'robust': 1, 'tolerancethe': 1, 'compensatory': 1, 'around': 1, 'tolerant': 1, 'gaming': 1, 'vr': 1, 'genres': 1, 'variety': 1, 'compatibility': 1})\n",
            "{'data': 1, 'users': 2, 'user': 3, 'information': 4, 'able': 5, 'access': 6, 'must': 7, 'within': 8, 'version': 9, 'use': 10, 'health': 11, 'database': 12, 'time': 13, '1': 14, 'company': 15, 'seconds': 16, '2': 17, 'security': 18, 'support': 19, '5': 20, 'standard': 21, 'care': 22, '4010': 23, 'washington': 24, 'publishing': 25, 'using': 26, 'interface': 27, 'provide': 28, 'website': 29, 'section': 30, 'may': 31, 'used': 32, 'server': 33, 'response': 34, 'disputes': 35, 'protected': 36, 'ability': 37, '2000': 38, '90': 39, 'minutes': 40, 'eg': 41, 'transaction': 42, 'october': 43, 'management': 44, 'process': 45, 'electronic': 46, 'allow': 47, 'password': 48, '100': 49, 'internet': 50, 'implementation': 51, 'passwords': 52, 'authorized': 53, 'asc': 54, 'new': 55, 'claim': 56, 'itrust': 57, 'report': 58, 'systems': 59, 'software': 60, 'release': 61, 'authenticated': 62, 'implement': 63, 'procedures': 64, '12n': 65, '2002': 66, 'search': 67, 'number': 68, 'prevent': 69, 'medical': 70, 'records': 71, 'including': 72, 'easy': 73, 'services': 74, 'web': 75, 'possibly': 76, 'guide': 77, 'available': 78, 'operate': 79, 'training': 80, 'cardmember': 81, 'appropriate': 82, 'provides': 83, 'addenda': 84, 'without': 85, '10': 86, 'patient': 87, 'secure': 88, 'take': 89, 'administrator': 90, '3': 91, 'dispute': 92, 'successfully': 93, 'entity': 94, 'wcs': 95, 'authentication': 96, 'batch': 97, 'one': 98, 'via': 99, 'customers': 100, 'nursing': 101, 'capability': 102, 'ensure': 103, 'encryption': 104, 'ncpdp': 105, 'staff': 106, 'facility': 107, 'period': 108, 'minimum': 109, 'customer': 110, 'administrators': 111, 'business': 112, 'covered': 113, 'following': 114, 'protect': 115, 'physical': 116, 'sensitive': 117, 'display': 118, 'entered': 119, 'complete': 120, 'longer': 121, 'parts': 122, 'network': 123, 'session': 124, 'standards': 125, 'lead': 126, '000': 127, 'hardware': 128, 'merchant': 129, 'required': 130, 'integrity': 131, 'updates': 132, 'payment': 133, 'plan': 134, 'environment': 135, 'uc3': 136, 'windows': 137, 'maintenance': 138, 'returned': 139, 'members': 140, 'set': 141, 'days': 142, 'file': 143, 'maintain': 144, 'program': 145, 'based': 146, 'estimators': 147, 'national': 148, 'level': 149, 'unauthorized': 150, 'malicious': 151, 'code': 152, 'volumes': 153, '15': 154, '8': 155, 'log': 156, 'account': 157, 'streaming': 158, 'requests': 159, 'request': 160, 'day': 161, 'technology': 162, 'first': 163, 'collision': 164, 'format': 165, 'part': 166, 'run': 167, 'accounts': 168, 'place': 169, 'ssl': 170, 'maintained': 171, 'operating': 172, 'referenced': 173, 'drug': 174, 'every': 175, 'maimum': 176, 'recycled': 177, 'movies': 178, 'transactions': 179, 'include': 180, 'documentation': 181, 'intuitive': 182, 'html': 183, 'attempts': 184, 'computer': 185, 'configurable': 186, 'repair': 187, 'let': 188, 'stored': 189, 'record': 190, 'per': 191, 'scheduling': 192, 'epected': 193, 'clinical': 194, 'etc': 195, 'configuration': 196, 'programs': 197, 'installed': 198, 'case': 199, '80': 200, 'help': 201, 'language': 202, 'market': 203, 'products': 204, 'receive': 205, 'reports': 206, 'openemr': 207, 'accessed': 208, 'logon': 209, 'files': 210, 'databases': 211, 'input': 212, 'rights': 213, 'measures': 214, 'review': 215, 'mysql': 216, 'change': 217, 'open': 218, 'policies': 219, 'fast': 220, '30': 221, 'tasks': 222, 'screen': 223, 'card': 224, 'eisting': 225, 'processing': 226, 'update': 227, 'hours': 228, 'handle': 229, 'students': 230, 'necessary': 231, 'site': 232, 'fields': 233, 'entry': 234, 'form': 235, 'technical': 236, 'protection': 237, 'service': 238, 'transmitted': 239, 'encrypted': 240, 'safeguards': 241, 'login': 242, 'ie': 243, 'requirements': 244, 'browser': 245, 'professional': 246, 'distributed': 247, '837health': 248, 'dental': 249, 'results': 250, 'generate': 251, 'cma': 252, 'another': 253, 'preferred': 254, 'status': 255, 'address': 256, 'eception': 257, 'assigned': 258, 'years': 259, 'load': 260, 'common': 261, 'supporting': 262, 'increase': 263, 'instructions': 264, 'adjusters': 265, 'make': 266, 'conference': 267, 'target': 268, 'page': 269, 'interfaces': 270, 'insurance': 271, 'corporate': 272, 'reset': 273, 'eternal': 274, 'provided': 275, 'ehr': 276, 'b': 277, 'group': 278, 'http': 279, 'phi': 280, 'equipment': 281, 'detail': 282, 'dbms': 283, 'machine': 284, 'codes': 285, 'telecommunication': 286, 'september': 287, '1999': 288, 'council': 289, 'prescription': 290, 'equivalent': 291, 'acceptable': 292, 'audit': 293, '6': 294, 'administration': 295, 'movie': 296, 'connection': 297, 'event': 298, 'times': 299, 'multiple': 300, 'installation': 301, 'messages': 302, 'online': 303, 'viewing': 304, 'community': 305, 'course': 306, 'registered': 307, 'date': 308, 'ccr': 309, 'possible': 310, 'tet': 311, 'field': 312, 'integrate': 313, 'organization': 314, 'direct': 315, 'details': 316, 'allowed': 317, 'changes': 318, 'automatic': 319, 'administrative': 320, 'risk': 321, 'require': 322, 'eample': 323, 'test': 324, 'comply': 325, 'media': 326, 'continue': 327, 'servers': 328, 'established': 329, 'coding': 330, 'hhs': 331, '51': 332, 'benefit': 333, 'capture': 334, 'discrete': 335, 'office': 336, 'performance': 337, 'work': 338, 'prepaid': 339, 'usage': 340, 'conditions': 341, 'game': 342, '4': 343, 'failure': 344, 'average': 345, 'simultaneous': 346, 'two': 347, 'capable': 348, 'order': 349, 'classes': 350, 'net': 351, 'manage': 352, 'type': 353, 'perform': 354, 'need': 355, 'formats': 356, 'realtors': 357, 'learn': 358, 'understandable': 359, 'representatives': 360, 'find': 361, 'easily': 362, 'preferences': 363, 'current': 364, 'consistent': 365, 'either': 366, 'team': 367, 'validation': 368, 'proposer': 369, 'incorrect': 370, 'personal': 371, 'dr': 372, 'organizations': 373, 'policy': 374, 'role': 375, 'queries': 376, 'basis': 377, 'inactivity': 378, 'confidentiality': 379, 'disclosure': 380, '7': 381, 'certified': 382, 'known': 383, 'consider': 384, 'https': 385, 'portal': 386, 'third': 387, 'cookies': 388, 'ml': 389, 'rfs': 390, 'reporting': 391, 'washing': 392, 'mode': 393, 'store': 394, 'statement': 395, 'obtained': 396, 'environments': 397, 'browsers': 398, 'eport': 399, '1621102': 400, '1621802': 401, '16': 402, '2003': 403, 'nonstandard': 404, '60': 405, 'criteria': 406, 'appointments': 407, 'manner': 408, 'concurrent': 409, 'saved': 410, 'enough': 411, 'avoid': 412, 'flow': 413, 'remove': 414, 'automated': 415, 'credit': 416, 'volume': 417, '95': 418, 'capacity': 419, 'peak': 420, 'launch': 421, 'handling': 422, 'year': 423, 'solution': 424, 'realtor': 425, 'displayed': 426, 'upon': 427, 'regularly': 428, 'create': 429, 'weeks': 430, 'actions': 431, 'start': 432, 'ten': 433, 'activities': 434, 'correct': 435, 'problems': 436, 'functionality': 437, 'maps': 438, 'checking': 439, 'described': 440, 'source': 441, 'player': 442, 'elements': 443, 'error': 444, 'detect': 445, 'rules': 446, 'specific': 447, 'content': 448, 'disease': 449, 'heart': 450, 'prior': 451, 'people': 452, 'final': 453, 'invalid': 454, 'threats': 455, 'view': 456, 'valid': 457, 'employees': 458, 'contain': 459, 'secured': 460, 'accessible': 461, 'verify': 462, 'receives': 463, 'subpart': 464, 'description': 465, 'federal': 466, 'behalf': 467, 'allows': 468, 'separate': 469, 'party': 470, 'query': 471, 'username': 472, 'conduct': 473, 'aes': 474, 'sql': 475, 'detection': 476, 'outside': 477, 'sent': 478, 'adopted': 479, 'limited': 480, 'central': 481, 'client': 482, 'platform': 483, 'privileges': 484, 'specified': 485, 'guidelines': 486, 'utilize': 487, '0': 488, 'february': 489, '1996': 490, 'advice': 491, 'enrollment': 492, 'deducted': 493, 'premium': 494, 'reviewrequest': 495, 'eligibility': 496, 'inquiry': 497, 'later': 498, 'synchronize': 499, 'general': 500, 'student': 501, 'navigating': 502, 'ratings': 503, 'occur': 504, '98': 505, 'adjustment': 506, 'email': 507, 'add': 508, 'izogn': 509, 'noted': 510, 'total': 511, 'cycle': 512, 'cst': 513, '99': 514, 'leads': 515, 'fit': 516, 'responses': 517, 'cpu': 518, '70': 519, 'remote': 520, 'least': 521, 'operation': 522, 'class': 523, 'less': 524, 'retain': 525, 'projected': 526, '1010': 527, 'projection': 528, 'viewers': 529, 'read': 530, 'activity': 531, 'distance': 532, 'symbols': 533, 'words': 534, 'naturally': 535, 'untrained': 536, 'install': 537, 'list': 538, 'cases': 539, 'performed': 540, 'identification': 541, 'encounter': 542, 'completing': 543, 'follow': 544, 'action': 545, 'productivity': 546, 'satisfied': 547, 'want': 548, 'surveyed': 549, 'reserve': 550, 'room': 551, 'feedback': 552, 'countries': 553, 'rooms': 554, 'navigation': 555, 'pages': 556, 'survey': 557, 'show': 558, 'selfeplanatory': 559, 'events': 560, 'mistakes': 561, 'clinicals': 562, 'terminology': 563, 'problem': 564, 'languages': 565, 'configure': 566, 'individual': 567, 'added': 568, 'callers': 569, 'supervisors': 570, 'note': 571, 'throughout': 572, 'uses': 573, 'claims': 574, 'held': 575, 'industry': 576, 'function': 577, 'whether': 578, 'updated': 579, 'adhere': 580, 'ibm': 581, 'modules': 582, 'design': 583, 'free': 584, 'structured': 585, 'document': 586, 'enable': 587, 'area': 588, 'defined': 589, 'introduced': 590, 'susan': 591, 'poslusny': 592, 'campusconnect': 593, 'private': 594, 'initiate': 595, 'additions': 596, 'modifications': 597, 'revoked': 598, 'viruses': 599, 'companyapproved': 600, 'ids': 601, 'logons': 602, 'permissions': 603, 'subsystems': 604, 'assign': 605, 'personnel': 606, 'notify': 607, 'identity': 608, 'availability': 609, 'creates': 610, 'transmits': 611, 'reasonably': 612, 'state': 613, 'incentive': 614, 'ensuring': 615, 'confidential': 616, 'applicable': 617, 'person': 618, 'authority': 619, 'uc2': 620, 'assessment': 621, 'needed': 622, 'enforce': 623, 'ip': 624, 'authorization': 625, 'done': 626, 'identified': 627, 'financial': 628, 'testing': 629, 'resources': 630, 'devices': 631, 'connections': 632, 'protocols': 633, 'incidents': 634, 'mechanism': 635, 'whenever': 636, 'locks': 637, 'capabilities': 638, 'procedure': 639, 'apache': 640, 'logged': 641, 'specifications': 642, 'addition': 643, 'active': 644, 'name': 645, 'integrated': 646, 'directory': 647, 'hcp': 648, 'budget': 649, 'controls': 650, 'associate': 651, 'predefined': 652, 'applications': 653, 'last': 654, 'detailed': 655, 'regard': 656, 'letters': 657, 'letter': 658, 'posting': 659, 'billing': 660, 'firefo': 661, 'upgrades': 662, 'located': 663, 'different': 664, 'java': 665, 'oracle': 666, 'db2': 667, 'hsql': 668, 'various': 669, 'distribution': 670, 'encoded': 671, 'development': 672, 'resource': 673, 'delimited': 674, 'contains': 675, '1621202': 676, '004010098': 677, '11': 678, 'january': 679, 'institutional': 680, 'telecommunications': 681, 'loinc': 682, 'element': 683, 'goes': 684, 'fault': 685, 'refresh': 686, 'respond': 687, 'hour': 688, 'previous': 689, 'check': 690, 'inactive': 691, 'categories': 692, 'unique': 693, 'generated': 694, 'unless': 695, 'purchasing': 696, 'plus': 697, '25': 698, 'duration': 699, 'games': 700, '56k': 701, 'second': 702, 'receiving': 703, '50': 704, 'eceed': 705, 'well': 706, 'meet': 707, 'future': 708, 'needs': 709, 'workstation': 710, 'adding': 711, 'additional': 712, 'functions': 713, 'device': 714, 'coded': 715, '2day': 716, 'month': 717, 'onsite': 718, 'found': 719, 'give': 720, 'accurately': 721, 'familiar': 722, 'novice': 723, 'navigate': 724, 'logging': 725, 'purchase': 726, 'conventions': 727, 'english': 728, 'determine': 729, 'calendar': 730, 'country': 731, 'agreement': 732, 'created': 733, 'received': 734, 'selection': 735, 'accomplish': 736, 'button': 737, 'tool': 738, 'single': 739, 'click': 740, 'voice': 741, 'associated': 742, 'option': 743, 'means': 744, 'week': 745, 'portion': 746, 'reduce': 747, 'accordance': 748, 'virus': 749, 'reviewed': 750, 'purposes': 751, 'recorded': 752, 'initiated': 753, 'attacks': 754, 'reservations': 755, 'affect': 756, 'control': 757, 'scripts': 758, 'privacy': 759, 'compliance': 760, 'antivirus': 761, 'maintains': 762, 'higher': 763, 'medicaid': 764, 'providers': 765, 'methodology': 766, 'verifying': 767, 'resulting': 768, 'supported': 769, 'reasonable': 770, 'firewall': 771, 'port': 772, 'directories': 773, 'epiration': 774, 'ampp': 775, 'see': 776, 'identify': 777, 'locked': 778, 'parameters': 779, 'strings': 780, 'logs': 781, 'automatically': 782, 'paths': 783, 'analysis': 784, 'mechanisms': 785, 'across': 786, 'keys': 787, 'secrets': 788, 'encrypt': 789, 'agrees': 790, 'layer': 791, 'ipsec': 792, 'proper': 793, 'removal': 794, 'items': 795, 'reuse': 796, 'monitoring': 797, 'vpn': 798, 'rely': 799, 'authenticates': 800, 'tls': 801, 'signon': 802, 'timeout': 803, 'alerts': 804, 'tripledes': 805, 'advanced': 806, 'county': 807, 'storing': 808, 'limit': 809, 'healthcare': 810, 'omb': 811, 'independent': 812, 'malware': 813, 'modification': 814, 'roles': 815, 'hl7': 816, 'protocol': 817, 'node': 818, '3des': 819, 'individuals': 820, 'reject': 821, 'properly': 822, 'answer': 823, 'previously': 824, 'eplorer': 825, 'architecture': 826, 'center': 827, 'collaboration': 828, 'transmit': 829, 'communicate': 830, 'programming': 831, 'currently': 832, 'fees': 833, 'netscape': 834, 'working': 835, 'end': 836, 'accommodate': 837, 'diseases': 838, 'edition': 839, 'icd9cm': 840, '004010097': 841, '004010097a1': 842, '1621302': 843, '1621602': 844, '004010098a1': 845, 'benefits': 846, '004010096': 847, 'hcpcs': 848, 'provider': 849, '835health': 850, '004010091': 851, '834benefit': 852, '004010095': 853, '820payroll': 854, '278health': 855, '004010094': 856, '12n276': 857, '277': 858, '004010093': 859, '270': 860, '271health': 861, '004010092': 862, 'transmission': 863, 'treatment': 864, 'relationship': 865, 'pattern': 866, 'rate': 867, 'keep': 868, 'uptodate': 869, 'produce': 870, 'contacts': 871, 'timely': 872, 'schedule': 873, 'generation': 874, 'wait': 875, '350': 876, 'degradation': 877, 'save': 878, 'interrupting': 879, 'thought': 880, 'recreation': 881, 'quantity': 882, '30min': 883, 'activate': 884, 'register': 885, 'pay': 886, 'mark': 887, 'sales': 888, 'statistics': 889, 'pins': 890, 'ecel': 891, 'buffering': 892, 'latency': 893, 'completed': 894, '8am': 895, '8pm': 896, 'evaluation': 897, '97': 898, 'processed': 899, 'forth': 900, 'auto': 901, 'rep': 902, 'assignment': 903, 'life': 904, 'large': 905, 'simultaneously': 906, 'remaining': 907, 'achieve': 908, 'operations': 909, 'fourth': 910, 'concurrency': 911, 'early': 912, 'morning': 913, 'late': 914, 'afternoon': 915, 'utilization': 916, 'given': 917, '1000': 918, '1500': 919, 'message': 920, 'multithreading': 921, 'balancing': 922, 'traffic': 923, 'reach': 924, 'levels': 925, 'capacities': 926, 'representative': 927, 'related': 928, 'accepted': 929, '20': 930, 'readable': 931, 'self': 932, 'eplanatory': 933, 'recourse': 934, 'separatelyprinted': 935, 'printed': 936, 'color': 937, 'agree': 938, 'feel': 939, '85': 940, 'learned': 941, 'locate': 942, 'postlaunch': 943, 'confirms': 944, 'select': 945, 'employee': 946, 'informally': 947, 'setup': 948, 'meetings': 949, 'menu': 950, 'searching': 951, 'anonymous': 952, 'comfortable': 953, 'watch': 954, 'predetermined': 955, 'interacting': 956, 'nine': 957, 'players': 958, 'understand': 959, 'accessing': 960, 'occuring': 961, 'making': 962, 'decreased': 963, 'verbiage': 964, 'translated': 965, 'foreign': 966, 'releases': 967, 'emerging': 968, 'markets': 969, 'dates': 970, 'according': 971, 'locale': 972, 'respondents': 973, 'iii': 974, 'terminating': 975, 'ecept': 976, 'respect': 977, 'keyboard': 978, 'amount': 979, 'remember': 980, 'usability': 981, 'tests': 982, 'task': 983, 'integration': 984, 'little': 985, 'notice': 986, 'also': 987, 'interactive': 988, 'building': 989, 'lifecycle': 990, 'enterer': 991, 'editor': 992, 'errors': 993, 'dbas': 994, 'recognition': 995, 'visual': 996, 'relevant': 997, 'creating': 998, 'orders': 999, 'drugs': 1000, 'warnings': 1001, 'prompts': 1002, 'warning': 1003, 'taken': 1004, 'point': 1005, 'creation': 1006, 'restrict': 1007, 'templates': 1008, 'components': 1009, 'budgets': 1010, 'stipulated': 1011, 'nomenclature': 1012, 'grants': 1013, 'distinguish': 1014, 'julie': 1015, 'donalek': 1016, 'criterion': 1017, 'karen': 1018, 'sysol': 1019, 'basic': 1020, 'possibility': 1021, 'built': 1022, 'interference': 1023, 'monitor': 1024, 'auditing': 1025, 'reinstantiated': 1026, 'manipulate': 1027, 'supervisor': 1028, 'denial': 1029, 'managers': 1030, 'corresponds': 1031, 'reservation': 1032, 'adjacent': 1033, 'remain': 1034, 'uncorrupted': 1035, 'emerge': 1036, 'granularly': 1037, 'major': 1038, 'independently': 1039, 'corrupted': 1040, 'intentional': 1041, 'abuse': 1042, 'occurrences': 1043, 'weekly': 1044, 'practices': 1045, 'collection': 1046, 'reveal': 1047, 'infection': 1048, 'changed': 1049, 'anticipated': 1050, 'disclosures': 1051, 'claimed': 1052, 'payments': 1053, 'outcomes': 1054, 'adoption': 1055, '9': 1056, 'compatible': 1057, 'appropriately': 1058, 'removed': 1059, 'communications': 1060, 'ii': 1061, 'provision': 1062, 'adequate': 1063, 'tester': 1064, 'upgrade': 1065, '443': 1066, 'administrationglobalssecurity': 1067, 'strong': 1068, 'root': 1069, 'something': 1070, 'clientsided': 1071, 'certificates': 1072, 'certificate': 1073, 'could': 1074, 'method': 1075, 'local': 1076, 'instance': 1077, 'delegate': 1078, 'restore': 1079, 'three': 1080, 'disallow': 1081, 'validated': 1082, 'sessions': 1083, 'ordered': 1084, 'apply': 1085, 'workforce': 1086, 'parent': 1087, 'risks': 1088, 'vulnerabilities': 1089, '45': 1090, 'cfr': 1091, '164308': 1092, 'deficiencies': 1093, 'credentials': 1094, 'plain': 1095, 'tampering': 1096, 'algorithm': 1097, 'key': 1098, 'securely': 1099, 'range': 1100, 'iihi': 1101, 'law': 1102, 'terminate': 1103, 'delivered': 1104, 'certain': 1105, 'cms': 1106, 'requires': 1107, 'remedies': 1108, 'fips': 1109, 'storage': 1110, 'socket': 1111, 'includes': 1112, 'reliable': 1113, 'hvac': 1114, 'recommended': 1115, 'workstations': 1116, 'receipt': 1117, 'disposition': 1118, 'made': 1119, 'tracking': 1120, 'modified': 1121, 'banner': 1122, 'patients': 1123, 'changing': 1124, 'implemented': 1125, 'clear': 1126, 'passed': 1127, 'ftp': 1128, 'identifiers': 1129, 'prespecified': 1130, 'resets': 1131, 'realtime': 1132, 'internal': 1133, 'encrypts': 1134, 'transport': 1135, 'insures': 1136, 'compleity': 1137, 'restricts': 1138, 'directly': 1139, 'released': 1140, 'bi': 1141, 'subject': 1142, 'restrictions': 1143, 'ensures': 1144, 'conducting': 1145, 'compliant': 1146, 'lhcp': 1147, 'parties': 1148, 'fire': 1149, 'notifications': 1150, 'purpose': 1151, 'history': 1152, 'scope': 1153, 'a130': 1154, '200': 1155, 'csrcnistgov': 1156, 'publications': 1157, 'rolebased': 1158, 'groups': 1159, 'restricted': 1160, 'processes': 1161, 'connected': 1162, 'module': 1163, 'biometrics': 1164, 'fingerprint': 1165, 'scan': 1166, 'technologies': 1167, 'areas': 1168, 'resolution': 1169, 'scanning': 1170, 'php': 1171, 'delay': 1172, 'networks': 1173, 'mime': 1174, 'successors': 1175, 'lock': 1176, 'stateoftheart': 1177, 'dynamic': 1178, 'routers': 1179, 'begin': 1180, 'designated': 1181, 'recovery': 1182, 'intranet': 1183, 'similar': 1184, 'strength': 1185, 'standardsbased': 1186, 'typical': 1187, 'department': 1188, 'depaul': 1189, 'university': 1190, 'computers': 1191, 'p': 1192, 'campusconnects': 1193, 'faculty': 1194, 'master': 1195, 'scheduled': 1196, 'est': 1197, 'initiation': 1198, 'print': 1199, 'utility': 1200, 'adjustments': 1201, 'merchants': 1202, '55': 1203, 'mozilla': 1204, 'choice': 1205, 'feed': 1206, 'operated': 1207, 'dirty': 1208, 'noisy': 1209, 'choiceparts': 1210, 'approimately': 1211, 'fall': 1212, 'installations': 1213, 'handled': 1214, 'middleware': 1215, 'frames': 1216, 'colocated': 1217, 'alongside': 1218, 'runtime': 1219, 'residing': 1220, 'eamples': 1221, 'tomcat': 1222, 'jboss': 1223, 'tested': 1224, 'binary': 1225, 'zip': 1226, 'packaged': 1227, 'cd': 1228, 'ms': 1229, 'developed': 1230, 'j2se': 1231, 'j2ee': 1232, 'libraries': 1233, 'owned': 1234, 'aspects': 1235, 'fully': 1236, 'operational': 1237, 'msn': 1238, 'tv2': 1239, 'streamed': 1240, '256k': 1241, 'streams': 1242, 'flash': 1243, 'animation': 1244, 'home': 1245, 'structure': 1246, 'non': 1247, 'binding': 1248, 'neutral': 1249, 'entities': 1250, 'loaded': 1251, 'bdw': 1252, 'dhs': 1253, 'brio': 1254, '123': 1255, 'regulations': 1256, 'space': 1257, 'microsoft': 1258, 'ce': 1259, 'palm': 1260, 'echange': 1261, 'csr': 1262, 'real': 1263, 'running': 1264, 'promotional': 1265, 'international': 1266, 'classification': 1267, '9th': 1268, 'official': 1269, 'objectives': 1270, 'paragraph': 1271, 'ndc': 1272, 'coordination': 1273, '004010096a1': 1274, 'substances': 1275, 'supplies': 1276, 'american': 1277, 'association': 1278, '004010091a1': 1279, 'clearinghouse': 1280, 'costs': 1281, '004010095a1': 1282, 'financing': 1283, '004010061': 1284, 'payroll': 1285, '004010061a1': 1286, '004010094a1': 1287, '004010093a1': 1288, '004010092a1': 1289, 'translate': 1290, 'identifying': 1291, 'cpt': 1292, 'designed': 1293, 'payer': 1294, 'names': 1295, 'singleton': 1296, 'implementaiton': 1297, 'highly': 1298, 'demographic': 1299, 'registration': 1300, 'birads': 1301, 'script': 1302, 'table': 1303, 'platforms': 1304, 'sets': 1305, 'united': 1306, 'states': 1307, 'offline': 1308, 'unavailable': 1309, 'downloaded': 1310, 'restored': 1311, 'comes': 1312, 'back': 1313, 'gateway': 1314, 'c360inventory': 1315, 'entering': 1316, 'pin': 1317, 'unlimited': 1318, 'subscriber': 1319, 'cancel': 1320, 'deactivate': 1321, 'minute': 1322, 'manager': 1323, 'category': 1324, 'listings': 1325, 'aside': 1326, '9999': 1327, '112k': 1328, 'faster': 1329, 'inventory': 1330, 'never': 1331, 'initial': 1332, 'million': 1333, 'overcome': 1334, 'spikes': 1335, '60minute': 1336, 'track': 1337, 'uptime': 1338, 'demonstrate': 1339, '3540': 1340, 'curriculum': 1341, 'scalable': 1342, 'adaptable': 1343, 'growth': 1344, 'epansion': 1345, 'cater': 1346, '9am': 1347, '5pm': 1348, 'baseline': 1349, 'configurations': 1350, 'assumed': 1351, 'processors': 1352, 'beyond': 1353, '5000': 1354, 'default': 1355, 'schedules': 1356, 'ancillary': 1357, 'limitation': 1358, 'grow': 1359, 'chosen': 1360, 'customization': 1361, 'views': 1362, 'conform': 1363, 'americans': 1364, 'disabilities': 1365, 'act': 1366, 'clicks': 1367, 'cards': 1368, 'buying': 1369, 'skills': 1370, 'websites': 1371, 'spanish': 1372, 'french': 1373, 'formatting': 1374, 'answers': 1375, 'solutions': 1376, 'informs': 1377, 'restriction': 1378, 'termination': 1379, 'effective': 1380, 'informed': 1381, 'activated': 1382, 'selected': 1383, 'mouse': 1384, 'league': 1385, 'reaching': 1386, 'startup': 1387, 'instruction': 1388, 'short': 1389, 'deployed': 1390, 'undergo': 1391, 'intelligent': 1392, 'spell': 1393, 'clicking': 1394, 'dob': 1395, 'pop': 1396, 'issue': 1397, 'dialog': 1398, 'earlier': 1399, 'window': 1400, 'copied': 1401, 'saves': 1402, 'pays': 1403, 'deployment': 1404, 'hyperlink': 1405, 'eported': 1406, 'selecting': 1407, 'rreports': 1408, 'ask': 1409, 'confirm': 1410, 'dropping': 1411, 'trading': 1412, 'performing': 1413, 'job': 1414, 'inquire': 1415, 'readily': 1416, 'presented': 1417, 'success': 1418, 'resolve': 1419, 'edit': 1420, 'checks': 1421, 'immediate': 1422, 'corrective': 1423, 'cues': 1424, 'highlight': 1425, 'abnormal': 1426, 'critical': 1427, 'alert': 1428, 'lookalike': 1429, 'sound': 1430, 'alike': 1431, 'duplicate': 1432, 'issuing': 1433, 'auditory': 1434, 'usre': 1435, 'moving': 1436, 'step': 1437, 'autofill': 1438, 'userfriendly': 1439, 'enduser': 1440, 'requiring': 1441, 'epertise': 1442, 'publish': 1443, 'annotations': 1444, 'distinguishes': 1445, 'customizable': 1446, 'materials': 1447, 'contetspecific': 1448, 'organizationspecific': 1449, 'sequence': 1450, 'dataentry': 1451, 'columns': 1452, 'match': 1453, 'documents': 1454, 'drop': 1455, 'eplains': 1456, 'present': 1457, 'navigational': 1458, 'effort': 1459, 'inputting': 1460, 'encounters': 1461, 'utilizing': 1462, 'forms': 1463, 'pick': 1464, 'lists': 1465, 'macro': 1466, 'substitution': 1467, 'dictation': 1468, 'subsequent': 1469, 'transcription': 1470, 'manually': 1471, 'supports': 1472, 'grouping': 1473, 'like': 1474, 'cerebrovascular': 1475, 'congenital': 1476, 'hypertensive': 1477, 'ischemic': 1478, 'oneclick': 1479, 'unified': 1480, 'completion': 1481, 'adjuster': 1482, 'audits': 1483, 'cannot': 1484, 'estimator': 1485, 'companys': 1486, 'stream': 1487, 'purchased': 1488, 'aware': 1489, 'might': 1490, 'terminated': 1491, 'disable': 1492, 'accidentally': 1493, 'overwritten': 1494, 'hazards': 1495, 'permitted': 1496, 'e': 1497, 'amounts': 1498, 'percent': 1499, 'ffp': 1500, 'reimbursement': 1501, 'ependitures': 1502, 'eligible': 1503, 'improvements': 1504, 'quality': 1505, 'efficiency': 1506, 'recipients': 1507, 'mmis': 1508, 'retrieval': 1509, 'researcher': 1510, 'right': 1511, '164522': 1512, 'contract': 1513, '164510': 1514, 'requesting': 1515, 'analyses': 1516, 'holders': 1517, 'sponsors': 1518, 'disclosed': 1519, 'holder': 1520, 'sponsor': 1521, 'separation': 1522, '164504': 1523, 'f': 1524, 'requirement': 1525, 'hipaa': 1526, 'meaningful': 1527, 'removing': 1528, 'sqlconfdotphp': 1529, 'override': 1530, 'settings': 1531, 'especially': 1532, 'portals': 1533, 'main': 1534, 'etremely': 1535, 'unsecure': 1536, 'opening': 1537, 'turn': 1538, 'allowing': 1539, 'soap': 1540, 'apis': 1541, 'intervals': 1542, 'ssh': 1543, 'tunnel': 1544, 'even': 1545, 'finished': 1546, 'failed': 1547, 'userid': 1548, 'comments': 1549, 'headers': 1550, 'involving': 1551, 'ends': 1552, 'closes': 1553, 'refleive': 1554, 'confirmatory': 1555, 'screening': 1556, 'positive': 1557, 'openemrs': 1558, 'sanctions': 1559, 'fail': 1560, 'blocked': 1561, 'accurate': 1562, 'thorough': 1563, 'potential': 1564, 'tokens': 1565, 'stores': 1566, 'containing': 1567, 'cryptographic': 1568, 'size': 1569, '256': 1570, 'bit': 1571, 'stronger': 1572, 'handheld': 1573, 'length': 1574, 'recipient': 1575, 'misuse': 1576, 'inappropriate': 1577, 'dua': 1578, 'otherwise': 1579, 'regulation': 1580, 'rest': 1581, 'owner': 1582, 'owners': 1583, 'transmissions': 1584, 'eceeds': 1585, 'eprescribing': 1586, 'cchit': 1587, 'certification': 1588, 'twofactor': 1589, 'communicated': 1590, 'furthermore': 1591, 'determines': 1592, 'harm': 1593, 'notification': 1594, 'affected': 1595, 'persons': 1596, 'breach': 1597, 'carry': 1598, 'cost': 1599, 'suspected': 1600, 'mitigate': 1601, 'etent': 1602, 'practicable': 1603, 'harmful': 1604, 'effects': 1605, 'communication': 1606, 'wire': 1607, 'covers': 1608, 'electrical': 1609, 'sterilization': 1610, 'decrypt': 1611, 'deemed': 1612, 'awareness': 1613, 'corroborate': 1614, 'altered': 1615, 'destroyed': 1616, 'govern': 1617, 'movement': 1618, 'specify': 1619, 'attributes': 1620, 'surroundings': 1621, 'repairs': 1622, 'walls': 1623, 'doors': 1624, 'violations': 1625, 'improper': 1626, 'alteration': 1627, 'destruction': 1628, 'safeguard': 1629, 'therein': 1630, 'theft': 1631, 'infoimplement': 1632, 'storedrmation': 1633, 'incident': 1634, 'seeking': 1635, 'sufficient': 1636, '164306': 1637, 'electronically': 1638, 'improperly': 1639, 'disposed': 1640, 'guard': 1641, 'prelogin': 1642, 'immediately': 1643, 'upload': 1644, 'eecutable': 1645, 'mids': 1646, 'considered': 1647, 'casesensitive': 1648, 'recommendations': 1649, 'regarding': 1650, 'world': 1651, 'eist': 1652, 'uas': 1653, 'periodic': 1654, 'protects': 1655, 'clinic': 1656, 'assets': 1657, 'manifestation': 1658, 'platformlevel': 1659, 'cryptography': 1660, 'custom': 1661, 'implementations': 1662, 'safeguarding': 1663, 'guarding': 1664, 'detecting': 1665, 'discrepancies': 1666, 'channels': 1667, 'mid': 1668, 'urls': 1669, 'oneway': 1670, 'hash': 1671, 'decisions': 1672, 'header': 1673, '164105': 1674, '164316': 1675, 'incorporated': 1676, 'persistent': 1677, 'insecure': 1678, 'telnet': 1679, 'tftp': 1680, 'tunneled': 1681, 'lifetime': 1682, 'userdefined': 1683, 'forgotten': 1684, 'reauthenticate': 1685, 'remotely': 1686, 'location': 1687, 'standalone': 1688, 'avoids': 1689, 'untrusted': 1690, 'clientside': 1691, 'clients': 1692, 'minimizes': 1693, 'applied': 1694, 'meets': 1695, 'performs': 1696, 'seamless': 1697, 'idle': 1698, 'managed': 1699, 'reminder': 1700, 'delivery': 1701, 'multifactor': 1702, 'returns': 1703, 'generic': 1704, 'leastprivileged': 1705, 'warns': 1706, 'reenter': 1707, 'temporary': 1708, 'objects': 1709, 'closed': 1710, 'memory': 1711, 'gives': 1712, 'correctly': 1713, 'society': 1714, 'himss': 1715, 'arisk': 1716, 'toolkitfor': 1717, 'developing': 1718, 'lchp': 1719, 'parameter': 1720, 'masking': 1721, 'host': 1722, 'computing': 1723, 'thirdparty': 1724, '24': 1725, 'environmental': 1726, 'suppression': 1727, 'moisture': 1728, 'humidity': 1729, 'temperature': 1730, 'hosting': 1731, 'bugs': 1732, 'patches': 1733, 'highest': 1734, 'defense': 1735, 'circular': 1736, 'appendi': 1737, 'iiisecurity': 1738, 'wwwwhitehousegov': 1739, 'circulars': 1740, 'a130html': 1741, 'entitled': 1742, 'fips200': 1743, 'fips200finalmarchpdf': 1744, 'special': 1745, 'publication': 1746, '80053': 1747, 'nistpubs': 1748, '80053rev2': 1749, 'sp80053rev2final': 1750, 'conveyance': 1751, 'malevolent': 1752, 'assumes': 1753, 'userbased': 1754, 'grouped': 1755, 'contetbased': 1756, 'contet': 1757, 'timeofday': 1758, 'workstationlocation': 1759, 'emergencymode': 1760, 'deleting': 1761, 'errorhandling': 1762, 'authenticate': 1763, 'mobile': 1764, 'force': 1765, 'frequency': 1766, 'eclusive': 1767, 'consecutive': 1768, 'restrictive': 1769, 'accesses': 1770, 'clerical': 1771, 'nurse': 1772, 'doctor': 1773, 'acting': 1774, 'inhouse': 1775, 'entire': 1776, 'suite': 1777, 'onto': 1778, '128bit': 1779, 'tier': 1780, 'submodules': 1781, 'discretion': 1782, 'stating': 1783, 'issues': 1784, 'conflicts': 1785, 'intrusion': 1786, 'eradication': 1787, 'hostbased': 1788, 'conflict': 1789, 'full': 1790, 'eclude': 1791, 'deactivation': 1792, 'constraints': 1793, 'itemizes': 1794, 'ports': 1795, 'servicing': 1796, 'justification': 1797, 'delays': 1798, 'prompt': 1799, 'configured': 1800, 'logout': 1801, 'maintaining': 1802, 'lockout': 1803, 'unsuccessful': 1804, 'authenticity': 1805, 'nodes': 1806, 'mutual': 1807, 'communicating': 1808, 'sig': 1809, 'encryptions': 1810, 'initiating': 1811, 'remains': 1812, 'effect': 1813, 'reestablishes': 1814, 'intended': 1815, 'portable': 1816, 'removable': 1817, 'thumbdrives': 1818, 'cdrom': 1819, 'pda': 1820, 'notebook': 1821, 'agents': 1822, 'stated': 1823, 'needtoknow': 1824, 'establish': 1825, 'try': 1826, 'approach': 1827, 'constrain': 1828, 'sanitize': 1829, 'logins': 1830, 'always': 1831, 'asserts': 1832, 'character': 1833, 'en': 1834, 'us': 1835, 'webenabled': 1836, 'portions': 1837, 'graphics': 1838, 'speed': 1839, 'reliability': 1840, 'interaction': 1841, 'defenses': 1842, 'firewalls': 1843, 'traditional': 1844, 'matters': 1845, 'involve': 1846, 'points': 1847, 'lighting': 1848, 'cameras': 1849, 'precautions': 1850, 'power': 1851, 'outage': 1852, 'water': 1853, 'disaster': 1854, 'vendor': 1855, 'selfcertify': 1856, 'commercial': 1857, 'sites': 1858, 'partitioned': 1859, 'unrestricted': 1860, 'folders': 1861, 'question': 1862, 'typed': 1863, 'appear': 1864, 'normally': 1865, 'appears': 1866, 'confirmed': 1867, 'sc': 1868, '0302': 1869, 'timeframe': 1870, '180': 1871, 'recently': 1872, 'characters': 1873, 'inclusion': 1874, 'alphanumeric': 1875, 'hashing': 1876, 'sha1': 1877, 'successful': 1878, '247365': 1879, 'monday': 1880, 'saturday': 1881, '300am': 1882, '400am': 1883, 'sunday': 1884, '100amd': 1885, '500am': 1886, 'send': 1887, 'licensing': 1888, 'oneserver': 1889, 'twofive': 1890, 'fiveormore': 1891, 'license': 1892, 'backup': 1893, 'demand': 1894, 'licenses': 1895, 'royalty': 1896, 'cybersource': 1897, 'api': 1898, 'mentioned': 1899, 'monthend': 1900, 'budgeting': 1901, 'primary': 1902, 'cached': 1903, 'secondary': 1904, 'historical': 1905, 'emh': 1906, 'la': 1907, 'buttons': 1908, 'ls': 1909, 'phpcapable': 1910, 'webserver': 1911, 'php5': 1912, 'centos': 1913, 'redhat': 1914, 'configuring': 1915, 'strict': 1916, 'disabled': 1917, 'irregular': 1918, 'departments': 1919, 'hard': 1920, 'disk': 1921, '400mb': 1922, 'integrates': 1923, 'notifying': 1924, 'near': 1925, 'domain': 1926, 'spreadsheet': 1927, 'lotus': 1928, 'eam': 1929, 'datastream': 1930, 'proposed': 1931, 'lac': 1932, 'infrastructure': 1933, 'switches': 1934, 'balancers': 1935, 'consoles': 1936, 'instances': 1937, 'row': 1938, 'comma': 1939, 'tab': 1940, 'quotation': 1941, 'import': 1942, 'wan': 1943, 'production': 1944, 'connect': 1945, 'included': 1946, 'mydotcnf': 1947, 'velkat': 1948, 'phone': 1949, '7am7pm': 1950, 'mf': 1951, 'setting': 1952, 'eecuting': 1953, 'variables': 1954, 'command': 1955, 'line': 1956, 'value': 1957, 'enhancements': 1958, 'fies': 1959, 'assure': 1960, 'accept': 1961, 'promptly': 1962, 'j': 1963, 'enters': 1964, 'memorandum': 1965, 'understanding': 1966, 'terms': 1967, 'attempt': 1968, 'adversely': 1969, 'injuries': 1970, 'impairments': 1971, 'hospital': 1972, 'inpatients': 1973, 'reported': 1974, 'hospitals': 1975, 'retail': 1976, 'pharmacies': 1977, 'manufacturers': 1978, 'biologics': 1979, 'offer': 1980, '162923': 1981, 'operates': 1982, 'charge': 1983, 'ecess': 1984, 'normal': 1985, 'incurs': 1986, '1621502': 1987, 'combination': 1988, 'procedural': 1989, 'cpt4': 1990, 'physician': 1991, '1621702': 1992, '1621402': 1993, '04010061': 1994, 'developers': 1995, 'electing': 1996, 'offered': 1997, 'condition': 1998, 'developer': 1999, 'guides': 2000, 'documented': 2001, 'javadoc': 2002, 'nongui': 2003, 'unit': 2004, 'junit': 2005, 'coverage': 2006, 'pass': 2007, 'describes': 2008, 'surgical': 2009, 'diagnostic': 2010, 'uniform': 2011, 'among': 2012, 'physicians': 2013, 'coders': 2014, 'accreditation': 2015, 'payers': 2016, 'analytical': 2017, 'indirect': 2018, 'reflected': 2019, 'coordinates': 2020, 'forward': 2021, 'c': 2022, 'informatics': 2023, 'logical': 2024, 'observation': 2025, 'universal': 2026, 'laboratory': 2027, 'observations': 2028, 'orange': 2029, 'book': 2030, 'revenue': 2031, 'epense': 2032, 'formulae': 2033, 'allotted': 2034, 'calculations': 2035, 'conducted': 2036, 'jointly': 2037, 'project': 2038, 'pcg': 2039, 'finance': 2040, 'listed': 2041, 'mm': 2042, 'dd': 2043, 'yyyy': 2044, 'appointmenttype': 2045, 'features': 2046, 'strategy': 2047, 'epidemic': 2048, 'causeofdeath': 2049, 'trends': 2050, 'eclipse': 2051, '33': 2052, 'telecomunication': 2053, 'pear': 2054, 'patterns': 2055, 'best': 2056, 'navigator': 2057, 'interruption': 2058, 'due': 2059, 'city': 2060, 'chicago': 2061, 'framework': 2062, 'wssecurity': 2063, 'transparent': 2064, 'screens': 2065, 'reconfigurable': 2066, 'providing': 2067, 'reposition': 2068, 'rename': 2069, 'labels': 2070, 'turnoff': 2071, 'unused': 2072, 'customdefined': 2073, 'linking': 2074, 'organism': 2075, 'snomed': 2076, 'importing': 2077, 'practice': 2078, 'dicom': 2079, 'images': 2080, '06': 2081, 'breast': 2082, 'imaging': 2083, 'atlas': 2084, 'pharmacy': 2085, 'standardized': 2086, 'commonly': 2087, 'proven': 2088, 'stamps': 2089, 'utc': 2090, 'iso': 2091, '8601': 2092, 'validate': 2093, 'diagnosis': 2094, 'prescriptions': 2095, 'medications': 2096, 'reason': 2097, 'variation': 2098, 'rulebased': 2099, 'reminders': 2100, 'vital': 2101, 'signs': 2102, 'blood': 2103, 'pressure': 2104, 'respiratory': 2105, 'height': 2106, 'weight': 2107, 'allergy': 2108, 'adverse': 2109, 'reaction': 2110, 'immunization': 2111, 'medication': 2112, 'dictionary': 2113, 'relationships': 2114, 'describe': 2115, 'connectivity': 2116, 'odbc': 2117, 'relational': 2118, 'rdbms': 2119, 'naming': 2120, 'tables': 2121, 'utilities': 2122, 'tuning': 2123, 'tools': 2124, 'customize': 2125, 'w3c': 2126, 'browserbased': 2127, 'serverside': 2128, 'architectures': 2129, 'industrystandard': 2130, 'object': 2131, '1621002': 2132, 'specification': 2133, 'furnished': 2134, 'nonmedical': 2135, '700': 2136, 'regions': 2137, 'approved': 2138, 'app': 2139, 'scalability': 2140, 'encountered': 2141, 'robustthe': 2142, 'avoidance': 2143, 'robust': 2144, 'tolerancethe': 2145, 'tolerance': 2146, 'technique': 2147, 'compensatory': 2148, 'routing': 2149, 'around': 2150, 'failures': 2151, 'tolerant': 2152, 'vr': 2153, 'gaming': 2154, 'variety': 2155, 'genres': 2156, 'compatibility': 2157}\n",
            "['respond fast keep uptodate data display' 'Performance']\n",
            "respond fast keep uptodate data display\n",
            "Req_Class: Performance\n"
          ]
        }
      ]
    },
    {
      "cell_type": "code",
      "metadata": {
        "id": "YigTXvM0Bcr-"
      },
      "source": [
        "# Function takes a tokenized sentence and returns the words\n",
        "def sequence_to_text(list_of_indices):\n",
        "    # Looking up words in dictionary\n",
        "    words = [reverse_word_map.get(letter) for letter in list_of_indices]\n",
        "    return(words)"
      ],
      "execution_count": 30,
      "outputs": []
    },
    {
      "cell_type": "code",
      "metadata": {
        "id": "JuVE1wTCBcsB",
        "colab": {
          "base_uri": "https://localhost:8080/"
        },
        "outputId": "91855dce-62b7-40a0-a9cd-be46392378e1"
      },
      "source": [
        "#Transforms each text in df['sentence'] to a sequence of integers\n",
        "X = tokenizer.texts_to_sequences(df['sentence'].values)\n",
        "reverse_word_map = dict(map(reversed, tokenizer.word_index.items()))\n",
        "X = pad_sequences(X, maxlen=MAX_SEQUENCE_LENGTH)\n",
        "print('Shape of data tensor:', X.shape)"
      ],
      "execution_count": 31,
      "outputs": [
        {
          "output_type": "stream",
          "name": "stdout",
          "text": [
            "Shape of data tensor: (945, 250)\n"
          ]
        }
      ]
    },
    {
      "cell_type": "code",
      "metadata": {
        "id": "y5Ne0d57GVzV"
      },
      "source": [
        "# Find the word from the data in the word2vec model and pass the vector back\n",
        "def getVector(word):\n",
        "    if word in vec_model:\n",
        "        return vec_model[word]\n",
        "    else:\n",
        "        return None"
      ],
      "execution_count": 32,
      "outputs": []
    },
    {
      "cell_type": "code",
      "metadata": {
        "id": "oeKdLAlZGrMQ"
      },
      "source": [
        "# Below are steps required to identify each unique token (word parsed and cleaned) from the tokenizer to obtain the word2vec vector matrix to be used in the subsequent model development\n",
        "# set the matrix size to the number of unique tokens + 1 to avoid out of bounds error\n",
        "wsize=len(tokenizer.word_index)+1\n",
        "# Initialize the weighting matrix to be used in the model below\n",
        "wv_matrix=np.zeros((wsize,300))\n",
        "# for every unique word in thea tokenizer get the vector from word2vec model\n",
        "for word, i in tokenizer.word_index.items():\n",
        "  embedding_vector = getVector(word)\n",
        "  if embedding_vector is not None:\n",
        "    wv_matrix[i] = embedding_vector"
      ],
      "execution_count": 33,
      "outputs": []
    },
    {
      "cell_type": "code",
      "metadata": {
        "id": "BBUOjupB_BYG",
        "colab": {
          "base_uri": "https://localhost:8080/"
        },
        "outputId": "e6f0bb40-7a8c-4d4d-89bd-20d8fde38013"
      },
      "source": [
        "print(len(wv_matrix))\n",
        "# print the unique weighted matrix value for the nth word as received by running it through the word2vec model\n",
        "print(wv_matrix[7])"
      ],
      "execution_count": 34,
      "outputs": [
        {
          "output_type": "stream",
          "name": "stdout",
          "text": [
            "2158\n",
            "[-7.03125000e-02  9.17968750e-02  1.44531250e-01  1.24511719e-01\n",
            " -1.29882812e-01  2.56347656e-03  1.08398438e-01 -1.80664062e-02\n",
            "  5.98144531e-03 -8.20312500e-02 -5.41992188e-02  4.73632812e-02\n",
            " -3.73535156e-02 -1.80664062e-02 -5.17578125e-02  3.05175781e-02\n",
            "  2.92968750e-02  1.51367188e-01 -2.56347656e-02  3.71093750e-02\n",
            " -1.41601562e-01 -1.79687500e-01  1.27929688e-01  4.71191406e-02\n",
            "  5.49316406e-02 -1.14257812e-01 -7.66601562e-02  1.75781250e-01\n",
            "  8.10546875e-02  1.04492188e-01 -2.01416016e-02 -1.02050781e-01\n",
            " -6.25000000e-02 -3.19824219e-02  9.71679688e-02 -4.49218750e-02\n",
            "  1.91406250e-01  2.42919922e-02 -1.83105469e-02 -8.78906250e-02\n",
            "  8.54492188e-02 -8.83789062e-02  1.88476562e-01  2.13623047e-03\n",
            "  7.08007812e-02 -8.25195312e-02  1.25000000e-01  1.29882812e-01\n",
            " -1.19628906e-01 -4.06250000e-01 -2.30468750e-01  1.71875000e-01\n",
            " -1.52343750e-01  2.03125000e-01  1.50390625e-01  1.37695312e-01\n",
            "  3.68652344e-02 -7.12890625e-02  5.41992188e-02  1.21459961e-02\n",
            " -6.39648438e-02  2.44140625e-01 -1.25976562e-01 -1.07910156e-01\n",
            "  2.97546387e-03 -2.88085938e-02  1.01562500e-01  3.51562500e-01\n",
            " -9.91210938e-02 -2.55859375e-01  5.10253906e-02  5.66406250e-02\n",
            "  1.01074219e-01 -6.88476562e-02 -1.96533203e-02 -5.93261719e-02\n",
            "  3.55468750e-01  2.81250000e-01 -7.76367188e-02  1.42578125e-01\n",
            "  8.93554688e-02 -1.71875000e-01 -1.77001953e-02 -1.74804688e-01\n",
            " -4.24804688e-02 -3.00292969e-02 -7.47070312e-02  5.37109375e-02\n",
            "  2.15820312e-01  1.57226562e-01 -5.21850586e-03  2.23388672e-02\n",
            " -4.95605469e-02 -2.89062500e-01 -3.88183594e-02 -9.42382812e-02\n",
            " -3.07617188e-02 -6.56127930e-03 -8.54492188e-03  1.67968750e-01\n",
            "  6.00585938e-02 -9.66796875e-02 -1.45507812e-01  1.23535156e-01\n",
            " -2.43164062e-01  1.53198242e-02 -1.66015625e-01 -1.26953125e-01\n",
            "  1.49414062e-01  2.50000000e-01 -2.83203125e-01 -8.25195312e-02\n",
            " -2.79296875e-01  2.32421875e-01  1.14257812e-01  1.98242188e-01\n",
            "  4.54101562e-02  1.31835938e-01  1.58203125e-01  3.71093750e-02\n",
            "  2.28271484e-02 -5.61523438e-03 -7.35473633e-03  1.60980225e-03\n",
            " -2.11914062e-01 -1.76757812e-01 -2.17285156e-02 -1.08886719e-01\n",
            "  1.29882812e-01  7.76367188e-02  1.78222656e-02  7.17773438e-02\n",
            " -1.86523438e-01 -1.54296875e-01 -2.15820312e-01 -1.49414062e-01\n",
            " -8.05664062e-02 -1.56250000e-01  1.60156250e-01  3.83300781e-02\n",
            "  1.48315430e-02 -2.21679688e-01  1.67846680e-03 -5.54199219e-02\n",
            "  1.06445312e-01 -3.73535156e-02  1.06811523e-02 -6.34765625e-02\n",
            "  4.39453125e-02 -1.14746094e-01 -6.10351562e-02  1.76757812e-01\n",
            "  1.53320312e-01 -1.04492188e-01  6.68945312e-02  8.93554688e-02\n",
            " -1.34765625e-01  2.16064453e-02 -1.17675781e-01 -6.17675781e-02\n",
            "  1.04980469e-01 -4.41894531e-02  6.68945312e-02 -2.90527344e-02\n",
            " -9.66796875e-02 -2.10937500e-01 -7.47070312e-02 -1.69921875e-01\n",
            "  5.76171875e-02 -3.26538086e-03 -1.54296875e-01 -9.61914062e-02\n",
            " -2.23632812e-01  8.15429688e-02  3.97949219e-02 -2.94189453e-02\n",
            " -2.83203125e-02 -7.47070312e-02 -8.49609375e-02  6.37817383e-03\n",
            " -7.61718750e-02 -3.90625000e-02  8.93554688e-02  2.23159790e-04\n",
            " -2.49023438e-02 -1.35742188e-01 -2.08007812e-01 -1.25976562e-01\n",
            "  1.81640625e-01  1.54296875e-01 -2.35595703e-02  2.77343750e-01\n",
            " -5.07812500e-02  4.61425781e-02  1.26953125e-02  2.45361328e-02\n",
            "  6.54296875e-02 -7.47070312e-02 -2.98828125e-01 -2.13867188e-01\n",
            "  1.36718750e-01  2.15820312e-01  1.26953125e-02 -9.86328125e-02\n",
            " -1.73828125e-01 -3.27148438e-02 -3.68652344e-02  9.52148438e-02\n",
            "  2.71484375e-01 -1.44531250e-01 -1.93359375e-01  1.30859375e-01\n",
            "  2.67333984e-02  9.03320312e-02 -3.14453125e-01  1.44531250e-01\n",
            " -5.76782227e-03  2.47802734e-02 -4.58984375e-02  3.11279297e-02\n",
            " -1.72851562e-01 -1.78710938e-01 -1.47460938e-01 -2.27539062e-01\n",
            "  1.13487244e-04 -3.11279297e-02  2.92968750e-01  7.27539062e-02\n",
            " -6.29425049e-04 -8.83789062e-02  2.96630859e-02 -2.61718750e-01\n",
            "  3.11279297e-02  5.83496094e-02  2.17773438e-01  1.81884766e-02\n",
            " -1.58691406e-02  2.70996094e-02  1.18164062e-01  4.34570312e-02\n",
            "  4.27246094e-03  1.29882812e-01  2.79296875e-01 -2.69531250e-01\n",
            "  7.08007812e-02 -1.25122070e-02 -9.81445312e-02  2.16064453e-02\n",
            " -3.54003906e-02 -2.67028809e-03 -8.25195312e-02  1.00097656e-01\n",
            "  1.37695312e-01  4.19921875e-02  2.05078125e-01 -2.56347656e-02\n",
            "  1.13281250e-01 -3.49121094e-02  1.83105469e-02  1.10839844e-01\n",
            " -9.08203125e-02  6.22558594e-02 -1.05957031e-01  3.06640625e-01\n",
            "  1.43554688e-01  2.65625000e-01 -9.66796875e-02  1.46484375e-01\n",
            " -1.07421875e-01 -1.21093750e-01  4.80468750e-01  2.39257812e-01\n",
            "  8.00781250e-02  3.37890625e-01 -1.21459961e-02  7.17773438e-02\n",
            " -8.69140625e-02 -3.22265625e-02 -1.83593750e-01  2.17773438e-01\n",
            " -2.75878906e-02 -1.70898438e-01  2.47955322e-04 -1.00708008e-02\n",
            "  4.00390625e-02 -6.49414062e-02  9.21630859e-03  1.90429688e-01\n",
            "  1.80664062e-01  1.82617188e-01 -3.10546875e-01 -1.25976562e-01\n",
            " -6.73828125e-02  1.20605469e-01  6.03027344e-02  2.26562500e-01\n",
            " -8.25195312e-02 -2.40234375e-01 -7.66601562e-02  1.69677734e-02]\n"
          ]
        }
      ]
    },
    {
      "cell_type": "code",
      "metadata": {
        "id": "MJ7eaFlvBcsG",
        "colab": {
          "base_uri": "https://localhost:8080/"
        },
        "outputId": "dbf46c37-0260-425a-8f0e-b5cdc89a3146"
      },
      "source": [
        "# Y = pd.get_dummies(df['class_name'])\n",
        "Y = pd.get_dummies(df['class_name']).values\n",
        "print('Shape of label tensor:', Y.shape)\n",
        "y, y_uniques=pd.factorize(df['class_name'], sort=True)\n",
        "print(y)\n",
        "print(Y)"
      ],
      "execution_count": 35,
      "outputs": [
        {
          "output_type": "stream",
          "name": "stdout",
          "text": [
            "Shape of label tensor: (945, 8)\n",
            "[3 3 3 3 3 3 3 3 3 3 3 3 3 3 3 3 3 3 3 3 3 3 3 3 3 3 3 3 3 3 3 3 3 3 3 3 3\n",
            " 3 3 3 3 3 3 3 3 3 3 3 3 3 3 3 3 3 3 3 3 3 3 3 3 3 3 3 3 3 3 3 3 3 3 3 3 3\n",
            " 3 3 3 3 3 3 3 3 3 3 3 3 3 3 3 3 3 3 3 3 3 3 3 3 3 3 3 3 3 3 3 3 3 3 3 3 3\n",
            " 3 3 7 7 7 7 7 7 7 7 7 7 7 7 7 7 7 7 7 7 7 7 7 7 7 7 7 7 7 7 7 7 7 7 7 7 7\n",
            " 7 7 7 7 7 7 7 7 7 7 7 7 7 7 7 7 7 7 7 7 7 7 7 7 7 7 7 7 7 7 7 7 7 7 7 7 7\n",
            " 7 7 7 7 7 7 7 7 7 7 7 7 7 7 7 7 7 7 7 7 7 7 7 7 7 7 7 7 7 7 7 7 7 7 7 7 7\n",
            " 7 7 7 7 7 7 7 7 7 7 7 7 7 7 7 7 7 7 7 7 7 7 7 7 7 7 7 7 7 7 7 7 7 7 7 7 7\n",
            " 7 7 7 7 7 7 7 7 7 7 7 6 6 6 6 6 6 6 6 6 6 6 6 6 6 6 6 6 6 6 6 6 6 6 6 6 6\n",
            " 6 6 6 6 6 6 6 6 6 6 6 6 6 6 6 6 6 6 6 6 6 6 6 6 6 6 6 6 6 6 6 6 6 6 6 6 6\n",
            " 6 6 6 6 6 6 6 6 6 6 6 6 6 6 6 6 6 6 6 6 6 6 6 6 6 6 6 6 6 6 6 6 6 6 6 6 6\n",
            " 6 6 6 6 6 6 6 6 6 6 6 6 6 6 6 6 6 6 6 6 6 6 6 6 6 6 6 6 6 6 6 6 6 6 6 6 6\n",
            " 6 6 6 6 6 6 6 6 6 6 6 6 6 6 6 6 6 6 6 6 6 6 6 6 6 6 6 6 6 6 6 6 6 6 6 6 6\n",
            " 6 6 6 6 6 6 6 6 6 6 6 6 6 6 6 6 6 6 6 6 6 6 6 6 6 6 6 6 6 6 6 6 6 6 6 6 6\n",
            " 6 6 6 6 6 6 6 6 6 6 6 6 6 6 6 6 6 6 6 6 6 6 6 6 6 6 6 6 6 6 6 6 6 6 6 6 6\n",
            " 6 6 6 6 6 6 6 6 6 6 6 6 6 6 6 6 6 6 6 6 6 6 6 6 6 6 6 6 6 6 6 6 6 6 6 6 6\n",
            " 6 6 6 6 6 6 6 6 6 6 6 6 6 6 6 6 6 6 6 6 6 6 6 6 6 6 6 6 6 6 6 6 6 6 6 6 6\n",
            " 6 6 6 6 6 6 6 6 6 6 6 6 6 6 6 6 6 6 6 6 6 6 6 6 6 6 6 6 6 6 6 6 2 2 2 2 2\n",
            " 2 2 2 2 2 2 2 2 2 2 2 2 2 2 2 2 2 2 2 2 2 2 2 2 2 2 2 2 2 2 2 2 2 2 2 2 2\n",
            " 2 2 2 2 2 2 2 2 2 2 2 2 2 2 2 2 2 2 2 2 2 2 2 2 2 2 2 2 2 2 2 2 2 2 2 2 2\n",
            " 2 2 2 2 2 2 2 2 2 2 2 2 2 2 2 2 2 2 2 2 2 2 2 2 2 2 2 2 2 2 2 2 2 2 2 2 2\n",
            " 2 2 2 2 2 2 2 2 2 2 2 2 2 2 2 2 2 2 2 2 2 2 2 2 2 2 2 2 2 2 2 2 2 2 2 2 2\n",
            " 1 1 1 1 1 1 1 1 1 1 1 1 1 1 1 1 1 1 1 1 1 1 1 1 1 1 1 1 1 1 1 1 1 1 1 1 1\n",
            " 1 1 1 1 1 1 1 1 1 1 1 1 1 1 1 1 1 1 1 1 1 1 1 1 1 1 1 1 1 1 1 1 1 1 1 1 1\n",
            " 1 1 1 1 1 1 1 1 1 1 1 1 1 1 1 1 1 1 1 1 1 1 1 1 1 1 1 1 1 1 1 1 1 1 1 1 1\n",
            " 1 1 1 1 1 1 1 1 1 1 1 1 1 1 1 1 1 1 1 1 1 1 1 1 1 1 5 5 5 5 5 5 5 5 5 5 0\n",
            " 0 0 0 0 0 0 0 0 0 0 0 0 0 0 0 0 4 4 4 4]\n",
            "[[False False False ... False False False]\n",
            " [False False False ... False False False]\n",
            " [False False False ... False False False]\n",
            " ...\n",
            " [False False False ... False False False]\n",
            " [False False False ... False False False]\n",
            " [False False False ... False False False]]\n"
          ]
        }
      ]
    },
    {
      "cell_type": "code",
      "metadata": {
        "id": "YWIAl1hCBcsJ",
        "colab": {
          "base_uri": "https://localhost:8080/"
        },
        "outputId": "b2ac4732-42c6-4cc0-c2b6-ed050c29004e"
      },
      "source": [
        "X_train, X_test, Y_train, Y_test = train_test_split(X,Y, test_size = 0.10, random_state = 34, stratify=Y)\n",
        "X_train_n, X_test_n, Y_train_n, Y_test_n = train_test_split(X,y, test_size = 0.10, random_state = 34, stratify=Y)\n",
        "print(X_train.shape,Y_train.shape)\n",
        "print(X_test.shape,Y_test.shape)\n",
        "print(X_train_n.shape,Y_train_n.shape)\n",
        "print(X_test_n.shape,Y_test_n.shape)\n",
        "print(Y_train, Y_test)\n",
        "print(Y_train_n, Y_test_n)\n",
        "# print(y_tr_unique)\n",
        "original_text_t=[]\n",
        "original_text =  list(map(sequence_to_text, X_test))\n",
        "for i in range(0,len(original_text)):\n",
        "    temp = []\n",
        "    for j in range(0,len(original_text[i])):\n",
        "        if(original_text[i][j]!=None):\n",
        "            temp.append(original_text[i][j])\n",
        "    original_text_t.append(temp)\n",
        "# print(my_texts_t)\n",
        "# print(len(my_texts_t))"
      ],
      "execution_count": 36,
      "outputs": [
        {
          "output_type": "stream",
          "name": "stdout",
          "text": [
            "(850, 250) (850, 8)\n",
            "(95, 250) (95, 8)\n",
            "(850, 250) (850,)\n",
            "(95, 250) (95,)\n",
            "[[False False False ... False  True False]\n",
            " [False False False ... False False  True]\n",
            " [False False  True ... False False False]\n",
            " ...\n",
            " [False False False ... False  True False]\n",
            " [False False False ... False False  True]\n",
            " [False  True False ... False False False]] [[False  True False False False False False False]\n",
            " [False False False False False False  True False]\n",
            " [False False  True False False False False False]\n",
            " [False False False False False False False  True]\n",
            " [False False False False False False False  True]\n",
            " [False False False False False  True False False]\n",
            " [False False False False False False False  True]\n",
            " [False False  True False False False False False]\n",
            " [False  True False False False False False False]\n",
            " [False False False False False False  True False]\n",
            " [False False False False False False  True False]\n",
            " [False False  True False False False False False]\n",
            " [False False False  True False False False False]\n",
            " [False  True False False False False False False]\n",
            " [False False False False False False  True False]\n",
            " [False False False False False False  True False]\n",
            " [False False False False False False  True False]\n",
            " [False False False False False False  True False]\n",
            " [False  True False False False False False False]\n",
            " [False False  True False False False False False]\n",
            " [False False False False False False  True False]\n",
            " [False False  True False False False False False]\n",
            " [False False False  True False False False False]\n",
            " [False False False False False False  True False]\n",
            " [False False False False False False  True False]\n",
            " [False False False False False False  True False]\n",
            " [False False False False False False False  True]\n",
            " [False False False False False False False  True]\n",
            " [False False False False False False  True False]\n",
            " [False False  True False False False False False]\n",
            " [False False False False False False  True False]\n",
            " [False False False False False False False  True]\n",
            " [False False  True False False False False False]\n",
            " [False  True False False False False False False]\n",
            " [False False False False False False  True False]\n",
            " [False  True False False False False False False]\n",
            " [False False False False False False False  True]\n",
            " [False False False  True False False False False]\n",
            " [False False False False False False  True False]\n",
            " [False False  True False False False False False]\n",
            " [False False False False False False  True False]\n",
            " [False False False False False False  True False]\n",
            " [False  True False False False False False False]\n",
            " [False False False False False False False  True]\n",
            " [False False False  True False False False False]\n",
            " [False False False False False False  True False]\n",
            " [False  True False False False False False False]\n",
            " [False False  True False False False False False]\n",
            " [False False False False False False  True False]\n",
            " [False False False False False False  True False]\n",
            " [False False False False False False  True False]\n",
            " [False False False False False False  True False]\n",
            " [False  True False False False False False False]\n",
            " [False False False False False False  True False]\n",
            " [False False False  True False False False False]\n",
            " [False False False False False False False  True]\n",
            " [False False False False False False  True False]\n",
            " [False  True False False False False False False]\n",
            " [False False False False False False  True False]\n",
            " [False False  True False False False False False]\n",
            " [False False False False False False  True False]\n",
            " [False False False  True False False False False]\n",
            " [False False False False False False False  True]\n",
            " [ True False False False False False False False]\n",
            " [False False False False False False  True False]\n",
            " [False False False False False False False  True]\n",
            " [False False False False False False  True False]\n",
            " [False False False  True False False False False]\n",
            " [False False False  True False False False False]\n",
            " [False False False False False False False  True]\n",
            " [False  True False False False False False False]\n",
            " [False  True False False False False False False]\n",
            " [False False  True False False False False False]\n",
            " [False False False False False False  True False]\n",
            " [False False False False False False  True False]\n",
            " [ True False False False False False False False]\n",
            " [False False False False False False  True False]\n",
            " [False False  True False False False False False]\n",
            " [False False False False False False  True False]\n",
            " [False False  True False False False False False]\n",
            " [False False False False False False  True False]\n",
            " [False False False  True False False False False]\n",
            " [False  True False False False False False False]\n",
            " [False False  True False False False False False]\n",
            " [False False False False False False False  True]\n",
            " [False False False False False False  True False]\n",
            " [False False False False False False  True False]\n",
            " [False False  True False False False False False]\n",
            " [False False False  True False False False False]\n",
            " [False False False False False False  True False]\n",
            " [False False False False False False False  True]\n",
            " [False False False  True False False False False]\n",
            " [False False False False False False False  True]\n",
            " [False  True False False False False False False]\n",
            " [False False False False False False False  True]]\n",
            "[6 7 2 1 3 7 1 1 6 2 1 2 6 3 2 1 2 2 2 6 6 1 2 0 7 2 2 6 1 1 6 6 3 1 7 1 1\n",
            " 6 1 1 0 6 2 3 6 6 2 6 6 6 2 0 6 6 7 2 6 6 1 6 2 5 2 6 6 7 6 7 2 3 7 6 6 7\n",
            " 6 1 3 3 3 3 6 0 1 6 3 3 3 2 2 1 1 6 3 1 1 7 6 6 7 6 2 2 6 6 2 2 2 1 6 2 1\n",
            " 2 7 6 2 3 6 6 6 6 6 6 2 7 6 3 6 2 6 1 6 1 7 1 7 6 7 1 6 6 3 6 7 7 6 3 3 1\n",
            " 6 7 7 1 6 6 2 6 6 7 6 2 2 6 7 6 6 6 3 6 3 6 6 6 6 3 1 6 1 6 3 3 7 1 2 7 3\n",
            " 1 6 2 1 1 3 6 3 6 7 1 6 7 2 6 7 1 1 6 3 6 1 7 6 3 6 1 1 2 7 3 3 7 1 2 6 7\n",
            " 7 6 3 3 7 7 3 2 6 6 6 3 6 1 1 7 6 7 7 2 3 6 3 2 7 0 2 6 6 2 6 6 6 6 2 6 1\n",
            " 6 6 7 1 1 3 7 6 7 2 3 7 2 3 6 6 2 7 1 7 6 6 3 6 2 6 2 6 6 7 6 6 6 6 6 7 2\n",
            " 6 6 2 6 2 6 3 3 7 2 1 3 1 6 7 6 7 2 7 6 6 0 7 6 3 1 3 1 3 7 6 1 7 1 2 6 6\n",
            " 6 2 6 7 6 7 6 2 6 7 6 6 1 7 1 1 7 0 5 3 6 6 6 1 7 2 3 1 6 1 1 6 6 1 2 6 6\n",
            " 1 7 2 7 6 2 6 6 2 6 3 7 6 6 3 2 6 5 1 6 2 1 6 3 1 2 6 3 6 6 6 3 6 1 6 3 3\n",
            " 7 1 6 2 7 6 1 1 7 6 6 2 2 3 6 6 6 2 6 6 7 3 6 6 6 7 7 7 2 7 6 7 6 1 6 7 6\n",
            " 7 6 2 6 6 6 6 6 6 2 1 6 6 1 7 6 3 7 6 6 2 2 6 6 7 7 2 6 6 1 3 6 1 6 6 1 0\n",
            " 1 7 6 1 3 6 1 2 6 1 1 7 6 7 2 6 6 2 2 2 2 3 1 3 6 6 6 3 6 6 3 6 7 7 3 1 2\n",
            " 2 3 6 2 6 2 6 2 6 7 2 7 7 2 7 1 1 3 6 6 6 2 6 1 2 3 6 2 2 6 6 6 4 1 7 6 7\n",
            " 7 7 1 1 3 6 3 4 7 4 5 1 6 6 6 0 6 3 6 6 1 6 2 6 3 7 6 7 7 6 0 6 6 1 2 7 6\n",
            " 7 6 1 7 6 0 6 2 7 1 7 2 3 1 2 6 2 2 7 6 6 2 7 1 6 7 1 6 7 7 6 6 2 7 3 6 3\n",
            " 1 2 6 6 6 7 2 7 7 3 6 6 6 7 6 3 2 3 7 6 6 6 6 6 3 2 7 1 2 3 6 7 2 2 6 1 7\n",
            " 6 6 6 7 6 7 7 7 7 1 6 1 1 0 6 1 5 2 2 6 6 7 6 2 2 6 0 2 6 3 6 3 6 6 2 6 3\n",
            " 6 7 1 6 6 2 6 3 7 7 1 2 6 2 2 6 1 5 3 1 7 2 7 5 3 2 2 3 1 7 1 2 1 6 6 2 6\n",
            " 6 6 6 2 7 6 3 6 6 6 2 7 7 6 2 1 7 6 1 6 6 6 1 6 6 2 7 1 6 6 1 2 3 3 6 6 3\n",
            " 0 6 1 6 6 3 7 6 7 2 6 1 6 6 6 3 1 7 6 6 1 6 6 2 3 6 7 7 6 7 3 6 7 7 6 2 5\n",
            " 2 2 4 2 3 2 7 6 5 6 3 6 2 2 1 3 1 3 6 6 2 3 2 1 6 0 3 6 6 6 3 6 7 6 7 1] [1 6 2 7 7 5 7 2 1 6 6 2 3 1 6 6 6 6 1 2 6 2 3 6 6 6 7 7 6 2 6 7 2 1 6 1 7\n",
            " 3 6 2 6 6 1 7 3 6 1 2 6 6 6 6 1 6 3 7 6 1 6 2 6 3 7 0 6 7 6 3 3 7 1 1 2 6\n",
            " 6 0 6 2 6 2 6 3 1 2 7 6 6 2 3 6 7 3 7 1 7]\n"
          ]
        }
      ]
    },
    {
      "cell_type": "code",
      "metadata": {
        "id": "2wGVk1gsBcsL"
      },
      "source": [
        "def test_class(i):\n",
        "    switcher={\n",
        "            0:'Main',\n",
        "            1:'Oper',\n",
        "            2:'Perf',\n",
        "            3:'Secu',\n",
        "            4:'Usab',\n",
        "            5:'Scab',\n",
        "            6:'FauT',\n",
        "            7:'Port'\n",
        "         }\n",
        "    return switcher.get(i,\"Invalid class\")"
      ],
      "execution_count": 37,
      "outputs": []
    },
    {
      "cell_type": "code",
      "metadata": {
        "id": "5dOpcghqBcsO"
      },
      "source": [
        "def create_model():\n",
        "    #The TensorFlow Keras API makes easy to build models and experiment while Keras handles the complexity of connecting everything together.\n",
        "    #The tf.keras.Sequential model is a linear stack of layers.\n",
        "    #In this case, one LSTM layer with 100 nodes each, and an output layer with 5 nodes representing our label predictions.\n",
        "    model = Sequential()\n",
        "    model.add(Embedding(len(tokenizer.word_index) + 1, EMBEDDING_DIM, weights=[wv_matrix], trainable=False, input_length=X.shape[1]))\n",
        "    model.add(SpatialDropout1D(0.2))\n",
        "    model.add(LSTM(100, dropout=0.2, recurrent_dropout=0.2))\n",
        "    model.add(Dense(5, activation='softmax'))\n",
        "    model.compile(optimizer='adam', loss='categorical_crossentropy', metrics=['acc', tf.keras.metrics.AUC(), tf.keras.metrics.Precision(),tf.keras.metrics.Recall()])\n",
        "    print(model.summary())\n",
        "    return model"
      ],
      "execution_count": 42,
      "outputs": []
    },
    {
      "cell_type": "code",
      "metadata": {
        "id": "Pkhgs7sdBcsQ"
      },
      "source": [
        "def make_con_mat(cf_matrix, class_name):\n",
        "    plt.title(\"Confusion Matrix Heat Map for class: %s\" % class_name)\n",
        "    group_names = ['True Neg','False Pos','False Neg','True Pos']\n",
        "    group_counts = [\"{0:0.0f}\".format(value) for value in\n",
        "                    cf_matrix.flatten()]\n",
        "    group_percentages = [\"{0:.2%}\".format(value) for value in\n",
        "                         cf_matrix.flatten()/np.sum(cf_matrix)]\n",
        "    labels = [f\"{v1}\\n{v2}\\n{v3}\" for v1, v2, v3 in\n",
        "              zip(group_names,group_counts,group_percentages)]\n",
        "    labels = np.asarray(labels).reshape(2,2)\n",
        "    sns.heatmap(cf_matrix, annot=labels, fmt='', cmap='Blues')"
      ],
      "execution_count": 43,
      "outputs": []
    },
    {
      "cell_type": "code",
      "metadata": {
        "id": "o0DmiiLO75eD",
        "colab": {
          "base_uri": "https://localhost:8080/"
        },
        "outputId": "984edc59-5fe5-4241-a0f7-0ba37eaa4da3"
      },
      "source": [
        "print(len(wv_matrix))"
      ],
      "execution_count": 44,
      "outputs": [
        {
          "output_type": "stream",
          "name": "stdout",
          "text": [
            "2158\n"
          ]
        }
      ]
    },
    {
      "cell_type": "code",
      "metadata": {
        "id": "8Io07SEpBcsT",
        "colab": {
          "base_uri": "https://localhost:8080/"
        },
        "outputId": "f7fc887e-3385-4ffe-e360-c77c5a8978ee"
      },
      "source": [
        "import numpy as np\n",
        "import pandas as pd\n",
        "import tensorflow as tf\n",
        "from sklearn.model_selection import StratifiedKFold\n",
        "from sklearn.metrics import multilabel_confusion_matrix\n",
        "from keras.models import Sequential\n",
        "from keras.layers import Dense, Embedding, LSTM, SpatialDropout1D\n",
        "from keras.callbacks import EarlyStopping\n",
        "from keras.preprocessing.sequence import pad_sequences\n",
        "\n",
        "# Fix random seed for reproducibility\n",
        "seed = 123\n",
        "np.random.seed(seed)\n",
        "\n",
        "# Define parameters\n",
        "max_words = 10000\n",
        "embedding_size = 300\n",
        "maxlen = 250\n",
        "\n",
        "# Define the function to create the model\n",
        "def create_model():\n",
        "    model = Sequential()\n",
        "    model.add(Embedding(max_words, embedding_size))\n",
        "    model.add(SpatialDropout1D(0.2))\n",
        "    model.add(LSTM(100, dropout=0.2, recurrent_dropout=0.2))\n",
        "    model.add(Dense(8, activation='softmax'))\n",
        "    model.compile(loss='categorical_crossentropy', optimizer='adam', metrics=['accuracy', 'precision', 'recall'])\n",
        "    return model\n",
        "\n",
        "# Fix random seed for reproducibility\n",
        "seed = 123\n",
        "batch_size = 30\n",
        "\n",
        "# Define 10-fold cross validation test\n",
        "kfold = StratifiedKFold(n_splits=10, shuffle=True, random_state=seed)\n",
        "\n",
        "cvscorespre = []\n",
        "cvscoresrec = []\n",
        "cvscoresauc = []\n",
        "cvscoresf1 = []\n",
        "\n",
        "for train_index, val_index in kfold.split(X_train, Y_train_n):\n",
        "    X_train_k, X_val = X_train[train_index], X_train[val_index]\n",
        "    Y_train_k, Y_val = Y_train[train_index], Y_train[val_index]\n",
        "\n",
        "    model = create_model()\n",
        "    history = model.fit(X_train_k, Y_train_k, epochs=20, batch_size=batch_size, validation_split=0.1, callbacks=[EarlyStopping(monitor='val_loss', patience=3, min_delta=0.0001)])\n",
        "\n",
        "    print(\"Metrics names:\", model.metrics_names)\n",
        "    scores = model.evaluate(X_val, Y_val)\n",
        "    print(\"%s: %.2f%%\" % (model.metrics_names[0], scores[0]*100))\n",
        "    print(\"%s: %.2f%%\" % (model.metrics_names[1], scores[1]*100))\n",
        "\n",
        "    cvscoresauc.append(scores[1] * 100)  # Adjusted index to 1 for accuracy\n",
        "    cvscorespre.append(scores[2] * 100)  # Adjusted index to 2 for precision\n",
        "    cvscoresrec.append(scores[3] * 100)  # Adjusted index to 3 for recall\n",
        "    cvscoresf1.append(2*(scores[2]*scores[3])/(scores[2]+scores[3]+tf.keras.backend.epsilon()) * 100)  # Adjusted indices for precision and recall\n",
        "\n",
        "    Y_pred = model.predict(X_val)\n",
        "    Y_pred_cm = (Y_pred.argmax(1)[:, None] == np.arange(Y_pred.shape[1])).astype(int)\n",
        "    con_mat = multilabel_confusion_matrix(Y_val, Y_pred_cm, labels=[0, 1, 2, 3, 4, 5, 6, 7])\n"
      ],
      "execution_count": 47,
      "outputs": [
        {
          "output_type": "stream",
          "name": "stdout",
          "text": [
            "Epoch 1/20\n"
          ]
        },
        {
          "output_type": "stream",
          "name": "stderr",
          "text": [
            "/usr/local/lib/python3.10/dist-packages/sklearn/model_selection/_split.py:700: UserWarning: The least populated class in y has only 4 members, which is less than n_splits=10.\n",
            "  warnings.warn(\n"
          ]
        },
        {
          "output_type": "stream",
          "name": "stdout",
          "text": [
            "\u001b[1m23/23\u001b[0m \u001b[32m━━━━━━━━━━━━━━━━━━━━\u001b[0m\u001b[37m\u001b[0m \u001b[1m24s\u001b[0m 634ms/step - accuracy: 0.3469 - loss: 1.9042 - precision: 0.3104 - recall: 0.0494 - val_accuracy: 0.3896 - val_loss: 1.7107 - val_precision: 0.0000e+00 - val_recall: 0.0000e+00\n",
            "Epoch 2/20\n",
            "\u001b[1m23/23\u001b[0m \u001b[32m━━━━━━━━━━━━━━━━━━━━\u001b[0m\u001b[37m\u001b[0m \u001b[1m16s\u001b[0m 439ms/step - accuracy: 0.3889 - loss: 1.5702 - precision: 0.5543 - recall: 0.0431 - val_accuracy: 0.5065 - val_loss: 1.5589 - val_precision: 0.0000e+00 - val_recall: 0.0000e+00\n",
            "Epoch 3/20\n",
            "\u001b[1m23/23\u001b[0m \u001b[32m━━━━━━━━━━━━━━━━━━━━\u001b[0m\u001b[37m\u001b[0m \u001b[1m22s\u001b[0m 522ms/step - accuracy: 0.5755 - loss: 1.2769 - precision: 0.9187 - recall: 0.1511 - val_accuracy: 0.7143 - val_loss: 1.1714 - val_precision: 1.0000 - val_recall: 0.3117\n",
            "Epoch 4/20\n",
            "\u001b[1m23/23\u001b[0m \u001b[32m━━━━━━━━━━━━━━━━━━━━\u001b[0m\u001b[37m\u001b[0m \u001b[1m20s\u001b[0m 518ms/step - accuracy: 0.8051 - loss: 0.8311 - precision: 0.9679 - recall: 0.5092 - val_accuracy: 0.6494 - val_loss: 0.9366 - val_precision: 0.9038 - val_recall: 0.6104\n",
            "Epoch 5/20\n",
            "\u001b[1m23/23\u001b[0m \u001b[32m━━━━━━━━━━━━━━━━━━━━\u001b[0m\u001b[37m\u001b[0m \u001b[1m20s\u001b[0m 515ms/step - accuracy: 0.9236 - loss: 0.4173 - precision: 0.9702 - recall: 0.8063 - val_accuracy: 0.7273 - val_loss: 0.8342 - val_precision: 0.8500 - val_recall: 0.6623\n",
            "Epoch 6/20\n",
            "\u001b[1m23/23\u001b[0m \u001b[32m━━━━━━━━━━━━━━━━━━━━\u001b[0m\u001b[37m\u001b[0m \u001b[1m21s\u001b[0m 526ms/step - accuracy: 0.9426 - loss: 0.2386 - precision: 0.9753 - recall: 0.9245 - val_accuracy: 0.7273 - val_loss: 0.8974 - val_precision: 0.7910 - val_recall: 0.6883\n",
            "Epoch 7/20\n",
            "\u001b[1m23/23\u001b[0m \u001b[32m━━━━━━━━━━━━━━━━━━━━\u001b[0m\u001b[37m\u001b[0m \u001b[1m20s\u001b[0m 502ms/step - accuracy: 0.9752 - loss: 0.1109 - precision: 0.9935 - recall: 0.9640 - val_accuracy: 0.7662 - val_loss: 0.8452 - val_precision: 0.8333 - val_recall: 0.7143\n",
            "Epoch 8/20\n",
            "\u001b[1m23/23\u001b[0m \u001b[32m━━━━━━━━━━━━━━━━━━━━\u001b[0m\u001b[37m\u001b[0m \u001b[1m21s\u001b[0m 530ms/step - accuracy: 0.9869 - loss: 0.0952 - precision: 0.9951 - recall: 0.9652 - val_accuracy: 0.7532 - val_loss: 0.9416 - val_precision: 0.7910 - val_recall: 0.6883\n",
            "Metrics names: ['loss', 'compile_metrics']\n",
            "\u001b[1m3/3\u001b[0m \u001b[32m━━━━━━━━━━━━━━━━━━━━\u001b[0m\u001b[37m\u001b[0m \u001b[1m0s\u001b[0m 117ms/step - accuracy: 0.7417 - loss: 0.9089 - precision: 0.8072 - recall: 0.7417\n",
            "loss: 94.82%\n",
            "compile_metrics: 74.12%\n",
            "\u001b[1m3/3\u001b[0m \u001b[32m━━━━━━━━━━━━━━━━━━━━\u001b[0m\u001b[37m\u001b[0m \u001b[1m1s\u001b[0m 205ms/step\n",
            "Epoch 1/20\n",
            "\u001b[1m23/23\u001b[0m \u001b[32m━━━━━━━━━━━━━━━━━━━━\u001b[0m\u001b[37m\u001b[0m \u001b[1m17s\u001b[0m 560ms/step - accuracy: 0.3275 - loss: 1.9210 - precision: 0.2917 - recall: 0.0018 - val_accuracy: 0.3766 - val_loss: 1.6814 - val_precision: 0.0000e+00 - val_recall: 0.0000e+00\n",
            "Epoch 2/20\n",
            "\u001b[1m23/23\u001b[0m \u001b[32m━━━━━━━━━━━━━━━━━━━━\u001b[0m\u001b[37m\u001b[0m \u001b[1m12s\u001b[0m 539ms/step - accuracy: 0.3961 - loss: 1.5437 - precision: 0.3333 - recall: 0.0063 - val_accuracy: 0.4156 - val_loss: 1.5723 - val_precision: 0.8889 - val_recall: 0.3117\n",
            "Epoch 3/20\n",
            "\u001b[1m23/23\u001b[0m \u001b[32m━━━━━━━━━━━━━━━━━━━━\u001b[0m\u001b[37m\u001b[0m \u001b[1m19s\u001b[0m 471ms/step - accuracy: 0.5539 - loss: 1.2802 - precision: 0.9094 - recall: 0.2863 - val_accuracy: 0.6494 - val_loss: 1.1959 - val_precision: 0.9375 - val_recall: 0.3896\n",
            "Epoch 4/20\n",
            "\u001b[1m23/23\u001b[0m \u001b[32m━━━━━━━━━━━━━━━━━━━━\u001b[0m\u001b[37m\u001b[0m \u001b[1m21s\u001b[0m 520ms/step - accuracy: 0.7940 - loss: 0.8185 - precision: 0.9529 - recall: 0.5306 - val_accuracy: 0.7143 - val_loss: 1.0184 - val_precision: 0.7895 - val_recall: 0.5844\n",
            "Epoch 5/20\n",
            "\u001b[1m23/23\u001b[0m \u001b[32m━━━━━━━━━━━━━━━━━━━━\u001b[0m\u001b[37m\u001b[0m \u001b[1m12s\u001b[0m 519ms/step - accuracy: 0.9019 - loss: 0.4767 - precision: 0.9775 - recall: 0.7857 - val_accuracy: 0.7403 - val_loss: 0.8583 - val_precision: 0.8308 - val_recall: 0.7013\n",
            "Epoch 6/20\n",
            "\u001b[1m23/23\u001b[0m \u001b[32m━━━━━━━━━━━━━━━━━━━━\u001b[0m\u001b[37m\u001b[0m \u001b[1m19s\u001b[0m 465ms/step - accuracy: 0.9246 - loss: 0.3130 - precision: 0.9737 - recall: 0.8986 - val_accuracy: 0.7273 - val_loss: 0.9520 - val_precision: 0.7857 - val_recall: 0.7143\n",
            "Epoch 7/20\n",
            "\u001b[1m23/23\u001b[0m \u001b[32m━━━━━━━━━━━━━━━━━━━━\u001b[0m\u001b[37m\u001b[0m \u001b[1m11s\u001b[0m 482ms/step - accuracy: 0.9519 - loss: 0.1811 - precision: 0.9760 - recall: 0.9395 - val_accuracy: 0.7403 - val_loss: 0.9734 - val_precision: 0.7857 - val_recall: 0.7143\n",
            "Epoch 8/20\n",
            "\u001b[1m23/23\u001b[0m \u001b[32m━━━━━━━━━━━━━━━━━━━━\u001b[0m\u001b[37m\u001b[0m \u001b[1m21s\u001b[0m 518ms/step - accuracy: 0.9743 - loss: 0.1272 - precision: 0.9844 - recall: 0.9426 - val_accuracy: 0.7532 - val_loss: 1.0246 - val_precision: 0.8030 - val_recall: 0.6883\n",
            "Metrics names: ['loss', 'compile_metrics']\n",
            "\u001b[1m3/3\u001b[0m \u001b[32m━━━━━━━━━━━━━━━━━━━━\u001b[0m\u001b[37m\u001b[0m \u001b[1m0s\u001b[0m 102ms/step - accuracy: 0.8258 - loss: 0.6986 - precision: 0.8597 - recall: 0.7534\n",
            "loss: 73.35%\n",
            "compile_metrics: 82.35%\n",
            "\u001b[1m3/3\u001b[0m \u001b[32m━━━━━━━━━━━━━━━━━━━━\u001b[0m\u001b[37m\u001b[0m \u001b[1m1s\u001b[0m 209ms/step\n",
            "Epoch 1/20\n",
            "\u001b[1m23/23\u001b[0m \u001b[32m━━━━━━━━━━━━━━━━━━━━\u001b[0m\u001b[37m\u001b[0m \u001b[1m16s\u001b[0m 546ms/step - accuracy: 0.2798 - loss: 1.9113 - precision: 0.2122 - recall: 0.0178 - val_accuracy: 0.3636 - val_loss: 1.6815 - val_precision: 0.0000e+00 - val_recall: 0.0000e+00\n",
            "Epoch 2/20\n",
            "\u001b[1m23/23\u001b[0m \u001b[32m━━━━━━━━━━━━━━━━━━━━\u001b[0m\u001b[37m\u001b[0m \u001b[1m12s\u001b[0m 519ms/step - accuracy: 0.4160 - loss: 1.5604 - precision: 0.5712 - recall: 0.0225 - val_accuracy: 0.4286 - val_loss: 1.5488 - val_precision: 0.0000e+00 - val_recall: 0.0000e+00\n",
            "Epoch 3/20\n",
            "\u001b[1m23/23\u001b[0m \u001b[32m━━━━━━━━━━━━━━━━━━━━\u001b[0m\u001b[37m\u001b[0m \u001b[1m14s\u001b[0m 611ms/step - accuracy: 0.5305 - loss: 1.2616 - precision: 0.9389 - recall: 0.2275 - val_accuracy: 0.5584 - val_loss: 1.2817 - val_precision: 0.8286 - val_recall: 0.3766\n",
            "Epoch 4/20\n",
            "\u001b[1m23/23\u001b[0m \u001b[32m━━━━━━━━━━━━━━━━━━━━\u001b[0m\u001b[37m\u001b[0m \u001b[1m19s\u001b[0m 524ms/step - accuracy: 0.7625 - loss: 0.8535 - precision: 0.9406 - recall: 0.5084 - val_accuracy: 0.7143 - val_loss: 1.0346 - val_precision: 0.8571 - val_recall: 0.4675\n",
            "Epoch 5/20\n",
            "\u001b[1m23/23\u001b[0m \u001b[32m━━━━━━━━━━━━━━━━━━━━\u001b[0m\u001b[37m\u001b[0m \u001b[1m20s\u001b[0m 521ms/step - accuracy: 0.8839 - loss: 0.4847 - precision: 0.9702 - recall: 0.7718 - val_accuracy: 0.7143 - val_loss: 0.9240 - val_precision: 0.8095 - val_recall: 0.6623\n",
            "Epoch 6/20\n",
            "\u001b[1m23/23\u001b[0m \u001b[32m━━━━━━━━━━━━━━━━━━━━\u001b[0m\u001b[37m\u001b[0m \u001b[1m20s\u001b[0m 517ms/step - accuracy: 0.9359 - loss: 0.2861 - precision: 0.9502 - recall: 0.9081 - val_accuracy: 0.7403 - val_loss: 0.9360 - val_precision: 0.8125 - val_recall: 0.6753\n",
            "Epoch 7/20\n",
            "\u001b[1m23/23\u001b[0m \u001b[32m━━━━━━━━━━━━━━━━━━━━\u001b[0m\u001b[37m\u001b[0m \u001b[1m20s\u001b[0m 512ms/step - accuracy: 0.9410 - loss: 0.1871 - precision: 0.9692 - recall: 0.9338 - val_accuracy: 0.7143 - val_loss: 1.0044 - val_precision: 0.7879 - val_recall: 0.6753\n",
            "Epoch 8/20\n",
            "\u001b[1m23/23\u001b[0m \u001b[32m━━━━━━━━━━━━━━━━━━━━\u001b[0m\u001b[37m\u001b[0m \u001b[1m20s\u001b[0m 471ms/step - accuracy: 0.9521 - loss: 0.1541 - precision: 0.9786 - recall: 0.9440 - val_accuracy: 0.7403 - val_loss: 0.9793 - val_precision: 0.8308 - val_recall: 0.7013\n",
            "Metrics names: ['loss', 'compile_metrics']\n",
            "\u001b[1m3/3\u001b[0m \u001b[32m━━━━━━━━━━━━━━━━━━━━\u001b[0m\u001b[37m\u001b[0m \u001b[1m0s\u001b[0m 105ms/step - accuracy: 0.7945 - loss: 0.6995 - precision: 0.8967 - recall: 0.7847\n",
            "loss: 72.80%\n",
            "compile_metrics: 77.65%\n"
          ]
        },
        {
          "output_type": "stream",
          "name": "stderr",
          "text": [
            "WARNING:tensorflow:5 out of the last 7 calls to <function TensorFlowTrainer.make_predict_function.<locals>.one_step_on_data_distributed at 0x7ec6beee13f0> triggered tf.function retracing. Tracing is expensive and the excessive number of tracings could be due to (1) creating @tf.function repeatedly in a loop, (2) passing tensors with different shapes, (3) passing Python objects instead of tensors. For (1), please define your @tf.function outside of the loop. For (2), @tf.function has reduce_retracing=True option that can avoid unnecessary retracing. For (3), please refer to https://www.tensorflow.org/guide/function#controlling_retracing and https://www.tensorflow.org/api_docs/python/tf/function for  more details.\n"
          ]
        },
        {
          "output_type": "stream",
          "name": "stdout",
          "text": [
            "\u001b[1m2/3\u001b[0m \u001b[32m━━━━━━━━━━━━━\u001b[0m\u001b[37m━━━━━━━\u001b[0m \u001b[1m0s\u001b[0m 109ms/step"
          ]
        },
        {
          "output_type": "stream",
          "name": "stderr",
          "text": [
            "WARNING:tensorflow:6 out of the last 9 calls to <function TensorFlowTrainer.make_predict_function.<locals>.one_step_on_data_distributed at 0x7ec6beee13f0> triggered tf.function retracing. Tracing is expensive and the excessive number of tracings could be due to (1) creating @tf.function repeatedly in a loop, (2) passing tensors with different shapes, (3) passing Python objects instead of tensors. For (1), please define your @tf.function outside of the loop. For (2), @tf.function has reduce_retracing=True option that can avoid unnecessary retracing. For (3), please refer to https://www.tensorflow.org/guide/function#controlling_retracing and https://www.tensorflow.org/api_docs/python/tf/function for  more details.\n"
          ]
        },
        {
          "output_type": "stream",
          "name": "stdout",
          "text": [
            "\u001b[1m3/3\u001b[0m \u001b[32m━━━━━━━━━━━━━━━━━━━━\u001b[0m\u001b[37m\u001b[0m \u001b[1m1s\u001b[0m 197ms/step\n",
            "Epoch 1/20\n",
            "\u001b[1m23/23\u001b[0m \u001b[32m━━━━━━━━━━━━━━━━━━━━\u001b[0m\u001b[37m\u001b[0m \u001b[1m16s\u001b[0m 495ms/step - accuracy: 0.3062 - loss: 1.9001 - precision: 0.2025 - recall: 0.0066 - val_accuracy: 0.3506 - val_loss: 1.7264 - val_precision: 0.0000e+00 - val_recall: 0.0000e+00\n",
            "Epoch 2/20\n",
            "\u001b[1m23/23\u001b[0m \u001b[32m━━━━━━━━━━━━━━━━━━━━\u001b[0m\u001b[37m\u001b[0m \u001b[1m11s\u001b[0m 477ms/step - accuracy: 0.3495 - loss: 1.5889 - precision: 0.3432 - recall: 0.0122 - val_accuracy: 0.3896 - val_loss: 1.5917 - val_precision: 0.9583 - val_recall: 0.2987\n",
            "Epoch 3/20\n",
            "\u001b[1m23/23\u001b[0m \u001b[32m━━━━━━━━━━━━━━━━━━━━\u001b[0m\u001b[37m\u001b[0m \u001b[1m21s\u001b[0m 532ms/step - accuracy: 0.5349 - loss: 1.2812 - precision: 0.9258 - recall: 0.2360 - val_accuracy: 0.7013 - val_loss: 1.1794 - val_precision: 0.9615 - val_recall: 0.3247\n",
            "Epoch 4/20\n",
            "\u001b[1m23/23\u001b[0m \u001b[32m━━━━━━━━━━━━━━━━━━━━\u001b[0m\u001b[37m\u001b[0m \u001b[1m19s\u001b[0m 474ms/step - accuracy: 0.7989 - loss: 0.8874 - precision: 0.9867 - recall: 0.4762 - val_accuracy: 0.7532 - val_loss: 0.8896 - val_precision: 0.9038 - val_recall: 0.6104\n",
            "Epoch 5/20\n",
            "\u001b[1m23/23\u001b[0m \u001b[32m━━━━━━━━━━━━━━━━━━━━\u001b[0m\u001b[37m\u001b[0m \u001b[1m22s\u001b[0m 523ms/step - accuracy: 0.8864 - loss: 0.4602 - precision: 0.9718 - recall: 0.7911 - val_accuracy: 0.7662 - val_loss: 0.7809 - val_precision: 0.8814 - val_recall: 0.6753\n",
            "Epoch 6/20\n",
            "\u001b[1m23/23\u001b[0m \u001b[32m━━━━━━━━━━━━━━━━━━━━\u001b[0m\u001b[37m\u001b[0m \u001b[1m21s\u001b[0m 526ms/step - accuracy: 0.9495 - loss: 0.2350 - precision: 0.9731 - recall: 0.9182 - val_accuracy: 0.7403 - val_loss: 0.7865 - val_precision: 0.9032 - val_recall: 0.7273\n",
            "Epoch 7/20\n",
            "\u001b[1m23/23\u001b[0m \u001b[32m━━━━━━━━━━━━━━━━━━━━\u001b[0m\u001b[37m\u001b[0m \u001b[1m20s\u001b[0m 524ms/step - accuracy: 0.9553 - loss: 0.1583 - precision: 0.9858 - recall: 0.9486 - val_accuracy: 0.7662 - val_loss: 0.8763 - val_precision: 0.8636 - val_recall: 0.7403\n",
            "Epoch 8/20\n",
            "\u001b[1m23/23\u001b[0m \u001b[32m━━━━━━━━━━━━━━━━━━━━\u001b[0m\u001b[37m\u001b[0m \u001b[1m21s\u001b[0m 527ms/step - accuracy: 0.9579 - loss: 0.1432 - precision: 0.9841 - recall: 0.9450 - val_accuracy: 0.7403 - val_loss: 0.9360 - val_precision: 0.8060 - val_recall: 0.7013\n",
            "Metrics names: ['loss', 'compile_metrics']\n",
            "\u001b[1m3/3\u001b[0m \u001b[32m━━━━━━━━━━━━━━━━━━━━\u001b[0m\u001b[37m\u001b[0m \u001b[1m0s\u001b[0m 104ms/step - accuracy: 0.7769 - loss: 0.7524 - precision: 0.8156 - recall: 0.7613\n",
            "loss: 79.70%\n",
            "compile_metrics: 78.82%\n",
            "\u001b[1m3/3\u001b[0m \u001b[32m━━━━━━━━━━━━━━━━━━━━\u001b[0m\u001b[37m\u001b[0m \u001b[1m1s\u001b[0m 206ms/step\n",
            "Epoch 1/20\n",
            "\u001b[1m23/23\u001b[0m \u001b[32m━━━━━━━━━━━━━━━━━━━━\u001b[0m\u001b[37m\u001b[0m \u001b[1m17s\u001b[0m 555ms/step - accuracy: 0.3303 - loss: 1.9139 - precision: 0.1250 - recall: 0.0027 - val_accuracy: 0.4026 - val_loss: 1.7047 - val_precision: 0.0000e+00 - val_recall: 0.0000e+00\n",
            "Epoch 2/20\n",
            "\u001b[1m23/23\u001b[0m \u001b[32m━━━━━━━━━━━━━━━━━━━━\u001b[0m\u001b[37m\u001b[0m \u001b[1m20s\u001b[0m 519ms/step - accuracy: 0.3924 - loss: 1.5817 - precision: 0.4467 - recall: 0.0457 - val_accuracy: 0.4805 - val_loss: 1.6142 - val_precision: 1.0000 - val_recall: 0.0260\n",
            "Epoch 3/20\n",
            "\u001b[1m23/23\u001b[0m \u001b[32m━━━━━━━━━━━━━━━━━━━━\u001b[0m\u001b[37m\u001b[0m \u001b[1m12s\u001b[0m 536ms/step - accuracy: 0.5313 - loss: 1.3274 - precision: 0.9583 - recall: 0.1391 - val_accuracy: 0.5455 - val_loss: 1.2837 - val_precision: 0.9143 - val_recall: 0.4156\n",
            "Epoch 4/20\n",
            "\u001b[1m23/23\u001b[0m \u001b[32m━━━━━━━━━━━━━━━━━━━━\u001b[0m\u001b[37m\u001b[0m \u001b[1m22s\u001b[0m 605ms/step - accuracy: 0.7191 - loss: 0.9184 - precision: 0.9285 - recall: 0.4881 - val_accuracy: 0.7273 - val_loss: 0.9711 - val_precision: 0.9130 - val_recall: 0.5455\n",
            "Epoch 5/20\n",
            "\u001b[1m23/23\u001b[0m \u001b[32m━━━━━━━━━━━━━━━━━━━━\u001b[0m\u001b[37m\u001b[0m \u001b[1m19s\u001b[0m 533ms/step - accuracy: 0.8845 - loss: 0.5328 - precision: 0.9567 - recall: 0.7546 - val_accuracy: 0.7273 - val_loss: 0.8781 - val_precision: 0.8060 - val_recall: 0.7013\n",
            "Epoch 6/20\n",
            "\u001b[1m23/23\u001b[0m \u001b[32m━━━━━━━━━━━━━━━━━━━━\u001b[0m\u001b[37m\u001b[0m \u001b[1m12s\u001b[0m 527ms/step - accuracy: 0.9177 - loss: 0.3014 - precision: 0.9661 - recall: 0.8937 - val_accuracy: 0.7662 - val_loss: 0.8228 - val_precision: 0.8462 - val_recall: 0.7143\n",
            "Epoch 7/20\n",
            "\u001b[1m23/23\u001b[0m \u001b[32m━━━━━━━━━━━━━━━━━━━━\u001b[0m\u001b[37m\u001b[0m \u001b[1m20s\u001b[0m 529ms/step - accuracy: 0.9401 - loss: 0.2159 - precision: 0.9740 - recall: 0.9322 - val_accuracy: 0.7922 - val_loss: 0.8485 - val_precision: 0.8261 - val_recall: 0.7403\n",
            "Epoch 8/20\n",
            "\u001b[1m23/23\u001b[0m \u001b[32m━━━━━━━━━━━━━━━━━━━━\u001b[0m\u001b[37m\u001b[0m \u001b[1m21s\u001b[0m 533ms/step - accuracy: 0.9561 - loss: 0.1345 - precision: 0.9790 - recall: 0.9540 - val_accuracy: 0.8052 - val_loss: 0.9569 - val_precision: 0.8169 - val_recall: 0.7532\n",
            "Epoch 9/20\n",
            "\u001b[1m23/23\u001b[0m \u001b[32m━━━━━━━━━━━━━━━━━━━━\u001b[0m\u001b[37m\u001b[0m \u001b[1m20s\u001b[0m 513ms/step - accuracy: 0.9643 - loss: 0.1166 - precision: 0.9890 - recall: 0.9539 - val_accuracy: 0.7792 - val_loss: 1.0143 - val_precision: 0.8056 - val_recall: 0.7532\n",
            "Metrics names: ['loss', 'compile_metrics']\n",
            "\u001b[1m3/3\u001b[0m \u001b[32m━━━━━━━━━━━━━━━━━━━━\u001b[0m\u001b[37m\u001b[0m \u001b[1m0s\u001b[0m 103ms/step - accuracy: 0.7613 - loss: 0.9214 - precision: 0.8796 - recall: 0.7613\n",
            "loss: 85.81%\n",
            "compile_metrics: 78.82%\n",
            "\u001b[1m3/3\u001b[0m \u001b[32m━━━━━━━━━━━━━━━━━━━━\u001b[0m\u001b[37m\u001b[0m \u001b[1m1s\u001b[0m 206ms/step\n",
            "Epoch 1/20\n",
            "\u001b[1m23/23\u001b[0m \u001b[32m━━━━━━━━━━━━━━━━━━━━\u001b[0m\u001b[37m\u001b[0m \u001b[1m16s\u001b[0m 533ms/step - accuracy: 0.3049 - loss: 1.9000 - precision: 0.2454 - recall: 0.0346 - val_accuracy: 0.3636 - val_loss: 1.7443 - val_precision: 0.0000e+00 - val_recall: 0.0000e+00\n",
            "Epoch 2/20\n",
            "\u001b[1m23/23\u001b[0m \u001b[32m━━━━━━━━━━━━━━━━━━━━\u001b[0m\u001b[37m\u001b[0m \u001b[1m13s\u001b[0m 551ms/step - accuracy: 0.3782 - loss: 1.5879 - precision: 0.5508 - recall: 0.0072 - val_accuracy: 0.4286 - val_loss: 1.6259 - val_precision: 1.0000 - val_recall: 0.0519\n",
            "Epoch 3/20\n",
            "\u001b[1m23/23\u001b[0m \u001b[32m━━━━━━━━━━━━━━━━━━━━\u001b[0m\u001b[37m\u001b[0m \u001b[1m20s\u001b[0m 536ms/step - accuracy: 0.4889 - loss: 1.3084 - precision: 0.9668 - recall: 0.2051 - val_accuracy: 0.6494 - val_loss: 1.2818 - val_precision: 0.9000 - val_recall: 0.2338\n",
            "Epoch 4/20\n",
            "\u001b[1m23/23\u001b[0m \u001b[32m━━━━━━━━━━━━━━━━━━━━\u001b[0m\u001b[37m\u001b[0m \u001b[1m20s\u001b[0m 505ms/step - accuracy: 0.7979 - loss: 0.8460 - precision: 0.9652 - recall: 0.5479 - val_accuracy: 0.6883 - val_loss: 0.9890 - val_precision: 0.8333 - val_recall: 0.5844\n",
            "Epoch 5/20\n",
            "\u001b[1m23/23\u001b[0m \u001b[32m━━━━━━━━━━━━━━━━━━━━\u001b[0m\u001b[37m\u001b[0m \u001b[1m21s\u001b[0m 534ms/step - accuracy: 0.8993 - loss: 0.4643 - precision: 0.9605 - recall: 0.8010 - val_accuracy: 0.6883 - val_loss: 0.9604 - val_precision: 0.7879 - val_recall: 0.6753\n",
            "Epoch 6/20\n",
            "\u001b[1m23/23\u001b[0m \u001b[32m━━━━━━━━━━━━━━━━━━━━\u001b[0m\u001b[37m\u001b[0m \u001b[1m19s\u001b[0m 450ms/step - accuracy: 0.9288 - loss: 0.2669 - precision: 0.9594 - recall: 0.9122 - val_accuracy: 0.7273 - val_loss: 1.0220 - val_precision: 0.7941 - val_recall: 0.7013\n",
            "Epoch 7/20\n",
            "\u001b[1m23/23\u001b[0m \u001b[32m━━━━━━━━━━━━━━━━━━━━\u001b[0m\u001b[37m\u001b[0m \u001b[1m22s\u001b[0m 525ms/step - accuracy: 0.9492 - loss: 0.1724 - precision: 0.9880 - recall: 0.9414 - val_accuracy: 0.7273 - val_loss: 1.1447 - val_precision: 0.8000 - val_recall: 0.7273\n",
            "Epoch 8/20\n",
            "\u001b[1m23/23\u001b[0m \u001b[32m━━━━━━━━━━━━━━━━━━━━\u001b[0m\u001b[37m\u001b[0m \u001b[1m21s\u001b[0m 529ms/step - accuracy: 0.9475 - loss: 0.1707 - precision: 0.9697 - recall: 0.9410 - val_accuracy: 0.7532 - val_loss: 1.1302 - val_precision: 0.8030 - val_recall: 0.6883\n",
            "Metrics names: ['loss', 'compile_metrics']\n",
            "\u001b[1m3/3\u001b[0m \u001b[32m━━━━━━━━━━━━━━━━━━━━\u001b[0m\u001b[37m\u001b[0m \u001b[1m0s\u001b[0m 112ms/step - accuracy: 0.7828 - loss: 0.8900 - precision: 0.8317 - recall: 0.7593\n",
            "loss: 95.07%\n",
            "compile_metrics: 77.65%\n",
            "\u001b[1m3/3\u001b[0m \u001b[32m━━━━━━━━━━━━━━━━━━━━\u001b[0m\u001b[37m\u001b[0m \u001b[1m1s\u001b[0m 198ms/step\n",
            "Epoch 1/20\n",
            "\u001b[1m23/23\u001b[0m \u001b[32m━━━━━━━━━━━━━━━━━━━━\u001b[0m\u001b[37m\u001b[0m \u001b[1m16s\u001b[0m 554ms/step - accuracy: 0.3324 - loss: 1.9005 - precision: 0.3285 - recall: 0.0523 - val_accuracy: 0.4545 - val_loss: 1.6861 - val_precision: 0.0000e+00 - val_recall: 0.0000e+00\n",
            "Epoch 2/20\n",
            "\u001b[1m23/23\u001b[0m \u001b[32m━━━━━━━━━━━━━━━━━━━━\u001b[0m\u001b[37m\u001b[0m \u001b[1m12s\u001b[0m 521ms/step - accuracy: 0.3865 - loss: 1.5578 - precision: 0.4599 - recall: 0.0655 - val_accuracy: 0.4416 - val_loss: 1.5615 - val_precision: 0.0000e+00 - val_recall: 0.0000e+00\n",
            "Epoch 3/20\n",
            "\u001b[1m23/23\u001b[0m \u001b[32m━━━━━━━━━━━━━━━━━━━━\u001b[0m\u001b[37m\u001b[0m \u001b[1m20s\u001b[0m 478ms/step - accuracy: 0.5793 - loss: 1.3215 - precision: 0.9728 - recall: 0.1170 - val_accuracy: 0.5714 - val_loss: 1.2376 - val_precision: 0.9630 - val_recall: 0.3377\n",
            "Epoch 4/20\n",
            "\u001b[1m23/23\u001b[0m \u001b[32m━━━━━━━━━━━━━━━━━━━━\u001b[0m\u001b[37m\u001b[0m \u001b[1m12s\u001b[0m 520ms/step - accuracy: 0.7639 - loss: 0.8330 - precision: 0.9429 - recall: 0.5124 - val_accuracy: 0.6883 - val_loss: 0.9918 - val_precision: 0.8723 - val_recall: 0.5325\n",
            "Epoch 5/20\n",
            "\u001b[1m23/23\u001b[0m \u001b[32m━━━━━━━━━━━━━━━━━━━━\u001b[0m\u001b[37m\u001b[0m \u001b[1m22s\u001b[0m 617ms/step - accuracy: 0.8945 - loss: 0.4556 - precision: 0.9675 - recall: 0.7712 - val_accuracy: 0.6883 - val_loss: 0.9082 - val_precision: 0.8214 - val_recall: 0.5974\n",
            "Epoch 6/20\n",
            "\u001b[1m23/23\u001b[0m \u001b[32m━━━━━━━━━━━━━━━━━━━━\u001b[0m\u001b[37m\u001b[0m \u001b[1m12s\u001b[0m 535ms/step - accuracy: 0.9495 - loss: 0.2527 - precision: 0.9725 - recall: 0.9184 - val_accuracy: 0.7273 - val_loss: 0.9955 - val_precision: 0.7910 - val_recall: 0.6883\n",
            "Epoch 7/20\n",
            "\u001b[1m23/23\u001b[0m \u001b[32m━━━━━━━━━━━━━━━━━━━━\u001b[0m\u001b[37m\u001b[0m \u001b[1m19s\u001b[0m 464ms/step - accuracy: 0.9552 - loss: 0.1603 - precision: 0.9835 - recall: 0.9467 - val_accuracy: 0.7013 - val_loss: 1.1114 - val_precision: 0.7571 - val_recall: 0.6883\n",
            "Epoch 8/20\n",
            "\u001b[1m23/23\u001b[0m \u001b[32m━━━━━━━━━━━━━━━━━━━━\u001b[0m\u001b[37m\u001b[0m \u001b[1m12s\u001b[0m 517ms/step - accuracy: 0.9617 - loss: 0.1369 - precision: 0.9782 - recall: 0.9478 - val_accuracy: 0.7143 - val_loss: 1.0643 - val_precision: 0.7681 - val_recall: 0.6883\n",
            "Metrics names: ['loss', 'compile_metrics']\n",
            "\u001b[1m3/3\u001b[0m \u001b[32m━━━━━━━━━━━━━━━━━━━━\u001b[0m\u001b[37m\u001b[0m \u001b[1m0s\u001b[0m 109ms/step - accuracy: 0.8552 - loss: 0.5364 - precision: 0.9024 - recall: 0.8141\n",
            "loss: 56.10%\n",
            "compile_metrics: 85.88%\n",
            "\u001b[1m3/3\u001b[0m \u001b[32m━━━━━━━━━━━━━━━━━━━━\u001b[0m\u001b[37m\u001b[0m \u001b[1m1s\u001b[0m 205ms/step\n",
            "Epoch 1/20\n",
            "\u001b[1m23/23\u001b[0m \u001b[32m━━━━━━━━━━━━━━━━━━━━\u001b[0m\u001b[37m\u001b[0m \u001b[1m16s\u001b[0m 567ms/step - accuracy: 0.3237 - loss: 1.8927 - precision: 0.2808 - recall: 0.0163 - val_accuracy: 0.3896 - val_loss: 1.6901 - val_precision: 0.0000e+00 - val_recall: 0.0000e+00\n",
            "Epoch 2/20\n",
            "\u001b[1m23/23\u001b[0m \u001b[32m━━━━━━━━━━━━━━━━━━━━\u001b[0m\u001b[37m\u001b[0m \u001b[1m20s\u001b[0m 542ms/step - accuracy: 0.3759 - loss: 1.5688 - precision: 0.6085 - recall: 0.0164 - val_accuracy: 0.4675 - val_loss: 1.5242 - val_precision: 1.0000 - val_recall: 0.0779\n",
            "Epoch 3/20\n",
            "\u001b[1m23/23\u001b[0m \u001b[32m━━━━━━━━━━━━━━━━━━━━\u001b[0m\u001b[37m\u001b[0m \u001b[1m20s\u001b[0m 499ms/step - accuracy: 0.5563 - loss: 1.2937 - precision: 0.9383 - recall: 0.1544 - val_accuracy: 0.5584 - val_loss: 1.2471 - val_precision: 0.9143 - val_recall: 0.4156\n",
            "Epoch 4/20\n",
            "\u001b[1m23/23\u001b[0m \u001b[32m━━━━━━━━━━━━━━━━━━━━\u001b[0m\u001b[37m\u001b[0m \u001b[1m21s\u001b[0m 523ms/step - accuracy: 0.7042 - loss: 0.8852 - precision: 0.9376 - recall: 0.5509 - val_accuracy: 0.7013 - val_loss: 1.0407 - val_precision: 0.8491 - val_recall: 0.5844\n",
            "Epoch 5/20\n",
            "\u001b[1m23/23\u001b[0m \u001b[32m━━━━━━━━━━━━━━━━━━━━\u001b[0m\u001b[37m\u001b[0m \u001b[1m12s\u001b[0m 528ms/step - accuracy: 0.8898 - loss: 0.4695 - precision: 0.9513 - recall: 0.7936 - val_accuracy: 0.7532 - val_loss: 0.9263 - val_precision: 0.8209 - val_recall: 0.7143\n",
            "Epoch 6/20\n",
            "\u001b[1m23/23\u001b[0m \u001b[32m━━━━━━━━━━━━━━━━━━━━\u001b[0m\u001b[37m\u001b[0m \u001b[1m20s\u001b[0m 488ms/step - accuracy: 0.9312 - loss: 0.2755 - precision: 0.9706 - recall: 0.8979 - val_accuracy: 0.7662 - val_loss: 1.0153 - val_precision: 0.8143 - val_recall: 0.7403\n",
            "Epoch 7/20\n",
            "\u001b[1m23/23\u001b[0m \u001b[32m━━━━━━━━━━━━━━━━━━━━\u001b[0m\u001b[37m\u001b[0m \u001b[1m21s\u001b[0m 527ms/step - accuracy: 0.9379 - loss: 0.1892 - precision: 0.9832 - recall: 0.9275 - val_accuracy: 0.8182 - val_loss: 0.9754 - val_precision: 0.8194 - val_recall: 0.7662\n",
            "Epoch 8/20\n",
            "\u001b[1m23/23\u001b[0m \u001b[32m━━━━━━━━━━━━━━━━━━━━\u001b[0m\u001b[37m\u001b[0m \u001b[1m19s\u001b[0m 467ms/step - accuracy: 0.9659 - loss: 0.1275 - precision: 0.9835 - recall: 0.9378 - val_accuracy: 0.7273 - val_loss: 1.0605 - val_precision: 0.8030 - val_recall: 0.6883\n",
            "Metrics names: ['loss', 'compile_metrics']\n",
            "\u001b[1m3/3\u001b[0m \u001b[32m━━━━━━━━━━━━━━━━━━━━\u001b[0m\u001b[37m\u001b[0m \u001b[1m0s\u001b[0m 108ms/step - accuracy: 0.7769 - loss: 0.7290 - precision: 0.8329 - recall: 0.7221\n",
            "loss: 84.06%\n",
            "compile_metrics: 76.47%\n",
            "\u001b[1m3/3\u001b[0m \u001b[32m━━━━━━━━━━━━━━━━━━━━\u001b[0m\u001b[37m\u001b[0m \u001b[1m1s\u001b[0m 200ms/step\n",
            "Epoch 1/20\n",
            "\u001b[1m23/23\u001b[0m \u001b[32m━━━━━━━━━━━━━━━━━━━━\u001b[0m\u001b[37m\u001b[0m \u001b[1m18s\u001b[0m 551ms/step - accuracy: 0.3117 - loss: 1.9355 - precision: 0.2350 - recall: 0.0067 - val_accuracy: 0.4026 - val_loss: 1.6270 - val_precision: 0.0000e+00 - val_recall: 0.0000e+00\n",
            "Epoch 2/20\n",
            "\u001b[1m23/23\u001b[0m \u001b[32m━━━━━━━━━━━━━━━━━━━━\u001b[0m\u001b[37m\u001b[0m \u001b[1m11s\u001b[0m 488ms/step - accuracy: 0.3788 - loss: 1.5716 - precision: 0.4050 - recall: 0.0123 - val_accuracy: 0.5195 - val_loss: 1.4793 - val_precision: 1.0000 - val_recall: 0.0390\n",
            "Epoch 3/20\n",
            "\u001b[1m23/23\u001b[0m \u001b[32m━━━━━━━━━━━━━━━━━━━━\u001b[0m\u001b[37m\u001b[0m \u001b[1m21s\u001b[0m 531ms/step - accuracy: 0.6084 - loss: 1.2287 - precision: 0.9169 - recall: 0.2599 - val_accuracy: 0.6104 - val_loss: 1.1808 - val_precision: 0.9444 - val_recall: 0.4416\n",
            "Epoch 4/20\n",
            "\u001b[1m23/23\u001b[0m \u001b[32m━━━━━━━━━━━━━━━━━━━━\u001b[0m\u001b[37m\u001b[0m \u001b[1m20s\u001b[0m 526ms/step - accuracy: 0.7882 - loss: 0.8137 - precision: 0.9753 - recall: 0.5133 - val_accuracy: 0.6883 - val_loss: 0.9972 - val_precision: 0.8421 - val_recall: 0.6234\n",
            "Epoch 5/20\n",
            "\u001b[1m23/23\u001b[0m \u001b[32m━━━━━━━━━━━━━━━━━━━━\u001b[0m\u001b[37m\u001b[0m \u001b[1m20s\u001b[0m 512ms/step - accuracy: 0.8974 - loss: 0.4519 - precision: 0.9519 - recall: 0.8372 - val_accuracy: 0.7273 - val_loss: 0.8921 - val_precision: 0.8772 - val_recall: 0.6494\n",
            "Epoch 6/20\n",
            "\u001b[1m23/23\u001b[0m \u001b[32m━━━━━━━━━━━━━━━━━━━━\u001b[0m\u001b[37m\u001b[0m \u001b[1m21s\u001b[0m 527ms/step - accuracy: 0.9380 - loss: 0.2516 - precision: 0.9738 - recall: 0.9179 - val_accuracy: 0.7273 - val_loss: 0.8897 - val_precision: 0.8413 - val_recall: 0.6883\n",
            "Epoch 7/20\n",
            "\u001b[1m23/23\u001b[0m \u001b[32m━━━━━━━━━━━━━━━━━━━━\u001b[0m\u001b[37m\u001b[0m \u001b[1m19s\u001b[0m 462ms/step - accuracy: 0.9518 - loss: 0.1821 - precision: 0.9768 - recall: 0.9360 - val_accuracy: 0.7403 - val_loss: 0.9775 - val_precision: 0.8358 - val_recall: 0.7273\n",
            "Epoch 8/20\n",
            "\u001b[1m23/23\u001b[0m \u001b[32m━━━━━━━━━━━━━━━━━━━━\u001b[0m\u001b[37m\u001b[0m \u001b[1m12s\u001b[0m 531ms/step - accuracy: 0.9754 - loss: 0.1041 - precision: 0.9853 - recall: 0.9682 - val_accuracy: 0.7662 - val_loss: 0.9644 - val_precision: 0.8636 - val_recall: 0.7403\n",
            "Epoch 9/20\n",
            "\u001b[1m23/23\u001b[0m \u001b[32m━━━━━━━━━━━━━━━━━━━━\u001b[0m\u001b[37m\u001b[0m \u001b[1m20s\u001b[0m 531ms/step - accuracy: 0.9740 - loss: 0.0864 - precision: 0.9873 - recall: 0.9567 - val_accuracy: 0.7403 - val_loss: 1.0197 - val_precision: 0.8028 - val_recall: 0.7403\n",
            "Metrics names: ['loss', 'compile_metrics']\n",
            "\u001b[1m3/3\u001b[0m \u001b[32m━━━━━━━━━━━━━━━━━━━━\u001b[0m\u001b[37m\u001b[0m \u001b[1m1s\u001b[0m 187ms/step - accuracy: 0.7476 - loss: 0.8956 - precision: 0.8200 - recall: 0.7065\n",
            "loss: 78.12%\n",
            "compile_metrics: 77.65%\n",
            "\u001b[1m3/3\u001b[0m \u001b[32m━━━━━━━━━━━━━━━━━━━━\u001b[0m\u001b[37m\u001b[0m \u001b[1m1s\u001b[0m 309ms/step\n",
            "Epoch 1/20\n",
            "\u001b[1m23/23\u001b[0m \u001b[32m━━━━━━━━━━━━━━━━━━━━\u001b[0m\u001b[37m\u001b[0m \u001b[1m16s\u001b[0m 547ms/step - accuracy: 0.3600 - loss: 1.8984 - precision: 0.2581 - recall: 0.0373 - val_accuracy: 0.4286 - val_loss: 1.7154 - val_precision: 0.0000e+00 - val_recall: 0.0000e+00\n",
            "Epoch 2/20\n",
            "\u001b[1m23/23\u001b[0m \u001b[32m━━━━━━━━━━━━━━━━━━━━\u001b[0m\u001b[37m\u001b[0m \u001b[1m19s\u001b[0m 484ms/step - accuracy: 0.4030 - loss: 1.5436 - precision: 0.5521 - recall: 0.0357 - val_accuracy: 0.4675 - val_loss: 1.5596 - val_precision: 1.0000 - val_recall: 0.0260\n",
            "Epoch 3/20\n",
            "\u001b[1m23/23\u001b[0m \u001b[32m━━━━━━━━━━━━━━━━━━━━\u001b[0m\u001b[37m\u001b[0m \u001b[1m12s\u001b[0m 521ms/step - accuracy: 0.5723 - loss: 1.3154 - precision: 0.9904 - recall: 0.1669 - val_accuracy: 0.6494 - val_loss: 1.2237 - val_precision: 0.9167 - val_recall: 0.4286\n",
            "Epoch 4/20\n",
            "\u001b[1m23/23\u001b[0m \u001b[32m━━━━━━━━━━━━━━━━━━━━\u001b[0m\u001b[37m\u001b[0m \u001b[1m12s\u001b[0m 523ms/step - accuracy: 0.7632 - loss: 0.8468 - precision: 0.9447 - recall: 0.4657 - val_accuracy: 0.6883 - val_loss: 1.0316 - val_precision: 0.8036 - val_recall: 0.5844\n",
            "Epoch 5/20\n",
            "\u001b[1m23/23\u001b[0m \u001b[32m━━━━━━━━━━━━━━━━━━━━\u001b[0m\u001b[37m\u001b[0m \u001b[1m12s\u001b[0m 521ms/step - accuracy: 0.8958 - loss: 0.4791 - precision: 0.9676 - recall: 0.7992 - val_accuracy: 0.6883 - val_loss: 0.9647 - val_precision: 0.8226 - val_recall: 0.6623\n",
            "Epoch 6/20\n",
            "\u001b[1m23/23\u001b[0m \u001b[32m━━━━━━━━━━━━━━━━━━━━\u001b[0m\u001b[37m\u001b[0m \u001b[1m19s\u001b[0m 468ms/step - accuracy: 0.9423 - loss: 0.2532 - precision: 0.9612 - recall: 0.9242 - val_accuracy: 0.6883 - val_loss: 0.9362 - val_precision: 0.8030 - val_recall: 0.6883\n",
            "Epoch 7/20\n",
            "\u001b[1m23/23\u001b[0m \u001b[32m━━━━━━━━━━━━━━━━━━━━\u001b[0m\u001b[37m\u001b[0m \u001b[1m22s\u001b[0m 523ms/step - accuracy: 0.9548 - loss: 0.1784 - precision: 0.9791 - recall: 0.9473 - val_accuracy: 0.7273 - val_loss: 1.0051 - val_precision: 0.8060 - val_recall: 0.7013\n",
            "Epoch 8/20\n",
            "\u001b[1m23/23\u001b[0m \u001b[32m━━━━━━━━━━━━━━━━━━━━\u001b[0m\u001b[37m\u001b[0m \u001b[1m21s\u001b[0m 542ms/step - accuracy: 0.9695 - loss: 0.1216 - precision: 0.9822 - recall: 0.9540 - val_accuracy: 0.7143 - val_loss: 1.0199 - val_precision: 0.8088 - val_recall: 0.7143\n",
            "Epoch 9/20\n",
            "\u001b[1m23/23\u001b[0m \u001b[32m━━━━━━━━━━━━━━━━━━━━\u001b[0m\u001b[37m\u001b[0m \u001b[1m12s\u001b[0m 527ms/step - accuracy: 0.9774 - loss: 0.0833 - precision: 0.9870 - recall: 0.9629 - val_accuracy: 0.7403 - val_loss: 1.0253 - val_precision: 0.8116 - val_recall: 0.7273\n",
            "Metrics names: ['loss', 'compile_metrics']\n",
            "\u001b[1m3/3\u001b[0m \u001b[32m━━━━━━━━━━━━━━━━━━━━\u001b[0m\u001b[37m\u001b[0m \u001b[1m0s\u001b[0m 116ms/step - accuracy: 0.7886 - loss: 0.7021 - precision: 0.8298 - recall: 0.7632\n",
            "loss: 78.33%\n",
            "compile_metrics: 78.82%\n",
            "\u001b[1m3/3\u001b[0m \u001b[32m━━━━━━━━━━━━━━━━━━━━\u001b[0m\u001b[37m\u001b[0m \u001b[1m1s\u001b[0m 204ms/step\n"
          ]
        }
      ]
    },
    {
      "cell_type": "code",
      "metadata": {
        "id": "2K64saekBcsV",
        "colab": {
          "base_uri": "https://localhost:8080/"
        },
        "outputId": "6d4a95de-31c2-489e-9a1b-cdc017be2135"
      },
      "source": [
        "# Calculating Mean Average of model scores\n",
        "print(\"Mean & std for Area under Curve: %.2f%% (+/- %.2f%%)\" % (np.mean(cvscoresauc), np.std(cvscoresauc)))\n",
        "print(\"Mean & std for Precision: %.2f%% (+/- %.2f%%)\" % (np.mean(cvscorespre), np.std(cvscorespre)))\n",
        "print(\"Mean & std for Recall: %.2f%% (+/- %.2f%%)\" % (np.mean(cvscoresrec), np.std(cvscoresrec)))\n",
        "print((\"Mean & std for F1 score: %.2f%% (+/- %.2f%%)\" % (np.mean(cvscoresf1), np.std(cvscoresf1))))"
      ],
      "execution_count": 48,
      "outputs": [
        {
          "output_type": "stream",
          "name": "stdout",
          "text": [
            "Mean & std for Area under Curve: 78.82% (+/- 3.07%)\n",
            "Mean & std for Precision: 84.60% (+/- 3.67%)\n",
            "Mean & std for Recall: 75.88% (+/- 3.17%)\n",
            "Mean & std for F1 score: 79.98% (+/- 3.11%)\n"
          ]
        }
      ]
    },
    {
      "cell_type": "code",
      "metadata": {
        "id": "phgDOqbSBcsY",
        "colab": {
          "base_uri": "https://localhost:8080/"
        },
        "outputId": "c34820f8-a600-435f-98d0-8d4d4e479d51"
      },
      "source": [
        "# Print out the keys of the history object\n",
        "print(\"History keys:\", history.history.keys())\n",
        "\n",
        "# Check if the necessary metrics are available\n",
        "if 'acc' in history.history:\n",
        "    acc = history.history['accuracy']\n",
        "    val_acc = history.history['val_accuracy']\n",
        "    loss = history.history['loss']\n",
        "    val_loss = history.history['val_loss']\n",
        "\n",
        "    print(\"Maximum Training Accuracy: %s\" % np.max(history.history['acc']))\n",
        "    print(\"Maximum Validation Accuracy: %s\" % np.max(history.history['val_acc']))\n",
        "    print(\"Minimum Training Loss: %s\"  % np.min(history.history['loss']))\n",
        "    print(\"Minimum Validation Loss: %s\" % np.min(history.history['val_loss']))\n",
        "\n",
        "    epochs = range(1, len(acc) + 1)\n",
        "\n",
        "    plt.plot(epochs, acc, 'bo', label='Training acc')\n",
        "    plt.plot(epochs, val_acc, 'b', label='Validation acc')\n",
        "    plt.title('Training and validation accuracy')\n",
        "    plt.legend()\n",
        "\n",
        "    plt.figure()\n",
        "\n",
        "    plt.plot(epochs, loss, 'bo', label='Training loss')\n",
        "    plt.plot(epochs, val_loss, 'b', label='Validation loss')\n",
        "    plt.title('Training and validation loss')\n",
        "    plt.legend()\n",
        "\n",
        "    plt.show()\n",
        "else:\n",
        "    print(\"Training did not complete successfully. Check for errors.\")\n"
      ],
      "execution_count": 49,
      "outputs": [
        {
          "output_type": "stream",
          "name": "stdout",
          "text": [
            "History keys: dict_keys(['accuracy', 'loss', 'precision', 'recall', 'val_accuracy', 'val_loss', 'val_precision', 'val_recall'])\n",
            "Training did not complete successfully. Check for errors.\n"
          ]
        }
      ]
    },
    {
      "cell_type": "code",
      "metadata": {
        "id": "UsCbB4GpBcsa",
        "colab": {
          "base_uri": "https://localhost:8080/",
          "height": 1000
        },
        "outputId": "7647cf96-1c59-408f-f9e2-2161e4565f05"
      },
      "source": [
        "accr = model.evaluate(X_test,Y_test)\n",
        "print('Test set\\n  Loss: {:0.3f}\\n  Accuracy: {:0.3f}'.format(accr[0],accr[1]))\n",
        "Y_pred_test=model.predict(X_test)\n",
        "print(Y_pred_test)\n",
        "Y_pred_test_cm = (Y_pred_test.argmax(1)[:,None] == np.arange(Y_pred_test.shape[1])).astype(int)\n",
        "con_mat_test = multilabel_confusion_matrix(Y_test, Y_pred_test_cm, labels=[0, 1, 2, 3, 4, 5, 6, 7])\n",
        "plt.figure()\n",
        "print(\"****************************Confustion Matrix Plots Start here for Test Data**************\")\n",
        "class_name = \"Maintainability\"\n",
        "make_con_mat(con_mat_test[0],class_name)\n",
        "plt.figure()\n",
        "class_name = \"Operability\"\n",
        "make_con_mat(con_mat_test[1], class_name)\n",
        "plt.figure()\n",
        "class_name = \"Performance\"\n",
        "make_con_mat(con_mat_test[2],class_name)\n",
        "plt.figure()\n",
        "class_name = \"Security\"\n",
        "make_con_mat(con_mat_test[3], class_name)\n",
        "plt.figure()\n",
        "class_name = \"Usability\"\n",
        "make_con_mat(con_mat_test[4],class_name)\n",
        "plt.figure()\n",
        "class_name = \"Scalability\"\n",
        "make_con_mat(con_mat_test[5],class_name)\n",
        "plt.figure()\n",
        "class_name = \"Fault Tolerance\"\n",
        "make_con_mat(con_mat_test[6],class_name)\n",
        "plt.figure()\n",
        "class_name = \"Portability\"\n",
        "make_con_mat(con_mat_test[7],class_name)"
      ],
      "execution_count": 51,
      "outputs": [
        {
          "output_type": "stream",
          "name": "stdout",
          "text": [
            "\u001b[1m3/3\u001b[0m \u001b[32m━━━━━━━━━━━━━━━━━━━━\u001b[0m\u001b[37m\u001b[0m \u001b[1m0s\u001b[0m 134ms/step - accuracy: 0.7775 - loss: 0.7597 - precision: 0.8073 - recall: 0.7448\n",
            "Test set\n",
            "  Loss: 0.755\n",
            "  Accuracy: 0.789\n",
            "\u001b[1m3/3\u001b[0m \u001b[32m━━━━━━━━━━━━━━━━━━━━\u001b[0m\u001b[37m\u001b[0m \u001b[1m1s\u001b[0m 197ms/step\n",
            "[[1.45336008e-02 1.49245217e-01 7.16160238e-01 3.46190925e-03\n",
            "  3.67159699e-03 1.76299515e-03 9.39223394e-02 1.72421541e-02]\n",
            " [1.13903307e-05 1.49369444e-04 8.32651567e-05 8.37221305e-05\n",
            "  7.48225966e-06 6.99439533e-06 9.99635696e-01 2.20330039e-05]\n",
            " [4.15524282e-02 6.25126138e-02 8.11550990e-02 4.21048217e-02\n",
            "  7.19842128e-03 6.16198825e-03 7.04267025e-01 5.50475381e-02]\n",
            " [1.98889356e-02 1.38551544e-03 2.25037453e-03 1.19688902e-02\n",
            "  1.46398088e-03 8.90830159e-03 7.04947300e-03 9.47084486e-01]\n",
            " [2.78765205e-02 4.56090318e-03 1.48886750e-02 1.80683043e-02\n",
            "  2.42532836e-03 5.56611829e-03 4.57838960e-02 8.80830228e-01]\n",
            " [6.96598589e-02 3.84361260e-02 4.79240436e-03 6.72380567e-01\n",
            "  7.76523864e-03 7.27018788e-02 2.01929151e-03 1.32244602e-01]\n",
            " [1.45288277e-02 1.80163328e-02 4.61567566e-03 3.34052485e-03\n",
            "  2.68576946e-03 1.36196529e-02 1.09774563e-02 9.32215691e-01]\n",
            " [1.88188395e-03 6.16851822e-03 9.87581074e-01 1.93623579e-04\n",
            "  7.62826181e-04 1.61153992e-04 1.65208045e-03 1.59889588e-03]\n",
            " [1.74362585e-01 5.55156805e-02 1.24591112e-01 3.94460410e-02\n",
            "  1.32740242e-02 2.08086185e-02 2.86710579e-02 5.43330908e-01]\n",
            " [9.05952416e-04 2.12755520e-03 3.77275562e-03 4.36981063e-04\n",
            "  2.72146106e-04 2.30462654e-04 9.89553809e-01 2.70033535e-03]\n",
            " [2.00312461e-05 2.29235200e-04 6.48126006e-05 4.34125512e-04\n",
            "  1.03060602e-05 1.86099332e-05 9.99154508e-01 6.82683822e-05]\n",
            " [8.62480048e-03 2.86068499e-01 1.32370433e-02 5.84438667e-02\n",
            "  1.06959895e-03 2.04965519e-03 6.10326171e-01 2.01803520e-02]\n",
            " [4.62950254e-03 1.02490047e-03 3.27412970e-04 9.43868876e-01\n",
            "  3.99203622e-04 2.48113228e-03 6.62265904e-03 4.06462140e-02]\n",
            " [1.52737703e-04 9.96547401e-01 9.49828594e-04 2.98808678e-04\n",
            "  1.13841081e-04 3.37908161e-04 1.30019337e-03 2.99356034e-04]\n",
            " [1.33399066e-04 4.92918072e-03 6.26831606e-04 1.40287913e-03\n",
            "  5.61322850e-05 7.40515243e-05 9.92509842e-01 2.67595344e-04]\n",
            " [4.96127104e-05 1.88892276e-03 2.45724077e-04 6.31929550e-04\n",
            "  2.08700385e-05 3.90944697e-05 9.96904373e-01 2.19403984e-04]\n",
            " [3.47555690e-02 8.70516151e-03 2.75904275e-02 5.17706394e-01\n",
            "  5.29657537e-03 8.58750474e-03 2.98972309e-01 9.83860642e-02]\n",
            " [9.97621100e-03 3.63022275e-02 8.10326517e-01 1.54307643e-02\n",
            "  4.01958870e-03 2.20064935e-03 1.12494759e-01 9.24928673e-03]\n",
            " [1.89424921e-02 4.89146948e-01 2.84781098e-01 8.69768206e-03\n",
            "  3.21302772e-03 2.42140680e-03 1.67493358e-01 2.53040008e-02]\n",
            " [1.30111992e-03 8.68649315e-03 9.83001411e-01 1.91871470e-04\n",
            "  5.49383694e-04 1.14558687e-04 4.58169635e-03 1.57329184e-03]\n",
            " [8.52418074e-04 4.47559319e-02 8.41319654e-03 2.15196004e-03\n",
            "  2.56219646e-04 2.00321228e-04 9.42006111e-01 1.36381038e-03]\n",
            " [9.33181960e-03 1.11204073e-01 8.25161517e-01 1.32991176e-03\n",
            "  3.24996840e-03 2.44211941e-03 5.41535346e-03 4.18651402e-02]\n",
            " [3.99187319e-02 1.89147051e-02 6.58376981e-03 6.73999608e-01\n",
            "  3.75311519e-03 1.21564465e-02 1.59851283e-01 8.48222300e-02]\n",
            " [1.30898825e-05 2.54582148e-04 6.22598891e-05 1.31471126e-04\n",
            "  7.42833436e-06 8.96035090e-06 9.99496996e-01 2.51041747e-05]\n",
            " [2.50332414e-05 2.70793040e-04 1.21812947e-04 1.72218308e-04\n",
            "  1.26990726e-05 1.42607778e-05 9.99331176e-01 5.18552442e-05]\n",
            " [1.57874929e-05 3.13075230e-04 8.58723215e-05 1.67087041e-04\n",
            "  8.86619728e-06 1.07407532e-05 9.99365032e-01 3.34760298e-05]\n",
            " [2.02184562e-02 1.48427254e-02 2.70218239e-03 4.66840714e-03\n",
            "  1.84370996e-03 1.11365849e-02 1.85446162e-03 9.42733526e-01]\n",
            " [1.46003847e-03 7.93273032e-01 1.61642209e-02 4.79197968e-03\n",
            "  1.01188326e-03 2.20999378e-03 1.77645460e-01 3.44332238e-03]\n",
            " [8.60387809e-05 1.34595828e-02 4.68467781e-03 7.01867801e-04\n",
            "  6.49145150e-05 1.09423432e-04 9.80439901e-01 4.53422545e-04]\n",
            " [1.81196490e-03 4.28517684e-02 9.49609578e-01 2.08313373e-04\n",
            "  8.60987813e-04 2.60642410e-04 1.88441412e-03 2.51239259e-03]\n",
            " [6.87763735e-04 6.29933225e-03 1.49261253e-03 6.47454290e-03\n",
            "  1.48130130e-04 2.91056582e-04 9.81264114e-01 3.34242010e-03]\n",
            " [3.86311230e-03 2.82881595e-03 8.10447265e-04 9.30003298e-04\n",
            "  5.44527255e-04 4.42748610e-03 2.59876158e-03 9.83996987e-01]\n",
            " [2.25643180e-02 8.20272192e-02 8.22735369e-01 1.70896389e-03\n",
            "  3.80158401e-03 2.71966518e-03 1.60225527e-03 6.28404692e-02]\n",
            " [3.66667025e-02 5.29844403e-01 1.22472737e-02 2.22158153e-02\n",
            "  1.46059478e-02 7.40387291e-02 5.66111729e-02 2.53769815e-01]\n",
            " [2.19472659e-05 2.31343467e-04 1.09786160e-04 1.62357290e-04\n",
            "  1.28113270e-05 1.36035287e-05 9.99410510e-01 3.77263641e-05]\n",
            " [4.08804262e-05 9.99216497e-01 1.78074552e-04 1.54259338e-04\n",
            "  2.00238937e-05 8.19759152e-05 2.74725433e-04 3.36402445e-05]\n",
            " [4.41575199e-02 3.99976037e-03 1.02976384e-02 3.74951102e-02\n",
            "  3.07075260e-03 7.62340706e-03 8.00482836e-03 8.85351002e-01]\n",
            " [8.71425793e-02 3.13420035e-02 1.18789980e-02 6.15605414e-01\n",
            "  5.39957406e-03 1.76486038e-02 1.66728832e-02 2.14309812e-01]\n",
            " [8.33305512e-06 1.98324953e-04 8.55079852e-05 1.20458921e-04\n",
            "  6.09007338e-06 6.88713044e-06 9.99558151e-01 1.62357646e-05]\n",
            " [1.10481633e-02 1.09811863e-02 9.47387576e-01 2.39497353e-03\n",
            "  2.32148240e-03 7.73135223e-04 1.11476388e-02 1.39459483e-02]\n",
            " [6.98845759e-02 1.39044866e-01 3.70167524e-01 2.55053788e-02\n",
            "  8.80868640e-03 6.46615028e-03 2.40022495e-01 1.40100360e-01]\n",
            " [6.30487739e-06 1.75069625e-04 4.04366001e-05 7.46025325e-05\n",
            "  4.38137340e-06 4.89276590e-06 9.99682307e-01 1.19733322e-05]\n",
            " [2.40574867e-04 9.88579929e-01 8.74803925e-04 9.11527954e-04\n",
            "  2.88530224e-04 7.66414218e-04 7.87081476e-03 4.67395992e-04]\n",
            " [2.38461867e-02 5.91632724e-03 2.65451823e-03 4.46714321e-03\n",
            "  2.91067734e-03 1.55205922e-02 1.90533756e-03 9.42779362e-01]\n",
            " [2.15559378e-02 5.65834902e-03 1.61937333e-03 8.39471161e-01\n",
            "  1.63819094e-03 7.94872642e-03 1.42347701e-02 1.07873470e-01]\n",
            " [8.47377087e-05 1.20201963e-03 7.07406376e-04 3.36880621e-04\n",
            "  4.03771046e-05 3.39364342e-05 9.97445464e-01 1.49251835e-04]\n",
            " [6.64360309e-03 9.52988207e-01 6.13147952e-03 1.34986890e-02\n",
            "  8.22530186e-04 2.11135577e-03 1.05252536e-02 7.27873994e-03]\n",
            " [3.27615300e-03 6.98682293e-03 9.73118663e-01 3.67565081e-04\n",
            "  1.06272288e-03 3.88385117e-04 4.78310836e-03 1.00165410e-02]\n",
            " [3.04006506e-04 9.80438571e-03 2.71189818e-03 2.65696342e-03\n",
            "  1.28170519e-04 1.48735708e-04 9.83636439e-01 6.09287934e-04]\n",
            " [1.55003057e-04 8.08331533e-04 4.73814318e-04 1.02652737e-03\n",
            "  5.32990271e-05 6.91685782e-05 9.97014165e-01 3.99641518e-04]\n",
            " [5.21637558e-05 4.50209435e-03 3.41973006e-04 4.96606866e-04\n",
            "  2.78331408e-05 6.38943238e-05 9.93920207e-01 5.95240679e-04]\n",
            " [6.80362064e-05 1.15958042e-03 3.18744162e-04 1.09079911e-03\n",
            "  3.03441320e-05 4.16693438e-05 9.97069776e-01 2.20857561e-04]\n",
            " [3.76944117e-05 9.99422431e-01 1.36853108e-04 1.01503123e-04\n",
            "  1.56632032e-05 6.56950360e-05 1.90883482e-04 2.92565492e-05]\n",
            " [2.17723995e-04 1.80900458e-03 1.90031787e-04 4.30895248e-03\n",
            "  5.79229309e-05 1.88893464e-04 9.92122412e-01 1.10495358e-03]\n",
            " [7.00986832e-02 3.14052664e-02 2.32275892e-02 2.19216242e-01\n",
            "  1.64511744e-02 6.74501210e-02 1.48790330e-01 4.23360616e-01]\n",
            " [4.29054089e-02 3.92624848e-02 2.51359446e-03 7.61280656e-01\n",
            "  2.34326976e-03 2.26190276e-02 7.78093655e-03 1.21294573e-01]\n",
            " [1.83218126e-05 2.80701730e-04 9.36968572e-05 2.64766073e-04\n",
            "  1.03458533e-05 1.26595387e-05 9.99271631e-01 4.77733192e-05]\n",
            " [4.86487010e-03 8.81112821e-04 8.73369747e-04 1.00000959e-03\n",
            "  4.60382318e-04 3.44900880e-03 9.21726634e-04 9.87549484e-01]\n",
            " [5.35878120e-03 1.24687262e-01 1.80794690e-02 1.48242116e-02\n",
            "  7.27546983e-04 1.41028443e-03 7.93102384e-01 4.18101624e-02]\n",
            " [1.13299699e-04 2.14551040e-03 2.34719319e-03 4.50062362e-04\n",
            "  6.27780391e-05 5.65574592e-05 9.94490504e-01 3.34059936e-04]\n",
            " [2.01628318e-05 3.68635927e-04 2.93994410e-04 1.37384588e-04\n",
            "  1.35768023e-05 9.84412782e-06 9.99128342e-01 2.80863496e-05]\n",
            " [1.83988211e-03 6.92640315e-04 1.29784443e-04 9.89135027e-01\n",
            "  2.49455159e-04 1.26360357e-03 1.79212575e-03 4.89752600e-03]\n",
            " [3.55214812e-03 4.47804749e-04 4.15957067e-04 1.16156472e-03\n",
            "  2.99534906e-04 2.39177910e-03 2.36993874e-04 9.91494060e-01]\n",
            " [1.45888120e-01 2.21445218e-01 2.17065930e-01 4.68414836e-02\n",
            "  1.47145968e-02 2.42122803e-02 1.77708250e-02 3.12061608e-01]\n",
            " [5.38148126e-03 1.10978298e-02 6.50288025e-03 1.54344887e-02\n",
            "  1.05839339e-03 1.27834990e-03 9.43289042e-01 1.59575194e-02]\n",
            " [2.02915058e-01 1.55866772e-01 2.10767925e-01 3.36107798e-02\n",
            "  8.81356280e-03 1.15383202e-02 1.40191931e-02 3.62468451e-01]\n",
            " [1.71942174e-05 1.88434625e-03 1.30686196e-04 2.97843915e-04\n",
            "  1.07629148e-05 1.80026382e-05 9.97566640e-01 7.44864737e-05]\n",
            " [1.58018328e-03 1.43146340e-03 1.16061376e-04 9.90868032e-01\n",
            "  3.06748960e-04 2.43236823e-03 1.00981724e-03 2.25530285e-03]\n",
            " [1.23425603e-01 2.88870726e-02 9.44933109e-03 2.83297095e-02\n",
            "  5.24613149e-02 3.29672962e-01 3.32646351e-03 4.24447596e-01]\n",
            " [9.50327516e-03 1.39400037e-03 8.34055303e-04 3.27428966e-03\n",
            "  9.70151043e-04 7.59924948e-03 7.36385409e-04 9.75688517e-01]\n",
            " [1.47854656e-01 4.62960541e-01 6.50214255e-02 4.71046008e-02\n",
            "  2.10646372e-02 3.00016105e-02 1.39427602e-01 8.65648612e-02]\n",
            " [4.54650464e-04 2.23992323e-03 1.28994160e-03 2.12107645e-03\n",
            "  1.26459010e-04 1.60659722e-04 9.91828442e-01 1.77868281e-03]\n",
            " [1.15575241e-02 2.76973639e-02 9.22460020e-01 8.87418515e-04\n",
            "  2.95463903e-03 1.37218961e-03 3.61554325e-03 2.94552129e-02]\n",
            " [1.89811490e-05 2.06472047e-04 1.11300913e-04 8.09352277e-05\n",
            "  1.04294968e-05 1.01801179e-05 9.99513090e-01 4.85727433e-05]\n",
            " [4.96127104e-05 1.88892276e-03 2.45724077e-04 6.31929550e-04\n",
            "  2.08700385e-05 3.90944697e-05 9.96904373e-01 2.19403984e-04]\n",
            " [5.50717473e-01 1.81688983e-02 2.08866354e-02 1.10913731e-01\n",
            "  1.50142787e-02 2.88992375e-02 5.82166389e-03 2.49577984e-01]\n",
            " [1.27920048e-05 2.16807122e-04 4.92900399e-05 2.15058986e-04\n",
            "  6.91887726e-06 1.04346364e-05 9.99458432e-01 3.01747677e-05]\n",
            " [9.24533885e-03 7.83016831e-02 8.94594789e-01 9.05303517e-04\n",
            "  1.66788453e-03 8.15280306e-04 9.03607288e-04 1.35662081e-02]\n",
            " [9.48018260e-06 2.12824089e-04 6.19332714e-05 8.84869223e-05\n",
            "  6.36613231e-06 6.56720658e-06 9.99597728e-01 1.65873826e-05]\n",
            " [9.41869430e-03 1.89692955e-02 9.39473331e-01 1.88740541e-03\n",
            "  2.30591604e-03 6.44363987e-04 2.02465672e-02 7.05427257e-03]\n",
            " [6.77313050e-03 1.32978214e-02 2.77314205e-02 6.19128114e-03\n",
            "  1.79034949e-03 1.22082257e-03 9.30530071e-01 1.24651566e-02]\n",
            " [4.89144528e-04 6.84764935e-04 8.94849582e-05 9.96520102e-01\n",
            "  9.11986499e-05 4.10891109e-04 1.20111997e-03 5.13318169e-04]\n",
            " [3.30371186e-02 1.08411148e-01 1.16900943e-01 2.41050404e-02\n",
            "  3.60106863e-03 8.17701500e-03 3.88973475e-01 3.16794097e-01]\n",
            " [1.20042995e-01 4.27833870e-02 3.50116163e-01 3.92872915e-02\n",
            "  1.58632677e-02 1.20808100e-02 1.10308558e-01 3.09517533e-01]\n",
            " [5.31759858e-02 1.13476664e-02 2.11067358e-03 5.38815498e-01\n",
            "  4.19428060e-03 3.62490155e-02 6.43806299e-03 3.47668946e-01]\n",
            " [9.43865016e-05 8.39486159e-03 3.11725220e-04 6.63290964e-04\n",
            "  4.62828539e-05 1.11463894e-04 9.89829302e-01 5.48677519e-04]\n",
            " [1.16987423e-04 6.27029338e-04 3.96463904e-04 6.20197272e-04\n",
            "  4.84576449e-05 5.29657264e-05 9.97856259e-01 2.81573564e-04]\n",
            " [9.46158543e-04 4.80349129e-03 9.87983525e-01 1.17861317e-04\n",
            "  7.62476877e-04 1.80765579e-04 4.38765343e-03 8.18040164e-04]\n",
            " [2.69440236e-04 5.22867020e-04 2.78125626e-05 9.97443557e-01\n",
            "  7.91362254e-05 7.81424635e-04 3.67354194e-04 5.08400321e-04]\n",
            " [1.19470504e-04 3.93448136e-04 6.07453694e-04 5.98864106e-04\n",
            "  4.80948729e-05 4.73492291e-05 9.97841358e-01 3.43870517e-04]\n",
            " [3.73913767e-03 3.83629464e-04 5.22877905e-04 6.58158504e-04\n",
            "  3.04572983e-04 1.80054375e-03 1.13030634e-04 9.92478013e-01]\n",
            " [2.22414080e-02 5.32804541e-02 8.53603065e-01 1.35325594e-02\n",
            "  3.96583322e-03 3.06624360e-03 7.02510681e-03 4.32853960e-02]\n",
            " [1.92061383e-02 6.63178042e-03 1.91378035e-02 3.03930696e-03\n",
            "  2.67096399e-03 8.73085670e-03 1.95938046e-03 9.38623726e-01]\n",
            " [1.19826429e-01 4.51465249e-02 6.41964674e-02 1.27362818e-01\n",
            "  1.10226320e-02 1.69145986e-02 2.29762852e-01 3.85767698e-01]\n",
            " [1.86563432e-02 1.08128246e-02 1.47293070e-02 3.11260438e-03\n",
            "  1.22029346e-03 3.22229834e-03 1.17609752e-02 9.36485350e-01]]\n",
            "****************************Confustion Matrix Plots Start here for Test Data**************\n"
          ]
        },
        {
          "output_type": "display_data",
          "data": {
            "text/plain": [
              "<Figure size 640x480 with 2 Axes>"
            ],
            "image/png": "[encoded data removed]"
          },
          "metadata": {}
        },
        {
          "output_type": "display_data",
          "data": {
            "text/plain": [
              "<Figure size 640x480 with 2 Axes>"
            ],
            "image/png": "[encoded data removed]"
          },
          "metadata": {}
        },
        {
          "output_type": "display_data",
          "data": {
            "text/plain": [
              "<Figure size 640x480 with 2 Axes>"
            ],
            "image/png": "[encoded data removed]"
          },
          "metadata": {}
        },
        {
          "output_type": "display_data",
          "data": {
            "text/plain": [
              "<Figure size 640x480 with 2 Axes>"
            ],
            "image/png": "[encoded data removed]"
          },
          "metadata": {}
        },
        {
          "output_type": "display_data",
          "data": {
            "text/plain": [
              "<Figure size 640x480 with 2 Axes>"
            ],
            "image/png": "[encoded data removed]"
          },
          "metadata": {}
        },
        {
          "output_type": "display_data",
          "data": {
            "text/plain": [
              "<Figure size 640x480 with 2 Axes>"
            ],
            "image/png": "[encoded data removed]"
          },
          "metadata": {}
        },
        {
          "output_type": "display_data",
          "data": {
            "text/plain": [
              "<Figure size 640x480 with 2 Axes>"
            ],
            "image/png": "[encoded data removed]"
          },
          "metadata": {}
        },
        {
          "output_type": "display_data",
          "data": {
            "text/plain": [
              "<Figure size 640x480 with 2 Axes>"
            ],
            "image/png": "[encoded data removed]"
          },
          "metadata": {}
        }
      ]
    },
    {
      "cell_type": "code",
      "metadata": {
        "id": "gc03Ap_GBcsd",
        "colab": {
          "base_uri": "https://localhost:8080/"
        },
        "outputId": "611b629d-9e42-496c-953e-39d4e5c57fb7"
      },
      "source": [
        "Y_pred_main = [i[0] for i in Y_pred_test]\n",
        "Y_pred_oper = [i[1] for i in Y_pred_test]\n",
        "Y_pred_perf = [i[2] for i in Y_pred_test]\n",
        "Y_pred_secu = [i[3] for i in Y_pred_test]\n",
        "Y_pred_usab = [i[4] for i in Y_pred_test]\n",
        "Y_test_main = [i[0] for i in Y_test]\n",
        "Y_test_oper = [i[1] for i in Y_test]\n",
        "Y_test_perf = [i[2] for i in Y_test]\n",
        "Y_test_secu = [i[3] for i in Y_test]\n",
        "Y_test_usab = [i[4] for i in Y_test]\n",
        "Y_test_class=[]\n",
        "for i in range(0,len(Y_test)):\n",
        "    for j in range(0,len(Y_test[i])):\n",
        "        if (Y_test[i][j]==1):\n",
        "            Y_test_class.append(test_class(j))\n",
        "print(Y_test_class)\n",
        "Y_pred_class=[]\n",
        "for i in range(0,len(Y_pred_test_cm)):\n",
        "    for j in range(0,len(Y_pred_test_cm[i])):\n",
        "        if (Y_pred_test_cm[i][j]==1):\n",
        "            Y_pred_class.append(test_class(j))\n",
        "print(Y_pred_class)\n",
        "print(len(Y_test_class))\n",
        "print(len(Y_pred_class))\n",
        "print(len(original_text_t))"
      ],
      "execution_count": 52,
      "outputs": [
        {
          "output_type": "stream",
          "name": "stdout",
          "text": [
            "['Oper', 'FauT', 'Perf', 'Port', 'Port', 'Scab', 'Port', 'Perf', 'Oper', 'FauT', 'FauT', 'Perf', 'Secu', 'Oper', 'FauT', 'FauT', 'FauT', 'FauT', 'Oper', 'Perf', 'FauT', 'Perf', 'Secu', 'FauT', 'FauT', 'FauT', 'Port', 'Port', 'FauT', 'Perf', 'FauT', 'Port', 'Perf', 'Oper', 'FauT', 'Oper', 'Port', 'Secu', 'FauT', 'Perf', 'FauT', 'FauT', 'Oper', 'Port', 'Secu', 'FauT', 'Oper', 'Perf', 'FauT', 'FauT', 'FauT', 'FauT', 'Oper', 'FauT', 'Secu', 'Port', 'FauT', 'Oper', 'FauT', 'Perf', 'FauT', 'Secu', 'Port', 'Main', 'FauT', 'Port', 'FauT', 'Secu', 'Secu', 'Port', 'Oper', 'Oper', 'Perf', 'FauT', 'FauT', 'Main', 'FauT', 'Perf', 'FauT', 'Perf', 'FauT', 'Secu', 'Oper', 'Perf', 'Port', 'FauT', 'FauT', 'Perf', 'Secu', 'FauT', 'Port', 'Secu', 'Port', 'Oper', 'Port']\n",
            "['Perf', 'FauT', 'FauT', 'Port', 'Port', 'Secu', 'Port', 'Perf', 'Port', 'FauT', 'FauT', 'FauT', 'Secu', 'Oper', 'FauT', 'FauT', 'Secu', 'Perf', 'Oper', 'Perf', 'FauT', 'Perf', 'Secu', 'FauT', 'FauT', 'FauT', 'Port', 'Oper', 'FauT', 'Perf', 'FauT', 'Port', 'Perf', 'Oper', 'FauT', 'Oper', 'Port', 'Secu', 'FauT', 'Perf', 'Perf', 'FauT', 'Oper', 'Port', 'Secu', 'FauT', 'Oper', 'Perf', 'FauT', 'FauT', 'FauT', 'FauT', 'Oper', 'FauT', 'Port', 'Secu', 'FauT', 'Port', 'FauT', 'FauT', 'FauT', 'Secu', 'Port', 'Port', 'FauT', 'Port', 'FauT', 'Secu', 'Port', 'Port', 'Oper', 'FauT', 'Perf', 'FauT', 'FauT', 'Main', 'FauT', 'Perf', 'FauT', 'Perf', 'FauT', 'Secu', 'FauT', 'Perf', 'Secu', 'FauT', 'FauT', 'Perf', 'Secu', 'FauT', 'Port', 'Perf', 'Port', 'Port', 'Port']\n",
            "95\n",
            "95\n",
            "95\n"
          ]
        }
      ]
    },
    {
      "cell_type": "code",
      "metadata": {
        "id": "E0uAESyOBcsg"
      },
      "source": [
        "#combine y_test, x_test, y_pred_test_cm\n",
        "combined_output = list(zip(original_text_t,Y_test_main,Y_test_oper,Y_test_perf,Y_test_secu,Y_test_usab,Y_test_class,Y_pred_main,Y_pred_oper,Y_pred_perf,\n",
        "                          Y_pred_secu,Y_pred_usab, Y_pred_class))\n",
        "combined_output\n",
        "dfo = pd.DataFrame(combined_output,columns=['X_test','Y_test_main','Y_test_oper','Y_test_perf','Y_test_secu','Y_test_usab',\n",
        "                                           'Y_test_class','Y_pred_main','Y_pred_oper','Y_pred_perf','Y_pred_secu','Y_pred_usab',\n",
        "                                           'Y_pred_class'])\n",
        "dfo.to_csv('out.csv', index=False)"
      ],
      "execution_count": 53,
      "outputs": []
    },
    {
      "cell_type": "markdown",
      "metadata": {
        "id": "V7SLE-zPmlLI"
      },
      "source": [
        "# New Section"
      ]
    },
    {
      "cell_type": "code",
      "metadata": {
        "id": "DJmKu1SzBcsi",
        "colab": {
          "base_uri": "https://localhost:8080/"
        },
        "outputId": "b9cc947e-f6d3-45e3-b8ca-f64cf38b0459"
      },
      "source": [
        "new_requirement = ['Passwords should be held to a standard and be required to change at intervals.']\n",
        "seq = tokenizer.texts_to_sequences(new_requirement)\n",
        "padded = pad_sequences(seq, maxlen=MAX_SEQUENCE_LENGTH)\n",
        "pred = model.predict(padded)\n",
        "labels = ['Maintainability', 'Operability', 'Performance','Security','Usability','Scalability', 'Fault Tolerance', 'Portability']\n",
        "print(pred, labels[np.argmax(pred)])"
      ],
      "execution_count": 55,
      "outputs": [
        {
          "output_type": "stream",
          "name": "stdout",
          "text": [
            "\u001b[1m1/1\u001b[0m \u001b[32m━━━━━━━━━━━━━━━━━━━━\u001b[0m\u001b[37m\u001b[0m \u001b[1m0s\u001b[0m 99ms/step\n",
            "[[1.9426907e-04 4.0458776e-03 5.0218584e-04 1.7932638e-03 5.9359856e-05\n",
            "  9.8904173e-05 9.9261367e-01 6.9255626e-04]] Fault Tolerance\n"
          ]
        }
      ]
    },
    {
      "cell_type": "code",
      "source": [
        "new_requirement = ['The software should be operating within 2 days .']\n",
        "seq = tokenizer.texts_to_sequences(new_requirement)\n",
        "padded = pad_sequences(seq, maxlen=MAX_SEQUENCE_LENGTH)\n",
        "pred = model.predict(padded)\n",
        "labels = ['Maintainability', 'Operability', 'Performance','Security','Usability','Scalability', 'Fault Tolerance', 'Portability']\n",
        "print(pred, labels[np.argmax(pred)])"
      ],
      "metadata": {
        "colab": {
          "base_uri": "https://localhost:8080/"
        },
        "id": "sVU6Y6hCbvmh",
        "outputId": "b08de0e8-0d76-4070-b38d-5908f594e285"
      },
      "execution_count": 56,
      "outputs": [
        {
          "output_type": "stream",
          "name": "stdout",
          "text": [
            "\u001b[1m1/1\u001b[0m \u001b[32m━━━━━━━━━━━━━━━━━━━━\u001b[0m\u001b[37m\u001b[0m \u001b[1m0s\u001b[0m 99ms/step\n",
            "[[0.02663797 0.1157419  0.46083444 0.04566949 0.00500758 0.00328766\n",
            "  0.31105977 0.03176114]] Performance\n"
          ]
        }
      ]
    },
    {
      "cell_type": "code",
      "source": [
        "MAX_SEQUENCE_LENGTH = 128  # This should match the model's expected input length\n",
        "\n",
        "# Load your pre-trained model here\n",
        "# model = load_model('path_to_your_model.h5')\n",
        "\n",
        "# Labels for classification\n",
        "labels = ['Maintainability', 'Operability', 'Performance', 'Security', 'Usability', 'Scalability', 'Fault Tolerance', 'Portability']\n",
        "\n",
        "# Prompt for user input\n",
        "new_requirement = input(\"Enter the software requirement: \")\n",
        "\n",
        "# Tokenize and pad the user input\n",
        "seq = tokenizer.texts_to_sequences([new_requirement])\n",
        "padded = pad_sequences(seq, maxlen=MAX_SEQUENCE_LENGTH)\n",
        "\n",
        "# Make prediction\n",
        "pred = model.predict(padded)\n",
        "\n",
        "# Print prediction\n",
        "print(\"Prediction scores:\", pred)\n",
        "print(\"Predicted class:\", labels[np.argmax(pred)])"
      ],
      "metadata": {
        "colab": {
          "base_uri": "https://localhost:8080/"
        },
        "id": "qHP0fBljZdMp",
        "outputId": "eea7ae05-61c0-4993-cf6a-824ddb10d2dd"
      },
      "execution_count": 57,
      "outputs": [
        {
          "output_type": "stream",
          "name": "stdout",
          "text": [
            "Enter the software requirement: The software should be operating within 2 days.\n",
            "\u001b[1m1/1\u001b[0m \u001b[32m━━━━━━━━━━━━━━━━━━━━\u001b[0m\u001b[37m\u001b[0m \u001b[1m0s\u001b[0m 270ms/step\n",
            "Prediction scores: [[0.02663796 0.11574192 0.4608345  0.0456695  0.00500758 0.00328766\n",
            "  0.31105974 0.03176114]]\n",
            "Predicted class: Performance\n"
          ]
        }
      ]
    },
    {
      "cell_type": "markdown",
      "metadata": {
        "id": "E9jZzMETBcsk"
      },
      "source": [
        "***************Some try out code below: Commented out in case if it would be needed later"
      ]
    },
    {
      "cell_type": "code",
      "metadata": {
        "id": "64zlKyr_BcsD"
      },
      "source": [
        "# #mapping target variable's classes to unique labels and then to one hot labels\n",
        "# labels = sorted(list(set(df['class_name'].tolist())))\n",
        "# one_hot = np.zeros((len(labels), len(labels)), int)\n",
        "# np.fill_diagonal(one_hot, 1)\n",
        "# label_dict = dict(zip(labels, one_hot))\n",
        "# num_labels = []\n",
        "# for z in range(len(labels)):\n",
        "#     num_labels.append(z)\n",
        "\n",
        "# num_label_dict = dict(zip(labels, num_labels))\n",
        "\n",
        "# x_raw = df['sentence'].apply(lambda x: clean_text(x)).tolist()\n",
        "# y_raw = df['class_name'].apply(lambda y: label_dict[y]).tolist()\n",
        "# y_raw_num = df['class_name'].apply(lambda y: num_label_dict[y]).tolist() #current class stored as 1 - as before\n",
        "# y = np.array(y_raw)\n",
        "# y_num = np.array(y_raw_num)\n",
        "# print(y,y_num)"
      ],
      "execution_count": null,
      "outputs": []
    },
    {
      "cell_type": "code",
      "metadata": {
        "id": "0Yw1kncEBcsl"
      },
      "source": [
        "# print(X_test)\n",
        "# for value in range(0,len(X_test)):\n",
        "#     X_test_1[value] = X_test[value] != 0\n",
        "#     print(X_test_0[value])\n",
        "# # print(Y_test_text)\n",
        "# # X_test_0 = X_test[X_test != 0]\n",
        "# # print(X_test_0)\n",
        "# # X_test_text = list(map(sequence_to_text, X_test_0))\n",
        "# # print(X_test_text)"
      ],
      "execution_count": null,
      "outputs": []
    },
    {
      "cell_type": "code",
      "metadata": {
        "id": "XYgQRQkNBcsn"
      },
      "source": [
        "# Y_test_text =  list(map(sequence_to_text, Y_test))\n",
        "# print(Y_test_text)\n",
        "# Y_test_cm_text = list(map(sequence_to_text, Y_pred_test_cm))\n",
        "# print(Y_test_cm_text)\n",
        "# X_test_text = list(map(sequence_to_text, X_test))\n",
        "# print(X_test_text)"
      ],
      "execution_count": null,
      "outputs": []
    },
    {
      "cell_type": "code",
      "metadata": {
        "id": "0celeaVkBcsp"
      },
      "source": [
        "# # Y_test_no_0 = list(filter(lambda num: num != 0, Y_test))\n",
        "# Y_test_text = Y_test\n",
        "# for value in range(0,len(Y_test_text)):\n",
        "#     if Y_test_text[value] <= 0:\n",
        "#         del Y_test_text[value]\n",
        "#         print(Y_test_text)\n",
        "# print(Y_test_text)\n",
        "# # Y_test_text =  list(map(sequence_to_text, Y_test_no_0))\n",
        "# # print(Y_test_text)\n",
        "# # Y_test_cm_text = list(map(sequence_to_text, Y_pred_test_cm))\n",
        "# # print(Y_test_cm_text)\n",
        "# # X_test_text = list(map(sequence_to_text, X_test))\n",
        "# # print(X_test_text)"
      ],
      "execution_count": null,
      "outputs": []
    },
    {
      "cell_type": "code",
      "metadata": {
        "id": "omzkN82UBcst"
      },
      "source": [
        "# X_train, X_test, Y_train, Y_test = train_test_split(X,Y, test_size = 0.10, random_state = 42)\n",
        "# estimator = KerasClassifier(build_fn=create_model, epochs=3, batch_size=60, verbose=0)\n",
        "# kfold = KFold(n_splits=2, shuffle=True)\n",
        "# results = cross_val_score(estimator, X_train, Y_train, cv=kfold)\n",
        "# print(\"Baseline: %.2f%% (%.2f%%)\" % (results.mean()*100, results.std()*100))\n",
        "# print(results)"
      ],
      "execution_count": null,
      "outputs": []
    },
    {
      "cell_type": "code",
      "metadata": {
        "id": "VrXeqcleBcsw"
      },
      "source": [
        "# # encode class values as integers\n",
        "# encoder = LabelEncoder()\n",
        "# encoder.fit(df['class_name'])\n",
        "# encoded_Y = encoder.transform(df['class_name'])\n",
        "# # convert integers to dummy variables (i.e. one hot encoded)\n",
        "# dummy_y = np_utils.to_categorical(encoded_Y)\n",
        "# print(dummy_y)"
      ],
      "execution_count": null,
      "outputs": []
    },
    {
      "cell_type": "code",
      "metadata": {
        "id": "gSHHME6kBcsy"
      },
      "source": [
        "# y_pred=model.predict_classes(X_test)\n",
        "# y_pred=pd.get_dummies(y_pred)\n",
        "# print(X_test, y_pred)\n",
        "# print(Y_test)\n",
        "# multilabel_confusion_matrix(Y_test, y_pred, *, labels=['Performance', 'Usability', 'Security', 'Operability', 'Maintainability'])"
      ],
      "execution_count": null,
      "outputs": []
    },
    {
      "cell_type": "code",
      "metadata": {
        "id": "CRcx7HehBcs0"
      },
      "source": [
        "# plt.title('Loss')\n",
        "# plt.plot(cvscoreslos, label='train')\n",
        "# plt.plot((accr[0]*100), label='test')\n",
        "# plt.legend()\n",
        "# plt.show();"
      ],
      "execution_count": null,
      "outputs": []
    },
    {
      "cell_type": "code",
      "metadata": {
        "id": "jMR4BZ5YBcs3"
      },
      "source": [
        "# plt.title('Accuracy')\n",
        "# plt.plot(cvscoresacc, label='train')\n",
        "# plt.plot(accr[1]*100, label='test')\n",
        "# plt.legend()\n",
        "# plt.show();"
      ],
      "execution_count": null,
      "outputs": []
    },
    {
      "cell_type": "code",
      "metadata": {
        "id": "DDKkX3HsBcs6"
      },
      "source": [
        "# epochs = 10\n",
        "# batch_size = 60\n",
        "\n",
        "# history = model.fit(X_train, Y_train, epochs=epochs, batch_size=batch_size,validation_split=0.1,callbacks=[EarlyStopping(monitor='val_loss', patience=3, min_delta=0.0001)])"
      ],
      "execution_count": null,
      "outputs": []
    },
    {
      "cell_type": "code",
      "metadata": {
        "id": "c0u2FIq5Bcs7"
      },
      "source": [],
      "execution_count": null,
      "outputs": []
    }
  ]
}