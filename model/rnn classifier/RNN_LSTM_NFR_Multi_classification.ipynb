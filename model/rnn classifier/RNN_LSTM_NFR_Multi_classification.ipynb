{
  "nbformat": 4,
  "nbformat_minor": 0,
  "metadata": {
    "kernelspec": {
      "display_name": "Python 3",
      "language": "python",
      "name": "python3"
    },
    "language_info": {
      "codemirror_mode": {
        "name": "ipython",
        "version": 3
      },
      "file_extension": ".py",
      "mimetype": "text/x-python",
      "name": "python",
      "nbconvert_exporter": "python",
      "pygments_lexer": "ipython3",
      "version": "3.7.7"
    },
    "colab": {
      "provenance": [],
      "machine_shape": "hm"
    },
    "accelerator": "TPU"
  },
  "cells": [
    {
      "cell_type": "code",
      "source": [
        "!pip install utils\n",
        "# !pip install --upgrade keras\n",
        "\n"
      ],
      "metadata": {
        "colab": {
          "base_uri": "https://localhost:8080/"
        },
        "id": "Z5UCmh7daSGS",
        "outputId": "a862e6be-ee29-4783-bdb2-175c56a8b553"
      },
      "execution_count": 4,
      "outputs": [
        {
          "output_type": "stream",
          "name": "stdout",
          "text": [
            "Collecting utils\n",
            "  Downloading utils-1.0.2.tar.gz (13 kB)\n",
            "  Preparing metadata (setup.py) ... \u001b[?25l\u001b[?25hdone\n",
            "Building wheels for collected packages: utils\n",
            "  Building wheel for utils (setup.py) ... \u001b[?25l\u001b[?25hdone\n",
            "  Created wheel for utils: filename=utils-1.0.2-py2.py3-none-any.whl size=13906 sha256=08f5848f6bc7f338fabc50a886f4a004db02291d7cb3b5c911f96b2a6ea91f96\n",
            "  Stored in directory: /root/.cache/pip/wheels/b8/39/f5/9d0ca31dba85773ececf0a7f5469f18810e1c8a8ed9da28ca7\n",
            "Successfully built utils\n",
            "Installing collected packages: utils\n",
            "Successfully installed utils-1.0.2\n"
          ]
        }
      ]
    },
    {
      "cell_type": "code",
      "source": [
        "!pip install --upgrade keras tensorflow"
      ],
      "metadata": {
        "colab": {
          "base_uri": "https://localhost:8080/"
        },
        "id": "uDJ2OXlkPM3a",
        "outputId": "9861555b-d0a5-41fd-d459-3194c979a972"
      },
      "execution_count": 5,
      "outputs": [
        {
          "output_type": "stream",
          "name": "stdout",
          "text": [
            "Requirement already satisfied: keras in /usr/local/lib/python3.10/dist-packages (2.15.0)\n",
            "Collecting keras\n",
            "  Downloading keras-3.2.0-py3-none-any.whl (1.1 MB)\n",
            "\u001b[2K     \u001b[90m━━━━━━━━━━━━━━━━━━━━━━━━━━━━━━━━━━━━━━━━\u001b[0m \u001b[32m1.1/1.1 MB\u001b[0m \u001b[31m8.2 MB/s\u001b[0m eta \u001b[36m0:00:00\u001b[0m\n",
            "\u001b[?25hRequirement already satisfied: tensorflow in /usr/local/lib/python3.10/dist-packages (2.15.0)\n",
            "Collecting tensorflow\n",
            "  Downloading tensorflow-2.16.1-cp310-cp310-manylinux_2_17_x86_64.manylinux2014_x86_64.whl (589.8 MB)\n",
            "\u001b[2K     \u001b[90m━━━━━━━━━━━━━━━━━━━━━━━━━━━━━━━━━━━━━━━━\u001b[0m \u001b[32m589.8/589.8 MB\u001b[0m \u001b[31m800.4 kB/s\u001b[0m eta \u001b[36m0:00:00\u001b[0m\n",
            "\u001b[?25hRequirement already satisfied: absl-py in /usr/local/lib/python3.10/dist-packages (from keras) (1.4.0)\n",
            "Requirement already satisfied: numpy in /usr/local/lib/python3.10/dist-packages (from keras) (1.25.2)\n",
            "Requirement already satisfied: rich in /usr/local/lib/python3.10/dist-packages (from keras) (13.7.1)\n",
            "Collecting namex (from keras)\n",
            "  Downloading namex-0.0.7-py3-none-any.whl (5.8 kB)\n",
            "Requirement already satisfied: h5py in /usr/local/lib/python3.10/dist-packages (from keras) (3.9.0)\n",
            "Collecting optree (from keras)\n",
            "  Downloading optree-0.11.0-cp310-cp310-manylinux_2_17_x86_64.manylinux2014_x86_64.whl (311 kB)\n",
            "\u001b[2K     \u001b[90m━━━━━━━━━━━━━━━━━━━━━━━━━━━━━━━━━━━━━━━━\u001b[0m \u001b[32m311.2/311.2 kB\u001b[0m \u001b[31m19.9 MB/s\u001b[0m eta \u001b[36m0:00:00\u001b[0m\n",
            "\u001b[?25hRequirement already satisfied: ml-dtypes in /usr/local/lib/python3.10/dist-packages (from keras) (0.2.0)\n",
            "Requirement already satisfied: astunparse>=1.6.0 in /usr/local/lib/python3.10/dist-packages (from tensorflow) (1.6.3)\n",
            "Requirement already satisfied: flatbuffers>=23.5.26 in /usr/local/lib/python3.10/dist-packages (from tensorflow) (24.3.25)\n",
            "Requirement already satisfied: gast!=0.5.0,!=0.5.1,!=0.5.2,>=0.2.1 in /usr/local/lib/python3.10/dist-packages (from tensorflow) (0.5.4)\n",
            "Requirement already satisfied: google-pasta>=0.1.1 in /usr/local/lib/python3.10/dist-packages (from tensorflow) (0.2.0)\n",
            "Collecting h5py (from keras)\n",
            "  Downloading h5py-3.11.0-cp310-cp310-manylinux_2_17_x86_64.manylinux2014_x86_64.whl (5.3 MB)\n",
            "\u001b[2K     \u001b[90m━━━━━━━━━━━━━━━━━━━━━━━━━━━━━━━━━━━━━━━━\u001b[0m \u001b[32m5.3/5.3 MB\u001b[0m \u001b[31m23.5 MB/s\u001b[0m eta \u001b[36m0:00:00\u001b[0m\n",
            "\u001b[?25hRequirement already satisfied: libclang>=13.0.0 in /usr/local/lib/python3.10/dist-packages (from tensorflow) (18.1.1)\n",
            "Collecting ml-dtypes (from keras)\n",
            "  Downloading ml_dtypes-0.3.2-cp310-cp310-manylinux_2_17_x86_64.manylinux2014_x86_64.whl (2.2 MB)\n",
            "\u001b[2K     \u001b[90m━━━━━━━━━━━━━━━━━━━━━━━━━━━━━━━━━━━━━━━━\u001b[0m \u001b[32m2.2/2.2 MB\u001b[0m \u001b[31m26.1 MB/s\u001b[0m eta \u001b[36m0:00:00\u001b[0m\n",
            "\u001b[?25hRequirement already satisfied: opt-einsum>=2.3.2 in /usr/local/lib/python3.10/dist-packages (from tensorflow) (3.3.0)\n",
            "Requirement already satisfied: packaging in /usr/local/lib/python3.10/dist-packages (from tensorflow) (24.0)\n",
            "Requirement already satisfied: protobuf!=4.21.0,!=4.21.1,!=4.21.2,!=4.21.3,!=4.21.4,!=4.21.5,<5.0.0dev,>=3.20.3 in /usr/local/lib/python3.10/dist-packages (from tensorflow) (3.20.3)\n",
            "Requirement already satisfied: requests<3,>=2.21.0 in /usr/local/lib/python3.10/dist-packages (from tensorflow) (2.31.0)\n",
            "Requirement already satisfied: setuptools in /usr/local/lib/python3.10/dist-packages (from tensorflow) (67.7.2)\n",
            "Requirement already satisfied: six>=1.12.0 in /usr/local/lib/python3.10/dist-packages (from tensorflow) (1.16.0)\n",
            "Requirement already satisfied: termcolor>=1.1.0 in /usr/local/lib/python3.10/dist-packages (from tensorflow) (2.4.0)\n",
            "Requirement already satisfied: typing-extensions>=3.6.6 in /usr/local/lib/python3.10/dist-packages (from tensorflow) (4.10.0)\n",
            "Requirement already satisfied: wrapt>=1.11.0 in /usr/local/lib/python3.10/dist-packages (from tensorflow) (1.14.1)\n",
            "Requirement already satisfied: grpcio<2.0,>=1.24.3 in /usr/local/lib/python3.10/dist-packages (from tensorflow) (1.62.1)\n",
            "Collecting tensorboard<2.17,>=2.16 (from tensorflow)\n",
            "  Downloading tensorboard-2.16.2-py3-none-any.whl (5.5 MB)\n",
            "\u001b[2K     \u001b[90m━━━━━━━━━━━━━━━━━━━━━━━━━━━━━━━━━━━━━━━━\u001b[0m \u001b[32m5.5/5.5 MB\u001b[0m \u001b[31m41.5 MB/s\u001b[0m eta \u001b[36m0:00:00\u001b[0m\n",
            "\u001b[?25hRequirement already satisfied: tensorflow-io-gcs-filesystem>=0.23.1 in /usr/local/lib/python3.10/dist-packages (from tensorflow) (0.36.0)\n",
            "Requirement already satisfied: wheel<1.0,>=0.23.0 in /usr/local/lib/python3.10/dist-packages (from astunparse>=1.6.0->tensorflow) (0.43.0)\n",
            "Requirement already satisfied: charset-normalizer<4,>=2 in /usr/local/lib/python3.10/dist-packages (from requests<3,>=2.21.0->tensorflow) (3.3.2)\n",
            "Requirement already satisfied: idna<4,>=2.5 in /usr/local/lib/python3.10/dist-packages (from requests<3,>=2.21.0->tensorflow) (3.6)\n",
            "Requirement already satisfied: urllib3<3,>=1.21.1 in /usr/local/lib/python3.10/dist-packages (from requests<3,>=2.21.0->tensorflow) (2.0.7)\n",
            "Requirement already satisfied: certifi>=2017.4.17 in /usr/local/lib/python3.10/dist-packages (from requests<3,>=2.21.0->tensorflow) (2024.2.2)\n",
            "Requirement already satisfied: markdown>=2.6.8 in /usr/local/lib/python3.10/dist-packages (from tensorboard<2.17,>=2.16->tensorflow) (3.6)\n",
            "Requirement already satisfied: tensorboard-data-server<0.8.0,>=0.7.0 in /usr/local/lib/python3.10/dist-packages (from tensorboard<2.17,>=2.16->tensorflow) (0.7.2)\n",
            "Requirement already satisfied: werkzeug>=1.0.1 in /usr/local/lib/python3.10/dist-packages (from tensorboard<2.17,>=2.16->tensorflow) (3.0.2)\n",
            "Requirement already satisfied: markdown-it-py>=2.2.0 in /usr/local/lib/python3.10/dist-packages (from rich->keras) (3.0.0)\n",
            "Requirement already satisfied: pygments<3.0.0,>=2.13.0 in /usr/local/lib/python3.10/dist-packages (from rich->keras) (2.16.1)\n",
            "Requirement already satisfied: mdurl~=0.1 in /usr/local/lib/python3.10/dist-packages (from markdown-it-py>=2.2.0->rich->keras) (0.1.2)\n",
            "Requirement already satisfied: MarkupSafe>=2.1.1 in /usr/local/lib/python3.10/dist-packages (from werkzeug>=1.0.1->tensorboard<2.17,>=2.16->tensorflow) (2.1.5)\n",
            "Installing collected packages: namex, optree, ml-dtypes, h5py, tensorboard, keras, tensorflow\n",
            "  Attempting uninstall: ml-dtypes\n",
            "    Found existing installation: ml-dtypes 0.2.0\n",
            "    Uninstalling ml-dtypes-0.2.0:\n",
            "      Successfully uninstalled ml-dtypes-0.2.0\n",
            "  Attempting uninstall: h5py\n",
            "    Found existing installation: h5py 3.9.0\n",
            "    Uninstalling h5py-3.9.0:\n",
            "      Successfully uninstalled h5py-3.9.0\n",
            "  Attempting uninstall: tensorboard\n",
            "    Found existing installation: tensorboard 2.15.2\n",
            "    Uninstalling tensorboard-2.15.2:\n",
            "      Successfully uninstalled tensorboard-2.15.2\n",
            "  Attempting uninstall: keras\n",
            "    Found existing installation: keras 2.15.0\n",
            "    Uninstalling keras-2.15.0:\n",
            "      Successfully uninstalled keras-2.15.0\n",
            "  Attempting uninstall: tensorflow\n",
            "    Found existing installation: tensorflow 2.15.0\n",
            "    Uninstalling tensorflow-2.15.0:\n",
            "      Successfully uninstalled tensorflow-2.15.0\n",
            "\u001b[31mERROR: pip's dependency resolver does not currently take into account all the packages that are installed. This behaviour is the source of the following dependency conflicts.\n",
            "tf-keras 2.15.1 requires tensorflow<2.16,>=2.15, but you have tensorflow 2.16.1 which is incompatible.\u001b[0m\u001b[31m\n",
            "\u001b[0mSuccessfully installed h5py-3.11.0 keras-3.2.0 ml-dtypes-0.3.2 namex-0.0.7 optree-0.11.0 tensorboard-2.16.2 tensorflow-2.16.1\n"
          ]
        }
      ]
    },
    {
      "cell_type": "code",
      "source": [
        "!pip install keras tensorflow\n"
      ],
      "metadata": {
        "colab": {
          "base_uri": "https://localhost:8080/"
        },
        "id": "qcyowCn5Puqx",
        "outputId": "4d313b2c-ba9b-46b0-81fb-cbcb7bb8a445"
      },
      "execution_count": 6,
      "outputs": [
        {
          "output_type": "stream",
          "name": "stdout",
          "text": [
            "Requirement already satisfied: keras in /usr/local/lib/python3.10/dist-packages (3.2.0)\n",
            "Requirement already satisfied: tensorflow in /usr/local/lib/python3.10/dist-packages (2.16.1)\n",
            "Requirement already satisfied: absl-py in /usr/local/lib/python3.10/dist-packages (from keras) (1.4.0)\n",
            "Requirement already satisfied: numpy in /usr/local/lib/python3.10/dist-packages (from keras) (1.25.2)\n",
            "Requirement already satisfied: rich in /usr/local/lib/python3.10/dist-packages (from keras) (13.7.1)\n",
            "Requirement already satisfied: namex in /usr/local/lib/python3.10/dist-packages (from keras) (0.0.7)\n",
            "Requirement already satisfied: h5py in /usr/local/lib/python3.10/dist-packages (from keras) (3.11.0)\n",
            "Requirement already satisfied: optree in /usr/local/lib/python3.10/dist-packages (from keras) (0.11.0)\n",
            "Requirement already satisfied: ml-dtypes in /usr/local/lib/python3.10/dist-packages (from keras) (0.3.2)\n",
            "Requirement already satisfied: astunparse>=1.6.0 in /usr/local/lib/python3.10/dist-packages (from tensorflow) (1.6.3)\n",
            "Requirement already satisfied: flatbuffers>=23.5.26 in /usr/local/lib/python3.10/dist-packages (from tensorflow) (24.3.25)\n",
            "Requirement already satisfied: gast!=0.5.0,!=0.5.1,!=0.5.2,>=0.2.1 in /usr/local/lib/python3.10/dist-packages (from tensorflow) (0.5.4)\n",
            "Requirement already satisfied: google-pasta>=0.1.1 in /usr/local/lib/python3.10/dist-packages (from tensorflow) (0.2.0)\n",
            "Requirement already satisfied: libclang>=13.0.0 in /usr/local/lib/python3.10/dist-packages (from tensorflow) (18.1.1)\n",
            "Requirement already satisfied: opt-einsum>=2.3.2 in /usr/local/lib/python3.10/dist-packages (from tensorflow) (3.3.0)\n",
            "Requirement already satisfied: packaging in /usr/local/lib/python3.10/dist-packages (from tensorflow) (24.0)\n",
            "Requirement already satisfied: protobuf!=4.21.0,!=4.21.1,!=4.21.2,!=4.21.3,!=4.21.4,!=4.21.5,<5.0.0dev,>=3.20.3 in /usr/local/lib/python3.10/dist-packages (from tensorflow) (3.20.3)\n",
            "Requirement already satisfied: requests<3,>=2.21.0 in /usr/local/lib/python3.10/dist-packages (from tensorflow) (2.31.0)\n",
            "Requirement already satisfied: setuptools in /usr/local/lib/python3.10/dist-packages (from tensorflow) (67.7.2)\n",
            "Requirement already satisfied: six>=1.12.0 in /usr/local/lib/python3.10/dist-packages (from tensorflow) (1.16.0)\n",
            "Requirement already satisfied: termcolor>=1.1.0 in /usr/local/lib/python3.10/dist-packages (from tensorflow) (2.4.0)\n",
            "Requirement already satisfied: typing-extensions>=3.6.6 in /usr/local/lib/python3.10/dist-packages (from tensorflow) (4.10.0)\n",
            "Requirement already satisfied: wrapt>=1.11.0 in /usr/local/lib/python3.10/dist-packages (from tensorflow) (1.14.1)\n",
            "Requirement already satisfied: grpcio<2.0,>=1.24.3 in /usr/local/lib/python3.10/dist-packages (from tensorflow) (1.62.1)\n",
            "Requirement already satisfied: tensorboard<2.17,>=2.16 in /usr/local/lib/python3.10/dist-packages (from tensorflow) (2.16.2)\n",
            "Requirement already satisfied: tensorflow-io-gcs-filesystem>=0.23.1 in /usr/local/lib/python3.10/dist-packages (from tensorflow) (0.36.0)\n",
            "Requirement already satisfied: wheel<1.0,>=0.23.0 in /usr/local/lib/python3.10/dist-packages (from astunparse>=1.6.0->tensorflow) (0.43.0)\n",
            "Requirement already satisfied: charset-normalizer<4,>=2 in /usr/local/lib/python3.10/dist-packages (from requests<3,>=2.21.0->tensorflow) (3.3.2)\n",
            "Requirement already satisfied: idna<4,>=2.5 in /usr/local/lib/python3.10/dist-packages (from requests<3,>=2.21.0->tensorflow) (3.6)\n",
            "Requirement already satisfied: urllib3<3,>=1.21.1 in /usr/local/lib/python3.10/dist-packages (from requests<3,>=2.21.0->tensorflow) (2.0.7)\n",
            "Requirement already satisfied: certifi>=2017.4.17 in /usr/local/lib/python3.10/dist-packages (from requests<3,>=2.21.0->tensorflow) (2024.2.2)\n",
            "Requirement already satisfied: markdown>=2.6.8 in /usr/local/lib/python3.10/dist-packages (from tensorboard<2.17,>=2.16->tensorflow) (3.6)\n",
            "Requirement already satisfied: tensorboard-data-server<0.8.0,>=0.7.0 in /usr/local/lib/python3.10/dist-packages (from tensorboard<2.17,>=2.16->tensorflow) (0.7.2)\n",
            "Requirement already satisfied: werkzeug>=1.0.1 in /usr/local/lib/python3.10/dist-packages (from tensorboard<2.17,>=2.16->tensorflow) (3.0.2)\n",
            "Requirement already satisfied: markdown-it-py>=2.2.0 in /usr/local/lib/python3.10/dist-packages (from rich->keras) (3.0.0)\n",
            "Requirement already satisfied: pygments<3.0.0,>=2.13.0 in /usr/local/lib/python3.10/dist-packages (from rich->keras) (2.16.1)\n",
            "Requirement already satisfied: mdurl~=0.1 in /usr/local/lib/python3.10/dist-packages (from markdown-it-py>=2.2.0->rich->keras) (0.1.2)\n",
            "Requirement already satisfied: MarkupSafe>=2.1.1 in /usr/local/lib/python3.10/dist-packages (from werkzeug>=1.0.1->tensorboard<2.17,>=2.16->tensorflow) (2.1.5)\n"
          ]
        }
      ]
    },
    {
      "cell_type": "code",
      "source": [
        "!pip install --upgrade tensorflow\n"
      ],
      "metadata": {
        "colab": {
          "base_uri": "https://localhost:8080/"
        },
        "id": "mS19xINDQHJf",
        "outputId": "b197c29f-b8be-4291-c680-71bcf6c818c3"
      },
      "execution_count": 7,
      "outputs": [
        {
          "output_type": "stream",
          "name": "stdout",
          "text": [
            "Requirement already satisfied: tensorflow in /usr/local/lib/python3.10/dist-packages (2.16.1)\n",
            "Requirement already satisfied: absl-py>=1.0.0 in /usr/local/lib/python3.10/dist-packages (from tensorflow) (1.4.0)\n",
            "Requirement already satisfied: astunparse>=1.6.0 in /usr/local/lib/python3.10/dist-packages (from tensorflow) (1.6.3)\n",
            "Requirement already satisfied: flatbuffers>=23.5.26 in /usr/local/lib/python3.10/dist-packages (from tensorflow) (24.3.25)\n",
            "Requirement already satisfied: gast!=0.5.0,!=0.5.1,!=0.5.2,>=0.2.1 in /usr/local/lib/python3.10/dist-packages (from tensorflow) (0.5.4)\n",
            "Requirement already satisfied: google-pasta>=0.1.1 in /usr/local/lib/python3.10/dist-packages (from tensorflow) (0.2.0)\n",
            "Requirement already satisfied: h5py>=3.10.0 in /usr/local/lib/python3.10/dist-packages (from tensorflow) (3.11.0)\n",
            "Requirement already satisfied: libclang>=13.0.0 in /usr/local/lib/python3.10/dist-packages (from tensorflow) (18.1.1)\n",
            "Requirement already satisfied: ml-dtypes~=0.3.1 in /usr/local/lib/python3.10/dist-packages (from tensorflow) (0.3.2)\n",
            "Requirement already satisfied: opt-einsum>=2.3.2 in /usr/local/lib/python3.10/dist-packages (from tensorflow) (3.3.0)\n",
            "Requirement already satisfied: packaging in /usr/local/lib/python3.10/dist-packages (from tensorflow) (24.0)\n",
            "Requirement already satisfied: protobuf!=4.21.0,!=4.21.1,!=4.21.2,!=4.21.3,!=4.21.4,!=4.21.5,<5.0.0dev,>=3.20.3 in /usr/local/lib/python3.10/dist-packages (from tensorflow) (3.20.3)\n",
            "Requirement already satisfied: requests<3,>=2.21.0 in /usr/local/lib/python3.10/dist-packages (from tensorflow) (2.31.0)\n",
            "Requirement already satisfied: setuptools in /usr/local/lib/python3.10/dist-packages (from tensorflow) (67.7.2)\n",
            "Requirement already satisfied: six>=1.12.0 in /usr/local/lib/python3.10/dist-packages (from tensorflow) (1.16.0)\n",
            "Requirement already satisfied: termcolor>=1.1.0 in /usr/local/lib/python3.10/dist-packages (from tensorflow) (2.4.0)\n",
            "Requirement already satisfied: typing-extensions>=3.6.6 in /usr/local/lib/python3.10/dist-packages (from tensorflow) (4.10.0)\n",
            "Requirement already satisfied: wrapt>=1.11.0 in /usr/local/lib/python3.10/dist-packages (from tensorflow) (1.14.1)\n",
            "Requirement already satisfied: grpcio<2.0,>=1.24.3 in /usr/local/lib/python3.10/dist-packages (from tensorflow) (1.62.1)\n",
            "Requirement already satisfied: tensorboard<2.17,>=2.16 in /usr/local/lib/python3.10/dist-packages (from tensorflow) (2.16.2)\n",
            "Requirement already satisfied: keras>=3.0.0 in /usr/local/lib/python3.10/dist-packages (from tensorflow) (3.2.0)\n",
            "Requirement already satisfied: tensorflow-io-gcs-filesystem>=0.23.1 in /usr/local/lib/python3.10/dist-packages (from tensorflow) (0.36.0)\n",
            "Requirement already satisfied: numpy<2.0.0,>=1.23.5 in /usr/local/lib/python3.10/dist-packages (from tensorflow) (1.25.2)\n",
            "Requirement already satisfied: wheel<1.0,>=0.23.0 in /usr/local/lib/python3.10/dist-packages (from astunparse>=1.6.0->tensorflow) (0.43.0)\n",
            "Requirement already satisfied: rich in /usr/local/lib/python3.10/dist-packages (from keras>=3.0.0->tensorflow) (13.7.1)\n",
            "Requirement already satisfied: namex in /usr/local/lib/python3.10/dist-packages (from keras>=3.0.0->tensorflow) (0.0.7)\n",
            "Requirement already satisfied: optree in /usr/local/lib/python3.10/dist-packages (from keras>=3.0.0->tensorflow) (0.11.0)\n",
            "Requirement already satisfied: charset-normalizer<4,>=2 in /usr/local/lib/python3.10/dist-packages (from requests<3,>=2.21.0->tensorflow) (3.3.2)\n",
            "Requirement already satisfied: idna<4,>=2.5 in /usr/local/lib/python3.10/dist-packages (from requests<3,>=2.21.0->tensorflow) (3.6)\n",
            "Requirement already satisfied: urllib3<3,>=1.21.1 in /usr/local/lib/python3.10/dist-packages (from requests<3,>=2.21.0->tensorflow) (2.0.7)\n",
            "Requirement already satisfied: certifi>=2017.4.17 in /usr/local/lib/python3.10/dist-packages (from requests<3,>=2.21.0->tensorflow) (2024.2.2)\n",
            "Requirement already satisfied: markdown>=2.6.8 in /usr/local/lib/python3.10/dist-packages (from tensorboard<2.17,>=2.16->tensorflow) (3.6)\n",
            "Requirement already satisfied: tensorboard-data-server<0.8.0,>=0.7.0 in /usr/local/lib/python3.10/dist-packages (from tensorboard<2.17,>=2.16->tensorflow) (0.7.2)\n",
            "Requirement already satisfied: werkzeug>=1.0.1 in /usr/local/lib/python3.10/dist-packages (from tensorboard<2.17,>=2.16->tensorflow) (3.0.2)\n",
            "Requirement already satisfied: MarkupSafe>=2.1.1 in /usr/local/lib/python3.10/dist-packages (from werkzeug>=1.0.1->tensorboard<2.17,>=2.16->tensorflow) (2.1.5)\n",
            "Requirement already satisfied: markdown-it-py>=2.2.0 in /usr/local/lib/python3.10/dist-packages (from rich->keras>=3.0.0->tensorflow) (3.0.0)\n",
            "Requirement already satisfied: pygments<3.0.0,>=2.13.0 in /usr/local/lib/python3.10/dist-packages (from rich->keras>=3.0.0->tensorflow) (2.16.1)\n",
            "Requirement already satisfied: mdurl~=0.1 in /usr/local/lib/python3.10/dist-packages (from markdown-it-py>=2.2.0->rich->keras>=3.0.0->tensorflow) (0.1.2)\n"
          ]
        }
      ]
    },
    {
      "cell_type": "code",
      "metadata": {
        "id": "1ot0wrEnBcrh",
        "colab": {
          "base_uri": "https://localhost:8080/",
          "height": 421
        },
        "outputId": "0910c225-166c-4a75-815e-df07f903f323"
      },
      "source": [
        "import sys\n",
        "import gensim\n",
        "print (sys.path)\n",
        "import os\n",
        "from os.path import exists\n",
        "import re\n",
        "import logging\n",
        "import numpy as np\n",
        "import pandas as pd\n",
        "import seaborn as sns\n",
        "from collections import Counter\n",
        "import tensorflow as tf\n",
        "from sklearn.model_selection import train_test_split\n",
        "from sklearn.model_selection import StratifiedKFold\n",
        "from sklearn.model_selection import LeaveOneOut\n",
        "import datetime\n",
        "from tensorflow.keras.callbacks import EarlyStopping\n",
        "import matplotlib.pyplot as plt\n",
        "from matplotlib.patches import Patch\n",
        "from tensorflow.keras.preprocessing.text import Tokenizer\n",
        "\n",
        "from keras.preprocessing.sequence import pad_sequences\n",
        "from sklearn.preprocessing import LabelEncoder\n",
        "from keras.models import Sequential\n",
        "from keras.layers import Dense, Embedding, LSTM, SpatialDropout1D, GRU\n",
        "from sklearn.model_selection import train_test_split\n",
        "from keras.utils import to_categorical\n",
        "\n",
        "# from keras.callbacks import EarlyStopping\n",
        "# from sklearn.ensemble import KerasClassifier\n",
        "\n",
        "from keras.utils import np_utils\n",
        "from sklearn.model_selection import cross_val_score\n",
        "from keras.layers import Dropout\n",
        "# use natural language toolkit\n",
        "from scipy import sparse\n",
        "import nltk\n",
        "from nltk import punkt\n",
        "from nltk.stem.lancaster import LancasterStemmer\n",
        "nltk.download('punkt')\n",
        "nltk.download('stopwords')\n",
        "from sklearn.feature_extraction import stop_words\n",
        "import sklearn.datasets\n",
        "from sklearn.model_selection import StratifiedKFold\n",
        "from sklearn.model_selection import KFold\n",
        "from sklearn.metrics import multilabel_confusion_matrix\n",
        "from sklearn.metrics import accuracy_score, f1_score, precision_score, \\\n",
        "recall_score, classification_report, confusion_matrix, multilabel_confusion_matrix, precision_recall_fscore_support\n",
        "from nltk.corpus import stopwords\n",
        "from nltk import word_tokenize\n",
        "STOPWORDS = set(stopwords.words('english'))\n",
        "import plotly.graph_objs as go\n",
        "from keras import backend as K\n",
        "from numpy import where\n",
        "from tensorflow.python.client import device_lib"
      ],
      "execution_count": 8,
      "outputs": [
        {
          "output_type": "stream",
          "name": "stdout",
          "text": [
            "['/content', '/env/python', '/usr/lib/python310.zip', '/usr/lib/python3.10', '/usr/lib/python3.10/lib-dynload', '', '/usr/local/lib/python3.10/dist-packages', '/usr/lib/python3/dist-packages', '/usr/local/lib/python3.10/dist-packages/IPython/extensions', '/root/.ipython']\n"
          ]
        },
        {
          "output_type": "error",
          "ename": "ImportError",
          "evalue": "cannot import name 'np_utils' from 'keras.utils' (/usr/local/lib/python3.10/dist-packages/keras/utils/__init__.py)",
          "traceback": [
            "\u001b[0;31m---------------------------------------------------------------------------\u001b[0m",
            "\u001b[0;31mImportError\u001b[0m                               Traceback (most recent call last)",
            "\u001b[0;32m<ipython-input-8-c7e59fad90a9>\u001b[0m in \u001b[0;36m<cell line: 32>\u001b[0;34m()\u001b[0m\n\u001b[1;32m     30\u001b[0m \u001b[0;31m# from sklearn.ensemble import KerasClassifier\u001b[0m\u001b[0;34m\u001b[0m\u001b[0;34m\u001b[0m\u001b[0m\n\u001b[1;32m     31\u001b[0m \u001b[0;34m\u001b[0m\u001b[0m\n\u001b[0;32m---> 32\u001b[0;31m \u001b[0;32mfrom\u001b[0m \u001b[0mkeras\u001b[0m\u001b[0;34m.\u001b[0m\u001b[0mutils\u001b[0m \u001b[0;32mimport\u001b[0m \u001b[0mnp_utils\u001b[0m\u001b[0;34m\u001b[0m\u001b[0;34m\u001b[0m\u001b[0m\n\u001b[0m\u001b[1;32m     33\u001b[0m \u001b[0;32mfrom\u001b[0m \u001b[0msklearn\u001b[0m\u001b[0;34m.\u001b[0m\u001b[0mmodel_selection\u001b[0m \u001b[0;32mimport\u001b[0m \u001b[0mcross_val_score\u001b[0m\u001b[0;34m\u001b[0m\u001b[0;34m\u001b[0m\u001b[0m\n\u001b[1;32m     34\u001b[0m \u001b[0;32mfrom\u001b[0m \u001b[0mkeras\u001b[0m\u001b[0;34m.\u001b[0m\u001b[0mlayers\u001b[0m \u001b[0;32mimport\u001b[0m \u001b[0mDropout\u001b[0m\u001b[0;34m\u001b[0m\u001b[0;34m\u001b[0m\u001b[0m\n",
            "\u001b[0;31mImportError\u001b[0m: cannot import name 'np_utils' from 'keras.utils' (/usr/local/lib/python3.10/dist-packages/keras/utils/__init__.py)",
            "",
            "\u001b[0;31m---------------------------------------------------------------------------\u001b[0;32m\nNOTE: If your import is failing due to a missing package, you can\nmanually install dependencies using either !pip or !apt.\n\nTo view examples of installing some common dependencies, click the\n\"Open Examples\" button below.\n\u001b[0;31m---------------------------------------------------------------------------\u001b[0m\n"
          ],
          "errorDetails": {
            "actions": [
              {
                "action": "open_url",
                "actionText": "Open Examples",
                "url": "/notebooks/snippets/importing_libraries.ipynb"
              }
            ]
          }
        }
      ]
    },
    {
      "cell_type": "code",
      "metadata": {
        "id": "0qLCXtjUvtdL"
      },
      "source": [
        "# connect to local google drive if using google colab by un-commenting the below commands\n",
        "# from google.colab import drive\n",
        "# drive.mount('/content/drive')"
      ],
      "execution_count": null,
      "outputs": []
    },
    {
      "cell_type": "code",
      "metadata": {
        "id": "H8c-2rNM7Bpx"
      },
      "source": [
        "from psutil import virtual_memory\n",
        "ram_gb = virtual_memory().total / 1e9\n",
        "print('Your runtime has {:.1f} gigabytes of available RAM\\n'.format(ram_gb))\n",
        "if ram_gb < 20:\n",
        "  print('You are using a normal-RAM runtime!')\n",
        "else:\n",
        "  print('You are using a high-RAM runtime!')"
      ],
      "execution_count": null,
      "outputs": []
    },
    {
      "cell_type": "code",
      "metadata": {
        "id": "G2XApSxLBcrl",
        "colab": {
          "base_uri": "https://localhost:8080/",
          "height": 159
        },
        "outputId": "b7c48c4c-4e97-4f42-e830-d876f748f944"
      },
      "source": [
        "# check if GPU is used\n",
        "print(device_lib.list_local_devices())"
      ],
      "execution_count": 7,
      "outputs": [
        {
          "output_type": "error",
          "ename": "NameError",
          "evalue": "name 'device_lib' is not defined",
          "traceback": [
            "\u001b[0;31m---------------------------------------------------------------------------\u001b[0m",
            "\u001b[0;31mNameError\u001b[0m                                 Traceback (most recent call last)",
            "\u001b[0;32m<ipython-input-7-34737421bfa0>\u001b[0m in \u001b[0;36m<cell line: 2>\u001b[0;34m()\u001b[0m\n\u001b[1;32m      1\u001b[0m \u001b[0;31m# check if GPU is used\u001b[0m\u001b[0;34m\u001b[0m\u001b[0;34m\u001b[0m\u001b[0m\n\u001b[0;32m----> 2\u001b[0;31m \u001b[0mprint\u001b[0m\u001b[0;34m(\u001b[0m\u001b[0mdevice_lib\u001b[0m\u001b[0;34m.\u001b[0m\u001b[0mlist_local_devices\u001b[0m\u001b[0;34m(\u001b[0m\u001b[0;34m)\u001b[0m\u001b[0;34m)\u001b[0m\u001b[0;34m\u001b[0m\u001b[0;34m\u001b[0m\u001b[0m\n\u001b[0m",
            "\u001b[0;31mNameError\u001b[0m: name 'device_lib' is not defined"
          ]
        }
      ]
    },
    {
      "cell_type": "code",
      "source": [
        "!pip install kaggle\n"
      ],
      "metadata": {
        "colab": {
          "base_uri": "https://localhost:8080/"
        },
        "id": "kWC-4ldR2N5r",
        "outputId": "a2c8871f-0e92-4cdc-83cb-03d50226b6a7"
      },
      "execution_count": null,
      "outputs": [
        {
          "output_type": "stream",
          "name": "stdout",
          "text": [
            "Requirement already satisfied: kaggle in /usr/local/lib/python3.10/dist-packages (1.5.16)\n",
            "Requirement already satisfied: six>=1.10 in /usr/local/lib/python3.10/dist-packages (from kaggle) (1.16.0)\n",
            "Requirement already satisfied: certifi in /usr/local/lib/python3.10/dist-packages (from kaggle) (2024.2.2)\n",
            "Requirement already satisfied: python-dateutil in /usr/local/lib/python3.10/dist-packages (from kaggle) (2.8.2)\n",
            "Requirement already satisfied: requests in /usr/local/lib/python3.10/dist-packages (from kaggle) (2.31.0)\n",
            "Requirement already satisfied: tqdm in /usr/local/lib/python3.10/dist-packages (from kaggle) (4.66.2)\n",
            "Requirement already satisfied: python-slugify in /usr/local/lib/python3.10/dist-packages (from kaggle) (8.0.4)\n",
            "Requirement already satisfied: urllib3 in /usr/local/lib/python3.10/dist-packages (from kaggle) (2.0.7)\n",
            "Requirement already satisfied: bleach in /usr/local/lib/python3.10/dist-packages (from kaggle) (6.1.0)\n",
            "Requirement already satisfied: webencodings in /usr/local/lib/python3.10/dist-packages (from bleach->kaggle) (0.5.1)\n",
            "Requirement already satisfied: text-unidecode>=1.3 in /usr/local/lib/python3.10/dist-packages (from python-slugify->kaggle) (1.3)\n",
            "Requirement already satisfied: charset-normalizer<4,>=2 in /usr/local/lib/python3.10/dist-packages (from requests->kaggle) (3.3.2)\n",
            "Requirement already satisfied: idna<4,>=2.5 in /usr/local/lib/python3.10/dist-packages (from requests->kaggle) (3.6)\n"
          ]
        }
      ]
    },
    {
      "cell_type": "code",
      "source": [
        "pip install gensim==3.8.3\n"
      ],
      "metadata": {
        "colab": {
          "base_uri": "https://localhost:8080/"
        },
        "id": "epNm1RaEMUwl",
        "outputId": "e5118ff2-7299-4f44-b362-877ae89c32f7"
      },
      "execution_count": 8,
      "outputs": [
        {
          "output_type": "stream",
          "name": "stdout",
          "text": [
            "Collecting gensim==3.8.3\n",
            "  Downloading gensim-3.8.3.tar.gz (23.4 MB)\n",
            "\u001b[2K     \u001b[90m━━━━━━━━━━━━━━━━━━━━━━━━━━━━━━━━━━━━━━━━\u001b[0m \u001b[32m23.4/23.4 MB\u001b[0m \u001b[31m43.6 MB/s\u001b[0m eta \u001b[36m0:00:00\u001b[0m\n",
            "\u001b[?25h  Preparing metadata (setup.py) ... \u001b[?25l\u001b[?25hdone\n",
            "Requirement already satisfied: numpy>=1.11.3 in /usr/local/lib/python3.10/dist-packages (from gensim==3.8.3) (1.25.2)\n",
            "Requirement already satisfied: scipy>=0.18.1 in /usr/local/lib/python3.10/dist-packages (from gensim==3.8.3) (1.11.4)\n",
            "Requirement already satisfied: six>=1.5.0 in /usr/local/lib/python3.10/dist-packages (from gensim==3.8.3) (1.16.0)\n",
            "Requirement already satisfied: smart_open>=1.8.1 in /usr/local/lib/python3.10/dist-packages (from gensim==3.8.3) (6.4.0)\n",
            "Building wheels for collected packages: gensim\n",
            "  \u001b[1;31merror\u001b[0m: \u001b[1msubprocess-exited-with-error\u001b[0m\n",
            "  \n",
            "  \u001b[31m×\u001b[0m \u001b[32mpython setup.py bdist_wheel\u001b[0m did not run successfully.\n",
            "  \u001b[31m│\u001b[0m exit code: \u001b[1;36m1\u001b[0m\n",
            "  \u001b[31m╰─>\u001b[0m See above for output.\n",
            "  \n",
            "  \u001b[1;35mnote\u001b[0m: This error originates from a subprocess, and is likely not a problem with pip.\n",
            "  Building wheel for gensim (setup.py) ... \u001b[?25lerror\n",
            "\u001b[31m  ERROR: Failed building wheel for gensim\u001b[0m\u001b[31m\n",
            "\u001b[0m\u001b[?25h  Running setup.py clean for gensim\n",
            "Failed to build gensim\n",
            "\u001b[31mERROR: Could not build wheels for gensim, which is required to install pyproject.toml-based projects\u001b[0m\u001b[31m\n",
            "\u001b[0m"
          ]
        }
      ]
    },
    {
      "cell_type": "code",
      "source": [
        "from google.colab import drive\n",
        "import gensim\n",
        "\n",
        "# Mount Google Drive\n",
        "drive.mount('/content/drive')\n",
        "\n",
        "# Load the Word2Vec model\n",
        "vec_model = gensim.models.KeyedVectors.load_word2vec_format('/content/drive/MyDrive/GoogleNewsvectorsnegative300.bin', binary=True)"
      ],
      "metadata": {
        "colab": {
          "base_uri": "https://localhost:8080/"
        },
        "id": "klW0fP8_G5dc",
        "outputId": "7310e52e-62d5-4a89-fc44-585dc14456f1"
      },
      "execution_count": 9,
      "outputs": [
        {
          "output_type": "stream",
          "name": "stdout",
          "text": [
            "Mounted at /content/drive\n"
          ]
        }
      ]
    },
    {
      "cell_type": "code",
      "metadata": {
        "id": "_v-X2vhHs-2e",
        "colab": {
          "base_uri": "https://localhost:8080/",
          "height": 321
        },
        "outputId": "ce20be7c-5d69-4d78-a772-2cc5c43a4c07"
      },
      "source": [
        "# import the word2vec model with pre-trained vectors trained on part of Google News dataset (about 100 billion words).\n",
        "# The model contains 300-dimensional vectors for 3 million words and phrases. Link here to the official web page for this project -- https://code.google.com/archive/p/word2vec/\n",
        "# Per the official website link above, one could download the model as a gz file from the archives here -- https://drive.google.com/file/d/0B7XkCwpI5KDYNlNUTTlSS21pQmM/edit (or)\n",
        "# Clone from github from here which is a mirrored copy according to the github author-- https://github.com/mmihaltz/word2vec-GoogleNews-vectors\n",
        "# Below is an import link from my personal google drive. This needs to be changed to point to the model file as appropriate.\n",
        "vec_model = gensim.models.KeyedVectors.load_word2vec_format('drive/MyDrive/GoogleNews-vectors-negative300.bin', binary=True)"
      ],
      "execution_count": 10,
      "outputs": [
        {
          "output_type": "error",
          "ename": "FileNotFoundError",
          "evalue": "[Errno 2] No such file or directory: 'drive/MyDrive/GoogleNews-vectors-negative300.bin'",
          "traceback": [
            "\u001b[0;31m---------------------------------------------------------------------------\u001b[0m",
            "\u001b[0;31mFileNotFoundError\u001b[0m                         Traceback (most recent call last)",
            "\u001b[0;32m<ipython-input-10-01c6cd46b90b>\u001b[0m in \u001b[0;36m<cell line: 6>\u001b[0;34m()\u001b[0m\n\u001b[1;32m      4\u001b[0m \u001b[0;31m# Clone from github from here which is a mirrored copy according to the github author-- https://github.com/mmihaltz/word2vec-GoogleNews-vectors\u001b[0m\u001b[0;34m\u001b[0m\u001b[0;34m\u001b[0m\u001b[0m\n\u001b[1;32m      5\u001b[0m \u001b[0;31m# Below is an import link from my personal google drive. This needs to be changed to point to the model file as appropriate.\u001b[0m\u001b[0;34m\u001b[0m\u001b[0;34m\u001b[0m\u001b[0m\n\u001b[0;32m----> 6\u001b[0;31m \u001b[0mvec_model\u001b[0m \u001b[0;34m=\u001b[0m \u001b[0mgensim\u001b[0m\u001b[0;34m.\u001b[0m\u001b[0mmodels\u001b[0m\u001b[0;34m.\u001b[0m\u001b[0mKeyedVectors\u001b[0m\u001b[0;34m.\u001b[0m\u001b[0mload_word2vec_format\u001b[0m\u001b[0;34m(\u001b[0m\u001b[0;34m'drive/MyDrive/GoogleNews-vectors-negative300.bin'\u001b[0m\u001b[0;34m,\u001b[0m \u001b[0mbinary\u001b[0m\u001b[0;34m=\u001b[0m\u001b[0;32mTrue\u001b[0m\u001b[0;34m)\u001b[0m\u001b[0;34m\u001b[0m\u001b[0;34m\u001b[0m\u001b[0m\n\u001b[0m",
            "\u001b[0;32m/usr/local/lib/python3.10/dist-packages/gensim/models/keyedvectors.py\u001b[0m in \u001b[0;36mload_word2vec_format\u001b[0;34m(cls, fname, fvocab, binary, encoding, unicode_errors, limit, datatype, no_header)\u001b[0m\n\u001b[1;32m   1717\u001b[0m \u001b[0;34m\u001b[0m\u001b[0m\n\u001b[1;32m   1718\u001b[0m         \"\"\"\n\u001b[0;32m-> 1719\u001b[0;31m         return _load_word2vec_format(\n\u001b[0m\u001b[1;32m   1720\u001b[0m             \u001b[0mcls\u001b[0m\u001b[0;34m,\u001b[0m \u001b[0mfname\u001b[0m\u001b[0;34m,\u001b[0m \u001b[0mfvocab\u001b[0m\u001b[0;34m=\u001b[0m\u001b[0mfvocab\u001b[0m\u001b[0;34m,\u001b[0m \u001b[0mbinary\u001b[0m\u001b[0;34m=\u001b[0m\u001b[0mbinary\u001b[0m\u001b[0;34m,\u001b[0m \u001b[0mencoding\u001b[0m\u001b[0;34m=\u001b[0m\u001b[0mencoding\u001b[0m\u001b[0;34m,\u001b[0m \u001b[0municode_errors\u001b[0m\u001b[0;34m=\u001b[0m\u001b[0municode_errors\u001b[0m\u001b[0;34m,\u001b[0m\u001b[0;34m\u001b[0m\u001b[0;34m\u001b[0m\u001b[0m\n\u001b[1;32m   1721\u001b[0m             \u001b[0mlimit\u001b[0m\u001b[0;34m=\u001b[0m\u001b[0mlimit\u001b[0m\u001b[0;34m,\u001b[0m \u001b[0mdatatype\u001b[0m\u001b[0;34m=\u001b[0m\u001b[0mdatatype\u001b[0m\u001b[0;34m,\u001b[0m \u001b[0mno_header\u001b[0m\u001b[0;34m=\u001b[0m\u001b[0mno_header\u001b[0m\u001b[0;34m,\u001b[0m\u001b[0;34m\u001b[0m\u001b[0;34m\u001b[0m\u001b[0m\n",
            "\u001b[0;32m/usr/local/lib/python3.10/dist-packages/gensim/models/keyedvectors.py\u001b[0m in \u001b[0;36m_load_word2vec_format\u001b[0;34m(cls, fname, fvocab, binary, encoding, unicode_errors, limit, datatype, no_header, binary_chunk_size)\u001b[0m\n\u001b[1;32m   2046\u001b[0m \u001b[0;34m\u001b[0m\u001b[0m\n\u001b[1;32m   2047\u001b[0m     \u001b[0mlogger\u001b[0m\u001b[0;34m.\u001b[0m\u001b[0minfo\u001b[0m\u001b[0;34m(\u001b[0m\u001b[0;34m\"loading projection weights from %s\"\u001b[0m\u001b[0;34m,\u001b[0m \u001b[0mfname\u001b[0m\u001b[0;34m)\u001b[0m\u001b[0;34m\u001b[0m\u001b[0;34m\u001b[0m\u001b[0m\n\u001b[0;32m-> 2048\u001b[0;31m     \u001b[0;32mwith\u001b[0m \u001b[0mutils\u001b[0m\u001b[0;34m.\u001b[0m\u001b[0mopen\u001b[0m\u001b[0;34m(\u001b[0m\u001b[0mfname\u001b[0m\u001b[0;34m,\u001b[0m \u001b[0;34m'rb'\u001b[0m\u001b[0;34m)\u001b[0m \u001b[0;32mas\u001b[0m \u001b[0mfin\u001b[0m\u001b[0;34m:\u001b[0m\u001b[0;34m\u001b[0m\u001b[0;34m\u001b[0m\u001b[0m\n\u001b[0m\u001b[1;32m   2049\u001b[0m         \u001b[0;32mif\u001b[0m \u001b[0mno_header\u001b[0m\u001b[0;34m:\u001b[0m\u001b[0;34m\u001b[0m\u001b[0;34m\u001b[0m\u001b[0m\n\u001b[1;32m   2050\u001b[0m             \u001b[0;31m# deduce both vocab_size & vector_size from 1st pass over file\u001b[0m\u001b[0;34m\u001b[0m\u001b[0;34m\u001b[0m\u001b[0m\n",
            "\u001b[0;32m/usr/local/lib/python3.10/dist-packages/smart_open/smart_open_lib.py\u001b[0m in \u001b[0;36mopen\u001b[0;34m(uri, mode, buffering, encoding, errors, newline, closefd, opener, compression, transport_params)\u001b[0m\n\u001b[1;32m    175\u001b[0m         \u001b[0mtransport_params\u001b[0m \u001b[0;34m=\u001b[0m \u001b[0;34m{\u001b[0m\u001b[0;34m}\u001b[0m\u001b[0;34m\u001b[0m\u001b[0;34m\u001b[0m\u001b[0m\n\u001b[1;32m    176\u001b[0m \u001b[0;34m\u001b[0m\u001b[0m\n\u001b[0;32m--> 177\u001b[0;31m     fobj = _shortcut_open(\n\u001b[0m\u001b[1;32m    178\u001b[0m         \u001b[0muri\u001b[0m\u001b[0;34m,\u001b[0m\u001b[0;34m\u001b[0m\u001b[0;34m\u001b[0m\u001b[0m\n\u001b[1;32m    179\u001b[0m         \u001b[0mmode\u001b[0m\u001b[0;34m,\u001b[0m\u001b[0;34m\u001b[0m\u001b[0;34m\u001b[0m\u001b[0m\n",
            "\u001b[0;32m/usr/local/lib/python3.10/dist-packages/smart_open/smart_open_lib.py\u001b[0m in \u001b[0;36m_shortcut_open\u001b[0;34m(uri, mode, compression, buffering, encoding, errors, newline)\u001b[0m\n\u001b[1;32m    361\u001b[0m         \u001b[0mopen_kwargs\u001b[0m\u001b[0;34m[\u001b[0m\u001b[0;34m'errors'\u001b[0m\u001b[0;34m]\u001b[0m \u001b[0;34m=\u001b[0m \u001b[0merrors\u001b[0m\u001b[0;34m\u001b[0m\u001b[0;34m\u001b[0m\u001b[0m\n\u001b[1;32m    362\u001b[0m \u001b[0;34m\u001b[0m\u001b[0m\n\u001b[0;32m--> 363\u001b[0;31m     \u001b[0;32mreturn\u001b[0m \u001b[0m_builtin_open\u001b[0m\u001b[0;34m(\u001b[0m\u001b[0mlocal_path\u001b[0m\u001b[0;34m,\u001b[0m \u001b[0mmode\u001b[0m\u001b[0;34m,\u001b[0m \u001b[0mbuffering\u001b[0m\u001b[0;34m=\u001b[0m\u001b[0mbuffering\u001b[0m\u001b[0;34m,\u001b[0m \u001b[0;34m**\u001b[0m\u001b[0mopen_kwargs\u001b[0m\u001b[0;34m)\u001b[0m\u001b[0;34m\u001b[0m\u001b[0;34m\u001b[0m\u001b[0m\n\u001b[0m\u001b[1;32m    364\u001b[0m \u001b[0;34m\u001b[0m\u001b[0m\n\u001b[1;32m    365\u001b[0m \u001b[0;34m\u001b[0m\u001b[0m\n",
            "\u001b[0;31mFileNotFoundError\u001b[0m: [Errno 2] No such file or directory: 'drive/MyDrive/GoogleNews-vectors-negative300.bin'"
          ]
        }
      ]
    },
    {
      "cell_type": "code",
      "metadata": {
        "colab": {
          "base_uri": "https://localhost:8080/"
        },
        "id": "Iqdjkk4e7UhM",
        "outputId": "96799552-b89a-4164-ad76-e28f39f2fedc"
      },
      "source": [
        "from psutil import virtual_memory\n",
        "ram_gb = virtual_memory().total / 1e9\n",
        "print('Your runtime has {:.1f} gigabytes of available RAM\\n'.format(ram_gb))\n",
        "if ram_gb < 20:\n",
        "  print('You are using a normal-RAM runtime!')\n",
        "else:\n",
        "  print('You are using a high-RAM runtime!')"
      ],
      "execution_count": 10,
      "outputs": [
        {
          "output_type": "stream",
          "name": "stdout",
          "text": [
            "Your runtime has 13.6 gigabytes of available RAM\n",
            "\n",
            "You are using a normal-RAM runtime!\n"
          ]
        }
      ]
    },
    {
      "cell_type": "code",
      "source": [
        "pip install gensim==3.8.3\n"
      ],
      "metadata": {
        "colab": {
          "base_uri": "https://localhost:8080/"
        },
        "id": "bgTbU-zRMHHm",
        "outputId": "39c49057-c542-4f38-d45d-1dbe2b03e505"
      },
      "execution_count": 11,
      "outputs": [
        {
          "output_type": "stream",
          "name": "stdout",
          "text": [
            "Collecting gensim==3.8.3\n",
            "  Downloading gensim-3.8.3.tar.gz (23.4 MB)\n",
            "\u001b[2K     \u001b[90m━━━━━━━━━━━━━━━━━━━━━━━━━━━━━━━━━━━━━━━━\u001b[0m \u001b[32m23.4/23.4 MB\u001b[0m \u001b[31m37.4 MB/s\u001b[0m eta \u001b[36m0:00:00\u001b[0m\n",
            "\u001b[?25h  Preparing metadata (setup.py) ... \u001b[?25l\u001b[?25hdone\n",
            "Requirement already satisfied: numpy>=1.11.3 in /usr/local/lib/python3.10/dist-packages (from gensim==3.8.3) (1.25.2)\n",
            "Requirement already satisfied: scipy>=0.18.1 in /usr/local/lib/python3.10/dist-packages (from gensim==3.8.3) (1.11.4)\n",
            "Requirement already satisfied: six>=1.5.0 in /usr/local/lib/python3.10/dist-packages (from gensim==3.8.3) (1.16.0)\n",
            "Requirement already satisfied: smart_open>=1.8.1 in /usr/local/lib/python3.10/dist-packages (from gensim==3.8.3) (6.4.0)\n",
            "Building wheels for collected packages: gensim\n",
            "  \u001b[1;31merror\u001b[0m: \u001b[1msubprocess-exited-with-error\u001b[0m\n",
            "  \n",
            "  \u001b[31m×\u001b[0m \u001b[32mpython setup.py bdist_wheel\u001b[0m did not run successfully.\n",
            "  \u001b[31m│\u001b[0m exit code: \u001b[1;36m1\u001b[0m\n",
            "  \u001b[31m╰─>\u001b[0m See above for output.\n",
            "  \n",
            "  \u001b[1;35mnote\u001b[0m: This error originates from a subprocess, and is likely not a problem with pip.\n",
            "  Building wheel for gensim (setup.py) ... \u001b[?25lerror\n",
            "\u001b[31m  ERROR: Failed building wheel for gensim\u001b[0m\u001b[31m\n",
            "\u001b[0m\u001b[?25h  Running setup.py clean for gensim\n",
            "Failed to build gensim\n",
            "\u001b[31mERROR: Could not build wheels for gensim, which is required to install pyproject.toml-based projects\u001b[0m\u001b[31m\n",
            "\u001b[0m"
          ]
        }
      ]
    },
    {
      "cell_type": "code",
      "metadata": {
        "colab": {
          "base_uri": "https://localhost:8080/"
        },
        "id": "TEk6F2JGzOey",
        "outputId": "49188d0d-19da-444d-b3c5-7dbb7759afe4"
      },
      "source": [
        "print(vec_model['the'])"
      ],
      "execution_count": 12,
      "outputs": [
        {
          "output_type": "stream",
          "name": "stdout",
          "text": [
            "[ 0.08007812  0.10498047  0.04980469  0.0534668  -0.06738281 -0.12060547\n",
            "  0.03515625 -0.11865234  0.04394531  0.03015137 -0.05688477 -0.07617188\n",
            "  0.01287842  0.04980469 -0.08496094 -0.06347656  0.00628662 -0.04321289\n",
            "  0.02026367  0.01330566 -0.01953125  0.09277344 -0.171875   -0.00131989\n",
            "  0.06542969  0.05834961 -0.08251953  0.0859375  -0.00318909  0.05859375\n",
            " -0.03491211 -0.0123291  -0.0480957  -0.00302124  0.05639648  0.01495361\n",
            " -0.07226562 -0.05224609  0.09667969  0.04296875 -0.03540039 -0.07324219\n",
            "  0.03271484 -0.06176758  0.00787354  0.0035553  -0.00878906  0.0390625\n",
            "  0.03833008  0.04443359  0.06982422  0.01263428 -0.00445557 -0.03320312\n",
            " -0.04272461  0.09765625 -0.02160645 -0.0378418   0.01190186 -0.01391602\n",
            " -0.11328125  0.09326172 -0.03930664 -0.11621094  0.02331543 -0.01599121\n",
            "  0.02636719  0.10742188 -0.00466919  0.09619141  0.0279541  -0.05395508\n",
            "  0.08544922 -0.03686523 -0.02026367 -0.08544922  0.125       0.14453125\n",
            "  0.0267334   0.15039062  0.05273438 -0.18652344  0.08154297 -0.01062012\n",
            " -0.03735352 -0.07324219 -0.07519531  0.03613281 -0.13183594  0.00616455\n",
            "  0.05078125  0.04516602  0.0100708  -0.15039062 -0.06005859  0.05761719\n",
            " -0.00692749  0.01586914 -0.0213623   0.10351562 -0.00029182 -0.046875\n",
            " -0.01635742 -0.07861328 -0.06933594  0.01635742 -0.03149414 -0.01373291\n",
            " -0.03662109 -0.08886719 -0.0480957  -0.01318359 -0.07177734  0.00588989\n",
            " -0.04614258  0.03979492  0.10058594 -0.04931641  0.07568359  0.03881836\n",
            " -0.16699219 -0.09619141 -0.10107422  0.02905273 -0.05786133 -0.01928711\n",
            " -0.04296875 -0.08398438 -0.01989746  0.05151367  0.00848389 -0.03613281\n",
            " -0.14941406 -0.01855469 -0.03637695 -0.07666016 -0.03955078 -0.06152344\n",
            " -0.02001953  0.04150391  0.03686523 -0.07226562  0.00592041 -0.06298828\n",
            "  0.00738525 -0.01586914  0.01611328 -0.01452637  0.00772095  0.10107422\n",
            " -0.00558472  0.01428223 -0.07617188  0.05639648 -0.01293945  0.03063965\n",
            " -0.02490234 -0.09863281  0.0324707  -0.02807617 -0.08105469  0.02062988\n",
            "  0.01611328 -0.04199219 -0.03491211 -0.03759766  0.05493164  0.01373291\n",
            "  0.02685547 -0.05859375 -0.07177734 -0.12011719 -0.02282715 -0.1640625\n",
            " -0.00361633 -0.05981445  0.07080078 -0.07714844  0.05175781 -0.04296875\n",
            " -0.04833984  0.0300293  -0.06591797 -0.03173828 -0.04882812 -0.03491211\n",
            "  0.05883789 -0.01464844  0.18066406  0.05688477  0.05249023  0.05786133\n",
            "  0.11669922  0.05200195 -0.0534668   0.01867676 -0.015625    0.00576782\n",
            " -0.07324219 -0.11621094  0.04052734  0.0625     -0.04321289  0.01055908\n",
            "  0.02172852  0.04248047  0.03271484  0.04418945  0.05761719  0.02612305\n",
            " -0.01831055 -0.02697754 -0.00674438  0.00509644 -0.11621094  0.00364685\n",
            "  0.05761719 -0.05957031 -0.08837891  0.0135498   0.04541016 -0.04638672\n",
            " -0.0177002  -0.0625      0.03442383 -0.02416992  0.03088379  0.09570312\n",
            "  0.07958984  0.03930664  0.0279541  -0.0859375   0.08105469  0.06640625\n",
            " -0.00041962 -0.06933594  0.03588867 -0.03417969  0.04492188 -0.00772095\n",
            " -0.00741577 -0.04760742  0.01397705 -0.09960938  0.0246582  -0.09960938\n",
            "  0.11474609  0.03173828  0.02209473  0.07226562  0.03686523  0.02563477\n",
            "  0.01367188 -0.02734375  0.00592041 -0.06738281  0.05053711 -0.02832031\n",
            " -0.04516602 -0.01733398  0.02111816  0.03515625 -0.04296875  0.06640625\n",
            "  0.12207031  0.12353516  0.0039978   0.04516602 -0.01855469  0.04833984\n",
            "  0.04516602  0.08691406  0.02941895  0.03759766  0.03442383 -0.07373047\n",
            " -0.0402832  -0.14648438 -0.02441406 -0.01953125  0.0065918  -0.0018158\n",
            " -0.01092529  0.09326172  0.06542969  0.01843262 -0.09326172 -0.01574707\n",
            " -0.07128906 -0.08935547 -0.07128906 -0.03015137 -0.01300049  0.01635742\n",
            " -0.01831055  0.01483154  0.00500488  0.00366211  0.04760742 -0.06884766]\n"
          ]
        }
      ]
    },
    {
      "cell_type": "code",
      "metadata": {
        "id": "cfEnkSZqzWW2",
        "colab": {
          "base_uri": "https://localhost:8080/"
        },
        "outputId": "0dc15ae0-3487-4411-b391-48ca4d4fc91b"
      },
      "source": [
        "vocab_size = len(vec_model.index_to_key)\n",
        "print(vocab_size)"
      ],
      "execution_count": 13,
      "outputs": [
        {
          "output_type": "stream",
          "name": "stdout",
          "text": [
            "3000000\n"
          ]
        }
      ]
    },
    {
      "cell_type": "code",
      "metadata": {
        "scrolled": true,
        "id": "sAxaZsDWBcro",
        "colab": {
          "base_uri": "https://localhost:8080/"
        },
        "outputId": "8031c203-6e00-494e-adb9-976f2fd3403d"
      },
      "source": [
        "# import the dataset from the Dataset folder\n",
        "import pandas as pd\n",
        "df = pd.read_csv('/content/NFR_CSV.csv')\n",
        "df.info()"
      ],
      "execution_count": 14,
      "outputs": [
        {
          "output_type": "stream",
          "name": "stdout",
          "text": [
            "<class 'pandas.core.frame.DataFrame'>\n",
            "RangeIndex: 945 entries, 0 to 944\n",
            "Data columns (total 2 columns):\n",
            " #   Column      Non-Null Count  Dtype \n",
            "---  ------      --------------  ----- \n",
            " 0   class_name  945 non-null    object\n",
            " 1   sentence    945 non-null    object\n",
            "dtypes: object(2)\n",
            "memory usage: 14.9+ KB\n"
          ]
        }
      ]
    },
    {
      "cell_type": "code",
      "metadata": {
        "id": "-Ps4chm5Bcrq",
        "colab": {
          "base_uri": "https://localhost:8080/"
        },
        "outputId": "e32179bd-1f6a-42e3-85fa-d24f52323730"
      },
      "source": [
        "df.class_name.value_counts()"
      ],
      "execution_count": 15,
      "outputs": [
        {
          "output_type": "execute_result",
          "data": {
            "text/plain": [
              "class_name\n",
              "Security           354\n",
              "Usability          157\n",
              "Operability        153\n",
              "Maintainability    137\n",
              "Performance        113\n",
              "Fault Tolerance     17\n",
              "Scalability         10\n",
              "Portability          4\n",
              "Name: count, dtype: int64"
            ]
          },
          "metadata": {},
          "execution_count": 15
        }
      ]
    },
    {
      "cell_type": "code",
      "metadata": {
        "id": "v18DJoihBcrt",
        "colab": {
          "base_uri": "https://localhost:8080/"
        },
        "outputId": "78569a17-ed9c-40d9-8d83-0216c159c521"
      },
      "source": [
        "#function to print out a specific observation by passing the index of that in the dataset\n",
        "def print_plot(index):\n",
        "    example = df[df.index == index][['sentence', 'class_name']].values[0]\n",
        "    print(example)\n",
        "    if len(example) > 0:\n",
        "        print(example[0])\n",
        "        print('Req_Class:', example[1])\n",
        "print_plot(10)"
      ],
      "execution_count": 16,
      "outputs": [
        {
          "output_type": "stream",
          "name": "stdout",
          "text": [
            "['The maximum wait time for a user navigating from one screen to another within the Disputes application shall be no more than 5 seconds.'\n",
            " 'Performance']\n",
            "The maximum wait time for a user navigating from one screen to another within the Disputes application shall be no more than 5 seconds.\n",
            "Req_Class: Performance\n"
          ]
        }
      ]
    },
    {
      "cell_type": "code",
      "metadata": {
        "id": "0OJIjFKdBcrw",
        "colab": {
          "base_uri": "https://localhost:8080/"
        },
        "outputId": "15f87aa2-0cec-4bc7-e66a-7f6de88ccf2f"
      },
      "source": [
        "print_plot(100)"
      ],
      "execution_count": 17,
      "outputs": [
        {
          "output_type": "stream",
          "name": "stdout",
          "text": [
            "['The system shall have a response time where the average transaction on the server needs to occur on average less than 1 second.'\n",
            " 'Performance']\n",
            "The system shall have a response time where the average transaction on the server needs to occur on average less than 1 second.\n",
            "Req_Class: Performance\n"
          ]
        }
      ]
    },
    {
      "cell_type": "code",
      "source": [
        "from scipy import sparse\n",
        "import nltk\n",
        "from nltk import punkt\n",
        "from nltk.stem.lancaster import LancasterStemmer\n",
        "nltk.download('punkt')\n",
        "nltk.download('stopwords')\n",
        "# from sklearn.feature_extraction import stop_words\n",
        "import sklearn.datasets\n",
        "from sklearn.model_selection import StratifiedKFold\n",
        "from sklearn.model_selection import KFold\n",
        "from sklearn.metrics import multilabel_confusion_matrix\n",
        "from sklearn.metrics import accuracy_score, f1_score, precision_score, \\\n",
        "recall_score, classification_report, confusion_matrix, multilabel_confusion_matrix, precision_recall_fscore_support\n",
        "from nltk.corpus import stopwords\n",
        "from nltk import word_tokenize\n",
        "STOPWORDS = set(stopwords.words('english'))\n",
        "import plotly.graph_objs as go\n",
        "from keras import backend as K\n",
        "from numpy import where\n",
        "from tensorflow.python.client import device_lib"
      ],
      "metadata": {
        "colab": {
          "base_uri": "https://localhost:8080/"
        },
        "id": "A-ijUJmURSJT",
        "outputId": "e69b915a-90dd-41c2-b238-f820200edccc"
      },
      "execution_count": 18,
      "outputs": [
        {
          "output_type": "stream",
          "name": "stderr",
          "text": [
            "[nltk_data] Downloading package punkt to /root/nltk_data...\n",
            "[nltk_data]   Unzipping tokenizers/punkt.zip.\n",
            "[nltk_data] Downloading package stopwords to /root/nltk_data...\n",
            "[nltk_data]   Unzipping corpora/stopwords.zip.\n"
          ]
        }
      ]
    },
    {
      "cell_type": "code",
      "metadata": {
        "id": "X9-f3LFoBcrz"
      },
      "source": [
        "import re  # Import the 're' module for regular expressions\n",
        "\n",
        "#Regex options to find the special characters\n",
        "REPLACE_BY_SPACE = re.compile('[/(){}\\[\\]\\|@,;]')\n",
        "#Regex options to find the bad symbols\n",
        "BAD_SYMBOLS = re.compile('[^0-9a-z #+_]')\n",
        "#Import stopwords from the nltk.corpus and apply to the data\n",
        "STOPWORDS = set(stopwords.words('english'))\n",
        "# Custom words found by manually looking at the dataset observations\n",
        "ignore_words = [\n",
        "    'i', 'me', 'my', 'myself', 'we', 'our', 'ours', 'ourselves', 'you',\n",
        "    \"you're\", \"you've\", \"you'll\", \"you'd\", 'your', 'yours', 'yourself',\n",
        "    'yourselves', 'he', 'him', 'his', 'himself', 'she', \"she's\", 'her',\n",
        "    'hers', 'herself', 'it', \"it's\", 'its', 'itself', 'they', 'them',\n",
        "    'their', 'theirs', 'themselves', 'what', 'which', 'who', 'whom', 'this',\n",
        "    'that', \"that'll\", 'these', 'those', 'am', 'is', 'are', 'was', 'were',\n",
        "    'be', 'been', 'being', 'have', 'has', 'had', 'having', 'do', 'does',\n",
        "    'did', 'doing', 'a', 'an', 'the', 'and', 'but', 'if', 'or', 'because',\n",
        "    'as', 'until', 'while', 'of', 'at', 'by', 'for', 'with', 'about',\n",
        "    'against', 'between', 'into', 'through', 'during', 'before', 'after',\n",
        "    'above', 'below', 'to', 'from', 'up', 'down', 'in', 'out', 'on', 'off',\n",
        "    'over', 'under', 'again', 'further', 'then', 'once', 'here', 'there',\n",
        "    'when', 'where', 'why', 'how', 'all', 'any', 'both', 'each', 'few',\n",
        "    'more', 'most', 'other', 'some', 'such', 'no', 'nor', 'not', 'only',\n",
        "    'own', 'same', 'so', 'than', 'too', 'very', 's', 't', 'can', 'will',\n",
        "    'just', 'don', \"don't\", 'should', \"should've\", 'now', 'd', 'll', 'm',\n",
        "    'o', 're', 've', 'y', 'ain', 'aren', \"aren't\", 'couldn', \"couldn't\",\n",
        "    'didn', \"didn't\", 'doesn', \"doesn't\", 'hadn', \"hadn't\", 'hasn', \"hasn't\",\n",
        "    'haven', \"haven't\", 'isn', \"isn't\", 'ma', 'mightn', \"mightn't\", 'mustn',\n",
        "    \"mustn't\", 'needn', \"needn't\", 'shan', \"shan't\", 'shouldn', \"shouldn't\",\n",
        "    'wasn', \"wasn't\", 'weren', \"weren't\", 'won', \"won't\", 'wouldn', \"wouldn't\",\n",
        "    '?', '%', '/', '(', ')', '[', ']', '-', ':', ';', 'system', 'product',\n",
        "    'application', 'should', 'would', 'shall', 'go', 'System', 'system.',\n",
        "    'System.','â€',\"'\",]\n",
        "\n",
        "#function to perform data cleansing steps to convert to lower case, remove stop words, and to ignore custom words from the list manually gleaned as shown above\n",
        "def clean_text(text):\n",
        "    text = text.lower() # lowercase text\n",
        "    text = REPLACE_BY_SPACE.sub(' ', text) # replace REPLACE_BY_SPACE symbols by space in text. substitute the matched string in REPLACE_BY_SPACE with space.\n",
        "    text = BAD_SYMBOLS.sub('', text) # remove symbols which are in BAD_SYMBOLS from text. substitute the matched string in BAD_SYMBOLS with nothing.\n",
        "    text = text.replace('x', '')\n",
        "    text = ' '.join(word for word in text.split() if word not in STOPWORDS) # remove stopwords from text\n",
        "    text = ' '.join(word for word in text.split() if word not in ignore_words) # remove words unique to requirements dataset\n",
        "    return text\n",
        "#apply the function on the df from previous step\n",
        "df['sentence'] = df['sentence'].apply(clean_text)\n"
      ],
      "execution_count": 19,
      "outputs": []
    },
    {
      "cell_type": "code",
      "metadata": {
        "id": "3b553K1fBcr8",
        "colab": {
          "base_uri": "https://localhost:8080/"
        },
        "outputId": "358054d4-9b22-4791-dce4-d58b789b9443"
      },
      "source": [
        "from gensim.models import Word2Vec\n",
        "# Setting the maximum number of words in the overall dataset.\n",
        "# word_vectors=vec_model.wv\n",
        "\n",
        "MAX_NB_WORDS = 50000\n",
        "# Setting the ceiling for the maximum number of words in each requirement.\n",
        "MAX_SEQUENCE_LENGTH = 250\n",
        "# Setting the number of dimensions to be used, since this word2vec model uses 300, this is fixed.\n",
        "EMBEDDING_DIM = 300\n",
        "# Invoke Tokenizer function by creating an instance of it\n",
        "tokenizer = Tokenizer(num_words=MAX_NB_WORDS, filters='!\"#$%&()*+,-./:;<=>?@[\\]^_`{|}~', lower=True)\n",
        "# Fitting the instance on the data\n",
        "tokenizer.fit_on_texts(df['sentence'].values)\n",
        "# Saving the output of the tokenizer into different variables\n",
        "word_index = tokenizer.word_index\n",
        "word_counts = tokenizer.word_counts\n",
        "word_docs = tokenizer.word_docs\n",
        "# Prints the unique number of tokens which are basically unique words after the cleaning process and tokenization process\n",
        "print('Found %s unique tokens.' % len(word_index))\n",
        "# This print each unique word and the number of occurrences of each word\n",
        "print(word_docs)\n",
        "print(word_index)\n",
        "# prints the unique words parsed from the nth requirement\n",
        "print_plot(1)"
      ],
      "execution_count": 20,
      "outputs": [
        {
          "output_type": "stream",
          "name": "stdout",
          "text": [
            "Found 2157 unique tokens.\n",
            "defaultdict(<class 'int'>, {'refresh': 3, 'seconds': 47, '60': 5, 'every': 11, 'display': 15, 'uptodate': 2, 'keep': 2, 'respond': 3, 'data': 109, 'fast': 9, 'results': 8, 'produce': 2, 'search': 17, 'time': 58, 'acceptable': 7, 'user': 120, '30': 9, 'later': 4, 'returned': 12, 'entered': 13, 'criteria': 5, 'generate': 7, 'report': 21, 'cma': 6, 'synchronize': 4, 'appointments': 5, 'contacts': 2, 'hour': 3, 'office': 6, 'members': 13, 'able': 102, 'tasks': 8, 'timely': 2, 'set': 13, 'staff': 16, 'manner': 5, 'complete': 14, 'take': 16, 'generation': 2, 'student': 4, 'general': 4, 'schedule': 2, 'management': 28, '5': 46, 'longer': 13, 'response': 27, 'screen': 9, 'another': 7, 'navigating': 4, 'within': 73, 'one': 16, 'wait': 2, 'maimum': 11, 'disputes': 33, 'support': 44, 'degradation': 2, 'performance': 6, 'without': 19, '350': 2, 'concurrent': 5, 'users': 119, 'parts': 12, '15': 11, 'recycled': 9, 'repair': 8, '8': 11, 'facility': 13, 'preferred': 7, 'audit': 6, '10': 17, 'saved': 5, 'ratings': 3, 'occur': 4, 'save': 2, 'avoid': 5, 'flow': 5, 'enough': 5, 'thought': 2, '98': 4, 'interrupting': 2, '90': 31, 'adjustment': 4, 'previous': 3, 'days': 12, '30min': 2, 'quantity': 2, 'c360inventory': 1, 'recreation': 2, 'period': 16, '6': 6, 'minimum': 15, 'allow': 27, 'work': 6, 'prepaid': 6, 'section': 26, 'administration': 7, 'activate': 2, 'administrator': 18, 'via': 17, 'card': 8, 'pin': 1, 'entering': 1, 'number': 19, 'check': 3, 'status': 6, 'customer': 14, 'customers': 16, 'website': 40, 'minutes': 30, 'pay': 2, 'register': 2, 'let': 10, 'movie': 7, 'subscriber': 1, 'unlimited': 1, 'address': 8, 'eisting': 9, 'password': 25, 'email': 3, 'log': 12, 'account': 10, 'cancel': 1, 'database': 60, '2': 45, 'mark': 2, 'process': 26, 'inactive': 3, 'minute': 1, '1': 37, 'access': 86, 'deactivate': 1, 'add': 4, 'movies': 10, 'remove': 5, 'available': 19, 'information': 94, 'stored': 10, 'categories': 3, 'statistics': 2, 'izogn': 4, 'sales': 2, 'manager': 1, 'usage': 6, 'generated': 3, 'administrators': 16, 'unique': 3, 'ecel': 2, 'file': 12, 'pins': 1, 'unless': 3, 'interface': 46, 'eception': 7, 'noted': 4, 'automated': 5, 'processing': 9, 'credit': 5, 'streaming': 12, 'purchasing': 3, 'connection': 7, 'latency': 2, 'buffering': 2, 'plus': 2, 'category': 1, 'update': 9, 'must': 82, 'listings': 1, '8pm': 2, 'completed': 2, 'total': 4, 'business': 13, '3': 18, 'lead': 10, '99': 4, '8am': 2, 'cycle': 4, 'volume': 3, 'hours': 7, 'cst': 2, 'evaluation': 2, '97': 2, 'processed': 2, 'leads': 4, '25': 3, 'duration': 3, 'event': 7, 'record': 6, 'assignment': 2, 'life': 2, 'forth': 2, 'fit': 4, 'auto': 2, 'conditions': 6, 'rep': 2, 'assigned': 6, 'games': 3, 'large': 2, 'simultaneously': 2, 'handle': 9, 'responses': 2, 'game': 6, '4': 6, 'remaining': 2, '95': 5, 'maintain': 13, 'failure': 6, 'server': 33, '9999': 1, 'software': 22, 'achieve': 2, 'aside': 1, 'faster': 1, '112k': 1, 'operations': 2, '56k': 3, 'inventory': 1, 'requests': 12, 'transaction': 22, 'request': 9, 'receiving': 3, 'fourth': 2, 'second': 3, 'network': 14, 'average': 4, '50': 3, '000': 12, 'per': 10, 'day': 12, 'records': 21, 'morning': 2, 'peak': 5, 'afternoon': 2, 'times': 7, 'scheduling': 10, 'capacity': 5, 'late': 2, 'early': 2, 'concurrency': 2, 'never': 1, 'eceed': 3, 'given': 2, '70': 4, 'cpu': 2, 'utilization': 2, 'simultaneous': 6, '1000': 2, 'initial': 1, 'years': 8, 'launch': 5, '1500': 2, 'two': 6, 'transactions': 11, 'multiple': 7, 'remote': 4, 'handling': 5, 'capable': 6, 'operate': 20, 'installation': 6, 'least': 4, 'epected': 10, 'message': 2, 'messages': 7, 'year': 5, 'million': 1, 'balancing': 2, 'multithreading': 2, 'load': 7, 'provide': 44, 'traffic': 2, 'well': 3, 'spikes': 1, 'overcome': 1, 'technology': 12, 'common': 8, 'reach': 2, '60minute': 1, 'online': 7, 'solution': 5, 'levels': 2, 'demonstrate': 1, 'order': 6, 'track': 1, 'uptime': 1, 'operation': 4, '3540': 1, 'classes': 6, '100': 28, 'students': 9, 'net': 6, 'nursing': 17, 'curriculum': 1, 'class': 4, 'manage': 6, 'program': 13, 'clinical': 10, 'needs': 3, 'epansion': 1, 'meet': 3, 'adaptable': 1, 'growth': 1, 'scalable': 1, 'future': 3, 'cater': 1, '5pm': 1, '9am': 1, 'less': 4, 'type': 6, 'configuration': 8, 'eg': 28, 'configurations': 1, 'documentation': 10, 'baseline': 1, 'include': 11, 'capacities': 1, 'etc': 9, 'assumed': 1, 'processors': 1, 'workstation': 2, 'representative': 2, 'perform': 6, '5000': 1, 'default': 1, 'capability': 17, 'beyond': 1, 'schedules': 1, 'need': 6, 'programs': 10, 'ancillary': 1, 'hardware': 14, 'additional': 3, 'functions': 2, 'related': 2, 'including': 21, 'systems': 23, 'retain': 4, 'adding': 3, 'supporting': 8, 'formats': 5, 'accepted': 2, 'limitation': 1, 'grow': 1, 'increase': 7, 'release': 14, '20': 2, 'readable': 2, 'projected': 4, '1010': 4, 'viewers': 4, 'projection': 4, 'viewing': 7, 'activity': 4, 'distance': 4, 'read': 4, 'realtors': 6, 'used': 34, 'training': 20, 'self': 2, 'intuitive': 11, 'eplanatory': 2, 'realtor': 5, 'learn': 6, 'easy': 20, 'use': 69, 'community': 7, 'understandable': 6, 'symbols': 4, 'naturally': 4, 'words': 4, 'separatelyprinted': 2, 'instructions': 8, 'recourse': 2, 'installed': 10, 'untrained': 4, 'printed': 2, 'install': 4, 'device': 3, 'coded': 3, 'case': 10, 'displayed': 5, 'identification': 4, 'performed': 3, 'color': 2, 'dispute': 12, 'cases': 2, 'based': 12, 'upon': 5, 'list': 4, 'regularly': 5, '2day': 3, 'services': 16, 'representatives': 6, 'cardmember': 12, 'merchant': 8, 'course': 7, 'create': 5, 'encounter': 4, 'successfully': 17, 'first': 12, 'completing': 4, 'follow': 4, 'action': 4, 'estimators': 11, 'adjusters': 7, 'find': 6, 'collision': 9, '80': 10, 'using': 44, 'month': 3, 'productivity': 3, 'agree': 2, '85': 2, 'satisfied': 3, 'feel': 2, 'learned': 2, 'onsite': 3, 'help': 10, 'easily': 6, 'found': 3, 'locate': 2, 'want': 4, 'surveyed': 4, 'weeks': 5, 'make': 8, 'postlaunch': 2, 'reserve': 4, 'conference': 8, 'room': 4, 'give': 3, 'accurately': 3, 'actions': 5, 'confirms': 2, 'feedback': 4, 'necessary': 9, 'language': 9, 'select': 2, 'target': 6, 'countries': 4, 'market': 8, 'chosen': 1, 'customization': 1, 'page': 8, 'preferences': 6, 'start': 5, 'views': 1, 'employee': 2, 'setup': 2, 'rooms': 4, 'meetings': 2, 'informally': 2, 'standard': 37, 'menu': 2, 'navigation': 4, 'familiar': 3, 'web': 20, 'searching': 2, 'conform': 1, 'disabilities': 1, 'act': 1, 'americans': 1, 'novice': 3, 'internet': 28, 'pages': 4, 'navigate': 3, 'clicks': 1, 'logging': 3, 'comfortable': 2, 'show': 4, 'anonymous': 2, 'survey': 4, 'cards': 1, 'buying': 1, 'purchase': 2, 'watch': 1, 'skills': 1, 'predetermined': 2, 'websites': 1, 'conventions': 3, 'interacting': 2, 'selfeplanatory': 4, 'nine': 2, 'ten': 5, 'french': 1, 'english': 3, 'players': 2, 'spanish': 1, 'accessing': 2, 'understand': 2, 'current': 6, 'activities': 5, 'determine': 3, 'occuring': 2, 'events': 4, 'new': 25, 'clinicals': 4, 'making': 2, 'mistakes': 4, 'decreased': 2, 'national': 13, 'terminology': 4, 'consistent': 6, 'verbiage': 2, 'site': 8, 'problem': 4, 'products': 8, 'registered': 6, 'translated': 2, 'foreign': 2, 'languages': 2, 'releases': 2, 'emerging': 2, 'configure': 4, 'markets': 2, 'calendar': 3, 'country': 3, 'dates': 2, 'according': 2, 'respondents': 2, 'date': 7, 'locale': 2, 'formatting': 1, 'correct': 5, 'answers': 1, 'problems': 5, 'solutions': 1, 'created': 3, 'received': 3, 'termination': 1, 'protected': 32, 'covered': 14, 'agreement': 3, 'health': 60, 'entity': 15, 'individual': 3, 'informs': 1, 'terminating': 2, 'effective': 1, 'informed': 1, 'restriction': 1, 'ecept': 2, 'respect': 2, 'iii': 2, 'either': 6, 'functionality': 5, 'activated': 1, 'selection': 3, 'keyboard': 2, 'mouse': 1, 'selected': 1, 'added': 4, 'league': 1, 'startup': 1, 'team': 5, 'reaching': 1, 'short': 1, 'instruction': 1, 'amount': 2, 'remember': 2, 'deployed': 1, 'ccr': 6, 'receive': 9, 'wcs': 13, 'undergo': 1, 'usability': 2, 'interfaces': 8, 'tests': 2, 'reports': 9, 'task': 2, 'accomplish': 3, 'supervisors': 4, 'callers': 4, 'integration': 2, 'possible': 7, 'maps': 4, 'little': 2, 'fields': 8, 'intelligent': 1, 'checking': 5, 'spell': 1, 'tet': 6, 'button': 2, 'openemr': 10, 'clicking': 1, 'throughout': 4, 'dob': 1, 'tool': 3, 'pop': 1, 'field': 7, 'note': 4, 'described': 5, 'issue': 1, 'uses': 4, 'earlier': 1, 'dialog': 1, 'also': 2, 'notice': 2, 'source': 5, 'window': 1, 'claims': 3, 'copied': 1, 'insurance': 5, 'saves': 1, 'company': 35, 'pays': 1, 'single': 3, 'session': 12, 'deployment': 1, 'held': 4, 'interactive': 2, 'industry': 4, 'hyperlink': 1, 'html': 7, 'click': 2, 'selecting': 1, 'eported': 1, 'rreports': 1, 'player': 4, 'confirm': 1, 'ask': 1, 'trading': 1, 'performing': 1, 'dropping': 1, 'lifecycle': 2, 'building': 2, 'integrate': 7, 'elements': 5, 'entry': 8, 'job': 1, 'required': 13, 'readily': 1, 'inquire': 1, 'function': 4, 'whether': 4, 'updated': 4, 'editor': 1, 'enterer': 1, 'may': 40, 'form': 7, 'presented': 1, 'success': 1, 'validation': 6, 'errors': 2, 'adhere': 4, 'standards': 13, 'ibm': 4, 'dbas': 2, 'resolve': 1, 'level': 10, 'error': 5, 'checks': 1, 'corrective': 1, 'immediate': 1, 'proposer': 6, 'edit': 1, 'recognition': 2, 'voice': 2, 'highlight': 1, 'abnormal': 1, 'visual': 2, 'cues': 1, 'relevant': 2, 'ability': 35, 'creating': 2, 'orders': 2, 'critical': 1, 'drugs': 2, 'lookalike': 1, 'alert': 1, 'alike': 1, 'sound': 1, 'auditory': 1, 'duplicate': 1, 'detect': 5, 'warnings': 2, 'issuing': 1, 'warning': 2, 'taken': 2, 'associated': 3, 'prevent': 21, 'moving': 1, 'usre': 1, 'rules': 5, 'prompts': 2, 'specific': 5, 'step': 1, 'point': 2, 'autofill': 1, 'option': 3, 'modules': 4, 'requiring': 1, 'enduser': 1, 'creation': 2, 'technical': 9, 'epertise': 1, 'publish': 1, 'userfriendly': 1, 'patient': 17, 'content': 5, 'distinguishes': 1, 'annotations': 1, 'materials': 1, 'customizable': 1, 'organizationspecific': 1, 'contetspecific': 1, 'design': 4, 'dataentry': 1, 'columns': 1, 'organization': 7, 'match': 1, 'documents': 1, 'sequence': 1, 'drop': 1, 'free': 4, 'restrict': 2, 'eplains': 1, 'effort': 1, 'present': 1, 'navigational': 1, 'structured': 4, 'format': 12, 'part': 12, 'inputting': 1, 'templates': 2, 'document': 4, 'direct': 7, 'dictation': 1, 'encounters': 1, 'following': 16, 'transcription': 1, 'manually': 1, 'utilizing': 1, 'pick': 1, 'substitution': 1, 'subsequent': 1, 'means': 3, 'forms': 1, 'lists': 1, 'macro': 1, 'heart': 2, 'disease': 1, 'supports': 1, 'like': 1, 'grouping': 1, 'hypertensive': 1, 'enable': 4, 'congenital': 1, 'cerebrovascular': 1, 'oneclick': 1, 'ischemic': 1, 'components': 2, 'area': 4, 'unified': 1, 'budgets': 2, 'completion': 1, 'stipulated': 2, 'grants': 2, 'appropriate': 20, 'nomenclature': 2, 'defined': 4, 'corporate': 8, 'week': 3, 'implementation': 20, 'prior': 5, 'authorized': 26, 'ensure': 17, 'unauthorized': 13, 'accessed': 10, 'attempts': 10, 'distinguish': 2, 'authenticated': 24, 'incorrect': 6, 'introduced': 4, 'people': 5, 'details': 6, 'personal': 6, 'donalek': 2, 'julie': 2, 'dr': 4, 'susan': 4, 'poslusny': 4, 'campusconnect': 4, 'portion': 3, 'sysol': 2, 'final': 5, 'karen': 2, 'criterion': 2, 'basic': 2, 'reduce': 3, 'integrity': 12, 'possibility': 2, 'invalid': 5, 'organizations': 6, 'protect': 16, 'policy': 5, 'accordance': 3, 'private': 4, 'secure': 18, 'malicious': 12, 'interference': 2, 'built': 2, 'monitor': 2, 'protection': 9, 'virus': 3, 'threats': 5, 'initiate': 4, 'allowed': 7, 'logon': 10, 'changes': 7, 'reviewed': 3, 'purposes': 3, 'auditing': 2, 'recorded': 3, 'additions': 4, 'modifications': 4, 'reinstantiated': 2, 'revoked': 4, 'reset': 8, 'files': 9, 'manipulate': 2, 'view': 5, 'databases': 10, 'updates': 13, 'initiated': 3, 'adjuster': 1, 'audits': 1, 'role': 5, 'cannot': 1, 'supervisor': 1, 'estimator': 1, 'valid': 5, 'companys': 1, 'claim': 16, 'viruses': 4, 'computer': 11, 'denial': 2, 'attacks': 3, 'service': 9, 'employees': 4, 'ids': 3, 'logons': 3, 'companyapproved': 3, 'eternal': 7, 'queries': 5, 'managers': 2, 'reservations': 2, 'reservation': 2, 'corresponds': 2, 'contain': 5, 'remain': 2, 'adjacent': 2, 'input': 8, 'uncorrupted': 2, 'emerge': 2, 'transmitted': 9, 'automatic': 6, 'security': 43, 'passwords': 23, 'permissions': 4, 'affect': 3, 'subsystems': 3, 'granularly': 2, 'independently': 2, 'rights': 7, 'control': 3, 'major': 2, 'assign': 4, 'accessible': 5, 'secured': 5, 'encrypted': 9, 'stream': 1, 'purchased': 1, 'personnel': 4, 'corrupted': 2, 'notify': 4, 'intentional': 2, 'abuse': 2, 'occurrences': 2, 'scripts': 3, 'weekly': 2, 'basis': 6, 'run': 12, 'verify': 5, 'privacy': 3, 'collection': 2, 'aware': 1, 'practices': 2, 'compliance': 3, 'reveal': 2, 'infection': 2, 'antivirus': 3, 'might': 1, 'identity': 3, 'terminated': 1, 'disable': 1, 'inactivity': 6, 'accounts': 11, 'changed': 2, 'accidentally': 1, 'overwritten': 1, 'place': 12, 'measures': 10, 'maintains': 3, 'confidentiality': 6, 'electronic': 21, 'receives': 5, 'transmits': 4, 'availability': 4, 'creates': 4, 'hazards': 1, 'reasonably': 4, 'anticipated': 2, 'safeguards': 9, 'disclosure': 5, 'provided': 8, 'subpart': 5, 'disclosures': 2, 'permitted': 1, 'e': 1, 'percent': 1, 'state': 3, 'higher': 3, 'eligible': 1, 'payment': 10, 'incentive': 4, 'ffp': 1, 'claimed': 2, 'reimbursement': 1, 'ehr': 8, 'medicaid': 3, 'ependitures': 1, 'description': 5, 'certified': 6, 'providers': 3, 'payments': 2, 'methodology': 3, 'amounts': 1, 'verifying': 3, '7': 6, 'quality': 1, 'improvements': 1, 'outcomes': 2, 'resulting': 3, 'ensuring': 4, 'efficiency': 1, 'adoption': 2, 'recipients': 1, '9': 2, 'administrative': 7, 'federal': 2, 'compatible': 2, 'mmis': 1, 'retrieval': 1, 'implement': 24, 'physical': 15, 'appropriately': 2, 'behalf': 5, 'removed': 2, 'researcher': 1, 'review': 8, 'b': 7, 'right': 1, '164522': 1, 'applicable': 4, 'communications': 2, 'confidential': 4, 'contract': 1, 'authority': 3, 'person': 2, '164510': 1, 'known': 5, 'requesting': 1, 'plan': 9, 'group': 6, 'holder': 1, 'holders': 1, 'ii': 2, 'disclosed': 1, 'sponsors': 1, 'provision': 2, 'sponsor': 1, 'analyses': 1, 'f': 1, 'adequate': 2, '164504': 1, 'supported': 3, 'reasonable': 3, 'separation': 1, 'itrust': 18, 'uc2': 4, 'medical': 21, 'risk': 5, 'requirement': 1, 'assessment': 3, 'meaningful': 1, 'hipaa': 1, 'login': 9, 'tester': 2, 'removing': 1, 'upgrade': 2, 'consider': 6, 'needed': 4, 'port': 3, 'firewall': 3, 'allows': 5, '443': 2, 'https': 6, 'possibly': 12, 'mysql': 9, 'sqlconfdotphp': 1, 'override': 1, 'especially': 1, 'settings': 1, 'portal': 5, 'separate': 5, 'directories': 2, 'epiration': 3, 'administrationglobalssecurity': 2, 'enforce': 4, 'strong': 2, 'root': 2, 'something': 2, 'certificates': 2, 'clientsided': 2, 'main': 1, 'certificate': 2, 'portals': 1, 'unsecure': 1, 'etremely': 1, 'see': 3, 'ampp': 1, 'opening': 1, 'http': 6, 'turn': 1, 'ie': 8, 'party': 5, 'apis': 1, 'allowing': 1, 'ip': 4, 'third': 6, 'soap': 1, 'change': 10, 'intervals': 1, 'even': 1, 'ssh': 1, 'instance': 2, 'require': 7, 'could': 2, 'tunnel': 1, 'local': 2, 'open': 8, 'method': 2, 'identify': 3, 'delegate': 2, 'restore': 2, 'locked': 3, 'authentication': 18, 'authorization': 4, 'done': 4, 'finished': 1, 'disallow': 2, 'code': 13, 'userid': 1, 'failed': 1, 'three': 2, 'comments': 1, 'headers': 1, 'parameters': 3, 'query': 5, 'cookies': 5, 'strings': 3, 'validated': 2, 'identified': 4, 'financial': 4, 'involving': 1, 'sensitive': 16, 'sessions': 2, 'ssl': 12, 'ends': 1, 'closes': 1, 'logs': 3, 'test': 6, 'refleive': 1, 'screening': 1, 'positive': 1, 'eample': 7, 'confirmatory': 1, 'testing': 4, 'automatically': 3, 'ordered': 2, 'openemrs': 1, 'username': 5, 'procedures': 22, 'policies': 10, 'apply': 2, 'comply': 7, 'fail': 1, 'sanctions': 1, 'workforce': 2, 'resources': 4, 'blocked': 1, 'parent': 2, 'paths': 3, 'risks': 2, 'thorough': 1, 'accurate': 1, 'vulnerabilities': 2, 'potential': 1, 'conduct': 5, '164308': 2, 'requirements': 8, 'deficiencies': 2, 'analysis': 3, 'cfr': 2, '45': 2, 'plain': 2, 'tokens': 1, 'credentials': 2, 'tampering': 2, 'stores': 1, 'containing': 1, '256': 1, 'cryptographic': 1, 'algorithm': 2, 'key': 2, 'aes': 5, 'stronger': 1, 'encryption': 14, 'size': 1, 'bit': 1, 'mechanisms': 3, 'devices': 3, 'handheld': 1, 'securely': 2, 'length': 1, 'range': 2, 'regulation': 1, 'inappropriate': 1, 'law': 2, 'iihi': 1, 'otherwise': 1, 'recipient': 1, 'misuse': 1, 'dua': 1, 'across': 3, 'keys': 3, 'connections': 4, 'secrets': 3, 'rest': 1, 'owners': 1, 'owner': 1, 'terminate': 2, 'ml': 6, 'delivered': 2, 'protocols': 4, 'transmissions': 1, 'certain': 2, 'eceeds': 1, 'cchit': 1, 'eprescribing': 1, 'twofactor': 1, 'certification': 1, 'phi': 8, 'communicated': 1, 'encrypt': 3, 'browser': 9, 'agrees': 3, 'carry': 1, 'remedies': 1, 'cost': 1, 'persons': 1, 'determines': 1, 'cms': 1, 'requires': 2, 'affected': 1, 'breach': 1, 'harm': 1, 'furthermore': 1, 'notification': 1, 'practicable': 1, 'suspected': 1, 'etent': 1, 'harmful': 1, 'effects': 1, 'incidents': 2, 'mitigate': 1, 'fips': 2, 'ipsec': 3, 'communication': 1, 'layer': 2, 'wire': 1, 'sql': 5, 'storage': 2, 'socket': 2, 'covers': 1, 'hvac': 2, 'includes': 2, 'reliable': 2, 'sterilization': 1, 'environment': 14, 'proper': 3, 'electrical': 1, 'recommended': 2, 'mechanism': 4, 'decrypt': 1, 'whenever': 4, 'deemed': 1, 'awareness': 1, 'corroborate': 1, 'altered': 1, 'destroyed': 1, 'workstations': 2, 'movement': 1, 'items': 3, 'removal': 3, 'govern': 1, 'receipt': 2, 'media': 5, 'surroundings': 1, 'attributes': 1, 'specify': 1, 'disposition': 2, 'doors': 1, 'walls': 1, 'locks': 3, 'repairs': 1, 'violations': 1, 'destruction': 1, 'improper': 1, 'alteration': 1, 'equipment': 8, 'safeguard': 1, 'theft': 1, 'therein': 1, 'storedrmation': 1, 'made': 2, 'reuse': 2, 'infoimplement': 1, 'tracking': 2, 'incident': 1, 'seeking': 1, '164306': 1, 'sufficient': 1, 'disposed': 1, 'detection': 5, 'improperly': 1, 'modified': 2, 'electronically': 1, 'guard': 1, 'capabilities': 4, 'banner': 2, 'prelogin': 1, 'immediately': 1, 'procedure': 4, 'upload': 1, 'eecutable': 1, 'mids': 1, 'considered': 1, 'casesensitive': 1, 'world': 1, 'recommendations': 1, 'apache': 4, 'outside': 4, 'regarding': 1, 'rfs': 5, 'eist': 1, 'uas': 1, 'periodic': 1, 'protects': 1, 'manifestation': 1, 'patients': 2, 'clinic': 1, 'assets': 1, 'cryptography': 1, 'custom': 1, 'platformlevel': 1, 'implementations': 1, 'logged': 4, 'safeguarding': 1, 'changing': 2, 'detecting': 1, 'guarding': 1, 'reporting': 6, 'monitoring': 3, 'discrepancies': 1, 'maintained': 11, 'sent': 5, 'vpn': 3, 'channels': 1, 'urls': 1, 'mid': 1, 'hash': 1, 'oneway': 1, 'header': 1, 'decisions': 1, 'rely': 3, 'continue': 7, '164105': 1, 'adopted': 5, '164316': 1, 'implemented': 2, 'specifications': 4, 'incorporated': 1, 'clear': 2, 'passed': 2, 'persistent': 1, 'ftp': 2, 'tunneled': 1, 'insecure': 1, 'telnet': 1, 'tftp': 1, 'identifiers': 2, 'configurable': 9, 'lifetime': 1, 'limited': 5, 'prespecified': 2, 'addition': 4, 'userdefined': 1, 'resets': 2, 'forgotten': 1, 'reauthenticate': 1, 'remotely': 1, 'active': 4, 'location': 1, 'realtime': 2, 'authenticates': 3, 'standalone': 1, 'avoids': 1, 'untrusted': 1, 'name': 4, 'internal': 2, 'clientside': 1, 'encrypts': 2, 'transport': 2, 'tls': 3, 'clients': 1, 'servers': 6, 'minimizes': 1, 'signon': 3, 'applied': 1, 'insures': 2, 'compleity': 2, 'meets': 1, 'seamless': 1, 'integrated': 4, 'performs': 1, 'provides': 19, 'idle': 1, 'timeout': 3, 'managed': 1, 'central': 5, 'alerts': 3, 'reminder': 1, 'delivery': 1, 'tripledes': 3, 'advanced': 3, 'multifactor': 1, 'directly': 2, 'restricts': 2, 'returns': 1, 'generic': 1, 'client': 4, 'leastprivileged': 1, 'reenter': 1, 'warns': 1, 'objects': 1, 'closed': 1, 'released': 2, 'memory': 1, 'temporary': 1, 'uc3': 14, 'county': 3, 'storing': 3, 'bi': 2, 'restrictions': 2, 'limit': 3, 'subject': 2, 'directory': 4, 'ensures': 2, 'correctly': 1, 'gives': 1, 'hcp': 4, 'himss': 1, 'arisk': 1, 'healthcare': 3, 'toolkitfor': 1, 'society': 1, 'developing': 1, 'compliant': 2, 'conducting': 2, 'lchp': 1, 'lhcp': 2, 'parameter': 1, 'washing': 6, 'masking': 1, 'parties': 2, 'thirdparty': 1, 'fire': 2, 'suppression': 1, 'host': 1, 'humidity': 1, 'temperature': 1, '24': 1, 'environmental': 1, 'computing': 1, 'moisture': 1, 'platform': 5, 'hosting': 1, 'patches': 1, 'notifications': 1, 'bugs': 1, 'highest': 1, 'defense': 1, 'history': 2, 'purpose': 2, 'privileges': 5, 'a130': 1, 'publications': 1, 'controls': 4, 'fips200': 1, 'wwwwhitehousegov': 1, '80053': 1, 'scope': 1, 'sp80053rev2final': 1, '80053rev2': 1, 'nistpubs': 1, 'circular': 1, 'omb': 1, '200': 2, 'fips200finalmarchpdf': 1, 'special': 1, 'established': 7, 'publication': 1, 'a130html': 1, 'iiisecurity': 1, 'entitled': 1, 'csrcnistgov': 1, 'circulars': 1, 'appendi': 1, 'budget': 4, 'independent': 3, 'malevolent': 1, 'conveyance': 1, 'mode': 6, 'malware': 3, 'assumes': 1, 'deleting': 1, 'workstationlocation': 1, 'timeofday': 1, 'restricted': 2, 'contetbased': 1, 'groups': 2, 'associate': 3, 'grouped': 1, 'userbased': 1, 'contet': 1, 'emergencymode': 1, 'rolebased': 1, 'errorhandling': 1, 'processes': 2, 'authenticate': 1, 'connected': 2, 'mobile': 1, 'predefined': 4, 'force': 1, 'frequency': 1, 'eclusive': 1, 'consecutive': 1, 'accesses': 1, 'specified': 5, 'acting': 1, 'doctor': 1, 'clerical': 1, 'nurse': 1, 'restrictive': 1, 'module': 2, 'inhouse': 1, 'entire': 1, 'applications': 4, 'suite': 1, 'onto': 1, 'last': 2, 'discretion': 1, 'tier': 1, '128bit': 1, 'submodules': 1, 'scan': 1, 'fingerprint': 1, 'biometrics': 1, 'technologies': 2, 'issues': 1, 'full': 1, 'intrusion': 1, 'eradication': 1, 'scanning': 2, 'conflict': 1, 'conflicts': 1, 'hostbased': 1, 'areas': 2, 'resolution': 2, 'eclude': 1, 'stating': 1, 'deactivation': 1, 'constraints': 1, 'modification': 3, 'roles': 3, 'guidelines': 5, 'ports': 1, 'servicing': 1, 'php': 2, 'itemizes': 1, 'justification': 1, 'protocol': 3, 'hl7': 3, 'prompt': 1, 'delays': 1, 'node': 2, 'delay': 2, 'configured': 1, 'logout': 1, 'maintaining': 1, 'lockout': 1, 'unsuccessful': 1, 'mime': 2, 'nodes': 1, 'communicating': 1, 'networks': 2, 'mutual': 1, 'authenticity': 1, 'sig': 1, 'successors': 2, '3des': 3, 'encryptions': 1, 'reestablishes': 1, 'effect': 1, 'initiating': 1, 'remains': 1, 'lock': 2, 'cdrom': 1, 'notebook': 1, 'portable': 1, 'removable': 1, 'thumbdrives': 1, 'intended': 1, 'pda': 1, 'needtoknow': 1, 'agents': 1, 'stated': 1, 'individuals': 2, 'establish': 1, 'try': 1, 'reject': 3, 'approach': 1, 'constrain': 1, 'sanitize': 1, 'logins': 1, 'asserts': 1, 'character': 1, 'en': 1, 'always': 1, 'us': 1, 'speed': 1, 'reliability': 1, 'portions': 1, 'stateoftheart': 2, 'dynamic': 2, 'graphics': 1, 'webenabled': 1, 'interaction': 1, 'defenses': 1, 'firewalls': 1, 'routers': 2, 'properly': 3, 'begin': 2, 'designated': 2, 'precautions': 1, 'cameras': 1, 'recovery': 2, 'outage': 1, 'involve': 1, 'traditional': 1, 'matters': 1, 'water': 1, 'disaster': 1, 'points': 1, 'power': 1, 'lighting': 1, 'intranet': 2, 'vendor': 1, 'selfcertify': 1, 'commercial': 1, 'partitioned': 1, 'sites': 1, 'folders': 1, 'unrestricted': 1, 'confirmed': 1, 'normally': 1, 'similar': 2, 'answer': 1, 'appears': 1, 'typed': 1, 'appear': 1, 'question': 1, 'sc': 1, 'strength': 2, '0302': 1, '180': 1, 'previously': 3, 'timeframe': 1, 'recently': 1, 'characters': 1, 'alphanumeric': 1, 'inclusion': 1, 'sha1': 1, 'hashing': 1, 'standardsbased': 1, 'store': 6, 'successful': 1, 'department': 2, 'typical': 2, 'depaul': 2, 'university': 2, 'computers': 2, 'operating': 12, 'windows': 13, 'p': 2, 'professional': 6, 'campusconnects': 2, 'faculty': 2, 'master': 2, 'scheduled': 2, 'sunday': 1, '300am': 1, 'est': 1, '100amd': 1, 'saturday': 1, 'maintenance': 10, 'monday': 1, '400am': 1, '500am': 1, '247365': 1, 'obtained': 6, 'statement': 4, 'detail': 8, 'detailed': 4, 'regard': 4, 'letters': 3, 'letter': 2, 'initiation': 2, 'utility': 2, 'print': 2, 'posting': 3, 'merchants': 2, 'adjustments': 2, 'billing': 3, '55': 2, 'eplorer': 3, 'firefo': 4, 'mozilla': 2, 'choice': 2, 'feed': 2, 'environments': 6, 'architecture': 3, 'dirty': 2, 'noisy': 2, 'operated': 2, 'choiceparts': 2, 'approimately': 2, 'fall': 2, 'center': 3, 'middleware': 2, 'frames': 2, 'upgrades': 4, 'installations': 2, 'handled': 2, 'located': 4, 'colocated': 2, 'machine': 4, 'different': 4, 'dbms': 5, 'java': 4, 'alongside': 2, 'runtime': 2, 'collaboration': 3, 'residing': 2, 'jboss': 2, 'tomcat': 2, 'eamples': 2, 'oracle': 4, 'hsql': 4, 'db2': 4, 'browsers': 4, 'tested': 2, 'transmit': 3, 'various': 4, 'communicate': 3, 'send': 1, 'zip': 2, 'binary': 2, 'distribution': 4, 'cd': 2, 'packaged': 2, 'fiveormore': 1, 'licensing': 1, 'twofive': 1, 'oneserver': 1, 'license': 1, 'ms': 2, 'programming': 3, 'developed': 2, 'j2se': 2, 'j2ee': 2, 'libraries': 2, 'utilize': 5, 'currently': 3, 'owned': 2, 'backup': 1, 'demand': 1, 'royalty': 1, 'licenses': 1, 'fees': 2, 'aspects': 2, 'netscape': 3, 'cybersource': 1, 'api': 1, 'operational': 2, 'fully': 2, 'msn': 2, 'tv2': 2, 'encoded': 4, 'streamed': 2, 'streams': 2, '256k': 2, 'working': 3, 'animation': 2, 'flash': 2, 'home': 2, 'structure': 2, 'neutral': 2, 'binding': 2, 'non': 2, 'entities': 2, 'monthend': 1, 'loaded': 2, 'october': 25, 'mentioned': 1, 'budgeting': 1, 'bdw': 2, 'primary': 1, 'cached': 1, 'historical': 1, 'secondary': 1, 'emh': 1, 'la': 1, 'dhs': 2, '123': 2, 'eport': 5, 'brio': 2, 'buttons': 1, 'ls': 1, 'phpcapable': 1, 'php5': 1, 'webserver': 1, 'redhat': 1, 'disabled': 1, 'configuring': 1, 'strict': 1, 'centos': 1, 'irregular': 1, 'regulations': 2, 'departments': 1, 'hard': 1, 'disk': 1, '400mb': 1, 'space': 2, 'integrates': 1, 'domain': 1, 'notifying': 1, 'end': 3, 'microsoft': 2, 'near': 1, 'spreadsheet': 1, 'lotus': 1, 'palm': 2, 'ce': 2, 'development': 4, 'eam': 1, 'real': 2, 'csr': 2, 'echange': 2, 'datastream': 1, 'lac': 1, 'proposed': 1, 'resource': 4, 'consoles': 1, 'switches': 1, 'balancers': 1, 'infrastructure': 1, 'instances': 1, 'accommodate': 3, 'row': 1, 'tab': 1, 'delimited': 1, 'comma': 1, 'quotation': 1, 'import': 1, 'wan': 1, 'production': 1, 'running': 2, '2000': 34, 'included': 1, 'connect': 1, 'mydotcnf': 1, 'mf': 1, '7am7pm': 1, 'velkat': 1, 'phone': 1, 'variables': 1, 'command': 1, 'value': 1, 'line': 1, 'eecuting': 1, 'setting': 1, 'promotional': 2, 'enhancements': 1, 'fies': 1, 'assure': 1, 'j': 1, 'accept': 1, 'contains': 4, 'promptly': 1, 'codes': 7, 'official': 2, '9th': 2, 'icd9cm': 2, 'edition': 3, 'international': 2, 'distributed': 8, 'coding': 7, 'volumes': 8, 'classification': 2, 'hhs': 7, 'diseases': 2, 'enters': 1, 'terms': 1, 'memorandum': 1, 'paragraph': 2, 'objectives': 2, 'understanding': 1, 'publishing': 29, '837health': 9, 'referenced': 12, '2002': 24, '1621802': 6, 'dental': 5, 'version': 39, '1621102': 6, 'addenda': 20, '004010097': 3, '12n': 24, '4010': 29, 'care': 30, 'asc': 27, 'washington': 29, '004010097a1': 3, '1621602': 3, 'september': 8, '1999': 8, 'council': 8, 'prescription': 8, 'drug': 11, '1621302': 3, 'guide': 11, '51': 5, '1621202': 4, 'telecommunication': 8, 'adversely': 1, 'attempt': 1, 'inpatients': 1, 'hospital': 1, 'impairments': 1, 'reported': 1, 'injuries': 1, 'hospitals': 1, 'retail': 1, 'ndc': 2, 'pharmacies': 1, '004010098a1': 3, '004010098': 4, '11': 4, 'january': 4, 'batch': 9, 'ncpdp': 9, 'coordination': 2, 'benefits': 2, 'manufacturers': 1, '004010096': 3, 'institutional': 2, '004010096a1': 2, 'substances': 2, 'supplies': 2, 'hcpcs': 3, 'biologics': 1, '0': 5, 'equivalent': 8, 'february': 5, '1996': 5, 'offer': 1, '162923': 1, 'provider': 3, 'american': 2, 'association': 2, 'advice': 3, '004010091a1': 2, '835health': 3, '004010091': 3, 'incurs': 1, 'operates': 1, 'costs': 1, 'telecommunications': 4, 'charge': 1, 'normal': 1, 'clearinghouse': 1, 'ecess': 1, 'benefit': 5, '004010095': 3, 'enrollment': 3, '1621502': 1, '834benefit': 3, '004010095a1': 2, 'combination': 1, 'procedural': 1, 'financing': 2, 'cpt4': 1, 'physician': 1, 'payroll': 2, 'premium': 3, '820payroll': 3, '1621702': 1, '004010061a1': 2, 'deducted': 3, '004010061': 2, '004010094a1': 2, 'reviewrequest': 3, '004010094': 3, '278health': 3, '004010093': 3, '277': 3, '12n276': 3, '004010093a1': 2, '1621402': 1, '271health': 3, '004010092a1': 2, 'inquiry': 3, '004010092': 3, 'eligibility': 3, '270': 3, '2003': 6, '16': 6, '04010061': 1, 'translate': 2, 'nonstandard': 2, 'transmission': 3, 'developers': 1, 'condition': 1, 'electing': 1, 'offered': 1, 'guides': 1, 'developer': 1, 'documented': 1, 'javadoc': 1, 'pass': 1, 'junit': 1, 'coverage': 1, 'nongui': 1, 'unit': 1, 'identifying': 2, 'surgical': 1, 'designed': 2, 'physicians': 1, 'diagnostic': 1, 'cpt': 1, 'analytical': 1, 'uniform': 1, 'describes': 1, 'accreditation': 1, 'among': 1, 'coders': 1, 'payers': 1, 'indirect': 1, 'treatment': 1, 'relationship': 1, 'reflected': 1, 'coordinates': 1, 'forward': 1, 'payer': 1, 'loinc': 3, 'c': 1, 'informatics': 1, 'observations': 1, 'logical': 1, 'observation': 1, 'names': 2, 'laboratory': 1, 'universal': 1, 'book': 1, 'orange': 1, 'jointly': 1, 'formulae': 1, 'epense': 1, 'revenue': 1, 'allotted': 1, 'pcg': 1, 'finance': 1, 'calculations': 1, 'conducted': 1, 'project': 1, 'mm': 1, 'appointmenttype': 1, 'yyyy': 1, 'listed': 1, 'dd': 1, 'features': 1, 'strategy': 1, 'epidemic': 1, 'pattern': 2, 'trends': 1, 'causeofdeath': 1, 'singleton': 2, '33': 1, 'eclipse': 1, 'implementaiton': 2, 'telecomunication': 1, 'pear': 1, 'patterns': 1, 'best': 1, 'highly': 2, 'navigator': 1, 'interruption': 1, 'due': 1, 'city': 1, 'chicago': 1, 'framework': 1, 'wssecurity': 1, 'transparent': 1, 'providing': 1, 'labels': 1, 'turnoff': 1, 'reposition': 1, 'unused': 1, 'screens': 1, 'reconfigurable': 1, 'rename': 1, 'customdefined': 1, 'organism': 1, 'snomed': 1, 'linking': 1, 'practice': 1, 'importing': 1, 'demographic': 2, 'registration': 1, 'dicom': 1, 'images': 1, 'birads': 2, '06': 1, 'atlas': 1, 'breast': 1, 'imaging': 1, 'pharmacy': 1, 'standardized': 1, 'commonly': 1, 'proven': 1, 'discrete': 7, 'capture': 7, 'iso': 1, 'utc': 1, '8601': 1, 'stamps': 1, 'script': 2, 'validate': 1, 'diagnosis': 1, 'medications': 1, 'prescriptions': 1, 'reason': 1, 'rulebased': 1, 'variation': 1, 'reminders': 1, 'rate': 2, 'signs': 1, 'respiratory': 1, 'height': 1, 'vital': 1, 'blood': 1, 'pressure': 1, 'weight': 1, 'adverse': 1, 'reaction': 1, 'immunization': 1, 'allergy': 1, 'medication': 1, 'relationships': 1, 'dictionary': 1, 'element': 1, 'describe': 1, 'table': 2, 'connectivity': 1, 'odbc': 1, 'relational': 1, 'rdbms': 1, 'naming': 1, 'tables': 1, 'tuning': 1, 'utilities': 1, 'tools': 1, 'customize': 1, 'w3c': 1, 'platforms': 2, 'architectures': 1, 'serverside': 1, 'industrystandard': 1, 'browserbased': 1, 'object': 1, '1621002': 1, 'furnished': 1, 'sets': 2, 'specification': 1, 'nonmedical': 1, '700': 1, 'approved': 1, 'united': 1, 'states': 1, 'regions': 1, 'scalability': 1, 'app': 1, 'unavailable': 2, 'offline': 2, 'downloaded': 2, 'comes': 2, 'back': 2, 'restored': 2, 'encountered': 1, 'goes': 4, 'gateway': 2, 'robustthe': 1, 'fault': 3, 'avoidance': 1, 'around': 1, 'tolerancethe': 1, 'tolerance': 1, 'technique': 1, 'compensatory': 1, 'routing': 1, 'robust': 1, 'failures': 1, 'tolerant': 1, 'vr': 1, 'gaming': 1, 'variety': 1, 'genres': 1, 'compatibility': 1})\n",
            "{'data': 1, 'users': 2, 'user': 3, 'information': 4, 'able': 5, 'access': 6, 'must': 7, 'within': 8, 'version': 9, 'use': 10, 'health': 11, 'database': 12, 'time': 13, '1': 14, 'company': 15, 'seconds': 16, '2': 17, 'security': 18, 'support': 19, '5': 20, 'standard': 21, 'care': 22, '4010': 23, 'washington': 24, 'publishing': 25, 'using': 26, 'interface': 27, 'provide': 28, 'website': 29, 'section': 30, 'may': 31, 'used': 32, 'server': 33, 'response': 34, 'disputes': 35, 'protected': 36, 'ability': 37, '2000': 38, '90': 39, 'minutes': 40, 'eg': 41, 'transaction': 42, 'october': 43, 'management': 44, 'process': 45, 'electronic': 46, 'allow': 47, 'password': 48, '100': 49, 'internet': 50, 'implementation': 51, 'passwords': 52, 'authorized': 53, 'asc': 54, 'new': 55, 'claim': 56, 'itrust': 57, 'report': 58, 'systems': 59, 'software': 60, 'release': 61, 'authenticated': 62, 'implement': 63, 'procedures': 64, '12n': 65, '2002': 66, 'search': 67, 'number': 68, 'prevent': 69, 'medical': 70, 'records': 71, 'including': 72, 'easy': 73, 'services': 74, 'web': 75, 'possibly': 76, 'guide': 77, 'available': 78, 'operate': 79, 'training': 80, 'cardmember': 81, 'appropriate': 82, 'provides': 83, 'addenda': 84, 'without': 85, '10': 86, 'patient': 87, 'secure': 88, 'take': 89, 'administrator': 90, '3': 91, 'dispute': 92, 'successfully': 93, 'entity': 94, 'wcs': 95, 'authentication': 96, 'batch': 97, 'one': 98, 'via': 99, 'customers': 100, 'nursing': 101, 'capability': 102, 'ensure': 103, 'encryption': 104, 'ncpdp': 105, 'staff': 106, 'facility': 107, 'period': 108, 'minimum': 109, 'customer': 110, 'administrators': 111, 'business': 112, 'covered': 113, 'following': 114, 'protect': 115, 'physical': 116, 'sensitive': 117, 'display': 118, 'entered': 119, 'complete': 120, 'longer': 121, 'parts': 122, 'network': 123, 'session': 124, 'standards': 125, 'lead': 126, '000': 127, 'hardware': 128, 'merchant': 129, 'required': 130, 'integrity': 131, 'updates': 132, 'payment': 133, 'plan': 134, 'environment': 135, 'uc3': 136, 'windows': 137, 'maintenance': 138, 'returned': 139, 'members': 140, 'set': 141, 'days': 142, 'file': 143, 'maintain': 144, 'program': 145, 'based': 146, 'estimators': 147, 'national': 148, 'level': 149, 'unauthorized': 150, 'malicious': 151, 'code': 152, 'volumes': 153, '15': 154, '8': 155, 'log': 156, 'account': 157, 'streaming': 158, 'requests': 159, 'request': 160, 'day': 161, 'technology': 162, 'first': 163, 'collision': 164, 'format': 165, 'part': 166, 'run': 167, 'accounts': 168, 'place': 169, 'ssl': 170, 'maintained': 171, 'operating': 172, 'referenced': 173, 'drug': 174, 'every': 175, 'maimum': 176, 'recycled': 177, 'movies': 178, 'transactions': 179, 'include': 180, 'documentation': 181, 'intuitive': 182, 'html': 183, 'attempts': 184, 'computer': 185, 'configurable': 186, 'repair': 187, 'let': 188, 'stored': 189, 'record': 190, 'per': 191, 'scheduling': 192, 'epected': 193, 'clinical': 194, 'etc': 195, 'configuration': 196, 'programs': 197, 'installed': 198, 'case': 199, '80': 200, 'help': 201, 'language': 202, 'market': 203, 'products': 204, 'receive': 205, 'reports': 206, 'openemr': 207, 'accessed': 208, 'logon': 209, 'files': 210, 'databases': 211, 'input': 212, 'rights': 213, 'measures': 214, 'review': 215, 'mysql': 216, 'change': 217, 'open': 218, 'policies': 219, 'fast': 220, '30': 221, 'tasks': 222, 'screen': 223, 'card': 224, 'eisting': 225, 'processing': 226, 'update': 227, 'hours': 228, 'handle': 229, 'students': 230, 'necessary': 231, 'site': 232, 'fields': 233, 'entry': 234, 'form': 235, 'technical': 236, 'protection': 237, 'service': 238, 'transmitted': 239, 'encrypted': 240, 'safeguards': 241, 'login': 242, 'ie': 243, 'requirements': 244, 'browser': 245, 'professional': 246, 'distributed': 247, '837health': 248, 'dental': 249, 'results': 250, 'generate': 251, 'cma': 252, 'another': 253, 'preferred': 254, 'status': 255, 'address': 256, 'eception': 257, 'assigned': 258, 'years': 259, 'load': 260, 'common': 261, 'supporting': 262, 'increase': 263, 'instructions': 264, 'adjusters': 265, 'make': 266, 'conference': 267, 'target': 268, 'page': 269, 'interfaces': 270, 'insurance': 271, 'corporate': 272, 'reset': 273, 'eternal': 274, 'provided': 275, 'ehr': 276, 'b': 277, 'group': 278, 'http': 279, 'phi': 280, 'equipment': 281, 'detail': 282, 'dbms': 283, 'machine': 284, 'codes': 285, 'telecommunication': 286, 'september': 287, '1999': 288, 'council': 289, 'prescription': 290, 'equivalent': 291, 'acceptable': 292, 'audit': 293, '6': 294, 'administration': 295, 'movie': 296, 'connection': 297, 'event': 298, 'times': 299, 'multiple': 300, 'installation': 301, 'messages': 302, 'online': 303, 'viewing': 304, 'community': 305, 'course': 306, 'registered': 307, 'date': 308, 'ccr': 309, 'possible': 310, 'tet': 311, 'field': 312, 'integrate': 313, 'organization': 314, 'direct': 315, 'details': 316, 'allowed': 317, 'changes': 318, 'automatic': 319, 'administrative': 320, 'risk': 321, 'require': 322, 'eample': 323, 'test': 324, 'comply': 325, 'media': 326, 'continue': 327, 'servers': 328, 'established': 329, 'coding': 330, 'hhs': 331, '51': 332, 'benefit': 333, 'capture': 334, 'discrete': 335, 'office': 336, 'performance': 337, 'work': 338, 'prepaid': 339, 'usage': 340, 'conditions': 341, 'game': 342, '4': 343, 'failure': 344, 'average': 345, 'simultaneous': 346, 'two': 347, 'capable': 348, 'order': 349, 'classes': 350, 'net': 351, 'manage': 352, 'type': 353, 'perform': 354, 'need': 355, 'formats': 356, 'realtors': 357, 'learn': 358, 'understandable': 359, 'representatives': 360, 'find': 361, 'easily': 362, 'preferences': 363, 'current': 364, 'consistent': 365, 'either': 366, 'team': 367, 'validation': 368, 'proposer': 369, 'incorrect': 370, 'personal': 371, 'dr': 372, 'organizations': 373, 'policy': 374, 'role': 375, 'queries': 376, 'basis': 377, 'inactivity': 378, 'confidentiality': 379, 'disclosure': 380, '7': 381, 'certified': 382, 'known': 383, 'consider': 384, 'https': 385, 'portal': 386, 'third': 387, 'cookies': 388, 'ml': 389, 'rfs': 390, 'reporting': 391, 'washing': 392, 'mode': 393, 'store': 394, 'statement': 395, 'obtained': 396, 'environments': 397, 'browsers': 398, 'eport': 399, '1621102': 400, '1621802': 401, '16': 402, '2003': 403, 'nonstandard': 404, '60': 405, 'criteria': 406, 'appointments': 407, 'manner': 408, 'concurrent': 409, 'saved': 410, 'enough': 411, 'avoid': 412, 'flow': 413, 'remove': 414, 'automated': 415, 'credit': 416, 'volume': 417, '95': 418, 'capacity': 419, 'peak': 420, 'launch': 421, 'handling': 422, 'year': 423, 'solution': 424, 'realtor': 425, 'displayed': 426, 'upon': 427, 'regularly': 428, 'create': 429, 'weeks': 430, 'actions': 431, 'start': 432, 'ten': 433, 'activities': 434, 'correct': 435, 'problems': 436, 'functionality': 437, 'maps': 438, 'checking': 439, 'described': 440, 'source': 441, 'player': 442, 'elements': 443, 'error': 444, 'detect': 445, 'rules': 446, 'specific': 447, 'content': 448, 'disease': 449, 'heart': 450, 'prior': 451, 'people': 452, 'final': 453, 'invalid': 454, 'threats': 455, 'view': 456, 'valid': 457, 'employees': 458, 'contain': 459, 'secured': 460, 'accessible': 461, 'verify': 462, 'receives': 463, 'subpart': 464, 'description': 465, 'federal': 466, 'behalf': 467, 'allows': 468, 'separate': 469, 'party': 470, 'query': 471, 'username': 472, 'conduct': 473, 'aes': 474, 'sql': 475, 'detection': 476, 'outside': 477, 'sent': 478, 'adopted': 479, 'limited': 480, 'central': 481, 'client': 482, 'platform': 483, 'privileges': 484, 'specified': 485, 'guidelines': 486, 'utilize': 487, '0': 488, 'february': 489, '1996': 490, 'advice': 491, 'enrollment': 492, 'deducted': 493, 'premium': 494, 'reviewrequest': 495, 'eligibility': 496, 'inquiry': 497, 'later': 498, 'synchronize': 499, 'general': 500, 'student': 501, 'navigating': 502, 'ratings': 503, 'occur': 504, '98': 505, 'adjustment': 506, 'email': 507, 'add': 508, 'izogn': 509, 'noted': 510, 'total': 511, 'cycle': 512, 'cst': 513, '99': 514, 'leads': 515, 'fit': 516, 'responses': 517, 'cpu': 518, '70': 519, 'remote': 520, 'least': 521, 'operation': 522, 'class': 523, 'less': 524, 'retain': 525, 'projected': 526, '1010': 527, 'projection': 528, 'viewers': 529, 'read': 530, 'activity': 531, 'distance': 532, 'symbols': 533, 'words': 534, 'naturally': 535, 'untrained': 536, 'install': 537, 'list': 538, 'cases': 539, 'performed': 540, 'identification': 541, 'encounter': 542, 'completing': 543, 'follow': 544, 'action': 545, 'productivity': 546, 'satisfied': 547, 'want': 548, 'surveyed': 549, 'reserve': 550, 'room': 551, 'feedback': 552, 'countries': 553, 'rooms': 554, 'navigation': 555, 'pages': 556, 'survey': 557, 'show': 558, 'selfeplanatory': 559, 'events': 560, 'mistakes': 561, 'clinicals': 562, 'terminology': 563, 'problem': 564, 'languages': 565, 'configure': 566, 'individual': 567, 'added': 568, 'callers': 569, 'supervisors': 570, 'note': 571, 'throughout': 572, 'uses': 573, 'claims': 574, 'held': 575, 'industry': 576, 'function': 577, 'whether': 578, 'updated': 579, 'adhere': 580, 'ibm': 581, 'modules': 582, 'design': 583, 'free': 584, 'structured': 585, 'document': 586, 'enable': 587, 'area': 588, 'defined': 589, 'introduced': 590, 'susan': 591, 'poslusny': 592, 'campusconnect': 593, 'private': 594, 'initiate': 595, 'additions': 596, 'modifications': 597, 'revoked': 598, 'viruses': 599, 'companyapproved': 600, 'ids': 601, 'logons': 602, 'permissions': 603, 'subsystems': 604, 'assign': 605, 'personnel': 606, 'notify': 607, 'identity': 608, 'availability': 609, 'creates': 610, 'transmits': 611, 'reasonably': 612, 'state': 613, 'incentive': 614, 'ensuring': 615, 'confidential': 616, 'applicable': 617, 'person': 618, 'authority': 619, 'uc2': 620, 'assessment': 621, 'needed': 622, 'enforce': 623, 'ip': 624, 'authorization': 625, 'done': 626, 'identified': 627, 'financial': 628, 'testing': 629, 'resources': 630, 'devices': 631, 'connections': 632, 'protocols': 633, 'incidents': 634, 'mechanism': 635, 'whenever': 636, 'locks': 637, 'capabilities': 638, 'procedure': 639, 'apache': 640, 'logged': 641, 'specifications': 642, 'addition': 643, 'active': 644, 'name': 645, 'integrated': 646, 'directory': 647, 'hcp': 648, 'budget': 649, 'controls': 650, 'associate': 651, 'predefined': 652, 'applications': 653, 'last': 654, 'detailed': 655, 'regard': 656, 'letters': 657, 'letter': 658, 'posting': 659, 'billing': 660, 'firefo': 661, 'upgrades': 662, 'located': 663, 'different': 664, 'java': 665, 'oracle': 666, 'db2': 667, 'hsql': 668, 'various': 669, 'distribution': 670, 'encoded': 671, 'development': 672, 'resource': 673, 'delimited': 674, 'contains': 675, '1621202': 676, '004010098': 677, '11': 678, 'january': 679, 'institutional': 680, 'telecommunications': 681, 'loinc': 682, 'element': 683, 'goes': 684, 'fault': 685, 'refresh': 686, 'respond': 687, 'hour': 688, 'previous': 689, 'check': 690, 'inactive': 691, 'categories': 692, 'unique': 693, 'generated': 694, 'unless': 695, 'purchasing': 696, 'plus': 697, '25': 698, 'duration': 699, 'games': 700, '56k': 701, 'second': 702, 'receiving': 703, '50': 704, 'eceed': 705, 'well': 706, 'meet': 707, 'future': 708, 'needs': 709, 'workstation': 710, 'adding': 711, 'additional': 712, 'functions': 713, 'device': 714, 'coded': 715, '2day': 716, 'month': 717, 'onsite': 718, 'found': 719, 'give': 720, 'accurately': 721, 'familiar': 722, 'novice': 723, 'navigate': 724, 'logging': 725, 'purchase': 726, 'conventions': 727, 'english': 728, 'determine': 729, 'calendar': 730, 'country': 731, 'agreement': 732, 'created': 733, 'received': 734, 'selection': 735, 'accomplish': 736, 'button': 737, 'tool': 738, 'single': 739, 'click': 740, 'voice': 741, 'associated': 742, 'option': 743, 'means': 744, 'week': 745, 'portion': 746, 'reduce': 747, 'accordance': 748, 'virus': 749, 'reviewed': 750, 'purposes': 751, 'recorded': 752, 'initiated': 753, 'attacks': 754, 'reservations': 755, 'affect': 756, 'control': 757, 'scripts': 758, 'privacy': 759, 'compliance': 760, 'antivirus': 761, 'maintains': 762, 'higher': 763, 'medicaid': 764, 'providers': 765, 'methodology': 766, 'verifying': 767, 'resulting': 768, 'supported': 769, 'reasonable': 770, 'firewall': 771, 'port': 772, 'directories': 773, 'epiration': 774, 'ampp': 775, 'see': 776, 'identify': 777, 'locked': 778, 'parameters': 779, 'strings': 780, 'logs': 781, 'automatically': 782, 'paths': 783, 'analysis': 784, 'mechanisms': 785, 'across': 786, 'keys': 787, 'secrets': 788, 'encrypt': 789, 'agrees': 790, 'layer': 791, 'ipsec': 792, 'proper': 793, 'removal': 794, 'items': 795, 'reuse': 796, 'monitoring': 797, 'vpn': 798, 'rely': 799, 'authenticates': 800, 'tls': 801, 'signon': 802, 'timeout': 803, 'alerts': 804, 'tripledes': 805, 'advanced': 806, 'county': 807, 'storing': 808, 'limit': 809, 'healthcare': 810, 'omb': 811, 'independent': 812, 'malware': 813, 'modification': 814, 'roles': 815, 'hl7': 816, 'protocol': 817, 'node': 818, '3des': 819, 'individuals': 820, 'reject': 821, 'properly': 822, 'answer': 823, 'previously': 824, 'eplorer': 825, 'architecture': 826, 'center': 827, 'collaboration': 828, 'transmit': 829, 'communicate': 830, 'programming': 831, 'currently': 832, 'fees': 833, 'netscape': 834, 'working': 835, 'end': 836, 'accommodate': 837, 'diseases': 838, 'edition': 839, 'icd9cm': 840, '004010097': 841, '004010097a1': 842, '1621302': 843, '1621602': 844, '004010098a1': 845, 'benefits': 846, '004010096': 847, 'hcpcs': 848, 'provider': 849, '835health': 850, '004010091': 851, '834benefit': 852, '004010095': 853, '820payroll': 854, '278health': 855, '004010094': 856, '12n276': 857, '277': 858, '004010093': 859, '270': 860, '271health': 861, '004010092': 862, 'transmission': 863, 'treatment': 864, 'relationship': 865, 'pattern': 866, 'rate': 867, 'keep': 868, 'uptodate': 869, 'produce': 870, 'contacts': 871, 'timely': 872, 'schedule': 873, 'generation': 874, 'wait': 875, '350': 876, 'degradation': 877, 'save': 878, 'interrupting': 879, 'thought': 880, 'recreation': 881, 'quantity': 882, '30min': 883, 'activate': 884, 'register': 885, 'pay': 886, 'mark': 887, 'sales': 888, 'statistics': 889, 'pins': 890, 'ecel': 891, 'buffering': 892, 'latency': 893, 'completed': 894, '8am': 895, '8pm': 896, 'evaluation': 897, '97': 898, 'processed': 899, 'forth': 900, 'auto': 901, 'rep': 902, 'assignment': 903, 'life': 904, 'large': 905, 'simultaneously': 906, 'remaining': 907, 'achieve': 908, 'operations': 909, 'fourth': 910, 'concurrency': 911, 'early': 912, 'morning': 913, 'late': 914, 'afternoon': 915, 'utilization': 916, 'given': 917, '1000': 918, '1500': 919, 'message': 920, 'multithreading': 921, 'balancing': 922, 'traffic': 923, 'reach': 924, 'levels': 925, 'capacities': 926, 'representative': 927, 'related': 928, 'accepted': 929, '20': 930, 'readable': 931, 'self': 932, 'eplanatory': 933, 'recourse': 934, 'separatelyprinted': 935, 'printed': 936, 'color': 937, 'agree': 938, 'feel': 939, '85': 940, 'learned': 941, 'locate': 942, 'postlaunch': 943, 'confirms': 944, 'select': 945, 'employee': 946, 'informally': 947, 'setup': 948, 'meetings': 949, 'menu': 950, 'searching': 951, 'anonymous': 952, 'comfortable': 953, 'watch': 954, 'predetermined': 955, 'interacting': 956, 'nine': 957, 'players': 958, 'understand': 959, 'accessing': 960, 'occuring': 961, 'making': 962, 'decreased': 963, 'verbiage': 964, 'translated': 965, 'foreign': 966, 'releases': 967, 'emerging': 968, 'markets': 969, 'dates': 970, 'according': 971, 'locale': 972, 'respondents': 973, 'iii': 974, 'terminating': 975, 'ecept': 976, 'respect': 977, 'keyboard': 978, 'amount': 979, 'remember': 980, 'usability': 981, 'tests': 982, 'task': 983, 'integration': 984, 'little': 985, 'notice': 986, 'also': 987, 'interactive': 988, 'building': 989, 'lifecycle': 990, 'enterer': 991, 'editor': 992, 'errors': 993, 'dbas': 994, 'recognition': 995, 'visual': 996, 'relevant': 997, 'creating': 998, 'orders': 999, 'drugs': 1000, 'warnings': 1001, 'prompts': 1002, 'warning': 1003, 'taken': 1004, 'point': 1005, 'creation': 1006, 'restrict': 1007, 'templates': 1008, 'components': 1009, 'budgets': 1010, 'stipulated': 1011, 'nomenclature': 1012, 'grants': 1013, 'distinguish': 1014, 'julie': 1015, 'donalek': 1016, 'criterion': 1017, 'karen': 1018, 'sysol': 1019, 'basic': 1020, 'possibility': 1021, 'built': 1022, 'interference': 1023, 'monitor': 1024, 'auditing': 1025, 'reinstantiated': 1026, 'manipulate': 1027, 'supervisor': 1028, 'denial': 1029, 'managers': 1030, 'corresponds': 1031, 'reservation': 1032, 'adjacent': 1033, 'remain': 1034, 'uncorrupted': 1035, 'emerge': 1036, 'granularly': 1037, 'major': 1038, 'independently': 1039, 'corrupted': 1040, 'intentional': 1041, 'abuse': 1042, 'occurrences': 1043, 'weekly': 1044, 'practices': 1045, 'collection': 1046, 'reveal': 1047, 'infection': 1048, 'changed': 1049, 'anticipated': 1050, 'disclosures': 1051, 'claimed': 1052, 'payments': 1053, 'outcomes': 1054, 'adoption': 1055, '9': 1056, 'compatible': 1057, 'appropriately': 1058, 'removed': 1059, 'communications': 1060, 'ii': 1061, 'provision': 1062, 'adequate': 1063, 'tester': 1064, 'upgrade': 1065, '443': 1066, 'administrationglobalssecurity': 1067, 'strong': 1068, 'root': 1069, 'something': 1070, 'clientsided': 1071, 'certificates': 1072, 'certificate': 1073, 'could': 1074, 'method': 1075, 'local': 1076, 'instance': 1077, 'delegate': 1078, 'restore': 1079, 'three': 1080, 'disallow': 1081, 'validated': 1082, 'sessions': 1083, 'ordered': 1084, 'apply': 1085, 'workforce': 1086, 'parent': 1087, 'risks': 1088, 'vulnerabilities': 1089, '45': 1090, 'cfr': 1091, '164308': 1092, 'deficiencies': 1093, 'credentials': 1094, 'plain': 1095, 'tampering': 1096, 'algorithm': 1097, 'key': 1098, 'securely': 1099, 'range': 1100, 'iihi': 1101, 'law': 1102, 'terminate': 1103, 'delivered': 1104, 'certain': 1105, 'cms': 1106, 'requires': 1107, 'remedies': 1108, 'fips': 1109, 'storage': 1110, 'socket': 1111, 'includes': 1112, 'reliable': 1113, 'hvac': 1114, 'recommended': 1115, 'workstations': 1116, 'receipt': 1117, 'disposition': 1118, 'made': 1119, 'tracking': 1120, 'modified': 1121, 'banner': 1122, 'patients': 1123, 'changing': 1124, 'implemented': 1125, 'clear': 1126, 'passed': 1127, 'ftp': 1128, 'identifiers': 1129, 'prespecified': 1130, 'resets': 1131, 'realtime': 1132, 'internal': 1133, 'encrypts': 1134, 'transport': 1135, 'insures': 1136, 'compleity': 1137, 'restricts': 1138, 'directly': 1139, 'released': 1140, 'bi': 1141, 'subject': 1142, 'restrictions': 1143, 'ensures': 1144, 'conducting': 1145, 'compliant': 1146, 'lhcp': 1147, 'parties': 1148, 'fire': 1149, 'notifications': 1150, 'purpose': 1151, 'history': 1152, 'scope': 1153, 'a130': 1154, '200': 1155, 'csrcnistgov': 1156, 'publications': 1157, 'rolebased': 1158, 'groups': 1159, 'restricted': 1160, 'processes': 1161, 'connected': 1162, 'module': 1163, 'biometrics': 1164, 'fingerprint': 1165, 'scan': 1166, 'technologies': 1167, 'areas': 1168, 'resolution': 1169, 'scanning': 1170, 'php': 1171, 'delay': 1172, 'networks': 1173, 'mime': 1174, 'successors': 1175, 'lock': 1176, 'stateoftheart': 1177, 'dynamic': 1178, 'routers': 1179, 'begin': 1180, 'designated': 1181, 'recovery': 1182, 'intranet': 1183, 'similar': 1184, 'strength': 1185, 'standardsbased': 1186, 'typical': 1187, 'department': 1188, 'depaul': 1189, 'university': 1190, 'computers': 1191, 'p': 1192, 'campusconnects': 1193, 'faculty': 1194, 'master': 1195, 'scheduled': 1196, 'est': 1197, 'initiation': 1198, 'print': 1199, 'utility': 1200, 'adjustments': 1201, 'merchants': 1202, '55': 1203, 'mozilla': 1204, 'choice': 1205, 'feed': 1206, 'operated': 1207, 'dirty': 1208, 'noisy': 1209, 'choiceparts': 1210, 'approimately': 1211, 'fall': 1212, 'installations': 1213, 'handled': 1214, 'middleware': 1215, 'frames': 1216, 'colocated': 1217, 'alongside': 1218, 'runtime': 1219, 'residing': 1220, 'eamples': 1221, 'tomcat': 1222, 'jboss': 1223, 'tested': 1224, 'binary': 1225, 'zip': 1226, 'packaged': 1227, 'cd': 1228, 'ms': 1229, 'developed': 1230, 'j2se': 1231, 'j2ee': 1232, 'libraries': 1233, 'owned': 1234, 'aspects': 1235, 'fully': 1236, 'operational': 1237, 'msn': 1238, 'tv2': 1239, 'streamed': 1240, '256k': 1241, 'streams': 1242, 'flash': 1243, 'animation': 1244, 'home': 1245, 'structure': 1246, 'non': 1247, 'binding': 1248, 'neutral': 1249, 'entities': 1250, 'loaded': 1251, 'bdw': 1252, 'dhs': 1253, 'brio': 1254, '123': 1255, 'regulations': 1256, 'space': 1257, 'microsoft': 1258, 'ce': 1259, 'palm': 1260, 'echange': 1261, 'csr': 1262, 'real': 1263, 'running': 1264, 'promotional': 1265, 'international': 1266, 'classification': 1267, '9th': 1268, 'official': 1269, 'objectives': 1270, 'paragraph': 1271, 'ndc': 1272, 'coordination': 1273, '004010096a1': 1274, 'substances': 1275, 'supplies': 1276, 'american': 1277, 'association': 1278, '004010091a1': 1279, 'clearinghouse': 1280, 'costs': 1281, '004010095a1': 1282, 'financing': 1283, '004010061': 1284, 'payroll': 1285, '004010061a1': 1286, '004010094a1': 1287, '004010093a1': 1288, '004010092a1': 1289, 'translate': 1290, 'identifying': 1291, 'cpt': 1292, 'designed': 1293, 'payer': 1294, 'names': 1295, 'singleton': 1296, 'implementaiton': 1297, 'highly': 1298, 'demographic': 1299, 'registration': 1300, 'birads': 1301, 'script': 1302, 'table': 1303, 'platforms': 1304, 'sets': 1305, 'united': 1306, 'states': 1307, 'offline': 1308, 'unavailable': 1309, 'downloaded': 1310, 'restored': 1311, 'comes': 1312, 'back': 1313, 'gateway': 1314, 'c360inventory': 1315, 'entering': 1316, 'pin': 1317, 'unlimited': 1318, 'subscriber': 1319, 'cancel': 1320, 'deactivate': 1321, 'minute': 1322, 'manager': 1323, 'category': 1324, 'listings': 1325, 'aside': 1326, '9999': 1327, '112k': 1328, 'faster': 1329, 'inventory': 1330, 'never': 1331, 'initial': 1332, 'million': 1333, 'overcome': 1334, 'spikes': 1335, '60minute': 1336, 'track': 1337, 'uptime': 1338, 'demonstrate': 1339, '3540': 1340, 'curriculum': 1341, 'scalable': 1342, 'adaptable': 1343, 'growth': 1344, 'epansion': 1345, 'cater': 1346, '9am': 1347, '5pm': 1348, 'baseline': 1349, 'configurations': 1350, 'assumed': 1351, 'processors': 1352, 'beyond': 1353, '5000': 1354, 'default': 1355, 'schedules': 1356, 'ancillary': 1357, 'limitation': 1358, 'grow': 1359, 'chosen': 1360, 'customization': 1361, 'views': 1362, 'conform': 1363, 'americans': 1364, 'disabilities': 1365, 'act': 1366, 'clicks': 1367, 'cards': 1368, 'buying': 1369, 'skills': 1370, 'websites': 1371, 'spanish': 1372, 'french': 1373, 'formatting': 1374, 'answers': 1375, 'solutions': 1376, 'informs': 1377, 'restriction': 1378, 'termination': 1379, 'effective': 1380, 'informed': 1381, 'activated': 1382, 'selected': 1383, 'mouse': 1384, 'league': 1385, 'reaching': 1386, 'startup': 1387, 'instruction': 1388, 'short': 1389, 'deployed': 1390, 'undergo': 1391, 'intelligent': 1392, 'spell': 1393, 'clicking': 1394, 'dob': 1395, 'pop': 1396, 'issue': 1397, 'dialog': 1398, 'earlier': 1399, 'window': 1400, 'copied': 1401, 'saves': 1402, 'pays': 1403, 'deployment': 1404, 'hyperlink': 1405, 'eported': 1406, 'selecting': 1407, 'rreports': 1408, 'ask': 1409, 'confirm': 1410, 'dropping': 1411, 'trading': 1412, 'performing': 1413, 'job': 1414, 'inquire': 1415, 'readily': 1416, 'presented': 1417, 'success': 1418, 'resolve': 1419, 'edit': 1420, 'checks': 1421, 'immediate': 1422, 'corrective': 1423, 'cues': 1424, 'highlight': 1425, 'abnormal': 1426, 'critical': 1427, 'alert': 1428, 'lookalike': 1429, 'sound': 1430, 'alike': 1431, 'duplicate': 1432, 'issuing': 1433, 'auditory': 1434, 'usre': 1435, 'moving': 1436, 'step': 1437, 'autofill': 1438, 'userfriendly': 1439, 'enduser': 1440, 'requiring': 1441, 'epertise': 1442, 'publish': 1443, 'annotations': 1444, 'distinguishes': 1445, 'customizable': 1446, 'materials': 1447, 'contetspecific': 1448, 'organizationspecific': 1449, 'sequence': 1450, 'dataentry': 1451, 'columns': 1452, 'match': 1453, 'documents': 1454, 'drop': 1455, 'eplains': 1456, 'present': 1457, 'navigational': 1458, 'effort': 1459, 'inputting': 1460, 'encounters': 1461, 'utilizing': 1462, 'forms': 1463, 'pick': 1464, 'lists': 1465, 'macro': 1466, 'substitution': 1467, 'dictation': 1468, 'subsequent': 1469, 'transcription': 1470, 'manually': 1471, 'supports': 1472, 'grouping': 1473, 'like': 1474, 'cerebrovascular': 1475, 'congenital': 1476, 'hypertensive': 1477, 'ischemic': 1478, 'oneclick': 1479, 'unified': 1480, 'completion': 1481, 'adjuster': 1482, 'audits': 1483, 'cannot': 1484, 'estimator': 1485, 'companys': 1486, 'stream': 1487, 'purchased': 1488, 'aware': 1489, 'might': 1490, 'terminated': 1491, 'disable': 1492, 'accidentally': 1493, 'overwritten': 1494, 'hazards': 1495, 'permitted': 1496, 'e': 1497, 'amounts': 1498, 'percent': 1499, 'ffp': 1500, 'reimbursement': 1501, 'ependitures': 1502, 'eligible': 1503, 'improvements': 1504, 'quality': 1505, 'efficiency': 1506, 'recipients': 1507, 'mmis': 1508, 'retrieval': 1509, 'researcher': 1510, 'right': 1511, '164522': 1512, 'contract': 1513, '164510': 1514, 'requesting': 1515, 'analyses': 1516, 'holders': 1517, 'sponsors': 1518, 'disclosed': 1519, 'holder': 1520, 'sponsor': 1521, 'separation': 1522, '164504': 1523, 'f': 1524, 'requirement': 1525, 'hipaa': 1526, 'meaningful': 1527, 'removing': 1528, 'sqlconfdotphp': 1529, 'override': 1530, 'settings': 1531, 'especially': 1532, 'portals': 1533, 'main': 1534, 'etremely': 1535, 'unsecure': 1536, 'opening': 1537, 'turn': 1538, 'allowing': 1539, 'soap': 1540, 'apis': 1541, 'intervals': 1542, 'ssh': 1543, 'tunnel': 1544, 'even': 1545, 'finished': 1546, 'failed': 1547, 'userid': 1548, 'comments': 1549, 'headers': 1550, 'involving': 1551, 'ends': 1552, 'closes': 1553, 'refleive': 1554, 'confirmatory': 1555, 'screening': 1556, 'positive': 1557, 'openemrs': 1558, 'sanctions': 1559, 'fail': 1560, 'blocked': 1561, 'accurate': 1562, 'thorough': 1563, 'potential': 1564, 'tokens': 1565, 'stores': 1566, 'containing': 1567, 'cryptographic': 1568, 'size': 1569, '256': 1570, 'bit': 1571, 'stronger': 1572, 'handheld': 1573, 'length': 1574, 'recipient': 1575, 'misuse': 1576, 'inappropriate': 1577, 'dua': 1578, 'otherwise': 1579, 'regulation': 1580, 'rest': 1581, 'owner': 1582, 'owners': 1583, 'transmissions': 1584, 'eceeds': 1585, 'eprescribing': 1586, 'cchit': 1587, 'certification': 1588, 'twofactor': 1589, 'communicated': 1590, 'furthermore': 1591, 'determines': 1592, 'harm': 1593, 'notification': 1594, 'affected': 1595, 'persons': 1596, 'breach': 1597, 'carry': 1598, 'cost': 1599, 'suspected': 1600, 'mitigate': 1601, 'etent': 1602, 'practicable': 1603, 'harmful': 1604, 'effects': 1605, 'communication': 1606, 'wire': 1607, 'covers': 1608, 'electrical': 1609, 'sterilization': 1610, 'decrypt': 1611, 'deemed': 1612, 'awareness': 1613, 'corroborate': 1614, 'altered': 1615, 'destroyed': 1616, 'govern': 1617, 'movement': 1618, 'specify': 1619, 'attributes': 1620, 'surroundings': 1621, 'repairs': 1622, 'walls': 1623, 'doors': 1624, 'violations': 1625, 'improper': 1626, 'alteration': 1627, 'destruction': 1628, 'safeguard': 1629, 'therein': 1630, 'theft': 1631, 'infoimplement': 1632, 'storedrmation': 1633, 'incident': 1634, 'seeking': 1635, 'sufficient': 1636, '164306': 1637, 'electronically': 1638, 'improperly': 1639, 'disposed': 1640, 'guard': 1641, 'prelogin': 1642, 'immediately': 1643, 'upload': 1644, 'eecutable': 1645, 'mids': 1646, 'considered': 1647, 'casesensitive': 1648, 'recommendations': 1649, 'regarding': 1650, 'world': 1651, 'eist': 1652, 'uas': 1653, 'periodic': 1654, 'protects': 1655, 'clinic': 1656, 'assets': 1657, 'manifestation': 1658, 'platformlevel': 1659, 'cryptography': 1660, 'custom': 1661, 'implementations': 1662, 'safeguarding': 1663, 'guarding': 1664, 'detecting': 1665, 'discrepancies': 1666, 'channels': 1667, 'mid': 1668, 'urls': 1669, 'oneway': 1670, 'hash': 1671, 'decisions': 1672, 'header': 1673, '164105': 1674, '164316': 1675, 'incorporated': 1676, 'persistent': 1677, 'insecure': 1678, 'telnet': 1679, 'tftp': 1680, 'tunneled': 1681, 'lifetime': 1682, 'userdefined': 1683, 'forgotten': 1684, 'reauthenticate': 1685, 'remotely': 1686, 'location': 1687, 'standalone': 1688, 'avoids': 1689, 'untrusted': 1690, 'clientside': 1691, 'clients': 1692, 'minimizes': 1693, 'applied': 1694, 'meets': 1695, 'performs': 1696, 'seamless': 1697, 'idle': 1698, 'managed': 1699, 'reminder': 1700, 'delivery': 1701, 'multifactor': 1702, 'returns': 1703, 'generic': 1704, 'leastprivileged': 1705, 'warns': 1706, 'reenter': 1707, 'temporary': 1708, 'objects': 1709, 'closed': 1710, 'memory': 1711, 'gives': 1712, 'correctly': 1713, 'society': 1714, 'himss': 1715, 'arisk': 1716, 'toolkitfor': 1717, 'developing': 1718, 'lchp': 1719, 'parameter': 1720, 'masking': 1721, 'host': 1722, 'computing': 1723, 'thirdparty': 1724, '24': 1725, 'environmental': 1726, 'suppression': 1727, 'moisture': 1728, 'humidity': 1729, 'temperature': 1730, 'hosting': 1731, 'bugs': 1732, 'patches': 1733, 'highest': 1734, 'defense': 1735, 'circular': 1736, 'appendi': 1737, 'iiisecurity': 1738, 'wwwwhitehousegov': 1739, 'circulars': 1740, 'a130html': 1741, 'entitled': 1742, 'fips200': 1743, 'fips200finalmarchpdf': 1744, 'special': 1745, 'publication': 1746, '80053': 1747, 'nistpubs': 1748, '80053rev2': 1749, 'sp80053rev2final': 1750, 'conveyance': 1751, 'malevolent': 1752, 'assumes': 1753, 'userbased': 1754, 'grouped': 1755, 'contetbased': 1756, 'contet': 1757, 'timeofday': 1758, 'workstationlocation': 1759, 'emergencymode': 1760, 'deleting': 1761, 'errorhandling': 1762, 'authenticate': 1763, 'mobile': 1764, 'force': 1765, 'frequency': 1766, 'eclusive': 1767, 'consecutive': 1768, 'restrictive': 1769, 'accesses': 1770, 'clerical': 1771, 'nurse': 1772, 'doctor': 1773, 'acting': 1774, 'inhouse': 1775, 'entire': 1776, 'suite': 1777, 'onto': 1778, '128bit': 1779, 'tier': 1780, 'submodules': 1781, 'discretion': 1782, 'stating': 1783, 'issues': 1784, 'conflicts': 1785, 'intrusion': 1786, 'eradication': 1787, 'hostbased': 1788, 'conflict': 1789, 'full': 1790, 'eclude': 1791, 'deactivation': 1792, 'constraints': 1793, 'itemizes': 1794, 'ports': 1795, 'servicing': 1796, 'justification': 1797, 'delays': 1798, 'prompt': 1799, 'configured': 1800, 'logout': 1801, 'maintaining': 1802, 'lockout': 1803, 'unsuccessful': 1804, 'authenticity': 1805, 'nodes': 1806, 'mutual': 1807, 'communicating': 1808, 'sig': 1809, 'encryptions': 1810, 'initiating': 1811, 'remains': 1812, 'effect': 1813, 'reestablishes': 1814, 'intended': 1815, 'portable': 1816, 'removable': 1817, 'thumbdrives': 1818, 'cdrom': 1819, 'pda': 1820, 'notebook': 1821, 'agents': 1822, 'stated': 1823, 'needtoknow': 1824, 'establish': 1825, 'try': 1826, 'approach': 1827, 'constrain': 1828, 'sanitize': 1829, 'logins': 1830, 'always': 1831, 'asserts': 1832, 'character': 1833, 'en': 1834, 'us': 1835, 'webenabled': 1836, 'portions': 1837, 'graphics': 1838, 'speed': 1839, 'reliability': 1840, 'interaction': 1841, 'defenses': 1842, 'firewalls': 1843, 'traditional': 1844, 'matters': 1845, 'involve': 1846, 'points': 1847, 'lighting': 1848, 'cameras': 1849, 'precautions': 1850, 'power': 1851, 'outage': 1852, 'water': 1853, 'disaster': 1854, 'vendor': 1855, 'selfcertify': 1856, 'commercial': 1857, 'sites': 1858, 'partitioned': 1859, 'unrestricted': 1860, 'folders': 1861, 'question': 1862, 'typed': 1863, 'appear': 1864, 'normally': 1865, 'appears': 1866, 'confirmed': 1867, 'sc': 1868, '0302': 1869, 'timeframe': 1870, '180': 1871, 'recently': 1872, 'characters': 1873, 'inclusion': 1874, 'alphanumeric': 1875, 'hashing': 1876, 'sha1': 1877, 'successful': 1878, '247365': 1879, 'monday': 1880, 'saturday': 1881, '300am': 1882, '400am': 1883, 'sunday': 1884, '100amd': 1885, '500am': 1886, 'send': 1887, 'licensing': 1888, 'oneserver': 1889, 'twofive': 1890, 'fiveormore': 1891, 'license': 1892, 'backup': 1893, 'demand': 1894, 'licenses': 1895, 'royalty': 1896, 'cybersource': 1897, 'api': 1898, 'mentioned': 1899, 'monthend': 1900, 'budgeting': 1901, 'primary': 1902, 'cached': 1903, 'secondary': 1904, 'historical': 1905, 'emh': 1906, 'la': 1907, 'buttons': 1908, 'ls': 1909, 'phpcapable': 1910, 'webserver': 1911, 'php5': 1912, 'centos': 1913, 'redhat': 1914, 'configuring': 1915, 'strict': 1916, 'disabled': 1917, 'irregular': 1918, 'departments': 1919, 'hard': 1920, 'disk': 1921, '400mb': 1922, 'integrates': 1923, 'notifying': 1924, 'near': 1925, 'domain': 1926, 'spreadsheet': 1927, 'lotus': 1928, 'eam': 1929, 'datastream': 1930, 'proposed': 1931, 'lac': 1932, 'infrastructure': 1933, 'switches': 1934, 'balancers': 1935, 'consoles': 1936, 'instances': 1937, 'row': 1938, 'comma': 1939, 'tab': 1940, 'quotation': 1941, 'import': 1942, 'wan': 1943, 'production': 1944, 'connect': 1945, 'included': 1946, 'mydotcnf': 1947, 'velkat': 1948, 'phone': 1949, '7am7pm': 1950, 'mf': 1951, 'setting': 1952, 'eecuting': 1953, 'variables': 1954, 'command': 1955, 'line': 1956, 'value': 1957, 'enhancements': 1958, 'fies': 1959, 'assure': 1960, 'accept': 1961, 'promptly': 1962, 'j': 1963, 'enters': 1964, 'memorandum': 1965, 'understanding': 1966, 'terms': 1967, 'attempt': 1968, 'adversely': 1969, 'injuries': 1970, 'impairments': 1971, 'hospital': 1972, 'inpatients': 1973, 'reported': 1974, 'hospitals': 1975, 'retail': 1976, 'pharmacies': 1977, 'manufacturers': 1978, 'biologics': 1979, 'offer': 1980, '162923': 1981, 'operates': 1982, 'charge': 1983, 'ecess': 1984, 'normal': 1985, 'incurs': 1986, '1621502': 1987, 'combination': 1988, 'procedural': 1989, 'cpt4': 1990, 'physician': 1991, '1621702': 1992, '1621402': 1993, '04010061': 1994, 'developers': 1995, 'electing': 1996, 'offered': 1997, 'condition': 1998, 'developer': 1999, 'guides': 2000, 'documented': 2001, 'javadoc': 2002, 'nongui': 2003, 'unit': 2004, 'junit': 2005, 'coverage': 2006, 'pass': 2007, 'describes': 2008, 'surgical': 2009, 'diagnostic': 2010, 'uniform': 2011, 'among': 2012, 'physicians': 2013, 'coders': 2014, 'accreditation': 2015, 'payers': 2016, 'analytical': 2017, 'indirect': 2018, 'reflected': 2019, 'coordinates': 2020, 'forward': 2021, 'c': 2022, 'informatics': 2023, 'logical': 2024, 'observation': 2025, 'universal': 2026, 'laboratory': 2027, 'observations': 2028, 'orange': 2029, 'book': 2030, 'revenue': 2031, 'epense': 2032, 'formulae': 2033, 'allotted': 2034, 'calculations': 2035, 'conducted': 2036, 'jointly': 2037, 'project': 2038, 'pcg': 2039, 'finance': 2040, 'listed': 2041, 'mm': 2042, 'dd': 2043, 'yyyy': 2044, 'appointmenttype': 2045, 'features': 2046, 'strategy': 2047, 'epidemic': 2048, 'causeofdeath': 2049, 'trends': 2050, 'eclipse': 2051, '33': 2052, 'telecomunication': 2053, 'pear': 2054, 'patterns': 2055, 'best': 2056, 'navigator': 2057, 'interruption': 2058, 'due': 2059, 'city': 2060, 'chicago': 2061, 'framework': 2062, 'wssecurity': 2063, 'transparent': 2064, 'screens': 2065, 'reconfigurable': 2066, 'providing': 2067, 'reposition': 2068, 'rename': 2069, 'labels': 2070, 'turnoff': 2071, 'unused': 2072, 'customdefined': 2073, 'linking': 2074, 'organism': 2075, 'snomed': 2076, 'importing': 2077, 'practice': 2078, 'dicom': 2079, 'images': 2080, '06': 2081, 'breast': 2082, 'imaging': 2083, 'atlas': 2084, 'pharmacy': 2085, 'standardized': 2086, 'commonly': 2087, 'proven': 2088, 'stamps': 2089, 'utc': 2090, 'iso': 2091, '8601': 2092, 'validate': 2093, 'diagnosis': 2094, 'prescriptions': 2095, 'medications': 2096, 'reason': 2097, 'variation': 2098, 'rulebased': 2099, 'reminders': 2100, 'vital': 2101, 'signs': 2102, 'blood': 2103, 'pressure': 2104, 'respiratory': 2105, 'height': 2106, 'weight': 2107, 'allergy': 2108, 'adverse': 2109, 'reaction': 2110, 'immunization': 2111, 'medication': 2112, 'dictionary': 2113, 'relationships': 2114, 'describe': 2115, 'connectivity': 2116, 'odbc': 2117, 'relational': 2118, 'rdbms': 2119, 'naming': 2120, 'tables': 2121, 'utilities': 2122, 'tuning': 2123, 'tools': 2124, 'customize': 2125, 'w3c': 2126, 'browserbased': 2127, 'serverside': 2128, 'architectures': 2129, 'industrystandard': 2130, 'object': 2131, '1621002': 2132, 'specification': 2133, 'furnished': 2134, 'nonmedical': 2135, '700': 2136, 'regions': 2137, 'approved': 2138, 'app': 2139, 'scalability': 2140, 'encountered': 2141, 'robustthe': 2142, 'avoidance': 2143, 'robust': 2144, 'tolerancethe': 2145, 'tolerance': 2146, 'technique': 2147, 'compensatory': 2148, 'routing': 2149, 'around': 2150, 'failures': 2151, 'tolerant': 2152, 'vr': 2153, 'gaming': 2154, 'variety': 2155, 'genres': 2156, 'compatibility': 2157}\n",
            "['respond fast keep uptodate data display' 'Performance']\n",
            "respond fast keep uptodate data display\n",
            "Req_Class: Performance\n"
          ]
        }
      ]
    },
    {
      "cell_type": "code",
      "metadata": {
        "id": "YigTXvM0Bcr-"
      },
      "source": [
        "# Function takes a tokenized sentence and returns the words\n",
        "def sequence_to_text(list_of_indices):\n",
        "    # Looking up words in dictionary\n",
        "    words = [reverse_word_map.get(letter) for letter in list_of_indices]\n",
        "    return(words)"
      ],
      "execution_count": 21,
      "outputs": []
    },
    {
      "cell_type": "code",
      "metadata": {
        "id": "JuVE1wTCBcsB",
        "colab": {
          "base_uri": "https://localhost:8080/"
        },
        "outputId": "9cf8fd5a-0b78-4c99-e3cc-171c21680811"
      },
      "source": [
        "#Transforms each text in df['sentence'] to a sequence of integers\n",
        "X = tokenizer.texts_to_sequences(df['sentence'].values)\n",
        "reverse_word_map = dict(map(reversed, tokenizer.word_index.items()))\n",
        "X = pad_sequences(X, maxlen=MAX_SEQUENCE_LENGTH)\n",
        "print('Shape of data tensor:', X.shape)"
      ],
      "execution_count": 22,
      "outputs": [
        {
          "output_type": "stream",
          "name": "stdout",
          "text": [
            "Shape of data tensor: (945, 250)\n"
          ]
        }
      ]
    },
    {
      "cell_type": "code",
      "metadata": {
        "id": "y5Ne0d57GVzV"
      },
      "source": [
        "# Find the word from the data in the word2vec model and pass the vector back\n",
        "def getVector(word):\n",
        "    if word in vec_model:\n",
        "        return vec_model[word]\n",
        "    else:\n",
        "        return None"
      ],
      "execution_count": 23,
      "outputs": []
    },
    {
      "cell_type": "code",
      "metadata": {
        "id": "oeKdLAlZGrMQ"
      },
      "source": [
        "# Below are steps required to identify each unique token (word parsed and cleaned) from the tokenizer to obtain the word2vec vector matrix to be used in the subsequent model development\n",
        "# set the matrix size to the number of unique tokens + 1 to avoid out of bounds error\n",
        "wsize=len(tokenizer.word_index)+1\n",
        "# Initialize the weighting matrix to be used in the model below\n",
        "wv_matrix=np.zeros((wsize,300))\n",
        "# for every unique word in thea tokenizer get the vector from word2vec model\n",
        "for word, i in tokenizer.word_index.items():\n",
        "  embedding_vector = getVector(word)\n",
        "  if embedding_vector is not None:\n",
        "    wv_matrix[i] = embedding_vector"
      ],
      "execution_count": 24,
      "outputs": []
    },
    {
      "cell_type": "code",
      "metadata": {
        "id": "BBUOjupB_BYG",
        "colab": {
          "base_uri": "https://localhost:8080/"
        },
        "outputId": "9c9e125d-208c-4196-9672-5a2a4dd6f4f4"
      },
      "source": [
        "print(len(wv_matrix))\n",
        "# print the unique weighted matrix value for the nth word as received by running it through the word2vec model\n",
        "print(wv_matrix[7])"
      ],
      "execution_count": 25,
      "outputs": [
        {
          "output_type": "stream",
          "name": "stdout",
          "text": [
            "2158\n",
            "[-7.03125000e-02  9.17968750e-02  1.44531250e-01  1.24511719e-01\n",
            " -1.29882812e-01  2.56347656e-03  1.08398438e-01 -1.80664062e-02\n",
            "  5.98144531e-03 -8.20312500e-02 -5.41992188e-02  4.73632812e-02\n",
            " -3.73535156e-02 -1.80664062e-02 -5.17578125e-02  3.05175781e-02\n",
            "  2.92968750e-02  1.51367188e-01 -2.56347656e-02  3.71093750e-02\n",
            " -1.41601562e-01 -1.79687500e-01  1.27929688e-01  4.71191406e-02\n",
            "  5.49316406e-02 -1.14257812e-01 -7.66601562e-02  1.75781250e-01\n",
            "  8.10546875e-02  1.04492188e-01 -2.01416016e-02 -1.02050781e-01\n",
            " -6.25000000e-02 -3.19824219e-02  9.71679688e-02 -4.49218750e-02\n",
            "  1.91406250e-01  2.42919922e-02 -1.83105469e-02 -8.78906250e-02\n",
            "  8.54492188e-02 -8.83789062e-02  1.88476562e-01  2.13623047e-03\n",
            "  7.08007812e-02 -8.25195312e-02  1.25000000e-01  1.29882812e-01\n",
            " -1.19628906e-01 -4.06250000e-01 -2.30468750e-01  1.71875000e-01\n",
            " -1.52343750e-01  2.03125000e-01  1.50390625e-01  1.37695312e-01\n",
            "  3.68652344e-02 -7.12890625e-02  5.41992188e-02  1.21459961e-02\n",
            " -6.39648438e-02  2.44140625e-01 -1.25976562e-01 -1.07910156e-01\n",
            "  2.97546387e-03 -2.88085938e-02  1.01562500e-01  3.51562500e-01\n",
            " -9.91210938e-02 -2.55859375e-01  5.10253906e-02  5.66406250e-02\n",
            "  1.01074219e-01 -6.88476562e-02 -1.96533203e-02 -5.93261719e-02\n",
            "  3.55468750e-01  2.81250000e-01 -7.76367188e-02  1.42578125e-01\n",
            "  8.93554688e-02 -1.71875000e-01 -1.77001953e-02 -1.74804688e-01\n",
            " -4.24804688e-02 -3.00292969e-02 -7.47070312e-02  5.37109375e-02\n",
            "  2.15820312e-01  1.57226562e-01 -5.21850586e-03  2.23388672e-02\n",
            " -4.95605469e-02 -2.89062500e-01 -3.88183594e-02 -9.42382812e-02\n",
            " -3.07617188e-02 -6.56127930e-03 -8.54492188e-03  1.67968750e-01\n",
            "  6.00585938e-02 -9.66796875e-02 -1.45507812e-01  1.23535156e-01\n",
            " -2.43164062e-01  1.53198242e-02 -1.66015625e-01 -1.26953125e-01\n",
            "  1.49414062e-01  2.50000000e-01 -2.83203125e-01 -8.25195312e-02\n",
            " -2.79296875e-01  2.32421875e-01  1.14257812e-01  1.98242188e-01\n",
            "  4.54101562e-02  1.31835938e-01  1.58203125e-01  3.71093750e-02\n",
            "  2.28271484e-02 -5.61523438e-03 -7.35473633e-03  1.60980225e-03\n",
            " -2.11914062e-01 -1.76757812e-01 -2.17285156e-02 -1.08886719e-01\n",
            "  1.29882812e-01  7.76367188e-02  1.78222656e-02  7.17773438e-02\n",
            " -1.86523438e-01 -1.54296875e-01 -2.15820312e-01 -1.49414062e-01\n",
            " -8.05664062e-02 -1.56250000e-01  1.60156250e-01  3.83300781e-02\n",
            "  1.48315430e-02 -2.21679688e-01  1.67846680e-03 -5.54199219e-02\n",
            "  1.06445312e-01 -3.73535156e-02  1.06811523e-02 -6.34765625e-02\n",
            "  4.39453125e-02 -1.14746094e-01 -6.10351562e-02  1.76757812e-01\n",
            "  1.53320312e-01 -1.04492188e-01  6.68945312e-02  8.93554688e-02\n",
            " -1.34765625e-01  2.16064453e-02 -1.17675781e-01 -6.17675781e-02\n",
            "  1.04980469e-01 -4.41894531e-02  6.68945312e-02 -2.90527344e-02\n",
            " -9.66796875e-02 -2.10937500e-01 -7.47070312e-02 -1.69921875e-01\n",
            "  5.76171875e-02 -3.26538086e-03 -1.54296875e-01 -9.61914062e-02\n",
            " -2.23632812e-01  8.15429688e-02  3.97949219e-02 -2.94189453e-02\n",
            " -2.83203125e-02 -7.47070312e-02 -8.49609375e-02  6.37817383e-03\n",
            " -7.61718750e-02 -3.90625000e-02  8.93554688e-02  2.23159790e-04\n",
            " -2.49023438e-02 -1.35742188e-01 -2.08007812e-01 -1.25976562e-01\n",
            "  1.81640625e-01  1.54296875e-01 -2.35595703e-02  2.77343750e-01\n",
            " -5.07812500e-02  4.61425781e-02  1.26953125e-02  2.45361328e-02\n",
            "  6.54296875e-02 -7.47070312e-02 -2.98828125e-01 -2.13867188e-01\n",
            "  1.36718750e-01  2.15820312e-01  1.26953125e-02 -9.86328125e-02\n",
            " -1.73828125e-01 -3.27148438e-02 -3.68652344e-02  9.52148438e-02\n",
            "  2.71484375e-01 -1.44531250e-01 -1.93359375e-01  1.30859375e-01\n",
            "  2.67333984e-02  9.03320312e-02 -3.14453125e-01  1.44531250e-01\n",
            " -5.76782227e-03  2.47802734e-02 -4.58984375e-02  3.11279297e-02\n",
            " -1.72851562e-01 -1.78710938e-01 -1.47460938e-01 -2.27539062e-01\n",
            "  1.13487244e-04 -3.11279297e-02  2.92968750e-01  7.27539062e-02\n",
            " -6.29425049e-04 -8.83789062e-02  2.96630859e-02 -2.61718750e-01\n",
            "  3.11279297e-02  5.83496094e-02  2.17773438e-01  1.81884766e-02\n",
            " -1.58691406e-02  2.70996094e-02  1.18164062e-01  4.34570312e-02\n",
            "  4.27246094e-03  1.29882812e-01  2.79296875e-01 -2.69531250e-01\n",
            "  7.08007812e-02 -1.25122070e-02 -9.81445312e-02  2.16064453e-02\n",
            " -3.54003906e-02 -2.67028809e-03 -8.25195312e-02  1.00097656e-01\n",
            "  1.37695312e-01  4.19921875e-02  2.05078125e-01 -2.56347656e-02\n",
            "  1.13281250e-01 -3.49121094e-02  1.83105469e-02  1.10839844e-01\n",
            " -9.08203125e-02  6.22558594e-02 -1.05957031e-01  3.06640625e-01\n",
            "  1.43554688e-01  2.65625000e-01 -9.66796875e-02  1.46484375e-01\n",
            " -1.07421875e-01 -1.21093750e-01  4.80468750e-01  2.39257812e-01\n",
            "  8.00781250e-02  3.37890625e-01 -1.21459961e-02  7.17773438e-02\n",
            " -8.69140625e-02 -3.22265625e-02 -1.83593750e-01  2.17773438e-01\n",
            " -2.75878906e-02 -1.70898438e-01  2.47955322e-04 -1.00708008e-02\n",
            "  4.00390625e-02 -6.49414062e-02  9.21630859e-03  1.90429688e-01\n",
            "  1.80664062e-01  1.82617188e-01 -3.10546875e-01 -1.25976562e-01\n",
            " -6.73828125e-02  1.20605469e-01  6.03027344e-02  2.26562500e-01\n",
            " -8.25195312e-02 -2.40234375e-01 -7.66601562e-02  1.69677734e-02]\n"
          ]
        }
      ]
    },
    {
      "cell_type": "code",
      "metadata": {
        "id": "MJ7eaFlvBcsG",
        "colab": {
          "base_uri": "https://localhost:8080/"
        },
        "outputId": "5160993d-13b2-4a9c-ba55-08a787d70c07"
      },
      "source": [
        "# Y = pd.get_dummies(df['class_name'])\n",
        "Y = pd.get_dummies(df['class_name']).values\n",
        "print('Shape of label tensor:', Y.shape)\n",
        "y, y_uniques=pd.factorize(df['class_name'], sort=True)\n",
        "print(y)\n",
        "print(Y)"
      ],
      "execution_count": 26,
      "outputs": [
        {
          "output_type": "stream",
          "name": "stdout",
          "text": [
            "Shape of label tensor: (945, 8)\n",
            "[3 3 3 3 3 3 3 3 3 3 3 3 3 3 3 3 3 3 3 3 3 3 3 3 3 3 3 3 3 3 3 3 3 3 3 3 3\n",
            " 3 3 3 3 3 3 3 3 3 3 3 3 3 3 3 3 3 3 3 3 3 3 3 3 3 3 3 3 3 3 3 3 3 3 3 3 3\n",
            " 3 3 3 3 3 3 3 3 3 3 3 3 3 3 3 3 3 3 3 3 3 3 3 3 3 3 3 3 3 3 3 3 3 3 3 3 3\n",
            " 3 3 7 7 7 7 7 7 7 7 7 7 7 7 7 7 7 7 7 7 7 7 7 7 7 7 7 7 7 7 7 7 7 7 7 7 7\n",
            " 7 7 7 7 7 7 7 7 7 7 7 7 7 7 7 7 7 7 7 7 7 7 7 7 7 7 7 7 7 7 7 7 7 7 7 7 7\n",
            " 7 7 7 7 7 7 7 7 7 7 7 7 7 7 7 7 7 7 7 7 7 7 7 7 7 7 7 7 7 7 7 7 7 7 7 7 7\n",
            " 7 7 7 7 7 7 7 7 7 7 7 7 7 7 7 7 7 7 7 7 7 7 7 7 7 7 7 7 7 7 7 7 7 7 7 7 7\n",
            " 7 7 7 7 7 7 7 7 7 7 7 6 6 6 6 6 6 6 6 6 6 6 6 6 6 6 6 6 6 6 6 6 6 6 6 6 6\n",
            " 6 6 6 6 6 6 6 6 6 6 6 6 6 6 6 6 6 6 6 6 6 6 6 6 6 6 6 6 6 6 6 6 6 6 6 6 6\n",
            " 6 6 6 6 6 6 6 6 6 6 6 6 6 6 6 6 6 6 6 6 6 6 6 6 6 6 6 6 6 6 6 6 6 6 6 6 6\n",
            " 6 6 6 6 6 6 6 6 6 6 6 6 6 6 6 6 6 6 6 6 6 6 6 6 6 6 6 6 6 6 6 6 6 6 6 6 6\n",
            " 6 6 6 6 6 6 6 6 6 6 6 6 6 6 6 6 6 6 6 6 6 6 6 6 6 6 6 6 6 6 6 6 6 6 6 6 6\n",
            " 6 6 6 6 6 6 6 6 6 6 6 6 6 6 6 6 6 6 6 6 6 6 6 6 6 6 6 6 6 6 6 6 6 6 6 6 6\n",
            " 6 6 6 6 6 6 6 6 6 6 6 6 6 6 6 6 6 6 6 6 6 6 6 6 6 6 6 6 6 6 6 6 6 6 6 6 6\n",
            " 6 6 6 6 6 6 6 6 6 6 6 6 6 6 6 6 6 6 6 6 6 6 6 6 6 6 6 6 6 6 6 6 6 6 6 6 6\n",
            " 6 6 6 6 6 6 6 6 6 6 6 6 6 6 6 6 6 6 6 6 6 6 6 6 6 6 6 6 6 6 6 6 6 6 6 6 6\n",
            " 6 6 6 6 6 6 6 6 6 6 6 6 6 6 6 6 6 6 6 6 6 6 6 6 6 6 6 6 6 6 6 6 2 2 2 2 2\n",
            " 2 2 2 2 2 2 2 2 2 2 2 2 2 2 2 2 2 2 2 2 2 2 2 2 2 2 2 2 2 2 2 2 2 2 2 2 2\n",
            " 2 2 2 2 2 2 2 2 2 2 2 2 2 2 2 2 2 2 2 2 2 2 2 2 2 2 2 2 2 2 2 2 2 2 2 2 2\n",
            " 2 2 2 2 2 2 2 2 2 2 2 2 2 2 2 2 2 2 2 2 2 2 2 2 2 2 2 2 2 2 2 2 2 2 2 2 2\n",
            " 2 2 2 2 2 2 2 2 2 2 2 2 2 2 2 2 2 2 2 2 2 2 2 2 2 2 2 2 2 2 2 2 2 2 2 2 2\n",
            " 1 1 1 1 1 1 1 1 1 1 1 1 1 1 1 1 1 1 1 1 1 1 1 1 1 1 1 1 1 1 1 1 1 1 1 1 1\n",
            " 1 1 1 1 1 1 1 1 1 1 1 1 1 1 1 1 1 1 1 1 1 1 1 1 1 1 1 1 1 1 1 1 1 1 1 1 1\n",
            " 1 1 1 1 1 1 1 1 1 1 1 1 1 1 1 1 1 1 1 1 1 1 1 1 1 1 1 1 1 1 1 1 1 1 1 1 1\n",
            " 1 1 1 1 1 1 1 1 1 1 1 1 1 1 1 1 1 1 1 1 1 1 1 1 1 1 5 5 5 5 5 5 5 5 5 5 0\n",
            " 0 0 0 0 0 0 0 0 0 0 0 0 0 0 0 0 4 4 4 4]\n",
            "[[False False False ... False False False]\n",
            " [False False False ... False False False]\n",
            " [False False False ... False False False]\n",
            " ...\n",
            " [False False False ... False False False]\n",
            " [False False False ... False False False]\n",
            " [False False False ... False False False]]\n"
          ]
        }
      ]
    },
    {
      "cell_type": "code",
      "metadata": {
        "id": "YWIAl1hCBcsJ",
        "colab": {
          "base_uri": "https://localhost:8080/"
        },
        "outputId": "e55100da-2a40-43b0-dbe0-37e320a2bfb4"
      },
      "source": [
        "X_train, X_test, Y_train, Y_test = train_test_split(X,Y, test_size = 0.10, random_state = 34, stratify=Y)\n",
        "X_train_n, X_test_n, Y_train_n, Y_test_n = train_test_split(X,y, test_size = 0.10, random_state = 34, stratify=Y)\n",
        "print(X_train.shape,Y_train.shape)\n",
        "print(X_test.shape,Y_test.shape)\n",
        "print(X_train_n.shape,Y_train_n.shape)\n",
        "print(X_test_n.shape,Y_test_n.shape)\n",
        "print(Y_train, Y_test)\n",
        "print(Y_train_n, Y_test_n)\n",
        "# print(y_tr_unique)\n",
        "original_text_t=[]\n",
        "original_text =  list(map(sequence_to_text, X_test))\n",
        "for i in range(0,len(original_text)):\n",
        "    temp = []\n",
        "    for j in range(0,len(original_text[i])):\n",
        "        if(original_text[i][j]!=None):\n",
        "            temp.append(original_text[i][j])\n",
        "    original_text_t.append(temp)\n",
        "# print(my_texts_t)\n",
        "# print(len(my_texts_t))"
      ],
      "execution_count": 27,
      "outputs": [
        {
          "output_type": "stream",
          "name": "stdout",
          "text": [
            "(850, 250) (850, 8)\n",
            "(95, 250) (95, 8)\n",
            "(850, 250) (850,)\n",
            "(95, 250) (95,)\n",
            "[[False False False ... False  True False]\n",
            " [False False False ... False False  True]\n",
            " [False False  True ... False False False]\n",
            " ...\n",
            " [False False False ... False  True False]\n",
            " [False False False ... False False  True]\n",
            " [False  True False ... False False False]] [[False  True False False False False False False]\n",
            " [False False False False False False  True False]\n",
            " [False False  True False False False False False]\n",
            " [False False False False False False False  True]\n",
            " [False False False False False False False  True]\n",
            " [False False False False False  True False False]\n",
            " [False False False False False False False  True]\n",
            " [False False  True False False False False False]\n",
            " [False  True False False False False False False]\n",
            " [False False False False False False  True False]\n",
            " [False False False False False False  True False]\n",
            " [False False  True False False False False False]\n",
            " [False False False  True False False False False]\n",
            " [False  True False False False False False False]\n",
            " [False False False False False False  True False]\n",
            " [False False False False False False  True False]\n",
            " [False False False False False False  True False]\n",
            " [False False False False False False  True False]\n",
            " [False  True False False False False False False]\n",
            " [False False  True False False False False False]\n",
            " [False False False False False False  True False]\n",
            " [False False  True False False False False False]\n",
            " [False False False  True False False False False]\n",
            " [False False False False False False  True False]\n",
            " [False False False False False False  True False]\n",
            " [False False False False False False  True False]\n",
            " [False False False False False False False  True]\n",
            " [False False False False False False False  True]\n",
            " [False False False False False False  True False]\n",
            " [False False  True False False False False False]\n",
            " [False False False False False False  True False]\n",
            " [False False False False False False False  True]\n",
            " [False False  True False False False False False]\n",
            " [False  True False False False False False False]\n",
            " [False False False False False False  True False]\n",
            " [False  True False False False False False False]\n",
            " [False False False False False False False  True]\n",
            " [False False False  True False False False False]\n",
            " [False False False False False False  True False]\n",
            " [False False  True False False False False False]\n",
            " [False False False False False False  True False]\n",
            " [False False False False False False  True False]\n",
            " [False  True False False False False False False]\n",
            " [False False False False False False False  True]\n",
            " [False False False  True False False False False]\n",
            " [False False False False False False  True False]\n",
            " [False  True False False False False False False]\n",
            " [False False  True False False False False False]\n",
            " [False False False False False False  True False]\n",
            " [False False False False False False  True False]\n",
            " [False False False False False False  True False]\n",
            " [False False False False False False  True False]\n",
            " [False  True False False False False False False]\n",
            " [False False False False False False  True False]\n",
            " [False False False  True False False False False]\n",
            " [False False False False False False False  True]\n",
            " [False False False False False False  True False]\n",
            " [False  True False False False False False False]\n",
            " [False False False False False False  True False]\n",
            " [False False  True False False False False False]\n",
            " [False False False False False False  True False]\n",
            " [False False False  True False False False False]\n",
            " [False False False False False False False  True]\n",
            " [ True False False False False False False False]\n",
            " [False False False False False False  True False]\n",
            " [False False False False False False False  True]\n",
            " [False False False False False False  True False]\n",
            " [False False False  True False False False False]\n",
            " [False False False  True False False False False]\n",
            " [False False False False False False False  True]\n",
            " [False  True False False False False False False]\n",
            " [False  True False False False False False False]\n",
            " [False False  True False False False False False]\n",
            " [False False False False False False  True False]\n",
            " [False False False False False False  True False]\n",
            " [ True False False False False False False False]\n",
            " [False False False False False False  True False]\n",
            " [False False  True False False False False False]\n",
            " [False False False False False False  True False]\n",
            " [False False  True False False False False False]\n",
            " [False False False False False False  True False]\n",
            " [False False False  True False False False False]\n",
            " [False  True False False False False False False]\n",
            " [False False  True False False False False False]\n",
            " [False False False False False False False  True]\n",
            " [False False False False False False  True False]\n",
            " [False False False False False False  True False]\n",
            " [False False  True False False False False False]\n",
            " [False False False  True False False False False]\n",
            " [False False False False False False  True False]\n",
            " [False False False False False False False  True]\n",
            " [False False False  True False False False False]\n",
            " [False False False False False False False  True]\n",
            " [False  True False False False False False False]\n",
            " [False False False False False False False  True]]\n",
            "[6 7 2 1 3 7 1 1 6 2 1 2 6 3 2 1 2 2 2 6 6 1 2 0 7 2 2 6 1 1 6 6 3 1 7 1 1\n",
            " 6 1 1 0 6 2 3 6 6 2 6 6 6 2 0 6 6 7 2 6 6 1 6 2 5 2 6 6 7 6 7 2 3 7 6 6 7\n",
            " 6 1 3 3 3 3 6 0 1 6 3 3 3 2 2 1 1 6 3 1 1 7 6 6 7 6 2 2 6 6 2 2 2 1 6 2 1\n",
            " 2 7 6 2 3 6 6 6 6 6 6 2 7 6 3 6 2 6 1 6 1 7 1 7 6 7 1 6 6 3 6 7 7 6 3 3 1\n",
            " 6 7 7 1 6 6 2 6 6 7 6 2 2 6 7 6 6 6 3 6 3 6 6 6 6 3 1 6 1 6 3 3 7 1 2 7 3\n",
            " 1 6 2 1 1 3 6 3 6 7 1 6 7 2 6 7 1 1 6 3 6 1 7 6 3 6 1 1 2 7 3 3 7 1 2 6 7\n",
            " 7 6 3 3 7 7 3 2 6 6 6 3 6 1 1 7 6 7 7 2 3 6 3 2 7 0 2 6 6 2 6 6 6 6 2 6 1\n",
            " 6 6 7 1 1 3 7 6 7 2 3 7 2 3 6 6 2 7 1 7 6 6 3 6 2 6 2 6 6 7 6 6 6 6 6 7 2\n",
            " 6 6 2 6 2 6 3 3 7 2 1 3 1 6 7 6 7 2 7 6 6 0 7 6 3 1 3 1 3 7 6 1 7 1 2 6 6\n",
            " 6 2 6 7 6 7 6 2 6 7 6 6 1 7 1 1 7 0 5 3 6 6 6 1 7 2 3 1 6 1 1 6 6 1 2 6 6\n",
            " 1 7 2 7 6 2 6 6 2 6 3 7 6 6 3 2 6 5 1 6 2 1 6 3 1 2 6 3 6 6 6 3 6 1 6 3 3\n",
            " 7 1 6 2 7 6 1 1 7 6 6 2 2 3 6 6 6 2 6 6 7 3 6 6 6 7 7 7 2 7 6 7 6 1 6 7 6\n",
            " 7 6 2 6 6 6 6 6 6 2 1 6 6 1 7 6 3 7 6 6 2 2 6 6 7 7 2 6 6 1 3 6 1 6 6 1 0\n",
            " 1 7 6 1 3 6 1 2 6 1 1 7 6 7 2 6 6 2 2 2 2 3 1 3 6 6 6 3 6 6 3 6 7 7 3 1 2\n",
            " 2 3 6 2 6 2 6 2 6 7 2 7 7 2 7 1 1 3 6 6 6 2 6 1 2 3 6 2 2 6 6 6 4 1 7 6 7\n",
            " 7 7 1 1 3 6 3 4 7 4 5 1 6 6 6 0 6 3 6 6 1 6 2 6 3 7 6 7 7 6 0 6 6 1 2 7 6\n",
            " 7 6 1 7 6 0 6 2 7 1 7 2 3 1 2 6 2 2 7 6 6 2 7 1 6 7 1 6 7 7 6 6 2 7 3 6 3\n",
            " 1 2 6 6 6 7 2 7 7 3 6 6 6 7 6 3 2 3 7 6 6 6 6 6 3 2 7 1 2 3 6 7 2 2 6 1 7\n",
            " 6 6 6 7 6 7 7 7 7 1 6 1 1 0 6 1 5 2 2 6 6 7 6 2 2 6 0 2 6 3 6 3 6 6 2 6 3\n",
            " 6 7 1 6 6 2 6 3 7 7 1 2 6 2 2 6 1 5 3 1 7 2 7 5 3 2 2 3 1 7 1 2 1 6 6 2 6\n",
            " 6 6 6 2 7 6 3 6 6 6 2 7 7 6 2 1 7 6 1 6 6 6 1 6 6 2 7 1 6 6 1 2 3 3 6 6 3\n",
            " 0 6 1 6 6 3 7 6 7 2 6 1 6 6 6 3 1 7 6 6 1 6 6 2 3 6 7 7 6 7 3 6 7 7 6 2 5\n",
            " 2 2 4 2 3 2 7 6 5 6 3 6 2 2 1 3 1 3 6 6 2 3 2 1 6 0 3 6 6 6 3 6 7 6 7 1] [1 6 2 7 7 5 7 2 1 6 6 2 3 1 6 6 6 6 1 2 6 2 3 6 6 6 7 7 6 2 6 7 2 1 6 1 7\n",
            " 3 6 2 6 6 1 7 3 6 1 2 6 6 6 6 1 6 3 7 6 1 6 2 6 3 7 0 6 7 6 3 3 7 1 1 2 6\n",
            " 6 0 6 2 6 2 6 3 1 2 7 6 6 2 3 6 7 3 7 1 7]\n"
          ]
        }
      ]
    },
    {
      "cell_type": "code",
      "metadata": {
        "id": "2wGVk1gsBcsL"
      },
      "source": [
        "def test_class(i):\n",
        "    switcher={\n",
        "            0:'Main',\n",
        "            1:'Oper',\n",
        "            2:'Perf',\n",
        "            3:'Secu',\n",
        "            4:'Usab',\n",
        "            5:'Scab',\n",
        "            6:'FauT',\n",
        "            7:'Port'\n",
        "         }\n",
        "    return switcher.get(i,\"Invalid class\")"
      ],
      "execution_count": 28,
      "outputs": []
    },
    {
      "cell_type": "code",
      "metadata": {
        "id": "5dOpcghqBcsO"
      },
      "source": [
        "def create_model():\n",
        "    #The TensorFlow Keras API makes easy to build models and experiment while Keras handles the complexity of connecting everything together.\n",
        "    #The tf.keras.Sequential model is a linear stack of layers.\n",
        "    #In this case, one LSTM layer with 100 nodes each, and an output layer with 5 nodes representing our label predictions.\n",
        "    model = Sequential()\n",
        "    model.add(Embedding(len(tokenizer.word_index) + 1, EMBEDDING_DIM, weights=[wv_matrix], trainable=False, input_length=X.shape[1]))\n",
        "    model.add(SpatialDropout1D(0.2))\n",
        "    model.add(LSTM(100, dropout=0.2, recurrent_dropout=0.2))\n",
        "    model.add(Dense(5, activation='softmax'))\n",
        "    model.compile(optimizer='adam', loss='categorical_crossentropy', metrics=['acc', tf.keras.metrics.AUC(), tf.keras.metrics.Precision(),tf.keras.metrics.Recall()])\n",
        "    print(model.summary())\n",
        "    return model"
      ],
      "execution_count": 29,
      "outputs": []
    },
    {
      "cell_type": "code",
      "metadata": {
        "id": "Pkhgs7sdBcsQ"
      },
      "source": [
        "def make_con_mat(cf_matrix, class_name):\n",
        "    plt.title(\"Confusion Matrix Heat Map for class: %s\" % class_name)\n",
        "    group_names = ['True Neg','False Pos','False Neg','True Pos']\n",
        "    group_counts = [\"{0:0.0f}\".format(value) for value in\n",
        "                    cf_matrix.flatten()]\n",
        "    group_percentages = [\"{0:.2%}\".format(value) for value in\n",
        "                         cf_matrix.flatten()/np.sum(cf_matrix)]\n",
        "    labels = [f\"{v1}\\n{v2}\\n{v3}\" for v1, v2, v3 in\n",
        "              zip(group_names,group_counts,group_percentages)]\n",
        "    labels = np.asarray(labels).reshape(2,2)\n",
        "    sns.heatmap(cf_matrix, annot=labels, fmt='', cmap='Blues')"
      ],
      "execution_count": 30,
      "outputs": []
    },
    {
      "cell_type": "code",
      "metadata": {
        "id": "o0DmiiLO75eD",
        "colab": {
          "base_uri": "https://localhost:8080/"
        },
        "outputId": "057cf3ff-c3ad-4d4b-d619-ec0b6fd4f360"
      },
      "source": [
        "print(len(wv_matrix))"
      ],
      "execution_count": 31,
      "outputs": [
        {
          "output_type": "stream",
          "name": "stdout",
          "text": [
            "2158\n"
          ]
        }
      ]
    },
    {
      "cell_type": "code",
      "metadata": {
        "id": "8Io07SEpBcsT",
        "colab": {
          "base_uri": "https://localhost:8080/"
        },
        "outputId": "2032ed21-36d9-4d40-fdf3-ced321e97601"
      },
      "source": [
        "import numpy as np\n",
        "import pandas as pd\n",
        "import tensorflow as tf\n",
        "from sklearn.model_selection import StratifiedKFold\n",
        "from sklearn.metrics import multilabel_confusion_matrix\n",
        "from keras.models import Sequential\n",
        "from keras.layers import Dense, Embedding, LSTM, SpatialDropout1D\n",
        "from keras.callbacks import EarlyStopping\n",
        "from keras.preprocessing.sequence import pad_sequences\n",
        "\n",
        "\n",
        "# Fix random seed for reproducibility\n",
        "seed = 123\n",
        "np.random.seed(seed)\n",
        "\n",
        "# Define parameters\n",
        "max_words = 10000\n",
        "embedding_size = 300\n",
        "maxlen = 250\n",
        "\n",
        "# Define the function to create the model\n",
        "def create_model():\n",
        "    model = Sequential()\n",
        "    model.add(Embedding(max_words, embedding_size))\n",
        "    model.add(SpatialDropout1D(0.2))\n",
        "    model.add(LSTM(100, dropout=0.2, recurrent_dropout=0.2))\n",
        "    model.add(Dense(8, activation='softmax'))\n",
        "    model.compile(loss='categorical_crossentropy', optimizer='adam', metrics=['accuracy', 'precision', 'recall'])\n",
        "    return model\n",
        "\n",
        "# Fix random seed for reproducibility\n",
        "seed = 123\n",
        "batch_size = 30\n",
        "\n",
        "# Define 10-fold cross validation test\n",
        "kfold = StratifiedKFold(n_splits=10, shuffle=True, random_state=seed)\n",
        "\n",
        "cvscorespre = []\n",
        "cvscoresrec = []\n",
        "cvscoresauc = []\n",
        "cvscoresf1 = []\n",
        "\n",
        "for train_index, val_index in kfold.split(X_train, Y_train_n):\n",
        "    X_train_k, X_val = X_train[train_index], X_train[val_index]\n",
        "    Y_train_k, Y_val = Y_train[train_index], Y_train[val_index]\n",
        "\n",
        "    model = create_model()\n",
        "    history = model.fit(X_train_k, Y_train_k, epochs=20, batch_size=batch_size, validation_split=0.1, callbacks=[EarlyStopping(monitor='val_loss', patience=3, min_delta=0.0001)])\n",
        "\n",
        "    print(\"Metrics names:\", model.metrics_names)\n",
        "    scores = model.evaluate(X_val, Y_val)\n",
        "    print(\"%s: %.2f%%\" % (model.metrics_names[0], scores[0]*100))\n",
        "    print(\"%s: %.2f%%\" % (model.metrics_names[1], scores[1]*100))\n",
        "\n",
        "    cvscoresauc.append(scores[1] * 100)  # Adjusted index to 1 for accuracy\n",
        "    cvscorespre.append(scores[2] * 100)  # Adjusted index to 2 for precision\n",
        "    cvscoresrec.append(scores[3] * 100)  # Adjusted index to 3 for recall\n",
        "    cvscoresf1.append(2*(scores[2]*scores[3])/(scores[2]+scores[3]+tf.keras.backend.epsilon()) * 100)  # Adjusted indices for precision and recall\n",
        "\n",
        "    Y_pred = model.predict(X_val)\n",
        "    Y_pred_cm = (Y_pred.argmax(1)[:, None] == np.arange(Y_pred.shape[1])).astype(int)\n",
        "    con_mat = multilabel_confusion_matrix(Y_val, Y_pred_cm, labels=[0, 1, 2, 3, 4, 5, 6, 7])\n"
      ],
      "execution_count": 32,
      "outputs": [
        {
          "output_type": "stream",
          "name": "stderr",
          "text": [
            "/usr/local/lib/python3.10/dist-packages/sklearn/model_selection/_split.py:700: UserWarning: The least populated class in y has only 4 members, which is less than n_splits=10.\n",
            "  warnings.warn(\n"
          ]
        },
        {
          "output_type": "stream",
          "name": "stdout",
          "text": [
            "Epoch 1/20\n",
            "\u001b[1m23/23\u001b[0m \u001b[32m━━━━━━━━━━━━━━━━━━━━\u001b[0m\u001b[37m\u001b[0m \u001b[1m35s\u001b[0m 993ms/step - accuracy: 0.3158 - loss: 1.9086 - precision: 0.2464 - recall: 0.0066 - val_accuracy: 0.3766 - val_loss: 1.6683 - val_precision: 0.0000e+00 - val_recall: 0.0000e+00\n",
            "Epoch 2/20\n",
            "\u001b[1m23/23\u001b[0m \u001b[32m━━━━━━━━━━━━━━━━━━━━\u001b[0m\u001b[37m\u001b[0m \u001b[1m30s\u001b[0m 530ms/step - accuracy: 0.4147 - loss: 1.5510 - precision: 0.5605 - recall: 0.0357 - val_accuracy: 0.4805 - val_loss: 1.5146 - val_precision: 1.0000 - val_recall: 0.0260\n",
            "Epoch 3/20\n",
            "\u001b[1m23/23\u001b[0m \u001b[32m━━━━━━━━━━━━━━━━━━━━\u001b[0m\u001b[37m\u001b[0m \u001b[1m20s\u001b[0m 530ms/step - accuracy: 0.5835 - loss: 1.2622 - precision: 0.9507 - recall: 0.1733 - val_accuracy: 0.6104 - val_loss: 1.1480 - val_precision: 0.9706 - val_recall: 0.4286\n",
            "Epoch 4/20\n",
            "\u001b[1m23/23\u001b[0m \u001b[32m━━━━━━━━━━━━━━━━━━━━\u001b[0m\u001b[37m\u001b[0m \u001b[1m21s\u001b[0m 537ms/step - accuracy: 0.7686 - loss: 0.8612 - precision: 0.9460 - recall: 0.4911 - val_accuracy: 0.7143 - val_loss: 0.9166 - val_precision: 0.9167 - val_recall: 0.5714\n",
            "Epoch 5/20\n",
            "\u001b[1m23/23\u001b[0m \u001b[32m━━━━━━━━━━━━━━━━━━━━\u001b[0m\u001b[37m\u001b[0m \u001b[1m20s\u001b[0m 517ms/step - accuracy: 0.8888 - loss: 0.4831 - precision: 0.9748 - recall: 0.8024 - val_accuracy: 0.7273 - val_loss: 0.8379 - val_precision: 0.8730 - val_recall: 0.7143\n",
            "Epoch 6/20\n",
            "\u001b[1m23/23\u001b[0m \u001b[32m━━━━━━━━━━━━━━━━━━━━\u001b[0m\u001b[37m\u001b[0m \u001b[1m22s\u001b[0m 591ms/step - accuracy: 0.9430 - loss: 0.2644 - precision: 0.9745 - recall: 0.9243 - val_accuracy: 0.7532 - val_loss: 0.9077 - val_precision: 0.8182 - val_recall: 0.7013\n",
            "Epoch 7/20\n",
            "\u001b[1m23/23\u001b[0m \u001b[32m━━━━━━━━━━━━━━━━━━━━\u001b[0m\u001b[37m\u001b[0m \u001b[1m12s\u001b[0m 529ms/step - accuracy: 0.9546 - loss: 0.1710 - precision: 0.9741 - recall: 0.9463 - val_accuracy: 0.7532 - val_loss: 0.9697 - val_precision: 0.7857 - val_recall: 0.7143\n",
            "Epoch 8/20\n",
            "\u001b[1m23/23\u001b[0m \u001b[32m━━━━━━━━━━━━━━━━━━━━\u001b[0m\u001b[37m\u001b[0m \u001b[1m19s\u001b[0m 457ms/step - accuracy: 0.9705 - loss: 0.1277 - precision: 0.9897 - recall: 0.9509 - val_accuracy: 0.7403 - val_loss: 0.9997 - val_precision: 0.7857 - val_recall: 0.7143\n",
            "Metrics names: ['loss', 'compile_metrics']\n",
            "\u001b[1m3/3\u001b[0m \u001b[32m━━━━━━━━━━━━━━━━━━━━\u001b[0m\u001b[37m\u001b[0m \u001b[1m0s\u001b[0m 109ms/step - accuracy: 0.7867 - loss: 0.9636 - precision: 0.8036 - recall: 0.7769\n",
            "loss: 96.89%\n",
            "compile_metrics: 77.65%\n",
            "\u001b[1m3/3\u001b[0m \u001b[32m━━━━━━━━━━━━━━━━━━━━\u001b[0m\u001b[37m\u001b[0m \u001b[1m1s\u001b[0m 213ms/step\n",
            "Epoch 1/20\n",
            "\u001b[1m23/23\u001b[0m \u001b[32m━━━━━━━━━━━━━━━━━━━━\u001b[0m\u001b[37m\u001b[0m \u001b[1m17s\u001b[0m 521ms/step - accuracy: 0.3341 - loss: 1.8921 - precision: 0.0000e+00 - recall: 0.0000e+00 - val_accuracy: 0.3766 - val_loss: 1.6722 - val_precision: 0.0000e+00 - val_recall: 0.0000e+00\n",
            "Epoch 2/20\n",
            "\u001b[1m23/23\u001b[0m \u001b[32m━━━━━━━━━━━━━━━━━━━━\u001b[0m\u001b[37m\u001b[0m \u001b[1m21s\u001b[0m 538ms/step - accuracy: 0.4037 - loss: 1.5430 - precision: 0.8392 - recall: 0.0519 - val_accuracy: 0.4675 - val_loss: 1.5428 - val_precision: 1.0000 - val_recall: 0.1039\n",
            "Epoch 3/20\n",
            "\u001b[1m23/23\u001b[0m \u001b[32m━━━━━━━━━━━━━━━━━━━━\u001b[0m\u001b[37m\u001b[0m \u001b[1m20s\u001b[0m 525ms/step - accuracy: 0.5753 - loss: 1.2595 - precision: 0.9417 - recall: 0.2579 - val_accuracy: 0.7273 - val_loss: 1.2208 - val_precision: 0.9545 - val_recall: 0.2727\n",
            "Epoch 4/20\n",
            "\u001b[1m23/23\u001b[0m \u001b[32m━━━━━━━━━━━━━━━━━━━━\u001b[0m\u001b[37m\u001b[0m \u001b[1m11s\u001b[0m 469ms/step - accuracy: 0.7917 - loss: 0.8689 - precision: 0.9289 - recall: 0.4540 - val_accuracy: 0.6883 - val_loss: 1.0454 - val_precision: 0.8182 - val_recall: 0.5844\n",
            "Epoch 5/20\n",
            "\u001b[1m23/23\u001b[0m \u001b[32m━━━━━━━━━━━━━━━━━━━━\u001b[0m\u001b[37m\u001b[0m \u001b[1m22s\u001b[0m 529ms/step - accuracy: 0.8782 - loss: 0.5250 - precision: 0.9707 - recall: 0.7744 - val_accuracy: 0.7143 - val_loss: 1.0176 - val_precision: 0.7647 - val_recall: 0.6753\n",
            "Epoch 6/20\n",
            "\u001b[1m23/23\u001b[0m \u001b[32m━━━━━━━━━━━━━━━━━━━━\u001b[0m\u001b[37m\u001b[0m \u001b[1m21s\u001b[0m 532ms/step - accuracy: 0.9311 - loss: 0.2839 - precision: 0.9607 - recall: 0.8994 - val_accuracy: 0.7143 - val_loss: 1.0279 - val_precision: 0.7846 - val_recall: 0.6623\n",
            "Epoch 7/20\n",
            "\u001b[1m23/23\u001b[0m \u001b[32m━━━━━━━━━━━━━━━━━━━━\u001b[0m\u001b[37m\u001b[0m \u001b[1m22s\u001b[0m 610ms/step - accuracy: 0.9492 - loss: 0.1843 - precision: 0.9646 - recall: 0.9352 - val_accuracy: 0.7013 - val_loss: 0.9755 - val_precision: 0.8125 - val_recall: 0.6753\n",
            "Epoch 8/20\n",
            "\u001b[1m23/23\u001b[0m \u001b[32m━━━━━━━━━━━━━━━━━━━━\u001b[0m\u001b[37m\u001b[0m \u001b[1m19s\u001b[0m 535ms/step - accuracy: 0.9673 - loss: 0.1468 - precision: 0.9855 - recall: 0.9521 - val_accuracy: 0.7403 - val_loss: 0.9250 - val_precision: 0.8462 - val_recall: 0.7143\n",
            "Epoch 9/20\n",
            "\u001b[1m23/23\u001b[0m \u001b[32m━━━━━━━━━━━━━━━━━━━━\u001b[0m\u001b[37m\u001b[0m \u001b[1m21s\u001b[0m 547ms/step - accuracy: 0.9676 - loss: 0.1150 - precision: 0.9902 - recall: 0.9536 - val_accuracy: 0.7403 - val_loss: 1.0502 - val_precision: 0.7746 - val_recall: 0.7143\n",
            "Epoch 10/20\n",
            "\u001b[1m23/23\u001b[0m \u001b[32m━━━━━━━━━━━━━━━━━━━━\u001b[0m\u001b[37m\u001b[0m \u001b[1m20s\u001b[0m 532ms/step - accuracy: 0.9689 - loss: 0.1013 - precision: 0.9736 - recall: 0.9634 - val_accuracy: 0.7143 - val_loss: 1.0886 - val_precision: 0.7727 - val_recall: 0.6623\n",
            "Epoch 11/20\n",
            "\u001b[1m23/23\u001b[0m \u001b[32m━━━━━━━━━━━━━━━━━━━━\u001b[0m\u001b[37m\u001b[0m \u001b[1m21s\u001b[0m 537ms/step - accuracy: 0.9716 - loss: 0.0847 - precision: 0.9827 - recall: 0.9653 - val_accuracy: 0.7273 - val_loss: 1.0907 - val_precision: 0.7941 - val_recall: 0.7013\n",
            "Metrics names: ['loss', 'compile_metrics']\n",
            "\u001b[1m3/3\u001b[0m \u001b[32m━━━━━━━━━━━━━━━━━━━━\u001b[0m\u001b[37m\u001b[0m \u001b[1m0s\u001b[0m 102ms/step - accuracy: 0.7710 - loss: 0.7136 - precision: 0.8532 - recall: 0.7710\n",
            "loss: 75.82%\n",
            "compile_metrics: 77.65%\n",
            "\u001b[1m3/3\u001b[0m \u001b[32m━━━━━━━━━━━━━━━━━━━━\u001b[0m\u001b[37m\u001b[0m \u001b[1m1s\u001b[0m 208ms/step\n",
            "Epoch 1/20\n",
            "\u001b[1m23/23\u001b[0m \u001b[32m━━━━━━━━━━━━━━━━━━━━\u001b[0m\u001b[37m\u001b[0m \u001b[1m16s\u001b[0m 558ms/step - accuracy: 0.3306 - loss: 1.9273 - precision: 0.2326 - recall: 0.0130 - val_accuracy: 0.3506 - val_loss: 1.6861 - val_precision: 0.0000e+00 - val_recall: 0.0000e+00\n",
            "Epoch 2/20\n",
            "\u001b[1m23/23\u001b[0m \u001b[32m━━━━━━━━━━━━━━━━━━━━\u001b[0m\u001b[37m\u001b[0m \u001b[1m20s\u001b[0m 534ms/step - accuracy: 0.4006 - loss: 1.5357 - precision: 0.6662 - recall: 0.0190 - val_accuracy: 0.4026 - val_loss: 1.5505 - val_precision: 1.0000 - val_recall: 0.0519\n",
            "Epoch 3/20\n",
            "\u001b[1m23/23\u001b[0m \u001b[32m━━━━━━━━━━━━━━━━━━━━\u001b[0m\u001b[37m\u001b[0m \u001b[1m20s\u001b[0m 509ms/step - accuracy: 0.5192 - loss: 1.2945 - precision: 0.9279 - recall: 0.1806 - val_accuracy: 0.5455 - val_loss: 1.2381 - val_precision: 0.9655 - val_recall: 0.3636\n",
            "Epoch 4/20\n",
            "\u001b[1m23/23\u001b[0m \u001b[32m━━━━━━━━━━━━━━━━━━━━\u001b[0m\u001b[37m\u001b[0m \u001b[1m21s\u001b[0m 531ms/step - accuracy: 0.7800 - loss: 0.7816 - precision: 0.9664 - recall: 0.5415 - val_accuracy: 0.6883 - val_loss: 0.9967 - val_precision: 0.7857 - val_recall: 0.5714\n",
            "Epoch 5/20\n",
            "\u001b[1m23/23\u001b[0m \u001b[32m━━━━━━━━━━━━━━━━━━━━\u001b[0m\u001b[37m\u001b[0m \u001b[1m19s\u001b[0m 462ms/step - accuracy: 0.9173 - loss: 0.4256 - precision: 0.9643 - recall: 0.8180 - val_accuracy: 0.7403 - val_loss: 0.9293 - val_precision: 0.7846 - val_recall: 0.6623\n",
            "Epoch 6/20\n",
            "\u001b[1m23/23\u001b[0m \u001b[32m━━━━━━━━━━━━━━━━━━━━\u001b[0m\u001b[37m\u001b[0m \u001b[1m12s\u001b[0m 525ms/step - accuracy: 0.9557 - loss: 0.2294 - precision: 0.9802 - recall: 0.9146 - val_accuracy: 0.7143 - val_loss: 0.9733 - val_precision: 0.7500 - val_recall: 0.6623\n",
            "Epoch 7/20\n",
            "\u001b[1m23/23\u001b[0m \u001b[32m━━━━━━━━━━━━━━━━━━━━\u001b[0m\u001b[37m\u001b[0m \u001b[1m21s\u001b[0m 529ms/step - accuracy: 0.9680 - loss: 0.1591 - precision: 0.9805 - recall: 0.9376 - val_accuracy: 0.7013 - val_loss: 0.9726 - val_precision: 0.7794 - val_recall: 0.6883\n",
            "Epoch 8/20\n",
            "\u001b[1m23/23\u001b[0m \u001b[32m━━━━━━━━━━━━━━━━━━━━\u001b[0m\u001b[37m\u001b[0m \u001b[1m20s\u001b[0m 489ms/step - accuracy: 0.9715 - loss: 0.1185 - precision: 0.9833 - recall: 0.9592 - val_accuracy: 0.7403 - val_loss: 1.0241 - val_precision: 0.7761 - val_recall: 0.6753\n",
            "Metrics names: ['loss', 'compile_metrics']\n",
            "\u001b[1m3/3\u001b[0m \u001b[32m━━━━━━━━━━━━━━━━━━━━\u001b[0m\u001b[37m\u001b[0m \u001b[1m0s\u001b[0m 106ms/step - accuracy: 0.7612 - loss: 0.7397 - precision: 0.8152 - recall: 0.7416\n",
            "loss: 80.74%\n",
            "compile_metrics: 74.12%\n"
          ]
        },
        {
          "output_type": "stream",
          "name": "stderr",
          "text": [
            "WARNING:tensorflow:5 out of the last 7 calls to <function TensorFlowTrainer.make_predict_function.<locals>.one_step_on_data_distributed at 0x7a39b1b6b370> triggered tf.function retracing. Tracing is expensive and the excessive number of tracings could be due to (1) creating @tf.function repeatedly in a loop, (2) passing tensors with different shapes, (3) passing Python objects instead of tensors. For (1), please define your @tf.function outside of the loop. For (2), @tf.function has reduce_retracing=True option that can avoid unnecessary retracing. For (3), please refer to https://www.tensorflow.org/guide/function#controlling_retracing and https://www.tensorflow.org/api_docs/python/tf/function for  more details.\n"
          ]
        },
        {
          "output_type": "stream",
          "name": "stdout",
          "text": [
            "\u001b[1m2/3\u001b[0m \u001b[32m━━━━━━━━━━━━━\u001b[0m\u001b[37m━━━━━━━\u001b[0m \u001b[1m0s\u001b[0m 113ms/step"
          ]
        },
        {
          "output_type": "stream",
          "name": "stderr",
          "text": [
            "WARNING:tensorflow:6 out of the last 9 calls to <function TensorFlowTrainer.make_predict_function.<locals>.one_step_on_data_distributed at 0x7a39b1b6b370> triggered tf.function retracing. Tracing is expensive and the excessive number of tracings could be due to (1) creating @tf.function repeatedly in a loop, (2) passing tensors with different shapes, (3) passing Python objects instead of tensors. For (1), please define your @tf.function outside of the loop. For (2), @tf.function has reduce_retracing=True option that can avoid unnecessary retracing. For (3), please refer to https://www.tensorflow.org/guide/function#controlling_retracing and https://www.tensorflow.org/api_docs/python/tf/function for  more details.\n"
          ]
        },
        {
          "output_type": "stream",
          "name": "stdout",
          "text": [
            "\u001b[1m3/3\u001b[0m \u001b[32m━━━━━━━━━━━━━━━━━━━━\u001b[0m\u001b[37m\u001b[0m \u001b[1m1s\u001b[0m 204ms/step\n",
            "Epoch 1/20\n",
            "\u001b[1m23/23\u001b[0m \u001b[32m━━━━━━━━━━━━━━━━━━━━\u001b[0m\u001b[37m\u001b[0m \u001b[1m18s\u001b[0m 620ms/step - accuracy: 0.3205 - loss: 1.8860 - precision: 0.2906 - recall: 0.0575 - val_accuracy: 0.3506 - val_loss: 1.7369 - val_precision: 0.0000e+00 - val_recall: 0.0000e+00\n",
            "Epoch 2/20\n",
            "\u001b[1m23/23\u001b[0m \u001b[32m━━━━━━━━━━━━━━━━━━━━\u001b[0m\u001b[37m\u001b[0m \u001b[1m18s\u001b[0m 532ms/step - accuracy: 0.4097 - loss: 1.5695 - precision: 0.4524 - recall: 0.0308 - val_accuracy: 0.4286 - val_loss: 1.5992 - val_precision: 0.0000e+00 - val_recall: 0.0000e+00\n",
            "Epoch 3/20\n",
            "\u001b[1m23/23\u001b[0m \u001b[32m━━━━━━━━━━━━━━━━━━━━\u001b[0m\u001b[37m\u001b[0m \u001b[1m20s\u001b[0m 478ms/step - accuracy: 0.5597 - loss: 1.3164 - precision: 0.8602 - recall: 0.0944 - val_accuracy: 0.5325 - val_loss: 1.2886 - val_precision: 0.9355 - val_recall: 0.3766\n",
            "Epoch 4/20\n",
            "\u001b[1m23/23\u001b[0m \u001b[32m━━━━━━━━━━━━━━━━━━━━\u001b[0m\u001b[37m\u001b[0m \u001b[1m21s\u001b[0m 534ms/step - accuracy: 0.7626 - loss: 0.8865 - precision: 0.9292 - recall: 0.5285 - val_accuracy: 0.7143 - val_loss: 0.9814 - val_precision: 0.8276 - val_recall: 0.6234\n",
            "Epoch 5/20\n",
            "\u001b[1m23/23\u001b[0m \u001b[32m━━━━━━━━━━━━━━━━━━━━\u001b[0m\u001b[37m\u001b[0m \u001b[1m20s\u001b[0m 493ms/step - accuracy: 0.8769 - loss: 0.4580 - precision: 0.9539 - recall: 0.8247 - val_accuracy: 0.7662 - val_loss: 0.7610 - val_precision: 0.9016 - val_recall: 0.7143\n",
            "Epoch 6/20\n",
            "\u001b[1m23/23\u001b[0m \u001b[32m━━━━━━━━━━━━━━━━━━━━\u001b[0m\u001b[37m\u001b[0m \u001b[1m21s\u001b[0m 537ms/step - accuracy: 0.9382 - loss: 0.2233 - precision: 0.9630 - recall: 0.9153 - val_accuracy: 0.7662 - val_loss: 0.7847 - val_precision: 0.8406 - val_recall: 0.7532\n",
            "Epoch 7/20\n",
            "\u001b[1m23/23\u001b[0m \u001b[32m━━━━━━━━━━━━━━━━━━━━\u001b[0m\u001b[37m\u001b[0m \u001b[1m21s\u001b[0m 553ms/step - accuracy: 0.9513 - loss: 0.1698 - precision: 0.9863 - recall: 0.9349 - val_accuracy: 0.7792 - val_loss: 0.8031 - val_precision: 0.9048 - val_recall: 0.7403\n",
            "Epoch 8/20\n",
            "\u001b[1m23/23\u001b[0m \u001b[32m━━━━━━━━━━━━━━━━━━━━\u001b[0m\u001b[37m\u001b[0m \u001b[1m20s\u001b[0m 550ms/step - accuracy: 0.9698 - loss: 0.1202 - precision: 0.9885 - recall: 0.9558 - val_accuracy: 0.7662 - val_loss: 0.7998 - val_precision: 0.8485 - val_recall: 0.7273\n",
            "Metrics names: ['loss', 'compile_metrics']\n",
            "\u001b[1m3/3\u001b[0m \u001b[32m━━━━━━━━━━━━━━━━━━━━\u001b[0m\u001b[37m\u001b[0m \u001b[1m0s\u001b[0m 103ms/step - accuracy: 0.7730 - loss: 0.7306 - precision: 0.8144 - recall: 0.7222\n",
            "loss: 73.53%\n",
            "compile_metrics: 78.82%\n",
            "\u001b[1m3/3\u001b[0m \u001b[32m━━━━━━━━━━━━━━━━━━━━\u001b[0m\u001b[37m\u001b[0m \u001b[1m1s\u001b[0m 214ms/step\n",
            "Epoch 1/20\n",
            "\u001b[1m23/23\u001b[0m \u001b[32m━━━━━━━━━━━━━━━━━━━━\u001b[0m\u001b[37m\u001b[0m \u001b[1m17s\u001b[0m 545ms/step - accuracy: 0.3466 - loss: 1.9054 - precision: 0.2661 - recall: 0.0365 - val_accuracy: 0.3896 - val_loss: 1.6400 - val_precision: 0.0000e+00 - val_recall: 0.0000e+00\n",
            "Epoch 2/20\n",
            "\u001b[1m23/23\u001b[0m \u001b[32m━━━━━━━━━━━━━━━━━━━━\u001b[0m\u001b[37m\u001b[0m \u001b[1m11s\u001b[0m 464ms/step - accuracy: 0.3819 - loss: 1.5561 - precision: 0.5715 - recall: 0.0053 - val_accuracy: 0.4156 - val_loss: 1.5671 - val_precision: 0.9259 - val_recall: 0.3247\n",
            "Epoch 3/20\n",
            "\u001b[1m23/23\u001b[0m \u001b[32m━━━━━━━━━━━━━━━━━━━━\u001b[0m\u001b[37m\u001b[0m \u001b[1m22s\u001b[0m 530ms/step - accuracy: 0.5162 - loss: 1.3134 - precision: 0.9676 - recall: 0.2649 - val_accuracy: 0.7013 - val_loss: 1.2064 - val_precision: 0.9600 - val_recall: 0.3117\n",
            "Epoch 4/20\n",
            "\u001b[1m23/23\u001b[0m \u001b[32m━━━━━━━━━━━━━━━━━━━━\u001b[0m\u001b[37m\u001b[0m \u001b[1m21s\u001b[0m 533ms/step - accuracy: 0.8136 - loss: 0.7626 - precision: 0.9632 - recall: 0.5397 - val_accuracy: 0.7143 - val_loss: 0.9803 - val_precision: 0.8364 - val_recall: 0.5974\n",
            "Epoch 5/20\n",
            "\u001b[1m23/23\u001b[0m \u001b[32m━━━━━━━━━━━━━━━━━━━━\u001b[0m\u001b[37m\u001b[0m \u001b[1m21s\u001b[0m 534ms/step - accuracy: 0.9187 - loss: 0.3993 - precision: 0.9717 - recall: 0.8263 - val_accuracy: 0.7403 - val_loss: 0.8735 - val_precision: 0.8333 - val_recall: 0.7143\n",
            "Epoch 6/20\n",
            "\u001b[1m23/23\u001b[0m \u001b[32m━━━━━━━━━━━━━━━━━━━━\u001b[0m\u001b[37m\u001b[0m \u001b[1m20s\u001b[0m 530ms/step - accuracy: 0.9425 - loss: 0.2257 - precision: 0.9717 - recall: 0.9304 - val_accuracy: 0.7532 - val_loss: 0.8491 - val_precision: 0.8571 - val_recall: 0.7013\n",
            "Epoch 7/20\n",
            "\u001b[1m23/23\u001b[0m \u001b[32m━━━━━━━━━━━━━━━━━━━━\u001b[0m\u001b[37m\u001b[0m \u001b[1m23s\u001b[0m 627ms/step - accuracy: 0.9617 - loss: 0.1448 - precision: 0.9818 - recall: 0.9550 - val_accuracy: 0.7403 - val_loss: 0.9424 - val_precision: 0.7971 - val_recall: 0.7143\n",
            "Epoch 8/20\n",
            "\u001b[1m23/23\u001b[0m \u001b[32m━━━━━━━━━━━━━━━━━━━━\u001b[0m\u001b[37m\u001b[0m \u001b[1m18s\u001b[0m 538ms/step - accuracy: 0.9667 - loss: 0.1071 - precision: 0.9817 - recall: 0.9636 - val_accuracy: 0.7662 - val_loss: 0.8945 - val_precision: 0.8333 - val_recall: 0.7143\n",
            "Epoch 9/20\n",
            "\u001b[1m23/23\u001b[0m \u001b[32m━━━━━━━━━━━━━━━━━━━━\u001b[0m\u001b[37m\u001b[0m \u001b[1m20s\u001b[0m 491ms/step - accuracy: 0.9711 - loss: 0.0878 - precision: 0.9797 - recall: 0.9573 - val_accuracy: 0.7532 - val_loss: 0.9276 - val_precision: 0.8209 - val_recall: 0.7143\n",
            "Metrics names: ['loss', 'compile_metrics']\n",
            "\u001b[1m3/3\u001b[0m \u001b[32m━━━━━━━━━━━━━━━━━━━━\u001b[0m\u001b[37m\u001b[0m \u001b[1m0s\u001b[0m 118ms/step - accuracy: 0.8004 - loss: 0.8034 - precision: 0.8194 - recall: 0.7828\n",
            "loss: 74.88%\n",
            "compile_metrics: 81.18%\n",
            "\u001b[1m3/3\u001b[0m \u001b[32m━━━━━━━━━━━━━━━━━━━━\u001b[0m\u001b[37m\u001b[0m \u001b[1m1s\u001b[0m 205ms/step\n",
            "Epoch 1/20\n",
            "\u001b[1m23/23\u001b[0m \u001b[32m━━━━━━━━━━━━━━━━━━━━\u001b[0m\u001b[37m\u001b[0m \u001b[1m17s\u001b[0m 496ms/step - accuracy: 0.3393 - loss: 1.9180 - precision: 0.2489 - recall: 0.0250 - val_accuracy: 0.3896 - val_loss: 1.7020 - val_precision: 0.0000e+00 - val_recall: 0.0000e+00\n",
            "Epoch 2/20\n",
            "\u001b[1m23/23\u001b[0m \u001b[32m━━━━━━━━━━━━━━━━━━━━\u001b[0m\u001b[37m\u001b[0m \u001b[1m21s\u001b[0m 536ms/step - accuracy: 0.4163 - loss: 1.5634 - precision: 0.5671 - recall: 0.0307 - val_accuracy: 0.4286 - val_loss: 1.6016 - val_precision: 0.0000e+00 - val_recall: 0.0000e+00\n",
            "Epoch 3/20\n",
            "\u001b[1m23/23\u001b[0m \u001b[32m━━━━━━━━━━━━━━━━━━━━\u001b[0m\u001b[37m\u001b[0m \u001b[1m12s\u001b[0m 534ms/step - accuracy: 0.5443 - loss: 1.2946 - precision: 0.9731 - recall: 0.1612 - val_accuracy: 0.5584 - val_loss: 1.2835 - val_precision: 0.9062 - val_recall: 0.3766\n",
            "Epoch 4/20\n",
            "\u001b[1m23/23\u001b[0m \u001b[32m━━━━━━━━━━━━━━━━━━━━\u001b[0m\u001b[37m\u001b[0m \u001b[1m20s\u001b[0m 479ms/step - accuracy: 0.7847 - loss: 0.7726 - precision: 0.9545 - recall: 0.5743 - val_accuracy: 0.7143 - val_loss: 0.9652 - val_precision: 0.8065 - val_recall: 0.6494\n",
            "Epoch 5/20\n",
            "\u001b[1m23/23\u001b[0m \u001b[32m━━━━━━━━━━━━━━━━━━━━\u001b[0m\u001b[37m\u001b[0m \u001b[1m21s\u001b[0m 531ms/step - accuracy: 0.9170 - loss: 0.3800 - precision: 0.9520 - recall: 0.8542 - val_accuracy: 0.6883 - val_loss: 0.9332 - val_precision: 0.8226 - val_recall: 0.6623\n",
            "Epoch 6/20\n",
            "\u001b[1m23/23\u001b[0m \u001b[32m━━━━━━━━━━━━━━━━━━━━\u001b[0m\u001b[37m\u001b[0m \u001b[1m20s\u001b[0m 488ms/step - accuracy: 0.9465 - loss: 0.2531 - precision: 0.9740 - recall: 0.9118 - val_accuracy: 0.7662 - val_loss: 1.0007 - val_precision: 0.7857 - val_recall: 0.7143\n",
            "Epoch 7/20\n",
            "\u001b[1m23/23\u001b[0m \u001b[32m━━━━━━━━━━━━━━━━━━━━\u001b[0m\u001b[37m\u001b[0m \u001b[1m21s\u001b[0m 532ms/step - accuracy: 0.9464 - loss: 0.1855 - precision: 0.9754 - recall: 0.9320 - val_accuracy: 0.7532 - val_loss: 1.0581 - val_precision: 0.8060 - val_recall: 0.7013\n",
            "Epoch 8/20\n",
            "\u001b[1m23/23\u001b[0m \u001b[32m━━━━━━━━━━━━━━━━━━━━\u001b[0m\u001b[37m\u001b[0m \u001b[1m20s\u001b[0m 530ms/step - accuracy: 0.9713 - loss: 0.1125 - precision: 0.9802 - recall: 0.9567 - val_accuracy: 0.7403 - val_loss: 1.0497 - val_precision: 0.8281 - val_recall: 0.6883\n",
            "Metrics names: ['loss', 'compile_metrics']\n",
            "\u001b[1m3/3\u001b[0m \u001b[32m━━━━━━━━━━━━━━━━━━━━\u001b[0m\u001b[37m\u001b[0m \u001b[1m0s\u001b[0m 101ms/step - accuracy: 0.7847 - loss: 0.8379 - precision: 0.8198 - recall: 0.7554\n",
            "loss: 84.55%\n",
            "compile_metrics: 78.82%\n",
            "\u001b[1m3/3\u001b[0m \u001b[32m━━━━━━━━━━━━━━━━━━━━\u001b[0m\u001b[37m\u001b[0m \u001b[1m1s\u001b[0m 331ms/step\n",
            "Epoch 1/20\n",
            "\u001b[1m23/23\u001b[0m \u001b[32m━━━━━━━━━━━━━━━━━━━━\u001b[0m\u001b[37m\u001b[0m \u001b[1m17s\u001b[0m 558ms/step - accuracy: 0.3315 - loss: 1.9016 - precision: 0.2650 - recall: 0.0382 - val_accuracy: 0.3896 - val_loss: 1.6891 - val_precision: 0.0000e+00 - val_recall: 0.0000e+00\n",
            "Epoch 2/20\n",
            "\u001b[1m23/23\u001b[0m \u001b[32m━━━━━━━━━━━━━━━━━━━━\u001b[0m\u001b[37m\u001b[0m \u001b[1m11s\u001b[0m 494ms/step - accuracy: 0.4137 - loss: 1.5483 - precision: 0.6840 - recall: 0.0083 - val_accuracy: 0.4026 - val_loss: 1.5339 - val_precision: 1.0000 - val_recall: 0.1429\n",
            "Epoch 3/20\n",
            "\u001b[1m23/23\u001b[0m \u001b[32m━━━━━━━━━━━━━━━━━━━━\u001b[0m\u001b[37m\u001b[0m \u001b[1m11s\u001b[0m 478ms/step - accuracy: 0.5121 - loss: 1.2894 - precision: 0.9740 - recall: 0.2433 - val_accuracy: 0.5714 - val_loss: 1.2727 - val_precision: 0.7692 - val_recall: 0.3896\n",
            "Epoch 4/20\n",
            "\u001b[1m23/23\u001b[0m \u001b[32m━━━━━━━━━━━━━━━━━━━━\u001b[0m\u001b[37m\u001b[0m \u001b[1m23s\u001b[0m 612ms/step - accuracy: 0.7985 - loss: 0.8056 - precision: 0.9375 - recall: 0.5164 - val_accuracy: 0.7143 - val_loss: 0.9738 - val_precision: 0.8913 - val_recall: 0.5325\n",
            "Epoch 5/20\n",
            "\u001b[1m23/23\u001b[0m \u001b[32m━━━━━━━━━━━━━━━━━━━━\u001b[0m\u001b[37m\u001b[0m \u001b[1m18s\u001b[0m 474ms/step - accuracy: 0.9193 - loss: 0.4463 - precision: 0.9599 - recall: 0.7966 - val_accuracy: 0.7143 - val_loss: 0.9799 - val_precision: 0.8545 - val_recall: 0.6104\n",
            "Epoch 6/20\n",
            "\u001b[1m23/23\u001b[0m \u001b[32m━━━━━━━━━━━━━━━━━━━━\u001b[0m\u001b[37m\u001b[0m \u001b[1m21s\u001b[0m 527ms/step - accuracy: 0.9265 - loss: 0.2943 - precision: 0.9599 - recall: 0.9003 - val_accuracy: 0.7013 - val_loss: 0.9816 - val_precision: 0.7812 - val_recall: 0.6494\n",
            "Epoch 7/20\n",
            "\u001b[1m23/23\u001b[0m \u001b[32m━━━━━━━━━━━━━━━━━━━━\u001b[0m\u001b[37m\u001b[0m \u001b[1m20s\u001b[0m 515ms/step - accuracy: 0.9435 - loss: 0.1939 - precision: 0.9672 - recall: 0.9401 - val_accuracy: 0.7143 - val_loss: 0.9721 - val_precision: 0.8033 - val_recall: 0.6364\n",
            "Epoch 8/20\n",
            "\u001b[1m23/23\u001b[0m \u001b[32m━━━━━━━━━━━━━━━━━━━━\u001b[0m\u001b[37m\u001b[0m \u001b[1m21s\u001b[0m 541ms/step - accuracy: 0.9669 - loss: 0.1368 - precision: 0.9850 - recall: 0.9509 - val_accuracy: 0.7532 - val_loss: 1.0062 - val_precision: 0.8235 - val_recall: 0.7273\n",
            "Epoch 9/20\n",
            "\u001b[1m23/23\u001b[0m \u001b[32m━━━━━━━━━━━━━━━━━━━━\u001b[0m\u001b[37m\u001b[0m \u001b[1m21s\u001b[0m 549ms/step - accuracy: 0.9774 - loss: 0.1099 - precision: 0.9906 - recall: 0.9529 - val_accuracy: 0.7273 - val_loss: 1.0597 - val_precision: 0.8030 - val_recall: 0.6883\n",
            "Epoch 10/20\n",
            "\u001b[1m23/23\u001b[0m \u001b[32m━━━━━━━━━━━━━━━━━━━━\u001b[0m\u001b[37m\u001b[0m \u001b[1m20s\u001b[0m 543ms/step - accuracy: 0.9695 - loss: 0.0814 - precision: 0.9823 - recall: 0.9563 - val_accuracy: 0.7273 - val_loss: 1.0165 - val_precision: 0.8088 - val_recall: 0.7143\n",
            "Metrics names: ['loss', 'compile_metrics']\n",
            "\u001b[1m3/3\u001b[0m \u001b[32m━━━━━━━━━━━━━━━━━━━━\u001b[0m\u001b[37m\u001b[0m \u001b[1m0s\u001b[0m 107ms/step - accuracy: 0.8474 - loss: 0.5530 - precision: 0.8873 - recall: 0.8474\n",
            "loss: 57.08%\n",
            "compile_metrics: 85.88%\n",
            "\u001b[1m3/3\u001b[0m \u001b[32m━━━━━━━━━━━━━━━━━━━━\u001b[0m\u001b[37m\u001b[0m \u001b[1m1s\u001b[0m 198ms/step\n",
            "Epoch 1/20\n",
            "\u001b[1m23/23\u001b[0m \u001b[32m━━━━━━━━━━━━━━━━━━━━\u001b[0m\u001b[37m\u001b[0m \u001b[1m16s\u001b[0m 554ms/step - accuracy: 0.3039 - loss: 1.9277 - precision: 0.3813 - recall: 0.0029 - val_accuracy: 0.3896 - val_loss: 1.6642 - val_precision: 0.0000e+00 - val_recall: 0.0000e+00\n",
            "Epoch 2/20\n",
            "\u001b[1m23/23\u001b[0m \u001b[32m━━━━━━━━━━━━━━━━━━━━\u001b[0m\u001b[37m\u001b[0m \u001b[1m12s\u001b[0m 533ms/step - accuracy: 0.3692 - loss: 1.5446 - precision: 0.8231 - recall: 0.0275 - val_accuracy: 0.4935 - val_loss: 1.4936 - val_precision: 1.0000 - val_recall: 0.0390\n",
            "Epoch 3/20\n",
            "\u001b[1m23/23\u001b[0m \u001b[32m━━━━━━━━━━━━━━━━━━━━\u001b[0m\u001b[37m\u001b[0m \u001b[1m20s\u001b[0m 525ms/step - accuracy: 0.5338 - loss: 1.2534 - precision: 0.9540 - recall: 0.2013 - val_accuracy: 0.5714 - val_loss: 1.2004 - val_precision: 0.8605 - val_recall: 0.4805\n",
            "Epoch 4/20\n",
            "\u001b[1m23/23\u001b[0m \u001b[32m━━━━━━━━━━━━━━━━━━━━\u001b[0m\u001b[37m\u001b[0m \u001b[1m11s\u001b[0m 460ms/step - accuracy: 0.8023 - loss: 0.8089 - precision: 0.9430 - recall: 0.5512 - val_accuracy: 0.7403 - val_loss: 0.8878 - val_precision: 0.8772 - val_recall: 0.6494\n",
            "Epoch 5/20\n",
            "\u001b[1m23/23\u001b[0m \u001b[32m━━━━━━━━━━━━━━━━━━━━\u001b[0m\u001b[37m\u001b[0m \u001b[1m22s\u001b[0m 530ms/step - accuracy: 0.8926 - loss: 0.4602 - precision: 0.9566 - recall: 0.8239 - val_accuracy: 0.7013 - val_loss: 0.9390 - val_precision: 0.8525 - val_recall: 0.6753\n",
            "Epoch 6/20\n",
            "\u001b[1m23/23\u001b[0m \u001b[32m━━━━━━━━━━━━━━━━━━━━\u001b[0m\u001b[37m\u001b[0m \u001b[1m20s\u001b[0m 528ms/step - accuracy: 0.9278 - loss: 0.2605 - precision: 0.9646 - recall: 0.9045 - val_accuracy: 0.7403 - val_loss: 0.8696 - val_precision: 0.8209 - val_recall: 0.7143\n",
            "Epoch 7/20\n",
            "\u001b[1m23/23\u001b[0m \u001b[32m━━━━━━━━━━━━━━━━━━━━\u001b[0m\u001b[37m\u001b[0m \u001b[1m21s\u001b[0m 531ms/step - accuracy: 0.9548 - loss: 0.1516 - precision: 0.9754 - recall: 0.9476 - val_accuracy: 0.7662 - val_loss: 0.9114 - val_precision: 0.8358 - val_recall: 0.7273\n",
            "Epoch 8/20\n",
            "\u001b[1m23/23\u001b[0m \u001b[32m━━━━━━━━━━━━━━━━━━━━\u001b[0m\u001b[37m\u001b[0m \u001b[1m14s\u001b[0m 618ms/step - accuracy: 0.9612 - loss: 0.1217 - precision: 0.9842 - recall: 0.9566 - val_accuracy: 0.7922 - val_loss: 0.8919 - val_precision: 0.8358 - val_recall: 0.7273\n",
            "Epoch 9/20\n",
            "\u001b[1m23/23\u001b[0m \u001b[32m━━━━━━━━━━━━━━━━━━━━\u001b[0m\u001b[37m\u001b[0m \u001b[1m19s\u001b[0m 547ms/step - accuracy: 0.9689 - loss: 0.1170 - precision: 0.9805 - recall: 0.9536 - val_accuracy: 0.7532 - val_loss: 0.9990 - val_precision: 0.8143 - val_recall: 0.7403\n",
            "Metrics names: ['loss', 'compile_metrics']\n",
            "\u001b[1m3/3\u001b[0m \u001b[32m━━━━━━━━━━━━━━━━━━━━\u001b[0m\u001b[37m\u001b[0m \u001b[1m0s\u001b[0m 102ms/step - accuracy: 0.8082 - loss: 0.6580 - precision: 0.8857 - recall: 0.7592\n",
            "loss: 73.79%\n",
            "compile_metrics: 78.82%\n",
            "\u001b[1m3/3\u001b[0m \u001b[32m━━━━━━━━━━━━━━━━━━━━\u001b[0m\u001b[37m\u001b[0m \u001b[1m1s\u001b[0m 207ms/step\n",
            "Epoch 1/20\n",
            "\u001b[1m23/23\u001b[0m \u001b[32m━━━━━━━━━━━━━━━━━━━━\u001b[0m\u001b[37m\u001b[0m \u001b[1m18s\u001b[0m 564ms/step - accuracy: 0.3439 - loss: 1.9124 - precision: 0.2617 - recall: 0.0216 - val_accuracy: 0.4675 - val_loss: 1.6720 - val_precision: 0.0000e+00 - val_recall: 0.0000e+00\n",
            "Epoch 2/20\n",
            "\u001b[1m23/23\u001b[0m \u001b[32m━━━━━━━━━━━━━━━━━━━━\u001b[0m\u001b[37m\u001b[0m \u001b[1m12s\u001b[0m 532ms/step - accuracy: 0.4117 - loss: 1.5513 - precision: 0.3928 - recall: 0.0185 - val_accuracy: 0.4675 - val_loss: 1.4792 - val_precision: 1.0000 - val_recall: 0.1818\n",
            "Epoch 3/20\n",
            "\u001b[1m23/23\u001b[0m \u001b[32m━━━━━━━━━━━━━━━━━━━━\u001b[0m\u001b[37m\u001b[0m \u001b[1m21s\u001b[0m 538ms/step - accuracy: 0.5702 - loss: 1.2860 - precision: 0.9868 - recall: 0.1817 - val_accuracy: 0.6753 - val_loss: 1.1737 - val_precision: 0.9394 - val_recall: 0.4026\n",
            "Epoch 4/20\n",
            "\u001b[1m23/23\u001b[0m \u001b[32m━━━━━━━━━━━━━━━━━━━━\u001b[0m\u001b[37m\u001b[0m \u001b[1m12s\u001b[0m 537ms/step - accuracy: 0.8072 - loss: 0.8116 - precision: 0.9556 - recall: 0.5212 - val_accuracy: 0.7013 - val_loss: 0.9394 - val_precision: 0.8868 - val_recall: 0.6104\n",
            "Epoch 5/20\n",
            "\u001b[1m23/23\u001b[0m \u001b[32m━━━━━━━━━━━━━━━━━━━━\u001b[0m\u001b[37m\u001b[0m \u001b[1m20s\u001b[0m 531ms/step - accuracy: 0.8723 - loss: 0.5064 - precision: 0.9427 - recall: 0.7916 - val_accuracy: 0.7013 - val_loss: 0.9759 - val_precision: 0.8281 - val_recall: 0.6883\n",
            "Epoch 6/20\n",
            "\u001b[1m23/23\u001b[0m \u001b[32m━━━━━━━━━━━━━━━━━━━━\u001b[0m\u001b[37m\u001b[0m \u001b[1m11s\u001b[0m 471ms/step - accuracy: 0.9370 - loss: 0.2585 - precision: 0.9680 - recall: 0.9158 - val_accuracy: 0.7532 - val_loss: 0.9545 - val_precision: 0.8209 - val_recall: 0.7143\n",
            "Epoch 7/20\n",
            "\u001b[1m23/23\u001b[0m \u001b[32m━━━━━━━━━━━━━━━━━━━━\u001b[0m\u001b[37m\u001b[0m \u001b[1m22s\u001b[0m 528ms/step - accuracy: 0.9628 - loss: 0.1520 - precision: 0.9846 - recall: 0.9485 - val_accuracy: 0.7403 - val_loss: 1.0317 - val_precision: 0.8000 - val_recall: 0.7273\n",
            "Metrics names: ['loss', 'compile_metrics']\n",
            "\u001b[1m3/3\u001b[0m \u001b[32m━━━━━━━━━━━━━━━━━━━━\u001b[0m\u001b[37m\u001b[0m \u001b[1m0s\u001b[0m 103ms/step - accuracy: 0.7750 - loss: 0.8422 - precision: 0.8290 - recall: 0.7202\n",
            "loss: 76.41%\n",
            "compile_metrics: 80.00%\n",
            "\u001b[1m3/3\u001b[0m \u001b[32m━━━━━━━━━━━━━━━━━━━━\u001b[0m\u001b[37m\u001b[0m \u001b[1m1s\u001b[0m 203ms/step\n",
            "Epoch 1/20\n",
            "\u001b[1m23/23\u001b[0m \u001b[32m━━━━━━━━━━━━━━━━━━━━\u001b[0m\u001b[37m\u001b[0m \u001b[1m16s\u001b[0m 498ms/step - accuracy: 0.3353 - loss: 1.9013 - precision: 0.2353 - recall: 0.0369 - val_accuracy: 0.3896 - val_loss: 1.7156 - val_precision: 0.0000e+00 - val_recall: 0.0000e+00\n",
            "Epoch 2/20\n",
            "\u001b[1m23/23\u001b[0m \u001b[32m━━━━━━━━━━━━━━━━━━━━\u001b[0m\u001b[37m\u001b[0m \u001b[1m21s\u001b[0m 533ms/step - accuracy: 0.3977 - loss: 1.5563 - precision: 0.7083 - recall: 0.0204 - val_accuracy: 0.5065 - val_loss: 1.6298 - val_precision: 0.0000e+00 - val_recall: 0.0000e+00\n",
            "Epoch 3/20\n",
            "\u001b[1m23/23\u001b[0m \u001b[32m━━━━━━━━━━━━━━━━━━━━\u001b[0m\u001b[37m\u001b[0m \u001b[1m20s\u001b[0m 531ms/step - accuracy: 0.5144 - loss: 1.3545 - precision: 0.9029 - recall: 0.1294 - val_accuracy: 0.6494 - val_loss: 1.2853 - val_precision: 1.0000 - val_recall: 0.3247\n",
            "Epoch 4/20\n",
            "\u001b[1m23/23\u001b[0m \u001b[32m━━━━━━━━━━━━━━━━━━━━\u001b[0m\u001b[37m\u001b[0m \u001b[1m21s\u001b[0m 538ms/step - accuracy: 0.7973 - loss: 0.8584 - precision: 0.9798 - recall: 0.4892 - val_accuracy: 0.7143 - val_loss: 0.9757 - val_precision: 0.8596 - val_recall: 0.6364\n",
            "Epoch 5/20\n",
            "\u001b[1m23/23\u001b[0m \u001b[32m━━━━━━━━━━━━━━━━━━━━\u001b[0m\u001b[37m\u001b[0m \u001b[1m20s\u001b[0m 533ms/step - accuracy: 0.8921 - loss: 0.4790 - precision: 0.9602 - recall: 0.7855 - val_accuracy: 0.7273 - val_loss: 0.9633 - val_precision: 0.7971 - val_recall: 0.7143\n",
            "Epoch 6/20\n",
            "\u001b[1m23/23\u001b[0m \u001b[32m━━━━━━━━━━━━━━━━━━━━\u001b[0m\u001b[37m\u001b[0m \u001b[1m12s\u001b[0m 521ms/step - accuracy: 0.9283 - loss: 0.2591 - precision: 0.9627 - recall: 0.9072 - val_accuracy: 0.7792 - val_loss: 0.9412 - val_precision: 0.8462 - val_recall: 0.7143\n",
            "Epoch 7/20\n",
            "\u001b[1m23/23\u001b[0m \u001b[32m━━━━━━━━━━━━━━━━━━━━\u001b[0m\u001b[37m\u001b[0m \u001b[1m22s\u001b[0m 588ms/step - accuracy: 0.9639 - loss: 0.1438 - precision: 0.9844 - recall: 0.9530 - val_accuracy: 0.7532 - val_loss: 0.9136 - val_precision: 0.8438 - val_recall: 0.7013\n",
            "Epoch 8/20\n",
            "\u001b[1m23/23\u001b[0m \u001b[32m━━━━━━━━━━━━━━━━━━━━\u001b[0m\u001b[37m\u001b[0m \u001b[1m19s\u001b[0m 549ms/step - accuracy: 0.9722 - loss: 0.1112 - precision: 0.9843 - recall: 0.9573 - val_accuracy: 0.7273 - val_loss: 0.9890 - val_precision: 0.8209 - val_recall: 0.7143\n",
            "Epoch 9/20\n",
            "\u001b[1m23/23\u001b[0m \u001b[32m━━━━━━━━━━━━━━━━━━━━\u001b[0m\u001b[37m\u001b[0m \u001b[1m14s\u001b[0m 597ms/step - accuracy: 0.9611 - loss: 0.0995 - precision: 0.9751 - recall: 0.9567 - val_accuracy: 0.7792 - val_loss: 0.9486 - val_precision: 0.8333 - val_recall: 0.7143\n",
            "Epoch 10/20\n",
            "\u001b[1m23/23\u001b[0m \u001b[32m━━━━━━━━━━━━━━━━━━━━\u001b[0m\u001b[37m\u001b[0m \u001b[1m11s\u001b[0m 469ms/step - accuracy: 0.9846 - loss: 0.0645 - precision: 0.9899 - recall: 0.9790 - val_accuracy: 0.7922 - val_loss: 0.9998 - val_precision: 0.8358 - val_recall: 0.7273\n",
            "Metrics names: ['loss', 'compile_metrics']\n",
            "\u001b[1m3/3\u001b[0m \u001b[32m━━━━━━━━━━━━━━━━━━━━\u001b[0m\u001b[37m\u001b[0m \u001b[1m0s\u001b[0m 104ms/step - accuracy: 0.8376 - loss: 0.7227 - precision: 0.8489 - recall: 0.8141\n",
            "loss: 75.13%\n",
            "compile_metrics: 84.71%\n",
            "\u001b[1m3/3\u001b[0m \u001b[32m━━━━━━━━━━━━━━━━━━━━\u001b[0m\u001b[37m\u001b[0m \u001b[1m1s\u001b[0m 214ms/step\n"
          ]
        }
      ]
    },
    {
      "cell_type": "code",
      "metadata": {
        "id": "2K64saekBcsV",
        "colab": {
          "base_uri": "https://localhost:8080/"
        },
        "outputId": "adbd7216-40bd-4812-a346-cdd15a5b2986"
      },
      "source": [
        "# Calculating Mean Average of model scores\n",
        "print(\"Mean & std for Area under Curve: %.2f%% (+/- %.2f%%)\" % (np.mean(cvscoresauc), np.std(cvscoresauc)))\n",
        "print(\"Mean & std for Precision: %.2f%% (+/- %.2f%%)\" % (np.mean(cvscorespre), np.std(cvscorespre)))\n",
        "print(\"Mean & std for Recall: %.2f%% (+/- %.2f%%)\" % (np.mean(cvscoresrec), np.std(cvscoresrec)))\n",
        "print((\"Mean & std for F1 score: %.2f%% (+/- %.2f%%)\" % (np.mean(cvscoresf1), np.std(cvscoresf1))))"
      ],
      "execution_count": 33,
      "outputs": [
        {
          "output_type": "stream",
          "name": "stdout",
          "text": [
            "Mean & std for Area under Curve: 79.76% (+/- 3.28%)\n",
            "Mean & std for Precision: 84.26% (+/- 3.18%)\n",
            "Mean & std for Recall: 77.18% (+/- 4.18%)\n",
            "Mean & std for F1 score: 80.51% (+/- 3.16%)\n"
          ]
        }
      ]
    },
    {
      "cell_type": "code",
      "metadata": {
        "id": "phgDOqbSBcsY",
        "colab": {
          "base_uri": "https://localhost:8080/"
        },
        "outputId": "7c661c8b-faaf-46e0-ee16-d6586e546b1a"
      },
      "source": [
        "# Print out the keys of the history object\n",
        "print(\"History keys:\", history.history.keys())\n",
        "\n",
        "# Check if the necessary metrics are available\n",
        "if 'acc' in history.history:\n",
        "    acc = history.history['accuracy']\n",
        "    val_acc = history.history['val_accuracy']\n",
        "    loss = history.history['loss']\n",
        "    val_loss = history.history['val_loss']\n",
        "\n",
        "    print(\"Maximum Training Accuracy: %s\" % np.max(history.history['acc']))\n",
        "    print(\"Maximum Validation Accuracy: %s\" % np.max(history.history['val_acc']))\n",
        "    print(\"Minimum Training Loss: %s\"  % np.min(history.history['loss']))\n",
        "    print(\"Minimum Validation Loss: %s\" % np.min(history.history['val_loss']))\n",
        "\n",
        "    epochs = range(1, len(acc) + 1)\n",
        "\n",
        "    plt.plot(epochs, acc, 'bo', label='Training acc')\n",
        "    plt.plot(epochs, val_acc, 'b', label='Validation acc')\n",
        "    plt.title('Training and validation accuracy')\n",
        "    plt.legend()\n",
        "\n",
        "    plt.figure()\n",
        "\n",
        "    plt.plot(epochs, loss, 'bo', label='Training loss')\n",
        "    plt.plot(epochs, val_loss, 'b', label='Validation loss')\n",
        "    plt.title('Training and validation loss')\n",
        "    plt.legend()\n",
        "\n",
        "    plt.show()\n",
        "else:\n",
        "    print(\"Training did not complete successfully. Check for errors.\")\n"
      ],
      "execution_count": 34,
      "outputs": [
        {
          "output_type": "stream",
          "name": "stdout",
          "text": [
            "History keys: dict_keys(['accuracy', 'loss', 'precision', 'recall', 'val_accuracy', 'val_loss', 'val_precision', 'val_recall'])\n",
            "Training did not complete successfully. Check for errors.\n"
          ]
        }
      ]
    },
    {
      "cell_type": "code",
      "metadata": {
        "id": "UsCbB4GpBcsa",
        "colab": {
          "base_uri": "https://localhost:8080/",
          "height": 1000
        },
        "outputId": "cd3d22cb-d183-4cbd-c0da-d8b14d962168"
      },
      "source": [
        "accr = model.evaluate(X_test,Y_test)\n",
        "print('Test set\\n  Loss: {:0.3f}\\n  Accuracy: {:0.3f}'.format(accr[0],accr[1]))\n",
        "Y_pred_test=model.predict(X_test)\n",
        "print(Y_pred_test)\n",
        "Y_pred_test_cm = (Y_pred_test.argmax(1)[:,None] == np.arange(Y_pred_test.shape[1])).astype(int)\n",
        "con_mat_test = multilabel_confusion_matrix(Y_test, Y_pred_test_cm, labels=[0, 1, 2, 3, 4, 5, 6, 7])\n",
        "plt.figure()\n",
        "print(\"****************************Confustion Matrix Plots Start here for Test Data**************\")\n",
        "class_name = \"Maintainability\"\n",
        "make_con_mat(con_mat_test[0],class_name)\n",
        "plt.figure()\n",
        "class_name = \"Operability\"\n",
        "make_con_mat(con_mat_test[1], class_name)\n",
        "plt.figure()\n",
        "class_name = \"Performance\"\n",
        "make_con_mat(con_mat_test[2],class_name)\n",
        "plt.figure()\n",
        "class_name = \"Security\"\n",
        "make_con_mat(con_mat_test[3], class_name)\n",
        "plt.figure()\n",
        "class_name = \"Usability\"\n",
        "make_con_mat(con_mat_test[4],class_name)\n",
        "plt.figure()\n",
        "class_name = \"Scalability\"\n",
        "make_con_mat(con_mat_test[5],class_name)\n",
        "plt.figure()\n",
        "class_name = \"Fault Tolerance\"\n",
        "make_con_mat(con_mat_test[6],class_name)\n",
        "plt.figure()\n",
        "class_name = \"Portability\"\n",
        "make_con_mat(con_mat_test[7],class_name)"
      ],
      "execution_count": 35,
      "outputs": [
        {
          "output_type": "stream",
          "name": "stdout",
          "text": [
            "\u001b[1m3/3\u001b[0m \u001b[32m━━━━━━━━━━━━━━━━━━━━\u001b[0m\u001b[37m\u001b[0m \u001b[1m1s\u001b[0m 219ms/step - accuracy: 0.7709 - loss: 0.8087 - precision: 0.7840 - recall: 0.7395\n",
            "Test set\n",
            "  Loss: 0.852\n",
            "  Accuracy: 0.768\n",
            "\u001b[1m3/3\u001b[0m \u001b[32m━━━━━━━━━━━━━━━━━━━━\u001b[0m\u001b[37m\u001b[0m \u001b[1m1s\u001b[0m 200ms/step\n",
            "[[5.95079409e-03 3.52068357e-02 7.67023683e-01 1.45287886e-02\n",
            "  3.46324733e-03 3.96541785e-03 1.65894464e-01 3.96680227e-03]\n",
            " [5.99498962e-05 1.25113831e-04 2.42130904e-04 3.40057537e-04\n",
            "  1.02661015e-05 7.13686313e-06 9.99189317e-01 2.60932393e-05]\n",
            " [1.50272762e-02 1.96510646e-02 4.67900671e-02 7.20995590e-02\n",
            "  3.14031867e-03 3.51745612e-03 8.35854471e-01 3.91973462e-03]\n",
            " [2.82744188e-02 1.04118395e-03 1.21569252e-02 1.67504176e-02\n",
            "  1.34552829e-03 1.58337993e-03 1.24178492e-02 9.26430285e-01]\n",
            " [5.51400520e-02 6.36375137e-03 7.33524794e-03 6.44749962e-03\n",
            "  2.13932549e-03 2.16139853e-03 3.07542775e-02 8.89658272e-01]\n",
            " [2.85686925e-02 2.02485546e-02 5.54678263e-03 8.94934773e-01\n",
            "  9.49735288e-03 3.47088128e-02 2.64297077e-03 3.85210314e-03]\n",
            " [2.29823366e-02 2.69418061e-02 7.87173212e-03 3.10802320e-03\n",
            "  1.76227745e-03 2.45870254e-03 1.52417962e-02 9.19633329e-01]\n",
            " [4.82037110e-04 2.89318548e-03 9.92328942e-01 1.14086701e-03\n",
            "  4.46588878e-04 8.65719048e-04 8.93455057e-04 9.49165667e-04]\n",
            " [7.35233873e-02 5.23551069e-02 5.82575619e-01 4.13113087e-02\n",
            "  1.09571386e-02 1.65255070e-02 6.07566200e-02 1.61995247e-01]\n",
            " [4.27294988e-04 3.76434356e-04 1.99178024e-03 7.04926788e-04\n",
            "  5.07470068e-05 3.72545619e-05 9.95615721e-01 7.95742788e-04]\n",
            " [1.02907921e-04 1.07854088e-04 1.95988687e-04 1.06119865e-03\n",
            "  1.42701447e-05 1.13364822e-05 9.98443842e-01 6.25593602e-05]\n",
            " [9.07785445e-03 7.58336633e-02 3.09529025e-02 5.62211573e-02\n",
            "  1.42183923e-03 1.76589470e-03 8.22752655e-01 1.97402155e-03]\n",
            " [1.02900825e-02 1.29818951e-03 5.10138634e-04 9.65024769e-01\n",
            "  1.28561526e-03 2.72127637e-03 6.77289814e-03 1.20970309e-02]\n",
            " [9.18368227e-04 9.89611268e-01 1.93417876e-03 9.65378655e-04\n",
            "  7.47283106e-04 1.58226315e-03 3.30885872e-03 9.32421710e-04]\n",
            " [6.63347950e-04 4.61024046e-03 1.41345360e-03 2.55468581e-03\n",
            "  1.18617136e-04 1.12213980e-04 9.90352035e-01 1.75330511e-04]\n",
            " [1.61305856e-04 9.22163832e-04 4.55509202e-04 8.65925220e-04\n",
            "  2.46139334e-05 2.18595196e-05 9.97455001e-01 9.36686265e-05]\n",
            " [1.52950510e-02 3.05896811e-03 1.97100379e-02 6.81150317e-01\n",
            "  2.94714677e-03 3.74253956e-03 2.66935438e-01 7.16047781e-03]\n",
            " [3.51545378e-03 9.57941730e-03 7.12986946e-01 9.56520513e-02\n",
            "  2.91224802e-03 5.35940984e-03 1.68678954e-01 1.31547579e-03]\n",
            " [2.86595672e-02 3.68921012e-01 3.49376887e-01 5.21842614e-02\n",
            "  9.04478226e-03 1.23933079e-02 1.62734792e-01 1.66853145e-02]\n",
            " [2.95344274e-04 3.04874429e-03 9.90912020e-01 7.76192173e-04\n",
            "  3.47330177e-04 4.24188474e-04 3.62524670e-03 5.70941658e-04]\n",
            " [1.14980992e-03 1.12913139e-02 1.54705690e-02 3.79081187e-03\n",
            "  2.51238467e-04 2.50773592e-04 9.67514813e-01 2.80737149e-04]\n",
            " [7.06165505e-04 7.31356116e-03 9.83660340e-01 1.75076921e-03\n",
            "  6.81516831e-04 1.14384305e-03 3.53435171e-03 1.20929466e-03]\n",
            " [1.52321346e-02 3.33484076e-03 5.71969338e-03 7.51373589e-01\n",
            "  1.88628410e-03 3.15508805e-03 2.16835439e-01 2.46293191e-03]\n",
            " [6.09959679e-05 1.94323075e-04 1.88132006e-04 3.49795358e-04\n",
            "  1.16890324e-05 8.53315760e-06 9.99160707e-01 2.58614800e-05]\n",
            " [9.94709117e-05 1.72722459e-04 5.38133492e-04 5.36941632e-04\n",
            "  1.78372466e-05 1.26008717e-05 9.98571873e-01 5.04276759e-05]\n",
            " [7.11941175e-05 1.94793509e-04 2.74631893e-04 4.12442139e-04\n",
            "  1.17421405e-05 8.42414011e-06 9.98994350e-01 3.23993299e-05]\n",
            " [2.60095634e-02 1.52548254e-02 1.52475676e-02 4.06592898e-03\n",
            "  1.49190659e-03 2.57102819e-03 6.46502199e-03 9.28894162e-01]\n",
            " [7.84582365e-03 6.86016679e-01 1.49207294e-01 1.22862011e-02\n",
            "  6.12283451e-03 8.61860346e-03 1.00348875e-01 2.95537300e-02]\n",
            " [2.22397153e-04 2.95314356e-03 3.40343602e-02 3.97250755e-03\n",
            "  1.18904471e-04 1.17562682e-04 9.58432257e-01 1.48807027e-04]\n",
            " [2.00987415e-04 7.21122976e-03 9.89969134e-01 4.65870689e-04\n",
            "  2.78625608e-04 5.70079661e-04 1.00553816e-03 2.98414088e-04]\n",
            " [1.87758077e-03 1.87694607e-03 2.43493915e-03 9.34540201e-03\n",
            "  1.85480909e-04 1.50312917e-04 9.81393874e-01 2.73557752e-03]\n",
            " [1.13902520e-02 1.45444961e-03 8.68544623e-04 8.38713895e-04\n",
            "  3.88710090e-04 5.92230179e-04 1.65619748e-03 9.82810795e-01]\n",
            " [2.41809129e-03 3.11879721e-02 9.52768683e-01 2.37615081e-03\n",
            "  1.43889221e-03 3.03427223e-03 1.70646398e-03 5.06951567e-03]\n",
            " [1.54380864e-02 8.80812585e-01 2.24937629e-02 9.10639483e-03\n",
            "  5.46950148e-03 1.60359945e-02 4.00440171e-02 1.05995340e-02]\n",
            " [9.19700833e-05 1.48435662e-04 1.60268231e-04 4.96032531e-04\n",
            "  1.54870559e-05 1.07518326e-05 9.99049723e-01 2.73525875e-05]\n",
            " [1.37617826e-04 9.98683095e-01 1.02804850e-04 2.04282696e-04\n",
            "  1.48231687e-04 3.13915429e-04 2.23364506e-04 1.86654011e-04]\n",
            " [7.73840174e-02 1.50526958e-02 2.02182811e-02 2.00743284e-02\n",
            "  5.11108525e-03 6.40501734e-03 1.96618512e-02 8.36092651e-01]\n",
            " [6.82120249e-02 6.67047203e-02 5.17741069e-02 6.59038603e-01\n",
            "  1.06311655e-02 1.72513146e-02 9.73236561e-02 2.90644486e-02]\n",
            " [4.41191769e-05 1.37773139e-04 3.31242423e-04 4.02231060e-04\n",
            "  1.03652892e-05 6.91244031e-06 9.99046743e-01 2.06752666e-05]\n",
            " [1.02718768e-03 3.31080030e-03 9.82867181e-01 3.20393965e-03\n",
            "  8.21108930e-04 9.50292742e-04 4.76587517e-03 3.05368309e-03]\n",
            " [3.65526862e-02 7.25722015e-02 5.94188333e-01 5.42732514e-02\n",
            "  8.52845795e-03 9.85102076e-03 1.83583871e-01 4.04501259e-02]\n",
            " [4.57270289e-05 1.99802700e-04 7.85678567e-05 1.93527114e-04\n",
            "  7.18141928e-06 5.72070758e-06 9.99453425e-01 1.60990840e-05]\n",
            " [1.40124478e-03 9.76337433e-01 1.72638102e-03 1.54409779e-03\n",
            "  1.11626450e-03 1.80693064e-03 1.18044484e-02 4.26317146e-03]\n",
            " [6.27187490e-02 1.07447095e-02 1.77273732e-02 1.31521188e-02\n",
            "  2.71850079e-03 5.01375459e-03 1.95217412e-02 8.68403018e-01]\n",
            " [7.04834312e-02 1.75135396e-02 5.42205898e-03 7.99741566e-01\n",
            "  6.51771436e-03 1.41621567e-02 2.75973063e-02 5.85621893e-02]\n",
            " [1.96580921e-04 5.39201428e-04 1.27181539e-03 8.38341832e-04\n",
            "  3.70579801e-05 2.75299590e-05 9.96996462e-01 9.29218586e-05]\n",
            " [5.38929179e-03 9.58311498e-01 6.24025380e-03 1.35542480e-02\n",
            "  2.00266368e-03 5.19413501e-03 7.85480347e-03 1.45306892e-03]\n",
            " [6.68522145e-04 4.49679978e-03 9.87142026e-01 9.18183301e-04\n",
            "  4.83142183e-04 6.83154387e-04 2.44136108e-03 3.16677336e-03]\n",
            " [4.62616852e-04 2.79344968e-03 4.94221365e-03 4.19619307e-03\n",
            "  9.62801205e-05 8.64856338e-05 9.87257242e-01 1.65600839e-04]\n",
            " [3.08972754e-04 3.75267846e-04 8.66520160e-04 1.60007272e-03\n",
            "  4.68706494e-05 3.24832254e-05 9.96627510e-01 1.42355013e-04]\n",
            " [2.80489243e-04 8.66075861e-04 8.29849683e-04 1.33924757e-03\n",
            "  3.01081654e-05 2.76492610e-05 9.96505141e-01 1.21207995e-04]\n",
            " [2.48894532e-04 1.26640883e-03 1.49970339e-03 1.92867033e-03\n",
            "  3.78353579e-05 3.55297416e-05 9.94895339e-01 8.74694961e-05]\n",
            " [1.57848728e-04 9.98675704e-01 1.16983712e-04 1.90538514e-04\n",
            "  1.54330017e-04 3.43071733e-04 1.97589980e-04 1.63884266e-04]\n",
            " [5.76114224e-04 5.66328119e-04 2.63719150e-04 3.52687482e-03\n",
            "  6.00484236e-05 4.40564727e-05 9.94674146e-01 2.88647774e-04]\n",
            " [5.39820641e-02 2.28218101e-02 2.27756038e-01 4.29180622e-01\n",
            "  3.76305357e-02 9.62655768e-02 8.20898935e-02 5.02733737e-02]\n",
            " [2.69945972e-02 1.38489930e-02 3.72803328e-03 9.26597416e-01\n",
            "  4.35967837e-03 1.27245281e-02 5.14738495e-03 6.59934618e-03]\n",
            " [1.09866538e-04 3.17173486e-04 2.71332188e-04 6.97552809e-04\n",
            "  1.54288664e-05 1.23471091e-05 9.98535335e-01 4.08759770e-05]\n",
            " [6.24662312e-03 7.28654093e-04 6.73533417e-04 4.15713788e-04\n",
            "  2.86476599e-04 4.90135048e-04 2.88102659e-04 9.90870774e-01]\n",
            " [7.00359093e-03 3.33213843e-02 1.33388601e-02 8.96735862e-03\n",
            "  6.87120832e-04 6.67675515e-04 9.24200416e-01 1.18134003e-02]\n",
            " [2.13728723e-04 1.27847039e-03 6.50961138e-03 1.68484310e-03\n",
            "  5.13899795e-05 4.06706604e-05 9.90093768e-01 1.27581137e-04]\n",
            " [6.62315215e-05 3.59079830e-04 9.44676227e-04 6.49630965e-04\n",
            "  1.88867853e-05 1.32462783e-05 9.97929275e-01 1.88564954e-05]\n",
            " [2.93803029e-03 1.08354131e-03 5.33570710e-04 9.87943709e-01\n",
            "  4.45502868e-04 1.17651175e-03 4.89170197e-03 9.87380859e-04]\n",
            " [5.29969530e-03 3.07084993e-04 4.04598890e-04 8.18883942e-04\n",
            "  2.16169283e-04 4.28543513e-04 3.01934226e-04 9.92223203e-01]\n",
            " [6.13011494e-02 2.44066477e-01 4.32746828e-01 1.32186934e-01\n",
            "  1.84812080e-02 3.61750089e-02 4.81108315e-02 2.69316565e-02]\n",
            " [3.97987850e-03 3.20900162e-03 6.98081590e-03 9.81931016e-03\n",
            "  5.09220175e-04 4.36104427e-04 9.73124206e-01 1.94139965e-03]\n",
            " [1.52533352e-01 3.47094625e-01 2.52186507e-01 1.14024840e-01\n",
            "  1.91236101e-02 3.26827876e-02 4.10647690e-02 4.12894525e-02]\n",
            " [8.92574171e-05 7.80513801e-04 3.06671864e-04 3.33799631e-04\n",
            "  1.17750988e-05 1.21933008e-05 9.98423815e-01 4.17895681e-05]\n",
            " [1.43111427e-03 7.35103502e-04 2.14668762e-04 9.93722320e-01\n",
            "  6.61788450e-04 1.80313736e-03 1.02298532e-03 4.08760970e-04]\n",
            " [1.45159513e-01 8.29993039e-02 2.85436269e-02 2.64080107e-01\n",
            "  8.78834054e-02 3.38394940e-01 1.41727505e-02 3.87663171e-02]\n",
            " [9.37285181e-03 9.85014951e-04 6.91102177e-04 1.36345963e-03\n",
            "  3.36580619e-04 6.44232146e-04 5.84997877e-04 9.86021638e-01]\n",
            " [9.25163105e-02 1.53415814e-01 3.10957581e-02 9.38702896e-02\n",
            "  1.25275217e-02 1.76042747e-02 5.85972011e-01 1.29979793e-02]\n",
            " [8.23719194e-04 1.05372816e-03 1.41962816e-03 1.80364773e-03\n",
            "  7.72708663e-05 6.66513006e-05 9.94149566e-01 6.05588953e-04]\n",
            " [3.31856339e-04 3.29681835e-03 9.93171811e-01 7.40835036e-04\n",
            "  3.19589919e-04 6.70187350e-04 4.86611243e-04 9.82235768e-04]\n",
            " [1.03473423e-04 1.54711510e-04 3.62313905e-04 3.60865262e-04\n",
            "  1.49877987e-05 1.11588461e-05 9.98919427e-01 7.29096428e-05]\n",
            " [1.61305856e-04 9.22163832e-04 4.55509202e-04 8.65925220e-04\n",
            "  2.46139334e-05 2.18595196e-05 9.97455001e-01 9.36686265e-05]\n",
            " [4.48895931e-01 7.22554028e-02 7.18622934e-03 3.37697685e-01\n",
            "  2.03482006e-02 4.22681719e-02 1.39453709e-02 5.74030168e-02]\n",
            " [7.44672943e-05 1.32572284e-04 1.58246010e-04 5.15071210e-04\n",
            "  1.16720530e-05 8.32705518e-06 9.99069929e-01 2.96562630e-05]\n",
            " [1.56287826e-03 1.40264481e-02 9.73448873e-01 3.60930315e-03\n",
            "  1.21762138e-03 2.90253339e-03 5.62383211e-04 2.66994210e-03]\n",
            " [5.50861732e-05 2.10782004e-04 1.11465335e-04 2.59446853e-04\n",
            "  9.53218478e-06 7.40036057e-06 9.99329031e-01 1.72434629e-05]\n",
            " [6.00426225e-04 4.72385716e-03 9.84824300e-01 2.08637072e-03\n",
            "  6.75295887e-04 7.82313640e-04 5.27331512e-03 1.03427679e-03]\n",
            " [6.24702126e-03 1.72366388e-02 4.68515903e-02 6.55644713e-03\n",
            "  1.28885568e-03 1.12921314e-03 9.15940225e-01 4.74992767e-03]\n",
            " [3.83649196e-04 3.17961239e-04 2.55626248e-04 9.96834278e-01\n",
            "  1.43882775e-04 3.90197849e-04 1.56987738e-03 1.04692925e-04]\n",
            " [6.22225599e-03 5.56788174e-03 1.49441212e-01 1.67749487e-02\n",
            "  1.00139133e-03 8.14826752e-04 7.94761658e-01 2.54157148e-02]\n",
            " [2.91332360e-02 1.91771202e-02 7.84319818e-01 5.90123571e-02\n",
            "  9.62605886e-03 1.05369892e-02 4.77564968e-02 4.04379927e-02]\n",
            " [5.42490259e-02 1.11805359e-02 3.20387562e-03 8.46296489e-01\n",
            "  9.47793480e-03 2.08313782e-02 1.43710431e-02 4.03896607e-02]\n",
            " [3.51204770e-04 1.50059932e-03 3.08135466e-04 7.33706111e-04\n",
            "  3.26553891e-05 2.68689419e-05 9.96641517e-01 4.05242201e-04]\n",
            " [3.62136023e-04 3.05722788e-04 4.71846201e-04 1.18540181e-03\n",
            "  4.21948716e-05 3.13151177e-05 9.97394919e-01 2.06488694e-04]\n",
            " [2.24315416e-04 1.61892467e-03 9.92621899e-01 5.05600707e-04\n",
            "  3.39908933e-04 4.86770354e-04 3.94004676e-03 2.62590387e-04]\n",
            " [4.95934044e-04 3.36929399e-04 8.63553651e-05 9.97556567e-01\n",
            "  1.79044611e-04 6.57979632e-04 5.19698951e-04 1.67508828e-04]\n",
            " [2.06145400e-04 1.72489643e-04 5.99093444e-04 9.70146502e-04\n",
            "  2.88680294e-05 2.08828842e-05 9.97869968e-01 1.32377187e-04]\n",
            " [3.17181530e-03 2.47269491e-04 6.61091763e-04 3.06814647e-04\n",
            "  1.12487505e-04 1.89514554e-04 3.34500597e-04 9.94976401e-01]\n",
            " [1.45420549e-03 9.64019727e-03 9.62877154e-01 1.55279897e-02\n",
            "  1.49983179e-03 2.50448473e-03 4.98671597e-03 1.50936306e-03]\n",
            " [4.33872733e-03 6.26497809e-03 8.98897231e-01 3.95284360e-03\n",
            "  1.40459591e-03 2.02695699e-03 2.30249809e-03 8.08122307e-02]\n",
            " [1.48713663e-01 7.43753389e-02 7.56695718e-02 1.29007444e-01\n",
            "  1.40993381e-02 1.53135061e-02 3.40385497e-01 2.02435628e-01]\n",
            " [2.65647750e-02 6.17388915e-03 7.80528225e-03 1.56872510e-03\n",
            "  1.02097285e-03 1.27515232e-03 1.24026574e-02 9.43188608e-01]]\n",
            "****************************Confustion Matrix Plots Start here for Test Data**************\n"
          ]
        },
        {
          "output_type": "display_data",
          "data": {
            "text/plain": [
              "<Figure size 640x480 with 2 Axes>"
            ],
            "image/png": "[encoded data removed]"
          },
          "metadata": {}
        },
        {
          "output_type": "display_data",
          "data": {
            "text/plain": [
              "<Figure size 640x480 with 2 Axes>"
            ],
            "image/png": "[encoded data removed]"
          },
          "metadata": {}
        },
        {
          "output_type": "display_data",
          "data": {
            "text/plain": [
              "<Figure size 640x480 with 2 Axes>"
            ],
            "image/png": "[encoded data removed]"
          },
          "metadata": {}
        },
        {
          "output_type": "display_data",
          "data": {
            "text/plain": [
              "<Figure size 640x480 with 2 Axes>"
            ],
            "image/png": "[encoded data removed]"
          },
          "metadata": {}
        },
        {
          "output_type": "display_data",
          "data": {
            "text/plain": [
              "<Figure size 640x480 with 2 Axes>"
            ],
            "image/png": "[encoded data removed]"
          },
          "metadata": {}
        },
        {
          "output_type": "display_data",
          "data": {
            "text/plain": [
              "<Figure size 640x480 with 2 Axes>"
            ],
            "image/png": "[encoded data removed]"
          },
          "metadata": {}
        },
        {
          "output_type": "display_data",
          "data": {
            "text/plain": [
              "<Figure size 640x480 with 2 Axes>"
            ],
            "image/png": "[encoded data removed]"
          },
          "metadata": {}
        },
        {
          "output_type": "display_data",
          "data": {
            "text/plain": [
              "<Figure size 640x480 with 2 Axes>"
            ],
            "image/png": "[encoded data removed]"
          },
          "metadata": {}
        }
      ]
    },
    {
      "cell_type": "code",
      "metadata": {
        "id": "gc03Ap_GBcsd",
        "colab": {
          "base_uri": "https://localhost:8080/"
        },
        "outputId": "75eaab64-b2f4-408c-813a-0e53a9b76f8d"
      },
      "source": [
        "Y_pred_main = [i[0] for i in Y_pred_test]\n",
        "Y_pred_oper = [i[1] for i in Y_pred_test]\n",
        "Y_pred_perf = [i[2] for i in Y_pred_test]\n",
        "Y_pred_secu = [i[3] for i in Y_pred_test]\n",
        "Y_pred_usab = [i[4] for i in Y_pred_test]\n",
        "Y_test_main = [i[0] for i in Y_test]\n",
        "Y_test_oper = [i[1] for i in Y_test]\n",
        "Y_test_perf = [i[2] for i in Y_test]\n",
        "Y_test_secu = [i[3] for i in Y_test]\n",
        "Y_test_usab = [i[4] for i in Y_test]\n",
        "Y_test_class=[]\n",
        "for i in range(0,len(Y_test)):\n",
        "    for j in range(0,len(Y_test[i])):\n",
        "        if (Y_test[i][j]==1):\n",
        "            Y_test_class.append(test_class(j))\n",
        "print(Y_test_class)\n",
        "Y_pred_class=[]\n",
        "for i in range(0,len(Y_pred_test_cm)):\n",
        "    for j in range(0,len(Y_pred_test_cm[i])):\n",
        "        if (Y_pred_test_cm[i][j]==1):\n",
        "            Y_pred_class.append(test_class(j))\n",
        "print(Y_pred_class)\n",
        "print(len(Y_test_class))\n",
        "print(len(Y_pred_class))\n",
        "print(len(original_text_t))"
      ],
      "execution_count": 36,
      "outputs": [
        {
          "output_type": "stream",
          "name": "stdout",
          "text": [
            "['Oper', 'FauT', 'Perf', 'Port', 'Port', 'Scab', 'Port', 'Perf', 'Oper', 'FauT', 'FauT', 'Perf', 'Secu', 'Oper', 'FauT', 'FauT', 'FauT', 'FauT', 'Oper', 'Perf', 'FauT', 'Perf', 'Secu', 'FauT', 'FauT', 'FauT', 'Port', 'Port', 'FauT', 'Perf', 'FauT', 'Port', 'Perf', 'Oper', 'FauT', 'Oper', 'Port', 'Secu', 'FauT', 'Perf', 'FauT', 'FauT', 'Oper', 'Port', 'Secu', 'FauT', 'Oper', 'Perf', 'FauT', 'FauT', 'FauT', 'FauT', 'Oper', 'FauT', 'Secu', 'Port', 'FauT', 'Oper', 'FauT', 'Perf', 'FauT', 'Secu', 'Port', 'Main', 'FauT', 'Port', 'FauT', 'Secu', 'Secu', 'Port', 'Oper', 'Oper', 'Perf', 'FauT', 'FauT', 'Main', 'FauT', 'Perf', 'FauT', 'Perf', 'FauT', 'Secu', 'Oper', 'Perf', 'Port', 'FauT', 'FauT', 'Perf', 'Secu', 'FauT', 'Port', 'Secu', 'Port', 'Oper', 'Port']\n",
            "['Perf', 'FauT', 'FauT', 'Port', 'Port', 'Secu', 'Port', 'Perf', 'Perf', 'FauT', 'FauT', 'FauT', 'Secu', 'Oper', 'FauT', 'FauT', 'Secu', 'Perf', 'Oper', 'Perf', 'FauT', 'Perf', 'Secu', 'FauT', 'FauT', 'FauT', 'Port', 'Oper', 'FauT', 'Perf', 'FauT', 'Port', 'Perf', 'Oper', 'FauT', 'Oper', 'Port', 'Secu', 'FauT', 'Perf', 'Perf', 'FauT', 'Oper', 'Port', 'Secu', 'FauT', 'Oper', 'Perf', 'FauT', 'FauT', 'FauT', 'FauT', 'Oper', 'FauT', 'Secu', 'Secu', 'FauT', 'Port', 'FauT', 'FauT', 'FauT', 'Secu', 'Port', 'Perf', 'FauT', 'Oper', 'FauT', 'Secu', 'Scab', 'Port', 'FauT', 'FauT', 'Perf', 'FauT', 'FauT', 'Main', 'FauT', 'Perf', 'FauT', 'Perf', 'FauT', 'Secu', 'FauT', 'Perf', 'Secu', 'FauT', 'FauT', 'Perf', 'Secu', 'FauT', 'Port', 'Perf', 'Perf', 'FauT', 'Port']\n",
            "95\n",
            "95\n",
            "95\n"
          ]
        }
      ]
    },
    {
      "cell_type": "code",
      "metadata": {
        "id": "E0uAESyOBcsg"
      },
      "source": [
        "#combine y_test, x_test, y_pred_test_cm\n",
        "combined_output = list(zip(original_text_t,Y_test_main,Y_test_oper,Y_test_perf,Y_test_secu,Y_test_usab,Y_test_class,Y_pred_main,Y_pred_oper,Y_pred_perf,\n",
        "                          Y_pred_secu,Y_pred_usab, Y_pred_class))\n",
        "combined_output\n",
        "dfo = pd.DataFrame(combined_output,columns=['X_test','Y_test_main','Y_test_oper','Y_test_perf','Y_test_secu','Y_test_usab',\n",
        "                                           'Y_test_class','Y_pred_main','Y_pred_oper','Y_pred_perf','Y_pred_secu','Y_pred_usab',\n",
        "                                           'Y_pred_class'])\n",
        "dfo.to_csv('out.csv', index=False)"
      ],
      "execution_count": 37,
      "outputs": []
    },
    {
      "cell_type": "markdown",
      "metadata": {
        "id": "V7SLE-zPmlLI"
      },
      "source": [
        "# New Section"
      ]
    },
    {
      "cell_type": "code",
      "metadata": {
        "id": "DJmKu1SzBcsi",
        "colab": {
          "base_uri": "https://localhost:8080/"
        },
        "outputId": "da8a9be5-2828-46bd-cfc3-e7f4b392546e"
      },
      "source": [
        "new_requirement = ['Passwords should be held to a standard and be required to change at intervals.']\n",
        "seq = tokenizer.texts_to_sequences(new_requirement)\n",
        "padded = pad_sequences(seq, maxlen=MAX_SEQUENCE_LENGTH)\n",
        "pred = model.predict(padded)\n",
        "labels = ['Maintainability', 'Operability', 'Performance','Security','Usability','Scalability', 'Fault Tolerance', 'Portability']\n",
        "print(pred, labels[np.argmax(pred)])"
      ],
      "execution_count": 36,
      "outputs": [
        {
          "output_type": "stream",
          "name": "stdout",
          "text": [
            "\u001b[1m1/1\u001b[0m \u001b[32m━━━━━━━━━━━━━━━━━━━━\u001b[0m\u001b[37m\u001b[0m \u001b[1m0s\u001b[0m 70ms/step\n",
            "[[4.5773746e-03 5.7938430e-03 6.1851870e-03 4.1054417e-03 2.5809355e-04\n",
            "  2.6854841e-04 9.7430760e-01 4.5040762e-03]] Fault Tolerance\n"
          ]
        }
      ]
    },
    {
      "cell_type": "code",
      "source": [
        "new_requirement = ['The software should be operating within 2 days .']\n",
        "seq = tokenizer.texts_to_sequences(new_requirement)\n",
        "padded = pad_sequences(seq, maxlen=MAX_SEQUENCE_LENGTH)\n",
        "pred = model.predict(padded)\n",
        "labels = ['Maintainability', 'Operability', 'Performance','Security','Usability','Scalability', 'Fault Tolerance', 'Portability']\n",
        "print(pred, labels[np.argmax(pred)])"
      ],
      "metadata": {
        "colab": {
          "base_uri": "https://localhost:8080/"
        },
        "id": "sVU6Y6hCbvmh",
        "outputId": "7fd0a234-2b47-4881-90f8-4da81b6d1d72"
      },
      "execution_count": 37,
      "outputs": [
        {
          "output_type": "stream",
          "name": "stdout",
          "text": [
            "\u001b[1m1/1\u001b[0m \u001b[32m━━━━━━━━━━━━━━━━━━━━\u001b[0m\u001b[37m\u001b[0m \u001b[1m0s\u001b[0m 56ms/step\n",
            "[[0.06920882 0.1258846  0.5086302  0.12296253 0.01173441 0.02127881\n",
            "  0.10353865 0.03676198]] Performance\n"
          ]
        }
      ]
    },
    {
      "cell_type": "code",
      "source": [
        "MAX_SEQUENCE_LENGTH = 128  # This should match the model's expected input length\n",
        "\n",
        "# Load your pre-trained model here\n",
        "# model = load_model('path_to_your_model.h5')\n",
        "\n",
        "# Labels for classification\n",
        "labels = ['Maintainability', 'Operability', 'Performance', 'Security', 'Usability', 'Scalability', 'Fault Tolerance', 'Portability']\n",
        "\n",
        "# Prompt for user input\n",
        "new_requirement = input(\"Enter the software requirement: \")\n",
        "\n",
        "# Tokenize and pad the user input\n",
        "seq = tokenizer.texts_to_sequences([new_requirement])\n",
        "padded = pad_sequences(seq, maxlen=MAX_SEQUENCE_LENGTH)\n",
        "\n",
        "# Make prediction\n",
        "pred = model.predict(padded)\n",
        "\n",
        "# Print prediction scores alongside the corresponding labels\n",
        "print(\"Prediction scores and corresponding NFR classes:\")\n",
        "for label, score in zip(labels, pred[0]):\n",
        "    print(f\"{label}: {score:.4f}\")\n",
        "\n",
        "# Determine the predicted class\n",
        "predicted_class = labels[np.argmax(pred)]\n",
        "print(\"Predicted class:\", predicted_class)"
      ],
      "metadata": {
        "colab": {
          "base_uri": "https://localhost:8080/"
        },
        "id": "qHP0fBljZdMp",
        "outputId": "5fb875b6-5468-4cfc-aea6-f735a2989fb5"
      },
      "execution_count": 38,
      "outputs": [
        {
          "output_type": "stream",
          "name": "stdout",
          "text": [
            "Enter the software requirement: software should be easyy to use\n",
            "\u001b[1m1/1\u001b[0m \u001b[32m━━━━━━━━━━━━━━━━━━━━\u001b[0m\u001b[37m\u001b[0m \u001b[1m0s\u001b[0m 289ms/step\n",
            "Prediction scores and corresponding NFR classes:\n",
            "Maintainability: 0.0830\n",
            "Operability: 0.0211\n",
            "Performance: 0.0282\n",
            "Security: 0.0201\n",
            "Usability: 0.0054\n",
            "Scalability: 0.0045\n",
            "Fault Tolerance: 0.4457\n",
            "Portability: 0.3919\n",
            "Predicted class: Fault Tolerance\n"
          ]
        }
      ]
    },
    {
      "cell_type": "code",
      "source": [
        "import torch\n",
        "from transformers import BertTokenizer, BertForSequenceClassification\n",
        "\n",
        "# Assuming that tokenizer is already initialized\n",
        "# For example: tokenizer = BertTokenizer.from_pretrained('bert-base-uncased')\n",
        "\n",
        "# Load your pre-trained model here\n",
        "# This should match the architecture you're using, for instance:\n",
        "# model = BertForSequenceClassification.from_pretrained('bert-base-uncased', num_labels=len(labels))\n",
        "\n",
        "# Labels for classification\n",
        "labels = ['Maintainability', 'Operability', 'Performance', 'Security', 'Usability', 'Scalability', 'Fault Tolerance', 'Portability']\n",
        "\n",
        "# Prompt for user input\n",
        "new_requirement = input(\"Enter the software requirement: \")\n",
        "\n",
        "# Tokenize and pad the user input\n",
        "# Make sure to use the correct tokenizer and model predict function if using BERT from Hugging Face Transformers\n",
        "seq = tokenizer.texts_to_sequences([new_requirement])\n",
        "padded = pad_sequences(seq, maxlen=MAX_SEQUENCE_LENGTH)\n",
        "\n",
        "# Make prediction\n",
        "with torch.no_grad():\n",
        "    outputs = model(**inputs)\n",
        "    predictions = torch.softmax(outputs.logits, dim=-1)[0]  # Convert logits to probabilities\n",
        "\n",
        "# Convert predictions to numpy array and flatten it for easy use\n",
        "predictions = predictions.numpy().flatten()\n",
        "\n",
        "# Print prediction scores along with corresponding labels\n",
        "print(\"Prediction scores and corresponding NFR classes:\")\n",
        "for label, score in zip(labels, predictions):\n",
        "    print(f\"{label}: {score:.4f}\")\n",
        "\n",
        "# Print the predicted class with the highest score\n",
        "predicted_class = labels[np.argmax(predictions)]\n",
        "print(\"Predicted class:\", predicted_class)\n"
      ],
      "metadata": {
        "colab": {
          "base_uri": "https://localhost:8080/",
          "height": 228
        },
        "id": "C8MJ6iOKnlN_",
        "outputId": "269fe5f9-571b-4766-8516-63dc81bcbc77"
      },
      "execution_count": 39,
      "outputs": [
        {
          "name": "stdout",
          "output_type": "stream",
          "text": [
            "Enter the software requirement: software should be easy to use\n"
          ]
        },
        {
          "output_type": "error",
          "ename": "NameError",
          "evalue": "name 'inputs' is not defined",
          "traceback": [
            "\u001b[0;31m---------------------------------------------------------------------------\u001b[0m",
            "\u001b[0;31mNameError\u001b[0m                                 Traceback (most recent call last)",
            "\u001b[0;32m<ipython-input-39-292b3cd404c9>\u001b[0m in \u001b[0;36m<cell line: 23>\u001b[0;34m()\u001b[0m\n\u001b[1;32m     22\u001b[0m \u001b[0;31m# Make prediction\u001b[0m\u001b[0;34m\u001b[0m\u001b[0;34m\u001b[0m\u001b[0m\n\u001b[1;32m     23\u001b[0m \u001b[0;32mwith\u001b[0m \u001b[0mtorch\u001b[0m\u001b[0;34m.\u001b[0m\u001b[0mno_grad\u001b[0m\u001b[0;34m(\u001b[0m\u001b[0;34m)\u001b[0m\u001b[0;34m:\u001b[0m\u001b[0;34m\u001b[0m\u001b[0;34m\u001b[0m\u001b[0m\n\u001b[0;32m---> 24\u001b[0;31m     \u001b[0moutputs\u001b[0m \u001b[0;34m=\u001b[0m \u001b[0mmodel\u001b[0m\u001b[0;34m(\u001b[0m\u001b[0;34m**\u001b[0m\u001b[0minputs\u001b[0m\u001b[0;34m)\u001b[0m\u001b[0;34m\u001b[0m\u001b[0;34m\u001b[0m\u001b[0m\n\u001b[0m\u001b[1;32m     25\u001b[0m     \u001b[0mpredictions\u001b[0m \u001b[0;34m=\u001b[0m \u001b[0mtorch\u001b[0m\u001b[0;34m.\u001b[0m\u001b[0msoftmax\u001b[0m\u001b[0;34m(\u001b[0m\u001b[0moutputs\u001b[0m\u001b[0;34m.\u001b[0m\u001b[0mlogits\u001b[0m\u001b[0;34m,\u001b[0m \u001b[0mdim\u001b[0m\u001b[0;34m=\u001b[0m\u001b[0;34m-\u001b[0m\u001b[0;36m1\u001b[0m\u001b[0;34m)\u001b[0m\u001b[0;34m[\u001b[0m\u001b[0;36m0\u001b[0m\u001b[0;34m]\u001b[0m  \u001b[0;31m# Convert logits to probabilities\u001b[0m\u001b[0;34m\u001b[0m\u001b[0;34m\u001b[0m\u001b[0m\n\u001b[1;32m     26\u001b[0m \u001b[0;34m\u001b[0m\u001b[0m\n",
            "\u001b[0;31mNameError\u001b[0m: name 'inputs' is not defined"
          ]
        }
      ]
    },
    {
      "cell_type": "markdown",
      "metadata": {
        "id": "E9jZzMETBcsk"
      },
      "source": [
        "***************Some try out code below: Commented out in case if it would be needed later"
      ]
    },
    {
      "cell_type": "code",
      "metadata": {
        "id": "64zlKyr_BcsD"
      },
      "source": [
        "# #mapping target variable's classes to unique labels and then to one hot labels\n",
        "# labels = sorted(list(set(df['class_name'].tolist())))\n",
        "# one_hot = np.zeros((len(labels), len(labels)), int)\n",
        "# np.fill_diagonal(one_hot, 1)\n",
        "# label_dict = dict(zip(labels, one_hot))\n",
        "# num_labels = []\n",
        "# for z in range(len(labels)):\n",
        "#     num_labels.append(z)\n",
        "\n",
        "# num_label_dict = dict(zip(labels, num_labels))\n",
        "\n",
        "# x_raw = df['sentence'].apply(lambda x: clean_text(x)).tolist()\n",
        "# y_raw = df['class_name'].apply(lambda y: label_dict[y]).tolist()\n",
        "# y_raw_num = df['class_name'].apply(lambda y: num_label_dict[y]).tolist() #current class stored as 1 - as before\n",
        "# y = np.array(y_raw)\n",
        "# y_num = np.array(y_raw_num)\n",
        "# print(y,y_num)"
      ],
      "execution_count": null,
      "outputs": []
    },
    {
      "cell_type": "code",
      "metadata": {
        "id": "0Yw1kncEBcsl"
      },
      "source": [
        "# print(X_test)\n",
        "# for value in range(0,len(X_test)):\n",
        "#     X_test_1[value] = X_test[value] != 0\n",
        "#     print(X_test_0[value])\n",
        "# # print(Y_test_text)\n",
        "# # X_test_0 = X_test[X_test != 0]\n",
        "# # print(X_test_0)\n",
        "# # X_test_text = list(map(sequence_to_text, X_test_0))\n",
        "# # print(X_test_text)"
      ],
      "execution_count": null,
      "outputs": []
    },
    {
      "cell_type": "code",
      "metadata": {
        "id": "XYgQRQkNBcsn"
      },
      "source": [
        "# Y_test_text =  list(map(sequence_to_text, Y_test))\n",
        "# print(Y_test_text)\n",
        "# Y_test_cm_text = list(map(sequence_to_text, Y_pred_test_cm))\n",
        "# print(Y_test_cm_text)\n",
        "# X_test_text = list(map(sequence_to_text, X_test))\n",
        "# print(X_test_text)"
      ],
      "execution_count": null,
      "outputs": []
    },
    {
      "cell_type": "code",
      "metadata": {
        "id": "0celeaVkBcsp"
      },
      "source": [
        "# # Y_test_no_0 = list(filter(lambda num: num != 0, Y_test))\n",
        "# Y_test_text = Y_test\n",
        "# for value in range(0,len(Y_test_text)):\n",
        "#     if Y_test_text[value] <= 0:\n",
        "#         del Y_test_text[value]\n",
        "#         print(Y_test_text)\n",
        "# print(Y_test_text)\n",
        "# # Y_test_text =  list(map(sequence_to_text, Y_test_no_0))\n",
        "# # print(Y_test_text)\n",
        "# # Y_test_cm_text = list(map(sequence_to_text, Y_pred_test_cm))\n",
        "# # print(Y_test_cm_text)\n",
        "# # X_test_text = list(map(sequence_to_text, X_test))\n",
        "# # print(X_test_text)"
      ],
      "execution_count": null,
      "outputs": []
    },
    {
      "cell_type": "code",
      "metadata": {
        "id": "omzkN82UBcst"
      },
      "source": [
        "# X_train, X_test, Y_train, Y_test = train_test_split(X,Y, test_size = 0.10, random_state = 42)\n",
        "# estimator = KerasClassifier(build_fn=create_model, epochs=3, batch_size=60, verbose=0)\n",
        "# kfold = KFold(n_splits=2, shuffle=True)\n",
        "# results = cross_val_score(estimator, X_train, Y_train, cv=kfold)\n",
        "# print(\"Baseline: %.2f%% (%.2f%%)\" % (results.mean()*100, results.std()*100))\n",
        "# print(results)"
      ],
      "execution_count": null,
      "outputs": []
    },
    {
      "cell_type": "code",
      "metadata": {
        "id": "VrXeqcleBcsw"
      },
      "source": [
        "# # encode class values as integers\n",
        "# encoder = LabelEncoder()\n",
        "# encoder.fit(df['class_name'])\n",
        "# encoded_Y = encoder.transform(df['class_name'])\n",
        "# # convert integers to dummy variables (i.e. one hot encoded)\n",
        "# dummy_y = np_utils.to_categorical(encoded_Y)\n",
        "# print(dummy_y)"
      ],
      "execution_count": null,
      "outputs": []
    },
    {
      "cell_type": "code",
      "metadata": {
        "id": "gSHHME6kBcsy"
      },
      "source": [
        "# y_pred=model.predict_classes(X_test)\n",
        "# y_pred=pd.get_dummies(y_pred)\n",
        "# print(X_test, y_pred)\n",
        "# print(Y_test)\n",
        "# multilabel_confusion_matrix(Y_test, y_pred, *, labels=['Performance', 'Usability', 'Security', 'Operability', 'Maintainability'])"
      ],
      "execution_count": null,
      "outputs": []
    },
    {
      "cell_type": "code",
      "metadata": {
        "id": "CRcx7HehBcs0"
      },
      "source": [
        "# plt.title('Loss')\n",
        "# plt.plot(cvscoreslos, label='train')\n",
        "# plt.plot((accr[0]*100), label='test')\n",
        "# plt.legend()\n",
        "# plt.show();"
      ],
      "execution_count": null,
      "outputs": []
    },
    {
      "cell_type": "code",
      "metadata": {
        "id": "jMR4BZ5YBcs3"
      },
      "source": [
        "# plt.title('Accuracy')\n",
        "# plt.plot(cvscoresacc, label='train')\n",
        "# plt.plot(accr[1]*100, label='test')\n",
        "# plt.legend()\n",
        "# plt.show();"
      ],
      "execution_count": null,
      "outputs": []
    },
    {
      "cell_type": "code",
      "metadata": {
        "id": "DDKkX3HsBcs6"
      },
      "source": [
        "# epochs = 10\n",
        "# batch_size = 60\n",
        "\n",
        "# history = model.fit(X_train, Y_train, epochs=epochs, batch_size=batch_size,validation_split=0.1,callbacks=[EarlyStopping(monitor='val_loss', patience=3, min_delta=0.0001)])"
      ],
      "execution_count": null,
      "outputs": []
    },
    {
      "cell_type": "code",
      "metadata": {
        "id": "c0u2FIq5Bcs7"
      },
      "source": [],
      "execution_count": null,
      "outputs": []
    }
  ]
}